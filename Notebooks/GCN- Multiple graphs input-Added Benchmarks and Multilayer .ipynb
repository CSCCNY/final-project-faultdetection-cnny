{
 "cells": [
  {
   "cell_type": "code",
   "execution_count": 2,
   "metadata": {
    "id": "7XCcqWXrz4_z"
   },
   "outputs": [],
   "source": [
    "from spektral.layers import GCNConv\n",
    "\n",
    "from tensorflow.keras.models import Model\n",
    "from tensorflow.keras.layers import Input, Dropout, Dense\n",
    "from tensorflow.keras import Sequential\n",
    "from tensorflow.keras.optimizers import Adam\n",
    "from tensorflow.keras.callbacks import TensorBoard, EarlyStopping\n",
    "import tensorflow as tf\n",
    "from tensorflow.keras.regularizers import l2\n",
    "import pandas as pd"
   ]
  },
  {
   "cell_type": "code",
   "execution_count": 3,
   "metadata": {
    "id": "KfQOPlQp7YTb"
   },
   "outputs": [],
   "source": [
    "import numpy as np\n",
    "import scipy.sparse as sp\n",
    "import tensorflow as tf\n",
    "from tensorflow.keras.layers import Dense, Input, BatchNormalization\n",
    "from tensorflow.keras.losses import CategoricalCrossentropy\n",
    "from tensorflow.keras.metrics import categorical_accuracy\n",
    "from tensorflow.keras.models import Model\n",
    "from tensorflow.keras.optimizers import Adam\n",
    "\n",
    "from spektral.data import Dataset, DisjointLoader, Graph\n",
    "from spektral.layers import GCSConv, GlobalAvgPool\n",
    "from spektral.layers.pooling import TopKPool\n",
    "from spektral.transforms.normalize_adj import NormalizeAdj\n",
    "import pickle as pkl\n",
    "import networkx as nx\n",
    "import pdb\n",
    "from sklearn.preprocessing import LabelEncoder\n",
    "from tensorflow.keras.utils import to_categorical"
   ]
  },
  {
   "cell_type": "markdown",
   "metadata": {},
   "source": [
    "# Load circuit graph, features and labels\n",
    "- Load pickle and initialize dataset with graph adjacency matrix, 4 node features and 1 label.\n",
    "- Add self loop edge to retain the node properties\n",
    "- Use disjoint mode with node level true settings to load all the circuits as one big graph.\n",
    "- Normalize features\n",
    "- Split dataset into training, validation and test.\n"
   ]
  },
  {
   "cell_type": "code",
   "execution_count": 601,
   "metadata": {
    "colab": {
     "base_uri": "https://localhost:8080/"
    },
    "id": "qD0qZF0dwSPO",
    "outputId": "86ea698f-a279-4c5e-8652-e940d02d4eed"
   },
   "outputs": [
    {
     "name": "stdout",
     "output_type": "stream",
     "text": [
      "(6288, 6288)\n",
      "(6288, 4)\n",
      "c6288: [846.], 6288\n",
      "(5315, 5315)\n",
      "(5315, 4)\n",
      "c5315: [599.], 5315\n",
      "(1355, 1355)\n",
      "(1355, 4)\n",
      "c1355: [192.], 1355\n",
      "(1908, 1908)\n",
      "(1908, 4)\n",
      "c1908: [257.], 1908\n",
      "(3540, 3540)\n",
      "(3540, 4)\n",
      "c3540: [406.], 3540\n",
      "(4209, 4209)\n",
      "(4209, 4)\n",
      "adder.bench: [637.], 4209\n",
      "(36352, 36352)\n",
      "(36352, 4)\n",
      "arbiter.bench: [3763.], 36352\n",
      "(2164, 2164)\n",
      "(2164, 4)\n",
      "cavlc.bench: [318.], 2164\n",
      "(936, 936)\n",
      "(936, 4)\n",
      "dec.bench: [186.], 936\n",
      "[4 2 1 6 7 0 8] [5] [3]\n"
     ]
    }
   ],
   "source": [
    "################################################################################\n",
    "# PARAMETERS\n",
    "################################################################################\n",
    "batch_size = 1  # Batch size\n",
    "\n",
    "\n",
    "################################################################################\n",
    "# LOAD DATA\n",
    "################################################################################\n",
    "import sys\n",
    "from spektral.data import Dataset, Graph\n",
    "# sys.path.append('../lib')\n",
    "# from data_pre_processing import load_data\n",
    "# sys.path.remove('../lib')\n",
    "from spektral.layers import GCNConv, GraphSageConv, ChebConv\n",
    "from spektral.models.gcn import GCN\n",
    "from spektral.transforms import AdjToSpTensor, LayerPreprocess, NormalizeOne\n",
    "\n",
    "def load_data(circuit_name, path_to_data=\"data\", normalize=False):\n",
    "    \"\"\"Load data.\"\"\"\n",
    "    names = [\"x\", \"y\", \"graph\"]\n",
    "    objects = []\n",
    "    for i in range(len(names)):\n",
    "        with open(f\"{path_to_data}/{circuit_name}.{names[i]}\", \"rb\") as f:\n",
    "            if sys.version_info > (3, 0):\n",
    "                objects.append(pkl.load(f, encoding=\"latin1\"))\n",
    "            else:\n",
    "                objects.append(pkl.load(f))\n",
    "\n",
    "    x, y, graph = tuple(objects)\n",
    "    \n",
    "    features = _preprocess_features(sp.csr_matrix(x).astype('float32'))\n",
    "    # adj = nx.adjacency_matrix(nx.from_dict_of_lists(graph)).astype(int)\n",
    "    g = nx.DiGraph()\n",
    "    g.add_nodes_from(graph.keys())\n",
    "    for k, v in graph.items():\n",
    "      g.add_edges_from(([(k, t) for t in v]))\n",
    "      g.add_edges_from([(k, k)])\n",
    "    adj = nx.adjacency_matrix(g)\n",
    "    labels = np.array(y).astype('float32').reshape((-1,1))\n",
    "\n",
    "    print(adj.shape)\n",
    "    print(features.shape)\n",
    "    return adj, features, labels\n",
    "  \n",
    "def encode_label(labels):\n",
    "    label_encoder = LabelEncoder()\n",
    "    labels = label_encoder.fit_transform(labels)\n",
    "    labels = to_categorical(labels)\n",
    "    return labels\n",
    "\n",
    "def _preprocess_features(features):\n",
    "    rowsum = np.array(features.sum(1))\n",
    "    r_inv = np.power(rowsum, -1).flatten()\n",
    "    r_inv[np.isinf(r_inv)] = 0.0\n",
    "    r_mat_inv = sp.diags(r_inv)\n",
    "    features = r_mat_inv.dot(features)\n",
    "    return features\n",
    "\n",
    "\n",
    "class CircuitDataset(Dataset):\n",
    "    def read(self):\n",
    "        circuits = []\n",
    "        circs = ['c6288','c5315', 'c1355', 'c1908', 'c3540', 'adder.bench', 'arbiter.bench', 'cavlc.bench', 'dec.bench']\n",
    "#         circs = ['c6288','c5315', 'c432', 'c499', 'c880', 'c1355', 'c1908', 'c3540']\n",
    "        for circ in circs:\n",
    "            A, X, labels = load_data(circ, '../data/output', normalize=\"\")\n",
    "            circuits.append(Graph(x=X.toarray(), a=A, y=labels))\n",
    "            print(f\"{circ}: {sum(labels)}, {len(labels)}\")\n",
    "        return circuits\n",
    "\n",
    "# dataset = CircuitDataset(transforms=[LayerPreprocess(GCNConv), NormalizeOne()])\n",
    "\n",
    "dataset = CircuitDataset(transforms=[LayerPreprocess(GraphSageConv)])\n",
    "# Parameters\n",
    "F = dataset.n_node_features  # Dimension of node features\n",
    "n_out = dataset.n_labels  # Dimension of the target\n",
    "\n",
    "# Train/valid/test split\n",
    "idxs = np.random.permutation(len(dataset))\n",
    "split_va, split_te = int(0.8 * len(dataset)), int(0.9 * len(dataset))\n",
    "idx_tr, idx_va, idx_te = np.split(idxs, [split_va, split_te])\n",
    "print(idx_tr, idx_va, idx_te)\n",
    "# [8 6 5 0 1 4 2] [3] [7]\n",
    "dataset_tr = dataset[idx_tr]\n",
    "dataset_va = dataset[idx_va]\n",
    "dataset_te = dataset[idx_te]\n",
    "# dataset_tr = dataset[[8,6,5,1,2, 0, 3, 4, 7]]\n",
    "# dataset_va = dataset[[0,3]]\n",
    "# dataset_te = dataset[4,7]\n",
    "# loader_tr = DisjointLoader(dataset_tr, batch_size=batch_size, epochs=epochs, node_level=True)\n",
    "# loader_va = DisjointLoader(dataset_va, batch_size=batch_size, node_level=True)\n",
    "# loader_te = DisjointLoader(dataset_te, batch_size=batch_size, node_level=True)\n",
    "def load_tr_data(epochs=400):\n",
    "    loader_tr = DisjointLoader(dataset_tr, batch_size=batch_size, epochs=epochs, node_level=True)\n",
    "    loader_va = DisjointLoader(dataset_va, batch_size=batch_size, node_level=True)\n",
    "    loader_te = DisjointLoader(dataset_te, batch_size=batch_size, node_level=True)\n",
    "    return loader_tr, loader_va, loader_te\n",
    "\n",
    "loader_tr, loader_va, loader_te = load_tr_data()\n"
   ]
  },
  {
   "cell_type": "code",
   "execution_count": 602,
   "metadata": {
    "colab": {
     "base_uri": "https://localhost:8080/"
    },
    "id": "DZsZPDKRJoSf",
    "outputId": "55cb3423-0f12-460c-9e2c-0e97489bb48c"
   },
   "outputs": [
    {
     "data": {
      "text/plain": [
       "62067"
      ]
     },
     "execution_count": 602,
     "metadata": {},
     "output_type": "execute_result"
    }
   ],
   "source": [
    "N = sum([ g.n_nodes for g in dataset.graphs ])\n",
    "n_out = 1\n",
    "N"
   ]
  },
  {
   "cell_type": "markdown",
   "metadata": {},
   "source": [
    "# Multilayer GCN model\n",
    "- Focal loss for unbalanced dataset\n",
    "- Increased channels\n",
    "- 3 LAYERS"
   ]
  },
  {
   "cell_type": "code",
   "execution_count": 562,
   "metadata": {},
   "outputs": [
    {
     "name": "stdout",
     "output_type": "stream",
     "text": [
      "Requirement already satisfied: focal-loss in /Users/nikitaacharya/anaconda3/lib/python3.7/site-packages (0.0.6)\n",
      "Requirement already satisfied: tensorflow>=2.2 in /Users/nikitaacharya/anaconda3/lib/python3.7/site-packages (from focal-loss) (2.4.1)\n",
      "Requirement already satisfied: astunparse~=1.6.3 in /Users/nikitaacharya/anaconda3/lib/python3.7/site-packages (from tensorflow>=2.2->focal-loss) (1.6.3)\n",
      "Requirement already satisfied: grpcio~=1.32.0 in /Users/nikitaacharya/anaconda3/lib/python3.7/site-packages (from tensorflow>=2.2->focal-loss) (1.32.0)\n",
      "Requirement already satisfied: opt-einsum~=3.3.0 in /Users/nikitaacharya/anaconda3/lib/python3.7/site-packages (from tensorflow>=2.2->focal-loss) (3.3.0)\n",
      "Requirement already satisfied: keras-preprocessing~=1.1.2 in /Users/nikitaacharya/anaconda3/lib/python3.7/site-packages (from tensorflow>=2.2->focal-loss) (1.1.2)\n",
      "Requirement already satisfied: typing-extensions~=3.7.4 in /Users/nikitaacharya/anaconda3/lib/python3.7/site-packages (from tensorflow>=2.2->focal-loss) (3.7.4.2)\n",
      "Requirement already satisfied: flatbuffers~=1.12.0 in /Users/nikitaacharya/anaconda3/lib/python3.7/site-packages (from tensorflow>=2.2->focal-loss) (1.12)\n",
      "Requirement already satisfied: absl-py~=0.10 in /Users/nikitaacharya/anaconda3/lib/python3.7/site-packages (from tensorflow>=2.2->focal-loss) (0.12.0)\n",
      "Requirement already satisfied: tensorflow-estimator<2.5.0,>=2.4.0 in /Users/nikitaacharya/anaconda3/lib/python3.7/site-packages (from tensorflow>=2.2->focal-loss) (2.4.0)\n",
      "Requirement already satisfied: termcolor~=1.1.0 in /Users/nikitaacharya/anaconda3/lib/python3.7/site-packages (from tensorflow>=2.2->focal-loss) (1.1.0)\n",
      "Requirement already satisfied: tensorboard~=2.4 in /Users/nikitaacharya/anaconda3/lib/python3.7/site-packages (from tensorflow>=2.2->focal-loss) (2.4.1)\n",
      "Requirement already satisfied: protobuf>=3.9.2 in /Users/nikitaacharya/anaconda3/lib/python3.7/site-packages (from tensorflow>=2.2->focal-loss) (3.15.6)\n",
      "Requirement already satisfied: google-pasta~=0.2 in /Users/nikitaacharya/anaconda3/lib/python3.7/site-packages (from tensorflow>=2.2->focal-loss) (0.2.0)\n",
      "Requirement already satisfied: gast==0.3.3 in /Users/nikitaacharya/anaconda3/lib/python3.7/site-packages (from tensorflow>=2.2->focal-loss) (0.3.3)\n",
      "Requirement already satisfied: wheel~=0.35 in /Users/nikitaacharya/anaconda3/lib/python3.7/site-packages (from tensorflow>=2.2->focal-loss) (0.36.2)\n",
      "Requirement already satisfied: wrapt~=1.12.1 in /Users/nikitaacharya/anaconda3/lib/python3.7/site-packages (from tensorflow>=2.2->focal-loss) (1.12.1)\n",
      "Requirement already satisfied: numpy~=1.19.2 in /Users/nikitaacharya/anaconda3/lib/python3.7/site-packages (from tensorflow>=2.2->focal-loss) (1.19.5)\n",
      "Requirement already satisfied: h5py~=2.10.0 in /Users/nikitaacharya/anaconda3/lib/python3.7/site-packages (from tensorflow>=2.2->focal-loss) (2.10.0)\n",
      "Requirement already satisfied: six~=1.15.0 in /Users/nikitaacharya/anaconda3/lib/python3.7/site-packages (from tensorflow>=2.2->focal-loss) (1.15.0)\n",
      "Requirement already satisfied: tensorboard-plugin-wit>=1.6.0 in /Users/nikitaacharya/anaconda3/lib/python3.7/site-packages (from tensorboard~=2.4->tensorflow>=2.2->focal-loss) (1.8.0)\n",
      "Requirement already satisfied: google-auth<2,>=1.6.3 in /Users/nikitaacharya/anaconda3/lib/python3.7/site-packages (from tensorboard~=2.4->tensorflow>=2.2->focal-loss) (1.27.1)\n",
      "Requirement already satisfied: werkzeug>=0.11.15 in /Users/nikitaacharya/anaconda3/lib/python3.7/site-packages (from tensorboard~=2.4->tensorflow>=2.2->focal-loss) (1.0.1)\n",
      "Requirement already satisfied: setuptools>=41.0.0 in /Users/nikitaacharya/anaconda3/lib/python3.7/site-packages (from tensorboard~=2.4->tensorflow>=2.2->focal-loss) (49.2.0.post20200714)\n",
      "Requirement already satisfied: requests<3,>=2.21.0 in /Users/nikitaacharya/anaconda3/lib/python3.7/site-packages (from tensorboard~=2.4->tensorflow>=2.2->focal-loss) (2.22.0)\n",
      "Requirement already satisfied: google-auth-oauthlib<0.5,>=0.4.1 in /Users/nikitaacharya/anaconda3/lib/python3.7/site-packages (from tensorboard~=2.4->tensorflow>=2.2->focal-loss) (0.4.3)\n",
      "Requirement already satisfied: markdown>=2.6.8 in /Users/nikitaacharya/anaconda3/lib/python3.7/site-packages (from tensorboard~=2.4->tensorflow>=2.2->focal-loss) (3.3.4)\n",
      "Requirement already satisfied: pyasn1-modules>=0.2.1 in /Users/nikitaacharya/anaconda3/lib/python3.7/site-packages (from google-auth<2,>=1.6.3->tensorboard~=2.4->tensorflow>=2.2->focal-loss) (0.2.8)\n",
      "Requirement already satisfied: cachetools<5.0,>=2.0.0 in /Users/nikitaacharya/anaconda3/lib/python3.7/site-packages (from google-auth<2,>=1.6.3->tensorboard~=2.4->tensorflow>=2.2->focal-loss) (4.2.1)\n",
      "Requirement already satisfied: rsa<5,>=3.1.4; python_version >= \"3.6\" in /Users/nikitaacharya/anaconda3/lib/python3.7/site-packages (from google-auth<2,>=1.6.3->tensorboard~=2.4->tensorflow>=2.2->focal-loss) (4.7.2)\n",
      "Requirement already satisfied: chardet<3.1.0,>=3.0.2 in /Users/nikitaacharya/anaconda3/lib/python3.7/site-packages (from requests<3,>=2.21.0->tensorboard~=2.4->tensorflow>=2.2->focal-loss) (3.0.4)\n",
      "Requirement already satisfied: urllib3!=1.25.0,!=1.25.1,<1.26,>=1.21.1 in /Users/nikitaacharya/anaconda3/lib/python3.7/site-packages (from requests<3,>=2.21.0->tensorboard~=2.4->tensorflow>=2.2->focal-loss) (1.25.9)\n",
      "Requirement already satisfied: certifi>=2017.4.17 in /Users/nikitaacharya/anaconda3/lib/python3.7/site-packages (from requests<3,>=2.21.0->tensorboard~=2.4->tensorflow>=2.2->focal-loss) (2020.12.5)\n",
      "Requirement already satisfied: idna<2.9,>=2.5 in /Users/nikitaacharya/anaconda3/lib/python3.7/site-packages (from requests<3,>=2.21.0->tensorboard~=2.4->tensorflow>=2.2->focal-loss) (2.8)\n",
      "Requirement already satisfied: requests-oauthlib>=0.7.0 in /Users/nikitaacharya/anaconda3/lib/python3.7/site-packages (from google-auth-oauthlib<0.5,>=0.4.1->tensorboard~=2.4->tensorflow>=2.2->focal-loss) (1.3.0)\n",
      "Requirement already satisfied: importlib-metadata; python_version < \"3.8\" in /Users/nikitaacharya/anaconda3/lib/python3.7/site-packages (from markdown>=2.6.8->tensorboard~=2.4->tensorflow>=2.2->focal-loss) (1.7.0)\n",
      "Requirement already satisfied: pyasn1<0.5.0,>=0.4.6 in /Users/nikitaacharya/anaconda3/lib/python3.7/site-packages (from pyasn1-modules>=0.2.1->google-auth<2,>=1.6.3->tensorboard~=2.4->tensorflow>=2.2->focal-loss) (0.4.7)\n",
      "Requirement already satisfied: oauthlib>=3.0.0 in /Users/nikitaacharya/anaconda3/lib/python3.7/site-packages (from requests-oauthlib>=0.7.0->google-auth-oauthlib<0.5,>=0.4.1->tensorboard~=2.4->tensorflow>=2.2->focal-loss) (3.1.0)\n",
      "Requirement already satisfied: zipp>=0.5 in /Users/nikitaacharya/anaconda3/lib/python3.7/site-packages (from importlib-metadata; python_version < \"3.8\"->markdown>=2.6.8->tensorboard~=2.4->tensorflow>=2.2->focal-loss) (3.1.0)\n"
     ]
    }
   ],
   "source": [
    "!pip install focal-loss"
   ]
  },
  {
   "cell_type": "code",
   "execution_count": 605,
   "metadata": {},
   "outputs": [
    {
     "name": "stdout",
     "output_type": "stream",
     "text": [
      "The tensorboard extension is already loaded. To reload it, use:\n",
      "  %reload_ext tensorboard\n"
     ]
    }
   ],
   "source": [
    "%load_ext tensorboard"
   ]
  },
  {
   "cell_type": "code",
   "execution_count": 613,
   "metadata": {},
   "outputs": [
    {
     "name": "stdout",
     "output_type": "stream",
     "text": [
      "X_in:  (None, 4)\n",
      "Model: \"model_49\"\n",
      "__________________________________________________________________________________________________\n",
      "Layer (type)                    Output Shape         Param #     Connected to                     \n",
      "==================================================================================================\n",
      "input_115 (InputLayer)          [(None, 4)]          0                                            \n",
      "__________________________________________________________________________________________________\n",
      "batch_normalization_143 (BatchN (None, 4)            16          input_115[0][0]                  \n",
      "__________________________________________________________________________________________________\n",
      "dropout_180 (Dropout)           (None, 4)            0           batch_normalization_143[0][0]    \n",
      "__________________________________________________________________________________________________\n",
      "input_116 (InputLayer)          [(None, None)]       0                                            \n",
      "__________________________________________________________________________________________________\n",
      "graph_sage_conv_32 (GraphSageCo (None, 64)           576         dropout_180[0][0]                \n",
      "                                                                 input_116[0][0]                  \n",
      "__________________________________________________________________________________________________\n",
      "dropout_181 (Dropout)           (None, 64)           0           graph_sage_conv_32[0][0]         \n",
      "__________________________________________________________________________________________________\n",
      "graph_sage_conv_33 (GraphSageCo (None, 128)          16512       dropout_181[0][0]                \n",
      "                                                                 input_116[0][0]                  \n",
      "__________________________________________________________________________________________________\n",
      "dropout_182 (Dropout)           (None, 128)          0           graph_sage_conv_33[0][0]         \n",
      "__________________________________________________________________________________________________\n",
      "graph_sage_conv_34 (GraphSageCo (None, 16)           4112        dropout_182[0][0]                \n",
      "                                                                 input_116[0][0]                  \n",
      "__________________________________________________________________________________________________\n",
      "batch_normalization_146 (BatchN (None, 16)           64          graph_sage_conv_34[0][0]         \n",
      "__________________________________________________________________________________________________\n",
      "dropout_183 (Dropout)           (None, 16)           0           batch_normalization_146[0][0]    \n",
      "__________________________________________________________________________________________________\n",
      "input_117 (InputLayer)          [(None, None)]       0                                            \n",
      "__________________________________________________________________________________________________\n",
      "graph_sage_conv_35 (GraphSageCo (None, 1)            33          dropout_183[0][0]                \n",
      "                                                                 input_116[0][0]                  \n",
      "==================================================================================================\n",
      "Total params: 21,313\n",
      "Trainable params: 21,273\n",
      "Non-trainable params: 40\n",
      "__________________________________________________________________________________________________\n"
     ]
    }
   ],
   "source": [
    "channels = 256         # Number of channels in the first layer\n",
    "dropout = 0.1         # Dropout rate for the features\n",
    "l2_reg = 5e-4           # L2 regularization rate\n",
    "learning_rate = 1e-2    # Learning rate\n",
    "epochs = 100           # Number of training epochs\n",
    "es_patience = 10        # Patience for early stopping\n",
    "# N = \n",
    "\n",
    "# Model definition\n",
    "X_in = Input(shape=(F, ))\n",
    "print(\"X_in: \", X_in.shape)\n",
    "fltr_in = Input((None, ), sparse=True)\n",
    "mask_in = Input((None, ))\n",
    "\n",
    "x_1 = BatchNormalization()(X_in)\n",
    "dropout_1 = Dropout(dropout)(x_1 )\n",
    "graph_conv_1 = GraphSageConv(1024,\n",
    "                         activation='relu',\n",
    "#                          kernel_regularizer=l2(l2_reg),\n",
    "                         use_bias=True)([dropout_1, fltr_in])\n",
    "x_2 = BatchNormalization()(graph_conv_1)\n",
    "dropout_2 = Dropout(dropout)(graph_conv_1)\n",
    "# dropout_2 = Dropout(dropout)(X_in)\n",
    "graph_conv_2 = GraphSageConv(1024,\n",
    "                         activation='relu',\n",
    "#                          kernel_regularizer=l2(l2_reg),\n",
    "                         use_bias=True)([dropout_2, fltr_in])\n",
    "x_3 = BatchNormalization()(graph_conv_2)\n",
    "dropout_3 = Dropout(dropout)(graph_conv_2)\n",
    "graph_conv_3 = GraphSageConv(128,\n",
    "                         activation='relu',\n",
    "#                          kernel_regularizer=l2(l2_reg),\n",
    "                         use_bias=True)([dropout_3, fltr_in])\n",
    "x_4 = BatchNormalization()(graph_conv_3)\n",
    "dropout_4 = Dropout(dropout)(x_4)\n",
    "graph_conv_4 = GraphSageConv(n_out,\n",
    "                         activation='sigmoid',\n",
    "#                          kernel_regularizer=l2(l2_reg),\n",
    "                         use_bias=True)([dropout_4, fltr_in])\n",
    "\n",
    "model = Model(inputs=[X_in, fltr_in, mask_in], outputs=graph_conv_4)\n",
    "optimizer = Adam(lr=learning_rate)\n",
    "# model.compile(optimizer=optimizer,\n",
    "#               loss='categorical_crossentropy',\n",
    "#               weighted_metrics=['acc'])\n",
    "\n",
    "# x_in = Input(shape=(F,))\n",
    "# a_in = Input((None, ), sparse=True)\n",
    "# x_1 = GCNConv(channels, activation=\"relu\")([x_in, a_in])\n",
    "# x_1 = BatchNormalization()(x_1)\n",
    "# x_1 = Dropout(dropout)(x_1)\n",
    "# x_2 = GCNConv(channels, activation=\"relu\")([x_1, a_in])\n",
    "# x_2 = BatchNormalization()(x_2)\n",
    "# x_2 = Dropout(dropout)(x_2)\n",
    "# x_3 = GCNConv(n_out, activation=\"sigmoid\")([x_2, a_in])\n",
    "\n",
    "# import tensorflow.keras.backend as K\n",
    "# def focal_loss(y_true, y_pred, gamma=0.99, alpha=1):\n",
    "#     pt_1 = tf.where(tf.equal(y_true, 1), y_pred, tf.ones_like(y_pred))\n",
    "#     pt_0 = tf.where(tf.equal(y_true, 0), y_pred, tf.zeros_like(y_pred))\n",
    "#     return -K.sum(alpha * K.pow(1. - pt_1, gamma) * K.log(pt_1))-K.sum((1-alpha) * K.pow( pt_0, gamma) * K.log(1. - pt_0))\n",
    "\n",
    "\n",
    "focal_loss_fn = BinaryFocalLoss(gamma=0.9999, pos_weight=1)\n",
    "model.compile(optimizer=optimizer,\n",
    "              loss=focal_loss_fn,\n",
    "              weighted_metrics=['acc'])\n",
    "model.summary()\n",
    "\n",
    "tbCallBack_GCN = tf.keras.callbacks.TensorBoard(\n",
    "    log_dir='./DetectFaultInCircuit',\n",
    ")\n",
    "callback_GCN = [tbCallBack_GCN]\n",
    "\n",
    "\n"
   ]
  },
  {
   "cell_type": "code",
   "execution_count": 614,
   "metadata": {},
   "outputs": [
    {
     "name": "stdout",
     "output_type": "stream",
     "text": [
      "Epoch 1/100\n",
      "7/7 [==============================] - 6s 310ms/step - loss: 0.1234 - acc: 0.4000 - val_loss: 0.2439 - val_acc: 0.8178\n",
      "Epoch 2/100\n",
      "7/7 [==============================] - 1s 140ms/step - loss: 0.1150 - acc: 0.4235 - val_loss: 0.2472 - val_acc: 0.8140\n",
      "Epoch 3/100\n",
      "7/7 [==============================] - 1s 117ms/step - loss: 0.1147 - acc: 0.4726 - val_loss: 0.2616 - val_acc: 0.7976\n",
      "Epoch 4/100\n",
      "7/7 [==============================] - 1s 99ms/step - loss: 0.1124 - acc: 0.4725 - val_loss: 0.2799 - val_acc: 0.7767\n",
      "Epoch 5/100\n",
      "7/7 [==============================] - 1s 94ms/step - loss: 0.1079 - acc: 0.5056 - val_loss: 0.2799 - val_acc: 0.7767\n",
      "Epoch 6/100\n",
      "7/7 [==============================] - 1s 103ms/step - loss: 0.1020 - acc: 0.5422 - val_loss: 0.2817 - val_acc: 0.7745\n",
      "Epoch 7/100\n",
      "7/7 [==============================] - 1s 108ms/step - loss: 0.1059 - acc: 0.5043 - val_loss: 0.3044 - val_acc: 0.7486\n",
      "Epoch 8/100\n",
      "7/7 [==============================] - 1s 99ms/step - loss: 0.1039 - acc: 0.5367 - val_loss: 0.3132 - val_acc: 0.7387\n",
      "Epoch 9/100\n",
      "7/7 [==============================] - 1s 92ms/step - loss: 0.0986 - acc: 0.5416 - val_loss: 0.3277 - val_acc: 0.7220\n",
      "Epoch 10/100\n",
      "7/7 [==============================] - 1s 98ms/step - loss: 0.0899 - acc: 0.5848 - val_loss: 0.2170 - val_acc: 0.8484\n",
      "Epoch 11/100\n",
      "7/7 [==============================] - 1s 94ms/step - loss: 0.0841 - acc: 0.6071 - val_loss: 0.2168 - val_acc: 0.8487\n",
      "Epoch 12/100\n",
      "7/7 [==============================] - 1s 99ms/step - loss: 0.1154 - acc: 0.4709 - val_loss: 0.2168 - val_acc: 0.8487\n",
      "Epoch 13/100\n",
      "7/7 [==============================] - 1s 45ms/step - loss: 0.1223 - acc: 0.3797 - val_loss: 0.2168 - val_acc: 0.8487\n",
      "Epoch 14/100\n",
      "7/7 [==============================] - 1s 106ms/step - loss: 0.1206 - acc: 0.4590 - val_loss: 0.2168 - val_acc: 0.8487\n",
      "Epoch 15/100\n",
      "7/7 [==============================] - 1s 46ms/step - loss: 0.1182 - acc: 0.4015 - val_loss: 0.2168 - val_acc: 0.8487\n",
      "Epoch 16/100\n",
      "7/7 [==============================] - 1s 101ms/step - loss: 0.1097 - acc: 0.4596 - val_loss: 0.2168 - val_acc: 0.8487\n",
      "Epoch 17/100\n",
      "7/7 [==============================] - 1s 103ms/step - loss: 0.1081 - acc: 0.4868 - val_loss: 0.2168 - val_acc: 0.8487\n",
      "Epoch 18/100\n",
      "7/7 [==============================] - 1s 93ms/step - loss: 0.1019 - acc: 0.5232 - val_loss: 0.4665 - val_acc: 0.5636\n",
      "Epoch 19/100\n",
      "7/7 [==============================] - 1s 44ms/step - loss: 0.1201 - acc: 0.3954 - val_loss: 0.8275 - val_acc: 0.1513\n",
      "Epoch 20/100\n",
      "7/7 [==============================] - 1s 102ms/step - loss: 0.1092 - acc: 0.5035 - val_loss: 0.8275 - val_acc: 0.1513\n",
      "Epoch 21/100\n",
      "7/7 [==============================] - 1s 91ms/step - loss: 0.1127 - acc: 0.4725 - val_loss: 0.8194 - val_acc: 0.1606\n",
      "Epoch 22/100\n",
      "7/7 [==============================] - 1s 85ms/step - loss: 0.1041 - acc: 0.4985 - val_loss: 0.3831 - val_acc: 0.6588\n",
      "Epoch 23/100\n",
      "7/7 [==============================] - 1s 104ms/step - loss: 0.1060 - acc: 0.4918 - val_loss: 0.2418 - val_acc: 0.8201\n",
      "Epoch 24/100\n",
      "7/7 [==============================] - 1s 99ms/step - loss: 0.1039 - acc: 0.4960 - val_loss: 0.2168 - val_acc: 0.8487\n",
      "Epoch 25/100\n",
      "7/7 [==============================] - 1s 105ms/step - loss: 0.1163 - acc: 0.4613 - val_loss: 0.2168 - val_acc: 0.8487\n",
      "Epoch 26/100\n",
      "7/7 [==============================] - 1s 106ms/step - loss: 0.1206 - acc: 0.4580 - val_loss: 0.2168 - val_acc: 0.8487\n",
      "Epoch 27/100\n",
      "7/7 [==============================] - 1s 100ms/step - loss: 0.1109 - acc: 0.4793 - val_loss: 0.2168 - val_acc: 0.8487\n",
      "Epoch 28/100\n",
      "7/7 [==============================] - 1s 99ms/step - loss: 0.1141 - acc: 0.4688 - val_loss: 0.2168 - val_acc: 0.8487\n",
      "Epoch 29/100\n",
      "7/7 [==============================] - 1s 112ms/step - loss: 0.1111 - acc: 0.4876 - val_loss: 0.2168 - val_acc: 0.8487\n",
      "Epoch 30/100\n",
      "7/7 [==============================] - 1s 109ms/step - loss: 0.1125 - acc: 0.4737 - val_loss: 0.2168 - val_acc: 0.8487\n",
      "Epoch 31/100\n",
      "7/7 [==============================] - 1s 103ms/step - loss: 0.1184 - acc: 0.4673 - val_loss: 0.2168 - val_acc: 0.8487\n",
      "Epoch 32/100\n",
      "7/7 [==============================] - 1s 102ms/step - loss: 0.1247 - acc: 0.4548 - val_loss: 0.2168 - val_acc: 0.8487\n",
      "Epoch 33/100\n",
      "7/7 [==============================] - 1s 94ms/step - loss: 0.1121 - acc: 0.4764 - val_loss: 0.2168 - val_acc: 0.8487\n",
      "Epoch 34/100\n",
      "7/7 [==============================] - 1s 94ms/step - loss: 0.0994 - acc: 0.5147 - val_loss: 0.8275 - val_acc: 0.1513\n",
      "Epoch 35/100\n",
      "7/7 [==============================] - 1s 97ms/step - loss: 0.0837 - acc: 0.6159 - val_loss: 0.8275 - val_acc: 0.1513\n",
      "Epoch 36/100\n",
      "7/7 [==============================] - 1s 105ms/step - loss: 0.0938 - acc: 0.5927 - val_loss: 0.8275 - val_acc: 0.1513\n",
      "Epoch 37/100\n",
      "7/7 [==============================] - 1s 162ms/step - loss: 0.0916 - acc: 0.5952 - val_loss: 0.8275 - val_acc: 0.1513\n",
      "Epoch 38/100\n",
      "7/7 [==============================] - 1s 46ms/step - loss: 0.0799 - acc: 0.6288 - val_loss: 0.8275 - val_acc: 0.1513\n",
      "Epoch 39/100\n",
      "7/7 [==============================] - 1s 43ms/step - loss: 0.0824 - acc: 0.6144 - val_loss: 0.8275 - val_acc: 0.1513\n",
      "Epoch 40/100\n",
      "7/7 [==============================] - 1s 97ms/step - loss: 0.0916 - acc: 0.5837 - val_loss: 0.8275 - val_acc: 0.1513\n",
      "Epoch 41/100\n",
      "7/7 [==============================] - 1s 101ms/step - loss: 0.0920 - acc: 0.6031 - val_loss: 0.8275 - val_acc: 0.1513\n",
      "Epoch 42/100\n",
      "7/7 [==============================] - 1s 42ms/step - loss: 0.0842 - acc: 0.6036 - val_loss: 0.8275 - val_acc: 0.1513\n",
      "Epoch 43/100\n",
      "7/7 [==============================] - 1s 43ms/step - loss: 0.0850 - acc: 0.6004 - val_loss: 0.8275 - val_acc: 0.1513\n",
      "Epoch 44/100\n",
      "7/7 [==============================] - 1s 46ms/step - loss: 0.0832 - acc: 0.6080 - val_loss: 0.8275 - val_acc: 0.1513\n",
      "Epoch 45/100\n",
      "7/7 [==============================] - 1s 104ms/step - loss: 0.0925 - acc: 0.5911 - val_loss: 0.8275 - val_acc: 0.1513\n",
      "Epoch 46/100\n",
      "7/7 [==============================] - 1s 93ms/step - loss: 0.1023 - acc: 0.5389 - val_loss: 0.8275 - val_acc: 0.1513\n",
      "Epoch 47/100\n",
      "7/7 [==============================] - 1s 95ms/step - loss: 0.1023 - acc: 0.5469 - val_loss: 0.8275 - val_acc: 0.1513\n",
      "Epoch 48/100\n",
      "7/7 [==============================] - 1s 100ms/step - loss: 0.0961 - acc: 0.5792 - val_loss: 0.8275 - val_acc: 0.1513\n",
      "Epoch 49/100\n",
      "7/7 [==============================] - 1s 43ms/step - loss: 0.0827 - acc: 0.6120 - val_loss: 0.8275 - val_acc: 0.1513\n",
      "Epoch 50/100\n",
      "7/7 [==============================] - 1s 102ms/step - loss: 0.0953 - acc: 0.5834 - val_loss: 0.8275 - val_acc: 0.1513\n",
      "Epoch 51/100\n",
      "7/7 [==============================] - 1s 96ms/step - loss: 0.0876 - acc: 0.5852 - val_loss: 0.8275 - val_acc: 0.1513\n",
      "Epoch 52/100\n",
      "7/7 [==============================] - 1s 90ms/step - loss: 0.0882 - acc: 0.5911 - val_loss: 0.8275 - val_acc: 0.1513\n",
      "Epoch 53/100\n",
      "7/7 [==============================] - 1s 42ms/step - loss: 0.0835 - acc: 0.6062 - val_loss: 0.8275 - val_acc: 0.1513\n",
      "Epoch 54/100\n",
      "7/7 [==============================] - 1s 42ms/step - loss: 0.0833 - acc: 0.6077 - val_loss: 0.8275 - val_acc: 0.1513\n",
      "Epoch 55/100\n",
      "7/7 [==============================] - 1s 100ms/step - loss: 0.1037 - acc: 0.5411 - val_loss: 0.8275 - val_acc: 0.1513\n",
      "Epoch 56/100\n",
      "7/7 [==============================] - 1s 97ms/step - loss: 0.0966 - acc: 0.5509 - val_loss: 0.7585 - val_acc: 0.2302\n",
      "Epoch 57/100\n",
      "7/7 [==============================] - 1s 97ms/step - loss: 0.0852 - acc: 0.6095 - val_loss: 0.7476 - val_acc: 0.2426\n",
      "Epoch 58/100\n",
      "7/7 [==============================] - 1s 93ms/step - loss: 0.0835 - acc: 0.6084 - val_loss: 0.7476 - val_acc: 0.2426\n",
      "Epoch 59/100\n",
      "7/7 [==============================] - 1s 94ms/step - loss: 0.0900 - acc: 0.5894 - val_loss: 0.7476 - val_acc: 0.2426\n",
      "Epoch 60/100\n",
      "7/7 [==============================] - 1s 97ms/step - loss: 0.0859 - acc: 0.6051 - val_loss: 0.7476 - val_acc: 0.2426\n",
      "Epoch 61/100\n",
      "7/7 [==============================] - 1s 97ms/step - loss: 0.0894 - acc: 0.6015 - val_loss: 0.7414 - val_acc: 0.2497\n",
      "Epoch 62/100\n",
      "7/7 [==============================] - 1s 101ms/step - loss: 0.1002 - acc: 0.5558 - val_loss: 0.6632 - val_acc: 0.3390\n",
      "Epoch 63/100\n"
     ]
    },
    {
     "name": "stdout",
     "output_type": "stream",
     "text": [
      "7/7 [==============================] - 1s 91ms/step - loss: 0.0841 - acc: 0.6070 - val_loss: 0.6563 - val_acc: 0.3469\n",
      "Epoch 64/100\n",
      "7/7 [==============================] - 1s 94ms/step - loss: 0.0867 - acc: 0.5962 - val_loss: 0.6561 - val_acc: 0.3471\n",
      "Epoch 65/100\n",
      "7/7 [==============================] - 1s 42ms/step - loss: 0.0841 - acc: 0.6065 - val_loss: 0.6557 - val_acc: 0.3476\n",
      "Epoch 66/100\n",
      "7/7 [==============================] - 1s 97ms/step - loss: 0.1011 - acc: 0.5364 - val_loss: 0.6553 - val_acc: 0.3481\n",
      "Epoch 67/100\n",
      "7/7 [==============================] - 1s 99ms/step - loss: 0.0881 - acc: 0.5958 - val_loss: 0.6553 - val_acc: 0.3481\n",
      "Epoch 68/100\n",
      "7/7 [==============================] - 1s 98ms/step - loss: 0.0913 - acc: 0.5726 - val_loss: 0.6553 - val_acc: 0.3481\n",
      "Epoch 69/100\n",
      "7/7 [==============================] - 1s 91ms/step - loss: 0.0884 - acc: 0.5905 - val_loss: 0.6553 - val_acc: 0.3481\n",
      "Epoch 70/100\n",
      "7/7 [==============================] - 1s 97ms/step - loss: 0.0936 - acc: 0.5713 - val_loss: 0.6553 - val_acc: 0.3481\n",
      "Epoch 71/100\n",
      "7/7 [==============================] - 1s 93ms/step - loss: 0.0856 - acc: 0.6039 - val_loss: 0.6553 - val_acc: 0.3481\n",
      "Epoch 72/100\n",
      "7/7 [==============================] - 1s 95ms/step - loss: 0.0833 - acc: 0.6134 - val_loss: 0.6553 - val_acc: 0.3481\n",
      "Epoch 73/100\n",
      "7/7 [==============================] - 1s 95ms/step - loss: 0.0877 - acc: 0.5934 - val_loss: 0.6553 - val_acc: 0.3481\n",
      "Epoch 74/100\n",
      "7/7 [==============================] - 1s 99ms/step - loss: 0.0907 - acc: 0.5947 - val_loss: 0.6553 - val_acc: 0.3481\n",
      "Epoch 75/100\n",
      "7/7 [==============================] - 1s 43ms/step - loss: 0.0850 - acc: 0.5997 - val_loss: 0.6553 - val_acc: 0.3481\n",
      "Epoch 76/100\n",
      "7/7 [==============================] - 1s 100ms/step - loss: 0.0920 - acc: 0.5938 - val_loss: 0.6553 - val_acc: 0.3481\n",
      "Epoch 77/100\n",
      "7/7 [==============================] - 1s 101ms/step - loss: 0.0924 - acc: 0.5881 - val_loss: 0.6553 - val_acc: 0.3481\n",
      "Epoch 78/100\n",
      "7/7 [==============================] - 1s 42ms/step - loss: 0.0837 - acc: 0.6069 - val_loss: 0.6553 - val_acc: 0.3481\n",
      "Epoch 79/100\n",
      "7/7 [==============================] - 1s 100ms/step - loss: 0.0969 - acc: 0.5716 - val_loss: 0.6550 - val_acc: 0.3483\n",
      "Epoch 80/100\n",
      "7/7 [==============================] - 1s 100ms/step - loss: 0.0961 - acc: 0.5549 - val_loss: 0.6550 - val_acc: 0.3483\n",
      "Epoch 81/100\n",
      "7/7 [==============================] - 1s 102ms/step - loss: 0.0982 - acc: 0.5764 - val_loss: 0.6550 - val_acc: 0.3483\n",
      "Epoch 82/100\n",
      "7/7 [==============================] - 1s 91ms/step - loss: 0.0959 - acc: 0.5810 - val_loss: 0.6550 - val_acc: 0.3483\n",
      "Epoch 83/100\n",
      "7/7 [==============================] - 1s 95ms/step - loss: 0.0945 - acc: 0.5957 - val_loss: 0.6550 - val_acc: 0.3483\n",
      "Epoch 84/100\n",
      "7/7 [==============================] - 1s 94ms/step - loss: 0.0957 - acc: 0.5746 - val_loss: 0.6550 - val_acc: 0.3483\n",
      "Epoch 85/100\n",
      "7/7 [==============================] - 1s 95ms/step - loss: 0.0923 - acc: 0.5867 - val_loss: 0.6550 - val_acc: 0.3483\n",
      "Epoch 86/100\n",
      "7/7 [==============================] - 1s 91ms/step - loss: 0.0938 - acc: 0.5638 - val_loss: 0.6550 - val_acc: 0.3483\n",
      "Epoch 87/100\n",
      "7/7 [==============================] - 1s 129ms/step - loss: 0.0883 - acc: 0.5899 - val_loss: 0.6550 - val_acc: 0.3483\n",
      "Epoch 88/100\n",
      "7/7 [==============================] - 1s 88ms/step - loss: 0.0847 - acc: 0.6100 - val_loss: 0.6550 - val_acc: 0.3483\n",
      "Epoch 89/100\n",
      "7/7 [==============================] - 1s 40ms/step - loss: 0.0836 - acc: 0.6054 - val_loss: 0.6550 - val_acc: 0.3483\n",
      "Epoch 90/100\n",
      "7/7 [==============================] - 1s 88ms/step - loss: 0.0865 - acc: 0.6061 - val_loss: 0.6550 - val_acc: 0.3483\n",
      "Epoch 91/100\n",
      "7/7 [==============================] - 1s 96ms/step - loss: 0.0918 - acc: 0.5836 - val_loss: 0.6550 - val_acc: 0.3483\n",
      "Epoch 92/100\n",
      "7/7 [==============================] - 1s 93ms/step - loss: 0.0892 - acc: 0.6024 - val_loss: 0.6550 - val_acc: 0.3483\n",
      "Epoch 93/100\n",
      "7/7 [==============================] - 1s 87ms/step - loss: 0.0980 - acc: 0.5526 - val_loss: 0.6548 - val_acc: 0.3485\n",
      "Epoch 94/100\n",
      "7/7 [==============================] - 1s 43ms/step - loss: 0.0838 - acc: 0.6061 - val_loss: 0.6546 - val_acc: 0.3488\n",
      "Epoch 95/100\n",
      "7/7 [==============================] - 1s 93ms/step - loss: 0.0886 - acc: 0.6003 - val_loss: 0.6546 - val_acc: 0.3488\n",
      "Epoch 96/100\n",
      "7/7 [==============================] - 1s 96ms/step - loss: 0.0988 - acc: 0.5506 - val_loss: 0.6538 - val_acc: 0.3497\n",
      "Epoch 97/100\n",
      "7/7 [==============================] - 1s 97ms/step - loss: 0.1037 - acc: 0.5426 - val_loss: 0.6536 - val_acc: 0.3500\n",
      "Epoch 98/100\n",
      "7/7 [==============================] - 1s 97ms/step - loss: 0.0855 - acc: 0.6057 - val_loss: 0.6528 - val_acc: 0.3509\n",
      "Epoch 99/100\n",
      "7/7 [==============================] - 1s 97ms/step - loss: 0.0901 - acc: 0.5946 - val_loss: 0.6523 - val_acc: 0.3514\n",
      "Epoch 100/100\n",
      "7/7 [==============================] - 1s 98ms/step - loss: 0.0888 - acc: 0.6099 - val_loss: 0.6515 - val_acc: 0.3523\n"
     ]
    }
   ],
   "source": [
    "loader_tr, loader_va, loader_te = load_tr_data(epochs)\n",
    "class_weight = {0: 0.11, 1: 0.89}\n",
    "history = model.fit(\n",
    "    loader_tr.load(),\n",
    "    steps_per_epoch=loader_tr.steps_per_epoch,\n",
    "    validation_data=loader_va.load(),\n",
    "    validation_steps=loader_va.steps_per_epoch,\n",
    "    epochs=epochs,\n",
    "    class_weight=class_weight,\n",
    "    callbacks=callback_GCN\n",
    "#     callbacks=[EarlyStopping(patience=patience, restore_best_weights=True)],\n",
    ")"
   ]
  },
  {
   "cell_type": "code",
   "execution_count": 615,
   "metadata": {},
   "outputs": [
    {
     "data": {
      "text/plain": [
       "Reusing TensorBoard on port 6006 (pid 69918), started 0:43:00 ago. (Use '!kill 69918' to kill it.)"
      ]
     },
     "metadata": {},
     "output_type": "display_data"
    },
    {
     "data": {
      "text/html": [
       "\n",
       "      <iframe id=\"tensorboard-frame-a21f72be23409851\" width=\"100%\" height=\"800\" frameborder=\"0\">\n",
       "      </iframe>\n",
       "      <script>\n",
       "        (function() {\n",
       "          const frame = document.getElementById(\"tensorboard-frame-a21f72be23409851\");\n",
       "          const url = new URL(\"/\", window.location);\n",
       "          const port = 6006;\n",
       "          if (port) {\n",
       "            url.port = port;\n",
       "          }\n",
       "          frame.src = url;\n",
       "        })();\n",
       "      </script>\n",
       "    "
      ],
      "text/plain": [
       "<IPython.core.display.HTML object>"
      ]
     },
     "metadata": {},
     "output_type": "display_data"
    }
   ],
   "source": [
    "%tensorboard --logdir ./DetectFaultInCircuit"
   ]
  },
  {
   "cell_type": "code",
   "execution_count": 616,
   "metadata": {},
   "outputs": [
    {
     "name": "stdout",
     "output_type": "stream",
     "text": [
      "1/1 [==============================] - 0s 43ms/step - loss: 0.7127 - acc: 0.2825\n",
      "Done. Test loss: [0.7126802206039429, 0.28249475359916687]\n"
     ]
    }
   ],
   "source": [
    "model_loss = model.evaluate(loader_te.load(), steps=loader_te.steps_per_epoch)\n",
    "print(\"Done. Test loss: {}\".format(model_loss))"
   ]
  },
  {
   "cell_type": "code",
   "execution_count": 617,
   "metadata": {},
   "outputs": [
    {
     "data": {
      "image/png": "[encoded data removed]",
      "text/plain": [
       "<Figure size 432x288 with 1 Axes>"
      ]
     },
     "metadata": {
      "needs_background": "light"
     },
     "output_type": "display_data"
    }
   ],
   "source": [
    "from matplotlib import pyplot as plt\n",
    "plt.plot(history.history['acc'])\n",
    "plt.plot(history.history['val_acc'])\n",
    "plt.title('model accuracy')\n",
    "plt.ylabel('accuracy')\n",
    "plt.xlabel('epoch')\n",
    "plt.legend(['train', 'val'], loc='upper left')\n",
    "plt.show()"
   ]
  },
  {
   "cell_type": "code",
   "execution_count": 561,
   "metadata": {
    "id": "wWoMzeMPdxM6"
   },
   "outputs": [],
   "source": [
    "\n",
    "import numpy as np\n",
    "import tensorflow as tf\n",
    "from tensorflow.keras import Model\n",
    "from tensorflow.keras.layers import Dense\n",
    "from tensorflow.keras.losses import SparseCategoricalCrossentropy, BinaryCrossentropy\n",
    "from tensorflow.keras.metrics import sparse_categorical_accuracy, binary_accuracy, binary_crossentropy\n",
    "from tensorflow.keras.optimizers import Adam\n",
    "from tensorflow.keras.regularizers import l2\n",
    "\n",
    "from spektral.layers import GCNConv, GlobalSumPool\n",
    "from spektral.layers.ops import sp_matrix_to_sp_tensor\n",
    "from sklearn.utils.class_weight import compute_class_weight\n"
   ]
  },
  {
   "cell_type": "markdown",
   "metadata": {},
   "source": [
    "# Train Model\n",
    "- Use batch loader to train the model else it fails due to huge memory usage\n",
    "- Class Balancing is done by computing Weight based on class."
   ]
  },
  {
   "cell_type": "code",
   "execution_count": 564,
   "metadata": {
    "colab": {
     "base_uri": "https://localhost:8080/"
    },
    "id": "sdww4jrBwSPb",
    "outputId": "77782094-c8aa-4e6c-e71c-84422d1c99a5"
   },
   "outputs": [
    {
     "name": "stdout",
     "output_type": "stream",
     "text": [
      "WARNING:tensorflow:5 out of the last 5 calls to <function train_on_batch at 0x7fe4b50fb158> triggered tf.function retracing. Tracing is expensive and the excessive number of tracings could be due to (1) creating @tf.function repeatedly in a loop, (2) passing tensors with different shapes, (3) passing Python objects instead of tensors. For (1), please define your @tf.function outside of the loop. For (2), @tf.function has experimental_relax_shapes=True option that relaxes argument shapes that can avoid unnecessary retracing. For (3), please refer to https://www.tensorflow.org/guide/function#controlling_retracing and https://www.tensorflow.org/api_docs/python/tf/function for  more details.\n",
      "WARNING:tensorflow:6 out of the last 6 calls to <function train_on_batch at 0x7fe4b50fb158> triggered tf.function retracing. Tracing is expensive and the excessive number of tracings could be due to (1) creating @tf.function repeatedly in a loop, (2) passing tensors with different shapes, (3) passing Python objects instead of tensors. For (1), please define your @tf.function outside of the loop. For (2), @tf.function has experimental_relax_shapes=True option that relaxes argument shapes that can avoid unnecessary retracing. For (3), please refer to https://www.tensorflow.org/guide/function#controlling_retracing and https://www.tensorflow.org/api_docs/python/tf/function for  more details.\n",
      "WARNING:tensorflow:7 out of the last 7 calls to <function train_on_batch at 0x7fe4b50fb158> triggered tf.function retracing. Tracing is expensive and the excessive number of tracings could be due to (1) creating @tf.function repeatedly in a loop, (2) passing tensors with different shapes, (3) passing Python objects instead of tensors. For (1), please define your @tf.function outside of the loop. For (2), @tf.function has experimental_relax_shapes=True option that relaxes argument shapes that can avoid unnecessary retracing. For (3), please refer to https://www.tensorflow.org/guide/function#controlling_retracing and https://www.tensorflow.org/api_docs/python/tf/function for  more details.\n",
      "Epoch:   6 | Train loss: 0.4960, acc: 0.5299 | Valid loss: 0.3914, acc: 0.6494 | Test loss: 0.3637, acc: 0.6810\n",
      "Epoch:  13 | Train loss: 0.4966, acc: 0.5292 | Valid loss: 0.3914, acc: 0.6494 | Test loss: 0.3637, acc: 0.6810\n",
      "Epoch:  20 | Train loss: 0.4949, acc: 0.5311 | Valid loss: 0.3950, acc: 0.6452 | Test loss: 0.3637, acc: 0.6810\n",
      "Epoch:  27 | Train loss: 0.4951, acc: 0.5309 | Valid loss: 0.4010, acc: 0.6384 | Test loss: 0.3637, acc: 0.6810\n",
      "Epoch:  34 | Train loss: 0.4932, acc: 0.5331 | Valid loss: 0.4019, acc: 0.6373 | Test loss: 0.3637, acc: 0.6810\n",
      "Epoch:  41 | Train loss: 0.4934, acc: 0.5329 | Valid loss: 0.4060, acc: 0.6326 | Test loss: 0.3637, acc: 0.6810\n",
      "Epoch:  48 | Train loss: 0.4955, acc: 0.5305 | Valid loss: 0.4106, acc: 0.6274 | Test loss: 0.3637, acc: 0.6810\n",
      "Epoch:  55 | Train loss: 0.4942, acc: 0.5320 | Valid loss: 0.4116, acc: 0.6263 | Test loss: 0.3637, acc: 0.6810\n",
      "Epoch:  62 | Train loss: 0.4923, acc: 0.5341 | Valid loss: 0.4056, acc: 0.6331 | Test loss: 0.3637, acc: 0.6810\n",
      "Epoch:  69 | Train loss: 0.4905, acc: 0.5362 | Valid loss: 0.4079, acc: 0.6305 | Test loss: 0.3637, acc: 0.6810\n",
      "Early stopping\n",
      "Epoch:  76 | Train loss: 0.4864, acc: 0.5408 | Valid loss: 0.4070, acc: 0.6316 | Test loss: 0.3637, acc: 0.6810\n",
      "Epoch:  83 | Train loss: 0.4852, acc: 0.5423 | Valid loss: 0.3978, acc: 0.6420 | Test loss: 0.3637, acc: 0.6810\n",
      "Epoch:  90 | Train loss: 0.4807, acc: 0.5474 | Valid loss: 0.3767, acc: 0.6661 | Test loss: 0.3795, acc: 0.6628\n",
      "Epoch:  97 | Train loss: 0.4773, acc: 0.5512 | Valid loss: 0.3780, acc: 0.6646 | Test loss: 0.3795, acc: 0.6628\n",
      "Epoch: 104 | Train loss: 0.4653, acc: 0.5649 | Valid loss: 0.3684, acc: 0.6756 | Test loss: 0.3442, acc: 0.7032\n",
      "Epoch: 111 | Train loss: 0.4598, acc: 0.5712 | Valid loss: 0.3202, acc: 0.7306 | Test loss: 0.3123, acc: 0.7397\n",
      "Epoch: 118 | Train loss: 0.4517, acc: 0.5804 | Valid loss: 0.3184, acc: 0.7327 | Test loss: 0.3050, acc: 0.7479\n",
      "Epoch: 125 | Train loss: 0.4468, acc: 0.5861 | Valid loss: 0.3156, acc: 0.7358 | Test loss: 0.3004, acc: 0.7532\n",
      "Epoch: 132 | Train loss: 0.4450, acc: 0.5882 | Valid loss: 0.3009, acc: 0.7526 | Test loss: 0.2717, acc: 0.7859\n",
      "Epoch: 139 | Train loss: 0.4436, acc: 0.5897 | Valid loss: 0.2564, acc: 0.8035 | Test loss: 0.2112, acc: 0.8551\n",
      "Epoch: 146 | Train loss: 0.4308, acc: 0.6044 | Valid loss: 0.2279, acc: 0.8360 | Test loss: 0.2021, acc: 0.8655\n",
      "Epoch: 153 | Train loss: 0.4150, acc: 0.6223 | Valid loss: 0.2229, acc: 0.8417 | Test loss: 0.2021, acc: 0.8655\n",
      "Epoch: 160 | Train loss: 0.4179, acc: 0.6191 | Valid loss: 0.2224, acc: 0.8422 | Test loss: 0.2021, acc: 0.8655\n",
      "Epoch: 167 | Train loss: 0.4170, acc: 0.6201 | Valid loss: 0.2119, acc: 0.8543 | Test loss: 0.2021, acc: 0.8655\n",
      "Epoch: 174 | Train loss: 0.4092, acc: 0.6290 | Valid loss: 0.2270, acc: 0.8370 | Test loss: 0.2021, acc: 0.8655\n",
      "Epoch: 181 | Train loss: 0.4251, acc: 0.6109 | Valid loss: 0.2353, acc: 0.8276 | Test loss: 0.2021, acc: 0.8655\n",
      "Epoch: 188 | Train loss: 0.4172, acc: 0.6198 | Valid loss: 0.2344, acc: 0.8286 | Test loss: 0.2021, acc: 0.8655\n",
      "Epoch: 195 | Train loss: 0.4058, acc: 0.6328 | Valid loss: 0.2362, acc: 0.8265 | Test loss: 0.2021, acc: 0.8655\n",
      "Epoch: 202 | Train loss: 0.4066, acc: 0.6320 | Valid loss: 0.2339, acc: 0.8291 | Test loss: 0.2021, acc: 0.8655\n",
      "Epoch: 209 | Train loss: 0.3871, acc: 0.6542 | Valid loss: 0.2334, acc: 0.8297 | Test loss: 0.2021, acc: 0.8655\n",
      "Epoch: 216 | Train loss: 0.3583, acc: 0.6871 | Valid loss: 0.8068, acc: 0.1751 | Test loss: 0.2021, acc: 0.8655\n",
      "Epoch: 223 | Train loss: 0.4801, acc: 0.5480 | Valid loss: 0.8421, acc: 0.1347 | Test loss: 0.2021, acc: 0.8655\n",
      "Epoch: 230 | Train loss: 0.4241, acc: 0.6120 | Valid loss: 0.8421, acc: 0.1347 | Test loss: 0.2021, acc: 0.8655\n",
      "Early stopping\n",
      "Epoch: 237 | Train loss: 0.3408, acc: 0.7071 | Valid loss: 0.8421, acc: 0.1347 | Test loss: 0.2021, acc: 0.8655\n",
      "Epoch: 244 | Train loss: 0.3368, acc: 0.7116 | Valid loss: 0.8421, acc: 0.1347 | Test loss: 0.2021, acc: 0.8655\n",
      "Epoch: 251 | Train loss: 0.3438, acc: 0.7037 | Valid loss: 0.8421, acc: 0.1347 | Test loss: 0.2021, acc: 0.8655\n",
      "Epoch: 258 | Train loss: 0.3436, acc: 0.7039 | Valid loss: 0.8421, acc: 0.1347 | Test loss: 0.2021, acc: 0.8655\n",
      "Epoch: 265 | Train loss: 0.3437, acc: 0.7037 | Valid loss: 0.8421, acc: 0.1347 | Test loss: 0.2021, acc: 0.8655\n",
      "Epoch: 272 | Train loss: 0.3451, acc: 0.7022 | Valid loss: 0.8421, acc: 0.1347 | Test loss: 0.2021, acc: 0.8655\n",
      "Epoch: 279 | Train loss: 0.3446, acc: 0.7028 | Valid loss: 0.8421, acc: 0.1347 | Test loss: 0.2021, acc: 0.8655\n",
      "Epoch: 286 | Train loss: 0.3421, acc: 0.7056 | Valid loss: 0.8421, acc: 0.1347 | Test loss: 0.2021, acc: 0.8655\n",
      "Epoch: 293 | Train loss: 0.3427, acc: 0.7049 | Valid loss: 0.8421, acc: 0.1347 | Test loss: 0.2021, acc: 0.8655\n",
      "Epoch: 300 | Train loss: 0.4446, acc: 0.5886 | Valid loss: 0.8421, acc: 0.1347 | Test loss: 0.2021, acc: 0.8655\n",
      "Epoch: 307 | Train loss: 0.4517, acc: 0.5805 | Valid loss: 0.8421, acc: 0.1347 | Test loss: 0.2021, acc: 0.8655\n",
      "Epoch: 314 | Train loss: 0.4592, acc: 0.5719 | Valid loss: 0.8421, acc: 0.1347 | Test loss: 0.2021, acc: 0.8655\n",
      "Epoch: 321 | Train loss: 0.4657, acc: 0.5644 | Valid loss: 0.8421, acc: 0.1347 | Test loss: 0.2021, acc: 0.8655\n",
      "Epoch: 328 | Train loss: 0.4625, acc: 0.5682 | Valid loss: 0.8421, acc: 0.1347 | Test loss: 0.2021, acc: 0.8655\n",
      "Epoch: 335 | Train loss: 0.4664, acc: 0.5637 | Valid loss: 0.8421, acc: 0.1347 | Test loss: 0.2021, acc: 0.8655\n",
      "Epoch: 342 | Train loss: 0.4687, acc: 0.5611 | Valid loss: 0.8421, acc: 0.1347 | Test loss: 0.2021, acc: 0.8655\n",
      "Epoch: 349 | Train loss: 0.4640, acc: 0.5664 | Valid loss: 0.8421, acc: 0.1347 | Test loss: 0.2021, acc: 0.8655\n",
      "Epoch: 356 | Train loss: 0.4615, acc: 0.5692 | Valid loss: 0.8421, acc: 0.1347 | Test loss: 0.2021, acc: 0.8655\n",
      "Epoch: 363 | Train loss: 0.4606, acc: 0.5703 | Valid loss: 0.8421, acc: 0.1347 | Test loss: 0.2021, acc: 0.8655\n",
      "Epoch: 370 | Train loss: 0.4615, acc: 0.5693 | Valid loss: 0.8421, acc: 0.1347 | Test loss: 0.2021, acc: 0.8655\n",
      "Epoch: 377 | Train loss: 0.4598, acc: 0.5712 | Valid loss: 0.8421, acc: 0.1347 | Test loss: 0.2021, acc: 0.8655\n",
      "Epoch: 384 | Train loss: 0.4607, acc: 0.5702 | Valid loss: 0.8421, acc: 0.1347 | Test loss: 0.2021, acc: 0.8655\n"
     ]
    },
    {
     "name": "stdout",
     "output_type": "stream",
     "text": [
      "Epoch: 391 | Train loss: 0.4636, acc: 0.5668 | Valid loss: 0.8421, acc: 0.1347 | Test loss: 0.2021, acc: 0.8655\n",
      "Epoch: 398 | Train loss: 0.4602, acc: 0.5707 | Valid loss: 0.8421, acc: 0.1347 | Test loss: 0.2021, acc: 0.8655\n",
      "Epoch: 405 | Train loss: 0.4604, acc: 0.5705 | Valid loss: 0.8412, acc: 0.1357 | Test loss: 0.2021, acc: 0.8655\n",
      "Epoch: 412 | Train loss: 0.4616, acc: 0.5692 | Valid loss: 0.8412, acc: 0.1357 | Test loss: 0.2021, acc: 0.8655\n",
      "Epoch: 419 | Train loss: 0.4605, acc: 0.5705 | Valid loss: 0.8398, acc: 0.1373 | Test loss: 0.2021, acc: 0.8655\n",
      "Epoch: 426 | Train loss: 0.4599, acc: 0.5711 | Valid loss: 0.8371, acc: 0.1405 | Test loss: 0.2021, acc: 0.8655\n",
      "Epoch: 433 | Train loss: 0.4614, acc: 0.5694 | Valid loss: 0.8233, acc: 0.1562 | Test loss: 0.2021, acc: 0.8655\n",
      "Epoch: 440 | Train loss: 0.4617, acc: 0.5691 | Valid loss: 0.8054, acc: 0.1766 | Test loss: 0.2021, acc: 0.8655\n",
      "Epoch: 447 | Train loss: 0.4619, acc: 0.5688 | Valid loss: 0.8004, acc: 0.1824 | Test loss: 0.2021, acc: 0.8655\n",
      "Epoch: 454 | Train loss: 0.4597, acc: 0.5713 | Valid loss: 0.7870, acc: 0.1976 | Test loss: 0.2021, acc: 0.8655\n",
      "Epoch: 461 | Train loss: 0.4625, acc: 0.5681 | Valid loss: 0.7779, acc: 0.2081 | Test loss: 0.2021, acc: 0.8655\n",
      "Epoch: 468 | Train loss: 0.4601, acc: 0.5708 | Valid loss: 0.7636, acc: 0.2243 | Test loss: 0.2021, acc: 0.8655\n",
      "Epoch: 475 | Train loss: 0.4601, acc: 0.5709 | Valid loss: 0.7421, acc: 0.2490 | Test loss: 0.2021, acc: 0.8655\n",
      "Epoch: 482 | Train loss: 0.4616, acc: 0.5692 | Valid loss: 0.7361, acc: 0.2558 | Test loss: 0.2021, acc: 0.8655\n",
      "Epoch: 489 | Train loss: 0.4581, acc: 0.5731 | Valid loss: 0.7292, acc: 0.2636 | Test loss: 0.2021, acc: 0.8655\n",
      "Epoch: 496 | Train loss: 0.4611, acc: 0.5697 | Valid loss: 0.7265, acc: 0.2668 | Test loss: 0.2021, acc: 0.8655\n",
      "Epoch: 503 | Train loss: 0.4627, acc: 0.5679 | Valid loss: 0.7219, acc: 0.2720 | Test loss: 0.2021, acc: 0.8655\n",
      "Epoch: 510 | Train loss: 0.4605, acc: 0.5705 | Valid loss: 0.7141, acc: 0.2809 | Test loss: 0.2021, acc: 0.8655\n",
      "Epoch: 517 | Train loss: 0.4592, acc: 0.5719 | Valid loss: 0.7067, acc: 0.2893 | Test loss: 0.2021, acc: 0.8655\n",
      "Epoch: 524 | Train loss: 0.4594, acc: 0.5717 | Valid loss: 0.6888, acc: 0.3097 | Test loss: 0.2021, acc: 0.8655\n",
      "Epoch: 531 | Train loss: 0.4588, acc: 0.5724 | Valid loss: 0.6649, acc: 0.3370 | Test loss: 0.2021, acc: 0.8655\n",
      "Epoch: 538 | Train loss: 0.4615, acc: 0.5692 | Valid loss: 0.6383, acc: 0.3674 | Test loss: 0.2021, acc: 0.8655\n",
      "Epoch: 545 | Train loss: 0.4574, acc: 0.5739 | Valid loss: 0.5869, acc: 0.4261 | Test loss: 0.2021, acc: 0.8655\n",
      "Epoch: 552 | Train loss: 0.4605, acc: 0.5704 | Valid loss: 0.5699, acc: 0.4455 | Test loss: 0.2021, acc: 0.8655\n",
      "Epoch: 559 | Train loss: 0.4610, acc: 0.5699 | Valid loss: 0.5580, acc: 0.4591 | Test loss: 0.2021, acc: 0.8655\n",
      "Epoch: 566 | Train loss: 0.4618, acc: 0.5690 | Valid loss: 0.5295, acc: 0.4916 | Test loss: 0.2021, acc: 0.8655\n",
      "Epoch: 573 | Train loss: 0.4602, acc: 0.5708 | Valid loss: 0.4969, acc: 0.5288 | Test loss: 0.2021, acc: 0.8655\n",
      "Epoch: 580 | Train loss: 0.4599, acc: 0.5711 | Valid loss: 0.4721, acc: 0.5571 | Test loss: 0.2021, acc: 0.8655\n",
      "Epoch: 587 | Train loss: 0.4627, acc: 0.5679 | Valid loss: 0.4386, acc: 0.5954 | Test loss: 0.2021, acc: 0.8655\n",
      "Epoch: 594 | Train loss: 0.4588, acc: 0.5724 | Valid loss: 0.4042, acc: 0.6347 | Test loss: 0.2021, acc: 0.8655\n",
      "Epoch: 601 | Train loss: 0.4611, acc: 0.5697 | Valid loss: 0.3794, acc: 0.6630 | Test loss: 0.2021, acc: 0.8655\n",
      "Epoch: 608 | Train loss: 0.4312, acc: 0.6038 | Valid loss: 0.4607, acc: 0.5702 | Test loss: 0.2021, acc: 0.8655\n",
      "Epoch: 615 | Train loss: 0.4012, acc: 0.6382 | Valid loss: 0.6291, acc: 0.3779 | Test loss: 0.2021, acc: 0.8655\n",
      "Epoch: 622 | Train loss: 0.3141, acc: 0.7376 | Valid loss: 0.8329, acc: 0.1452 | Test loss: 0.2021, acc: 0.8655\n",
      "Epoch: 629 | Train loss: 0.2984, acc: 0.7555 | Valid loss: 0.8394, acc: 0.1378 | Test loss: 0.2021, acc: 0.8655\n",
      "Epoch: 636 | Train loss: 0.3094, acc: 0.7430 | Valid loss: 0.8398, acc: 0.1373 | Test loss: 0.2021, acc: 0.8655\n",
      "Epoch: 643 | Train loss: 0.3208, acc: 0.7299 | Valid loss: 0.8394, acc: 0.1378 | Test loss: 0.2021, acc: 0.8655\n",
      "Epoch: 650 | Train loss: 0.3266, acc: 0.7234 | Valid loss: 0.8215, acc: 0.1583 | Test loss: 0.2021, acc: 0.8655\n",
      "Epoch: 657 | Train loss: 0.3262, acc: 0.7237 | Valid loss: 0.7962, acc: 0.1871 | Test loss: 0.2021, acc: 0.8655\n",
      "Epoch: 664 | Train loss: 0.3260, acc: 0.7240 | Valid loss: 0.7806, acc: 0.2049 | Test loss: 0.2021, acc: 0.8655\n",
      "Epoch: 671 | Train loss: 0.3269, acc: 0.7230 | Valid loss: 0.7535, acc: 0.2358 | Test loss: 0.2021, acc: 0.8655\n",
      "Epoch: 678 | Train loss: 0.3316, acc: 0.7176 | Valid loss: 0.7030, acc: 0.2935 | Test loss: 0.2021, acc: 0.8655\n",
      "Epoch: 685 | Train loss: 0.3245, acc: 0.7257 | Valid loss: 0.6750, acc: 0.3255 | Test loss: 0.2021, acc: 0.8655\n",
      "Epoch: 692 | Train loss: 0.3279, acc: 0.7218 | Valid loss: 0.6402, acc: 0.3653 | Test loss: 0.2021, acc: 0.8655\n",
      "Epoch: 699 | Train loss: 0.3301, acc: 0.7193 | Valid loss: 0.6030, acc: 0.4078 | Test loss: 0.2021, acc: 0.8655\n",
      "Training Completed!!!!\n"
     ]
    }
   ],
   "source": [
    "optimizer = Adam()\n",
    "# loss_fn = SparseCategoricalCrossentropy()\n",
    "# loss_fn = BinaryCrossentropy()\n",
    "loss_fn = binary_crossentropy\n",
    "loader_tr, loader_va, loader_te = load_tr_data(epochs)\n",
    "from focal_loss import BinaryFocalLoss\n",
    "focal_loss_fn = BinaryFocalLoss(gamma=0.9999, pos_weight=1)\n",
    "# def input_mask(target):\n",
    "#     minimum = tf.math.minimum(tf.reduce_sum(tf.dtypes.cast(target == 0, tf.int32)), tf.reduce_sum(tf.dtypes.cast(target == 1, tf.int32)))\n",
    "#     zeroes_index = tf.random.shuffle(tf.where(target == 0)[:,0])[:minimum]\n",
    "#     ones_index = tf.random.shuffle(tf.where(target == 1)[:,0])[:minimum]\n",
    "    \n",
    "#     stacked_inp = tf.reshape(tf.stack([zeroes_index, ones_index]), (-1,1))\n",
    "#     zeros_stack = tf.reshape(tf.stack([stacked_inp, tf.zeros((minimum*2,1), dtype='int64')], axis=1), (-1,2))\n",
    "#     sparsed_data = tf.SparseTensor(zeros_stack, tf.ones((minimum*2, )), target.shape)\n",
    "#     return tf.sparse.to_dense(tf.sparse.reorder(sparsed_data), default_value = 0. )\n",
    "\n",
    "def masked_loss_and_accuracy(target, predictions):\n",
    "#     values_keep = tf.gather( logits[0], idx_keep )\n",
    "#     loss = loss_fn(target, predictions)\n",
    "#     minimum = tf.math.minimum(tf.reduce_sum(tf.dtypes.cast(target == 0, tf.int32)), tf.reduce_sum(tf.dtypes.cast(target == 1, tf.int32)))\n",
    "#     zeroes_index = tf.random.shuffle(tf.where(target == 0)[:,0])\n",
    "#     ones_index = tf.random.shuffle(tf.where(target == 1)[:,0])\n",
    "#     loss_zeroes =  tf.reduce_mean(tf.gather(loss, zeroes_index))\n",
    "#     loss_ones = tf.reduce_mean(tf.gather(loss, ones_index))\n",
    "    \n",
    "#     weight_for_0 = tf.cast((1 / tf.shape(zeroes_index)[0])*(tf.cast(tf.shape(target)[0], 'float64'))/2.0, 'float32')\n",
    "#     weight_for_1 = tf.cast((1 / tf.shape(ones_index)[0])*(tf.cast(tf.shape(target)[0], 'float64'))/2.0, 'float32')\n",
    "\n",
    "# #     pdb.set_trace()\n",
    "#     loss = (weight_for_0 * loss_zeroes * 0.6 +  weight_for_1 * loss_ones * 0.4)\n",
    "    loss = focal_loss_fn(target, predictions)\n",
    "#     loss = tf.reduce_mean(tf.multiply(loss, mask))\n",
    "    bin_acc = binary_accuracy(target, predictions)\n",
    "    acc = tf.reduce_mean(bin_acc)\n",
    "    return loss, acc\n",
    "\n",
    "# Training function\n",
    "@tf.function\n",
    "def train_on_batch(inputs, target):\n",
    "    with tf.GradientTape() as tape:\n",
    "        predictions = model(inputs[:-1], training=True)\n",
    "        loss, acc = masked_loss_and_accuracy(target, predictions)\n",
    "        loss = loss + sum(model.losses)\n",
    "    \n",
    "    gradients = tape.gradient(loss, model.trainable_variables)\n",
    "    optimizer.apply_gradients(zip(gradients, model.trainable_variables))\n",
    "    return loss, acc\n",
    "\n",
    "\n",
    "# Evaluation function\n",
    "def evaluate(loader):\n",
    "    step = 0\n",
    "    results = []\n",
    "    for batch in loader:\n",
    "        step += 1\n",
    "        inputs, target = batch\n",
    "        predictions = model(inputs[:-1], training=False)\n",
    "        loss, acc = masked_loss_and_accuracy(target, predictions)\n",
    "        results.append((loss, acc, len(target)))  # Keep track of batch size\n",
    "        if step == loader.steps_per_epoch:\n",
    "            results = np.array(results)\n",
    "            return np.average(results[:, :-1], 0, weights=results[:, -1])\n",
    "\n",
    "patience = 10\n",
    "# Setup training\n",
    "best_val_loss = 99999\n",
    "current_patience = patience\n",
    "step = 0\n",
    "\n",
    "# Training loop\n",
    "results_tr = []\n",
    "history = []\n",
    "for current_epoch, batch in enumerate(loader_tr):\n",
    "    step += 1\n",
    "\n",
    "    # Training step\n",
    "    inputs, target = batch\n",
    "    loss, acc = train_on_batch(inputs, target)\n",
    "    results_tr.append((loss, acc, len(target)))\n",
    "    if step == loader_tr.steps_per_epoch:\n",
    "        results_va = evaluate(loader_va)\n",
    "        if results_va[0] < best_val_loss:\n",
    "            best_val_loss = results_va[0]\n",
    "            current_patience = patience\n",
    "            results_te = evaluate(loader_te)\n",
    "        else:\n",
    "            current_patience -= 1\n",
    "            if current_patience == 0:\n",
    "                print(\"Early stopping\")\n",
    "#                 break\n",
    "\n",
    "        # Print results\n",
    "        results_tr = np.array(results_tr)\n",
    "        results_tr = np.average(results_tr[:, :-1], 0, weights=results_tr[:, -1])\n",
    "        print(\n",
    "            \"Epoch: {:3d} | \"\n",
    "            \"Train loss: {:.4f}, acc: {:.4f} | \"\n",
    "            \"Valid loss: {:.4f}, acc: {:.4f} | \"\n",
    "            \"Test loss: {:.4f}, acc: {:.4f}\".format(\n",
    "                current_epoch, *results_tr, *results_va, *results_te\n",
    "            )\n",
    "        )\n",
    "        history.append([results_tr[0], results_va[0]])\n",
    "        # Reset epoch\n",
    "        results_tr = []\n",
    "        step = 0\n",
    "        \n",
    "print(\"Training Completed!!!!\")"
   ]
  },
  {
   "cell_type": "code",
   "execution_count": 565,
   "metadata": {},
   "outputs": [
    {
     "data": {
      "text/plain": [
       "<matplotlib.axes._subplots.AxesSubplot at 0x7fe4703d2978>"
      ]
     },
     "execution_count": 565,
     "metadata": {},
     "output_type": "execute_result"
    },
    {
     "data": {
      "image/png": "[encoded data removed]",
      "text/plain": [
       "<Figure size 432x288 with 1 Axes>"
      ]
     },
     "metadata": {
      "needs_background": "light"
     },
     "output_type": "display_data"
    }
   ],
   "source": [
    "# loss_history = list(map(lambda x: x.numpy(), history))\n",
    "# # loss_history\n",
    "df = pd.DataFrame(history, columns=['train loss', 'validation loss'])\n",
    "df.plot()"
   ]
  },
  {
   "cell_type": "code",
   "execution_count": 593,
   "metadata": {
    "colab": {
     "base_uri": "https://localhost:8080/"
    },
    "id": "vbilkFE24XSD",
    "outputId": "f1c78ac0-5b27-44da-a58d-760922064f7f"
   },
   "outputs": [
    {
     "name": "stdout",
     "output_type": "stream",
     "text": [
      "WARNING:tensorflow:11 out of the last 11 calls to <function Model.make_predict_function.<locals>.predict_function at 0x7fe5160151e0> triggered tf.function retracing. Tracing is expensive and the excessive number of tracings could be due to (1) creating @tf.function repeatedly in a loop, (2) passing tensors with different shapes, (3) passing Python objects instead of tensors. For (1), please define your @tf.function outside of the loop. For (2), @tf.function has experimental_relax_shapes=True option that relaxes argument shapes that can avoid unnecessary retracing. For (3), please refer to https://www.tensorflow.org/guide/function#controlling_retracing and https://www.tensorflow.org/api_docs/python/tf/function for  more details.\n",
      "GCN Classification Report: \n",
      "               precision    recall  f1-score   support\n",
      "\n",
      "         0.0       0.89      0.50      0.64      3134\n",
      "         1.0       0.12      0.54      0.20       406\n",
      "\n",
      "    accuracy                           0.51      3540\n",
      "   macro avg       0.51      0.52      0.42      3540\n",
      "weighted avg       0.81      0.51      0.59      3540\n",
      "\n"
     ]
    }
   ],
   "source": [
    "# Evaluate model\n",
    "from sklearn.metrics import classification_report\n",
    "\n",
    "X_te = dataset[4].x\n",
    "A_te = dataset[4].a\n",
    "y_te = dataset[4].y\n",
    "\n",
    "y_pred = model.predict([X_te, A_te, A_te], batch_size=X_te.shape[0])\n",
    "report = classification_report(y_te, (y_pred >= 0.5).astype(int))\n",
    "print('GCN Classification Report: \\n {}'.format(report))"
   ]
  },
  {
   "cell_type": "code",
   "execution_count": 594,
   "metadata": {},
   "outputs": [
    {
     "data": {
      "text/plain": [
       "1778"
      ]
     },
     "execution_count": 594,
     "metadata": {},
     "output_type": "execute_result"
    }
   ],
   "source": [
    "(y_pred >= 0.5).astype(int).sum()\n",
    "# y_te[59]"
   ]
  },
  {
   "cell_type": "markdown",
   "metadata": {},
   "source": [
    "# Classification Report"
   ]
  },
  {
   "cell_type": "code",
   "execution_count": 595,
   "metadata": {},
   "outputs": [
    {
     "name": "stdout",
     "output_type": "stream",
     "text": [
      "WARNING:tensorflow:11 out of the last 11 calls to <function Model.make_predict_function.<locals>.predict_function at 0x7fe5160151e0> triggered tf.function retracing. Tracing is expensive and the excessive number of tracings could be due to (1) creating @tf.function repeatedly in a loop, (2) passing tensors with different shapes, (3) passing Python objects instead of tensors. For (1), please define your @tf.function outside of the loop. For (2), @tf.function has experimental_relax_shapes=True option that relaxes argument shapes that can avoid unnecessary retracing. For (3), please refer to https://www.tensorflow.org/guide/function#controlling_retracing and https://www.tensorflow.org/api_docs/python/tf/function for  more details.\n",
      "GCN Classification Report: \n",
      "               precision    recall  f1-score   support\n",
      "\n",
      "         0.0       0.96      0.13      0.22      1846\n",
      "         1.0       0.16      0.97      0.28       318\n",
      "\n",
      "    accuracy                           0.25      2164\n",
      "   macro avg       0.56      0.55      0.25      2164\n",
      "weighted avg       0.84      0.25      0.23      2164\n",
      "\n"
     ]
    }
   ],
   "source": [
    "from sklearn.metrics import classification_report\n",
    "\n",
    "X_te = dataset[7].x\n",
    "A_te = dataset[7].a\n",
    "y_te = dataset[7].y\n",
    "\n",
    "y_pred = model.predict([X_te, A_te, A_te], batch_size=X_te.shape[0])\n",
    "report = classification_report(y_te, (y_pred >= 0.5).astype(int))\n",
    "print('GCN Classification Report: \\n {}'.format(report))"
   ]
  },
  {
   "cell_type": "code",
   "execution_count": 596,
   "metadata": {
    "colab": {
     "base_uri": "https://localhost:8080/"
    },
    "id": "9nxKznEH4ltT",
    "outputId": "e9cdb608-825d-4611-b2c8-f60932e3a0ae"
   },
   "outputs": [
    {
     "data": {
      "text/plain": [
       "1922"
      ]
     },
     "execution_count": 596,
     "metadata": {},
     "output_type": "execute_result"
    }
   ],
   "source": [
    "(y_pred >= 0.5).astype(int).sum()"
   ]
  },
  {
   "cell_type": "code",
   "execution_count": 618,
   "metadata": {},
   "outputs": [
    {
     "name": "stdout",
     "output_type": "stream",
     "text": [
      "WARNING:tensorflow:11 out of the last 11 calls to <function Model.make_predict_function.<locals>.predict_function at 0x7fe542c1dc80> triggered tf.function retracing. Tracing is expensive and the excessive number of tracings could be due to (1) creating @tf.function repeatedly in a loop, (2) passing tensors with different shapes, (3) passing Python objects instead of tensors. For (1), please define your @tf.function outside of the loop. For (2), @tf.function has experimental_relax_shapes=True option that relaxes argument shapes that can avoid unnecessary retracing. For (3), please refer to https://www.tensorflow.org/guide/function#controlling_retracing and https://www.tensorflow.org/api_docs/python/tf/function for  more details.\n",
      "GCN Classification Report: \n",
      "               precision    recall  f1-score   support\n",
      "\n",
      "         0.0       0.82      0.22      0.34      1651\n",
      "         1.0       0.12      0.70      0.21       257\n",
      "\n",
      "    accuracy                           0.28      1908\n",
      "   macro avg       0.47      0.46      0.28      1908\n",
      "weighted avg       0.73      0.28      0.33      1908\n",
      "\n"
     ]
    }
   ],
   "source": [
    "from sklearn.metrics import classification_report\n",
    "\n",
    "X_te = dataset[3].x\n",
    "A_te = dataset[3].a\n",
    "y_te = dataset[3].y\n",
    "\n",
    "y_pred = model.predict([X_te, A_te, A_te], batch_size=X_te.shape[0])\n",
    "report = classification_report(y_te, (y_pred >= 0.5).astype(int))\n",
    "print('GCN Classification Report: \\n {}'.format(report))"
   ]
  },
  {
   "cell_type": "code",
   "execution_count": 619,
   "metadata": {},
   "outputs": [
    {
     "data": {
      "text/plain": [
       "1470"
      ]
     },
     "execution_count": 619,
     "metadata": {},
     "output_type": "execute_result"
    }
   ],
   "source": [
    "(y_pred >= 0.5).astype(int).sum()"
   ]
  },
  {
   "cell_type": "code",
   "execution_count": 556,
   "metadata": {
    "id": "NT6z43I9MA2k"
   },
   "outputs": [
    {
     "data": {
      "image/png": "[encoded data removed]",
      "text/plain": [
       "<IPython.core.display.Image object>"
      ]
     },
     "execution_count": 556,
     "metadata": {},
     "output_type": "execute_result"
    }
   ],
   "source": [
    "from tensorflow.keras.utils import plot_model\n",
    "plot_model(model, show_shapes=True, show_layer_names=True)"
   ]
  },
  {
   "cell_type": "markdown",
   "metadata": {},
   "source": [
    "#  Fully-Connected Neural Networks "
   ]
  },
  {
   "cell_type": "markdown",
   "metadata": {},
   "source": [
    "## Building and Training FNN\n"
   ]
  },
  {
   "cell_type": "code",
   "execution_count": null,
   "metadata": {},
   "outputs": [],
   "source": [
    "optimizer = Adam(lr=1e-2)\n",
    "l2_reg = 5e-4\n",
    "epochs = 200\n",
    "\n",
    "#Compare with FNN\n",
    "#Construct the model\n",
    "model_fnn = Sequential()\n",
    "model_fnn.add(Dense(\n",
    "                    256,\n",
    "                    input_dim=X.shape[1],\n",
    "                    activation=tf.nn.relu,\n",
    "                    kernel_regularizer=tf.keras.regularizers.l2(l2_reg))\n",
    "             )\n",
    "model_fnn.add(Dropout(0.5))\n",
    "model_fnn.add(Dense(256, activation=tf.nn.relu))\n",
    "model_fnn.add(Dropout(0.5))\n",
    "model_fnn.add(Dense(num_classes, activation=tf.keras.activations.sigmoid))\n",
    "\n",
    "\n",
    "model_fnn.compile(optimizer=optimizer,\n",
    "              loss=focal_loss,\n",
    "              weighted_metrics=['acc'])\n",
    "\n",
    "\n",
    "#define TensorBoard\n",
    "tbCallBack_FNN = TensorBoard(\n",
    "    log_dir='./fnn_network',\n",
    ")\n",
    "\n",
    "#Train model\n",
    "validation_data_fnn = (X, labels_encoded, val_mask)\n",
    "model_fnn.fit(\n",
    "                X,labels_encoded,\n",
    "                sample_weight=train_mask,\n",
    "                epochs=epochs,\n",
    "                batch_size=N,\n",
    "                validation_data=validation_data_fnn,\n",
    "                shuffle=False,\n",
    "                callbacks=[\n",
    "                  EarlyStopping(patience=es_patience,  restore_best_weights=True),\n",
    "                  tbCallBack_FNN\n",
    "          ])"
   ]
  },
  {
   "cell_type": "code",
   "execution_count": 573,
   "metadata": {},
   "outputs": [],
   "source": [
    "# from sklearn.metrics import classification_report\n",
    "\n",
    "# X_te = dataset[3].x\n",
    "# A_te = dataset[3].a\n",
    "# y_te = dataset[3].y\n",
    "\n",
    "# y_pred = model_fnn.predict(X_te)\n",
    "# report = classification_report(y_te, (y_pred >= 0.5).astype(int))\n",
    "# print('FCNN Classification Report: \\n {}'.format(report))"
   ]
  },
  {
   "cell_type": "code",
   "execution_count": 574,
   "metadata": {},
   "outputs": [],
   "source": [
    "%load_ext tensorboard"
   ]
  },
  {
   "cell_type": "code",
   "execution_count": null,
   "metadata": {},
   "outputs": [],
   "source": []
  }
 ],
 "metadata": {
  "colab": {
   "collapsed_sections": [],
   "name": "DisjoingGraphs.ipynb",
   "provenance": []
  },
  "kernelspec": {
   "display_name": "Python 3",
   "language": "python",
   "name": "python3"
  },
  "language_info": {
   "codemirror_mode": {
    "name": "ipython",
    "version": 3
   },
   "file_extension": ".py",
   "mimetype": "text/x-python",
   "name": "python",
   "nbconvert_exporter": "python",
   "pygments_lexer": "ipython3",
   "version": "3.7.3"
  },
  "toc": {
   "base_numbering": 1,
   "nav_menu": {},
   "number_sections": true,
   "sideBar": true,
   "skip_h1_title": false,
   "title_cell": "Table of Contents",
   "title_sidebar": "Contents",
   "toc_cell": false,
   "toc_position": {},
   "toc_section_display": true,
   "toc_window_display": false
  }
 },
 "nbformat": 4,
 "nbformat_minor": 1
}
