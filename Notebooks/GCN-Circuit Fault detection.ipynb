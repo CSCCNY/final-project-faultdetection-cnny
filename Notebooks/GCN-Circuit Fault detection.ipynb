{
 "cells": [
  {
   "cell_type": "markdown",
   "metadata": {},
   "source": [
    "<h1> Circuit Node Classification using Graph Convolutional Networks </h1>"
   ]
  },
  {
   "cell_type": "code",
   "execution_count": 1,
   "metadata": {},
   "outputs": [],
   "source": [
    "#importing dependencies\n",
    "\n",
    "import numpy as np\n",
    "import os\n",
    "import networkx as nx\n",
    "from keras.utils import to_categorical\n",
    "from sklearn.preprocessing import LabelEncoder\n",
    "from sklearn.utils import shuffle\n",
    "from sklearn.metrics import classification_report\n",
    "\n",
    "from spektral.layers import GCNConv\n",
    "\n",
    "from tensorflow.keras.models import Model\n",
    "from tensorflow.keras.layers import Input, Dropout, Dense\n",
    "from tensorflow.keras import Sequential\n",
    "from tensorflow.keras.optimizers import Adam\n",
    "from tensorflow.keras.callbacks import TensorBoard, EarlyStopping\n",
    "import tensorflow as tf\n",
    "from tensorflow.keras.regularizers import l2\n",
    "\n",
    "from collections import Counter\n",
    "from sklearn.manifold import TSNE\n",
    "import matplotlib.pyplot as plt"
   ]
  },
  {
   "cell_type": "markdown",
   "metadata": {},
   "source": [
    "# parse the data"
   ]
  },
  {
   "cell_type": "code",
   "execution_count": 2,
   "metadata": {},
   "outputs": [
    {
     "name": "stdout",
     "output_type": "stream",
     "text": [
      "(6288, 6288)\n",
      "(6288, 4)\n",
      "X shape:  (6288, 4)\n",
      "\n",
      "Number of nodes (N):  6288\n",
      "\n",
      "Number of features (F) of each node:  4\n",
      "\n",
      "Categories:  {'ho', 'eo'}\n"
     ]
    }
   ],
   "source": [
    "import sys\n",
    "sys.path.append('../lib')\n",
    "from data_pre_processing import load_data\n",
    "sys.path.remove('../lib')\n",
    "A, X, labels = load_data('c6288', '../data/output')\n",
    "N = X.shape[0] #the number of nodes\n",
    "F = X.shape[1]\n",
    "num_classes = len(set(labels))\n",
    "print('X shape: ', X.shape)\n",
    "print('\\nNumber of nodes (N): ', N)\n",
    "print('\\nNumber of features (F) of each node: ', F)\n",
    "print('\\nCategories: ', set(labels))"
   ]
  },
  {
   "cell_type": "markdown",
   "metadata": {},
   "source": [
    "<h3> Training, validation, and test then set the mask</h3>"
   ]
  },
  {
   "cell_type": "code",
   "execution_count": 3,
   "metadata": {},
   "outputs": [],
   "source": [
    "def limit_data(labels,limit=20,val_num=500,test_num=1000):\n",
    "    '''\n",
    "    Get the index of train, validation, and test data\n",
    "    '''\n",
    "    label_counter = dict((l, 0) for l in labels)\n",
    "    train_idx = []\n",
    "\n",
    "    for i in range(len(labels)):\n",
    "        label = labels[i]\n",
    "        if label_counter[label]<limit:\n",
    "            #add the example to the training data\n",
    "            train_idx.append(i)\n",
    "            label_counter[label]+=1\n",
    "        \n",
    "        #exit the loop once we found 20 examples for each class\n",
    "        if all(count == limit for count in label_counter.values()):\n",
    "            break\n",
    "    \n",
    "    #get the indices that do not go to traning data\n",
    "    rest_idx = [x for x in range(len(labels)) if x not in train_idx]\n",
    "    #get the first val_num\n",
    "    val_idx = rest_idx[:val_num]\n",
    "    test_idx = rest_idx[val_num:(val_num+test_num)]\n",
    "    return train_idx, val_idx,test_idx\n",
    "\n",
    "\n",
    "train_idx,val_idx,test_idx = limit_data(labels)"
   ]
  },
  {
   "cell_type": "code",
   "execution_count": 4,
   "metadata": {},
   "outputs": [],
   "source": [
    "#set the mask\n",
    "train_mask = np.zeros((N,),dtype=bool)\n",
    "train_mask[train_idx] = True\n",
    "\n",
    "val_mask = np.zeros((N,),dtype=bool)\n",
    "val_mask[val_idx] = True\n",
    "\n",
    "test_mask = np.zeros((N,),dtype=bool)\n",
    "test_mask[test_idx] = True"
   ]
  },
  {
   "cell_type": "markdown",
   "metadata": {},
   "source": [
    "<h3>Show Data Distribution</h3>"
   ]
  },
  {
   "cell_type": "code",
   "execution_count": 5,
   "metadata": {},
   "outputs": [
    {
     "name": "stdout",
     "output_type": "stream",
     "text": [
      "All Data : \n",
      "Counter({'eo': 5442, 'ho': 846})\n",
      "Training Data: \n",
      "Counter({'eo': 20, 'ho': 20})\n",
      "Validation Data : \n",
      "Counter({'eo': 500})\n"
     ]
    }
   ],
   "source": [
    "print(\"All Data : \\n{}\".format(Counter(labels)))\n",
    "print(\"Training Data: \\n{}\".format(Counter([labels[i] for i in train_idx])))\n",
    "print(\"Validation Data : \\n{}\".format(Counter([labels[i] for i in val_idx])))"
   ]
  },
  {
   "cell_type": "markdown",
   "metadata": {},
   "source": [
    "<h3>Convert the labels to one hot encoding</h3>"
   ]
  },
  {
   "cell_type": "code",
   "execution_count": 6,
   "metadata": {},
   "outputs": [],
   "source": [
    "def encode_label(labels):\n",
    "    label_encoder = LabelEncoder()\n",
    "    labels = label_encoder.fit_transform(labels)\n",
    "    labels = to_categorical(labels)\n",
    "    return labels, label_encoder.classes_\n",
    "\n",
    "labels_encoded, classes = encode_label(labels)"
   ]
  },
  {
   "cell_type": "markdown",
   "metadata": {},
   "source": [
    "<h2> Building and Training Graph Convolutional Networks </h2>"
   ]
  },
  {
   "cell_type": "code",
   "execution_count": 7,
   "metadata": {},
   "outputs": [
    {
     "name": "stdout",
     "output_type": "stream",
     "text": [
      "Model: \"functional_1\"\n",
      "__________________________________________________________________________________________________\n",
      "Layer (type)                    Output Shape         Param #     Connected to                     \n",
      "==================================================================================================\n",
      "input_1 (InputLayer)            [(None, 4)]          0                                            \n",
      "__________________________________________________________________________________________________\n",
      "dropout (Dropout)               (None, 4)            0           input_1[0][0]                    \n",
      "__________________________________________________________________________________________________\n",
      "input_2 (InputLayer)            [(None, 6288)]       0                                            \n",
      "__________________________________________________________________________________________________\n",
      "gcn_conv (GCNConv)              (None, 16)           64          dropout[0][0]                    \n",
      "                                                                 input_2[0][0]                    \n",
      "__________________________________________________________________________________________________\n",
      "dropout_1 (Dropout)             (None, 16)           0           gcn_conv[0][0]                   \n",
      "__________________________________________________________________________________________________\n",
      "gcn_conv_1 (GCNConv)            (None, 2)            32          dropout_1[0][0]                  \n",
      "                                                                 input_2[0][0]                    \n",
      "==================================================================================================\n",
      "Total params: 96\n",
      "Trainable params: 96\n",
      "Non-trainable params: 0\n",
      "__________________________________________________________________________________________________\n"
     ]
    }
   ],
   "source": [
    "# Parameters\n",
    "channels = 16           # Number of channels in the first layer\n",
    "dropout = 0.5           # Dropout rate for the features\n",
    "l2_reg = 5e-4           # L2 regularization rate\n",
    "learning_rate = 1e-2    # Learning rate\n",
    "epochs = 200            # Number of training epochs\n",
    "es_patience = 10        # Patience for early stopping\n",
    "\n",
    "# Preprocessing operations\n",
    "A = GCNConv.preprocess(A).astype('f4')\n",
    "\n",
    "# Model definition\n",
    "X_in = Input(shape=(F, ))\n",
    "fltr_in = Input((N, ), sparse=True)\n",
    "\n",
    "dropout_1 = Dropout(dropout)(X_in)\n",
    "graph_conv_1 = GCNConv(channels,\n",
    "                         activation='relu',\n",
    "                         kernel_regularizer=l2(l2_reg),\n",
    "                         use_bias=False)([dropout_1, fltr_in])\n",
    "\n",
    "dropout_2 = Dropout(dropout)(graph_conv_1)\n",
    "graph_conv_2 = GCNConv(num_classes,\n",
    "                         activation='softmax',\n",
    "                         use_bias=False)([dropout_2, fltr_in])\n",
    "\n",
    "# Build model\n",
    "model = Model(inputs=[X_in, fltr_in], outputs=graph_conv_2)\n",
    "optimizer = Adam(lr=learning_rate)\n",
    "model.compile(optimizer=optimizer,\n",
    "              loss='categorical_crossentropy',\n",
    "              weighted_metrics=['acc'])\n",
    "model.summary()\n",
    "\n",
    "tbCallBack_GCN = tf.keras.callbacks.TensorBoard(\n",
    "    log_dir='./Tensorboard_GCN_cora',\n",
    ")\n",
    "callback_GCN = [tbCallBack_GCN]"
   ]
  },
  {
   "cell_type": "code",
   "execution_count": 8,
   "metadata": {},
   "outputs": [],
   "source": [
    "X = X.toarray()\n",
    "#A = A.toarray()"
   ]
  },
  {
   "cell_type": "code",
   "execution_count": 9,
   "metadata": {},
   "outputs": [
    {
     "name": "stdout",
     "output_type": "stream",
     "text": [
      "Epoch 1/200\n",
      "1/1 [==============================] - 1s 683ms/step - loss: 2.2563 - acc: 0.4750 - val_loss: 0.0031 - val_acc: 1.0000\n",
      "Epoch 2/200\n",
      "WARNING:tensorflow:From /Users/vedikasaravanan/opt/anaconda3/lib/python3.8/site-packages/tensorflow/python/ops/summary_ops_v2.py:1277: stop (from tensorflow.python.eager.profiler) is deprecated and will be removed after 2020-07-01.\n",
      "Instructions for updating:\n",
      "use `tf.profiler.experimental.stop` instead.\n",
      "1/1 [==============================] - 0s 38ms/step - loss: 1.4044 - acc: 0.5000 - val_loss: 0.0030 - val_acc: 1.0000\n",
      "Epoch 3/200\n",
      "1/1 [==============================] - 0s 34ms/step - loss: 1.7872 - acc: 0.5000 - val_loss: 0.0030 - val_acc: 1.0000\n",
      "Epoch 4/200\n",
      "1/1 [==============================] - 0s 37ms/step - loss: 1.2032 - acc: 0.5000 - val_loss: 0.0029 - val_acc: 1.0000\n",
      "Epoch 5/200\n",
      "1/1 [==============================] - 0s 36ms/step - loss: 1.3361 - acc: 0.4750 - val_loss: 0.0028 - val_acc: 1.0000\n",
      "Epoch 6/200\n",
      "1/1 [==============================] - 0s 37ms/step - loss: 0.5041 - acc: 0.4750 - val_loss: 0.0028 - val_acc: 1.0000\n",
      "Epoch 7/200\n",
      "1/1 [==============================] - 0s 35ms/step - loss: 0.8961 - acc: 0.3750 - val_loss: 0.0027 - val_acc: 1.0000\n",
      "Epoch 8/200\n",
      "1/1 [==============================] - 0s 35ms/step - loss: 0.4086 - acc: 0.4000 - val_loss: 0.0027 - val_acc: 1.0000\n",
      "Epoch 9/200\n",
      "1/1 [==============================] - 0s 38ms/step - loss: 0.4159 - acc: 0.5500 - val_loss: 0.0028 - val_acc: 1.0000\n",
      "Epoch 10/200\n",
      "1/1 [==============================] - 0s 37ms/step - loss: 0.1226 - acc: 0.5500 - val_loss: 0.0682 - val_acc: 0.3840\n",
      "Epoch 11/200\n",
      "1/1 [==============================] - 0s 40ms/step - loss: 0.2174 - acc: 0.5500 - val_loss: 2.3917 - val_acc: 0.0000e+00\n",
      "Epoch 12/200\n",
      "1/1 [==============================] - 0s 37ms/step - loss: 0.1443 - acc: 0.5500 - val_loss: 4.6270 - val_acc: 0.0000e+00\n",
      "Epoch 13/200\n",
      "1/1 [==============================] - 0s 34ms/step - loss: 0.0791 - acc: 0.7250 - val_loss: 6.5920 - val_acc: 0.0000e+00\n",
      "Epoch 14/200\n",
      "1/1 [==============================] - 0s 38ms/step - loss: 0.1351 - acc: 0.5250 - val_loss: 8.3095 - val_acc: 0.0000e+00\n",
      "Epoch 15/200\n",
      "1/1 [==============================] - 0s 39ms/step - loss: 0.1558 - acc: 0.4750 - val_loss: 9.8313 - val_acc: 0.0000e+00\n",
      "Epoch 16/200\n",
      "1/1 [==============================] - 0s 35ms/step - loss: 0.2084 - acc: 0.4250 - val_loss: 11.1651 - val_acc: 0.0000e+00\n",
      "Epoch 17/200\n",
      "1/1 [==============================] - 0s 37ms/step - loss: 0.2057 - acc: 0.4500 - val_loss: 12.3064 - val_acc: 0.0000e+00\n",
      "Epoch 18/200\n",
      "1/1 [==============================] - 0s 42ms/step - loss: 0.1083 - acc: 0.6000 - val_loss: 13.2102 - val_acc: 0.0000e+00\n"
     ]
    },
    {
     "data": {
      "text/plain": [
       "<tensorflow.python.keras.callbacks.History at 0x7fa5ad379fa0>"
      ]
     },
     "execution_count": 9,
     "metadata": {},
     "output_type": "execute_result"
    }
   ],
   "source": [
    "# Train model\n",
    "# X = X.toarray()\n",
    "# A = A.toarray()\n",
    "validation_data = ([X, A], labels_encoded, val_mask)\n",
    "model.fit([X, A],\n",
    "          labels_encoded,\n",
    "          sample_weight=train_mask,\n",
    "          epochs=epochs,\n",
    "          batch_size=N,\n",
    "          validation_data=validation_data,\n",
    "          shuffle=False,\n",
    "          callbacks=[\n",
    "              EarlyStopping(patience=es_patience,  restore_best_weights=True),\n",
    "              tbCallBack_GCN\n",
    "          ])"
   ]
  },
  {
   "cell_type": "code",
   "execution_count": 10,
   "metadata": {},
   "outputs": [
    {
     "name": "stdout",
     "output_type": "stream",
     "text": [
      "GCN Classification Report: \n",
      "               precision    recall  f1-score   support\n",
      "\n",
      "          eo       0.94      0.98      0.96       937\n",
      "          ho       0.00      0.00      0.00        63\n",
      "\n",
      "    accuracy                           0.92      1000\n",
      "   macro avg       0.47      0.49      0.48      1000\n",
      "weighted avg       0.88      0.92      0.90      1000\n",
      "\n"
     ]
    }
   ],
   "source": [
    "# Evaluate model\n",
    "X_te = X[test_mask]\n",
    "A_te = A[test_mask,:][:,test_mask]\n",
    "y_te = labels_encoded[test_mask]\n",
    "\n",
    "y_pred = model.predict([X_te, A_te], batch_size=N)\n",
    "report = classification_report(np.argmax(y_te,axis=1), np.argmax(y_pred,axis=1), target_names=classes)\n",
    "print('GCN Classification Report: \\n {}'.format(report))"
   ]
  },
  {
   "cell_type": "markdown",
   "metadata": {},
   "source": [
    "<h3> Get hidden layer representation for GCN </h3>"
   ]
  },
  {
   "cell_type": "code",
   "execution_count": 11,
   "metadata": {},
   "outputs": [],
   "source": [
    "layer_outputs = [layer.output for layer in model.layers]\n",
    "activation_model = Model(inputs=model.input, outputs=layer_outputs)\n",
    "activations = activation_model.predict([X,A],batch_size=N)\n",
    "\n",
    "#Get t-SNE Representation\n",
    "#get the hidden layer representation after the first GCN layer\n",
    "x_tsne = TSNE(n_components=2).fit_transform(activations[3]) "
   ]
  },
  {
   "cell_type": "code",
   "execution_count": 12,
   "metadata": {},
   "outputs": [
    {
     "data": {
      "image/png": "[encoded data removed]",
      "text/plain": [
       "<Figure size 720x720 with 1 Axes>"
      ]
     },
     "metadata": {
      "needs_background": "light"
     },
     "output_type": "display_data"
    }
   ],
   "source": [
    "def plot_tSNE(labels_encoded,x_tsne):\n",
    "    color_map = np.argmax(labels_encoded, axis=1)\n",
    "    plt.figure(figsize=(10,10))\n",
    "    for cl in range(num_classes):\n",
    "        indices = np.where(color_map==cl)\n",
    "        indices = indices[0]\n",
    "        plt.scatter(x_tsne[indices,0], x_tsne[indices, 1], label=cl)\n",
    "    plt.legend()\n",
    "    plt.show()\n",
    "    \n",
    "plot_tSNE(labels_encoded,x_tsne)"
   ]
  }
 ],
 "metadata": {
  "kernelspec": {
   "display_name": "Python 3",
   "language": "python",
   "name": "python3"
  },
  "language_info": {
   "codemirror_mode": {
    "name": "ipython",
    "version": 3
   },
   "file_extension": ".py",
   "mimetype": "text/x-python",
   "name": "python",
   "nbconvert_exporter": "python",
   "pygments_lexer": "ipython3",
   "version": "3.8.3"
  }
 },
 "nbformat": 4,
 "nbformat_minor": 2
}
