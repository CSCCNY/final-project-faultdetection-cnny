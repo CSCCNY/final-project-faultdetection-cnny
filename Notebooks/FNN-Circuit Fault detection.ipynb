{
 "cells": [
  {
   "cell_type": "markdown",
   "metadata": {},
   "source": [
    "<h1> Circuit Node Classification using Graph Convolutional Networks </h1>"
   ]
  },
  {
   "cell_type": "code",
   "execution_count": 1,
   "metadata": {},
   "outputs": [],
   "source": [
    "#importing dependencies\n",
    "\n",
    "import numpy as np\n",
    "import os\n",
    "import networkx as nx\n",
    "from keras.utils import to_categorical\n",
    "from sklearn.preprocessing import LabelEncoder\n",
    "from sklearn.utils import shuffle\n",
    "from sklearn.metrics import classification_report\n",
    "\n",
    "from spektral.layers import GCNConv\n",
    "\n",
    "from tensorflow.keras.models import Model\n",
    "from tensorflow.keras.layers import Input, Dropout, Dense\n",
    "from tensorflow.keras import Sequential\n",
    "from tensorflow.keras.optimizers import Adam\n",
    "from tensorflow.keras.callbacks import TensorBoard, EarlyStopping\n",
    "import tensorflow as tf\n",
    "from tensorflow.keras.regularizers import l2\n",
    "\n",
    "from collections import Counter\n",
    "from sklearn.manifold import TSNE\n",
    "import matplotlib.pyplot as plt"
   ]
  },
  {
   "cell_type": "markdown",
   "metadata": {},
   "source": [
    "# parse the data"
   ]
  },
  {
   "cell_type": "code",
   "execution_count": 2,
   "metadata": {},
   "outputs": [
    {
     "name": "stdout",
     "output_type": "stream",
     "text": [
      "(6288, 6288)\n",
      "(6288, 4)\n",
      "X shape:  (6288, 4)\n",
      "\n",
      "Number of nodes (N):  6288\n",
      "\n",
      "Number of features (F) of each node:  4\n",
      "\n",
      "Categories:  {'ho', 'eo'}\n"
     ]
    }
   ],
   "source": [
    "import sys\n",
    "sys.path.append('../lib')\n",
    "from data_pre_processing import load_data\n",
    "sys.path.remove('../lib')\n",
    "A, X, labels = load_data('c6288', '../data/output')\n",
    "N = X.shape[0] #the number of nodes\n",
    "F = X.shape[1]\n",
    "num_classes = len(set(labels))\n",
    "print('X shape: ', X.shape)\n",
    "print('\\nNumber of nodes (N): ', N)\n",
    "print('\\nNumber of features (F) of each node: ', F)\n",
    "print('\\nCategories: ', set(labels))"
   ]
  },
  {
   "cell_type": "markdown",
   "metadata": {},
   "source": [
    "<h3> Training, validation, and test then set the mask</h3>"
   ]
  },
  {
   "cell_type": "code",
   "execution_count": 3,
   "metadata": {},
   "outputs": [],
   "source": [
    "def limit_data(labels,limit=20,val_num=500,test_num=1000):\n",
    "    '''\n",
    "    Get the index of train, validation, and test data\n",
    "    '''\n",
    "    label_counter = dict((l, 0) for l in labels)\n",
    "    train_idx = []\n",
    "\n",
    "    for i in range(len(labels)):\n",
    "        label = labels[i]\n",
    "        if label_counter[label]<limit:\n",
    "            #add the example to the training data\n",
    "            train_idx.append(i)\n",
    "            label_counter[label]+=1\n",
    "        \n",
    "        #exit the loop once we found 20 examples for each class\n",
    "        if all(count == limit for count in label_counter.values()):\n",
    "            break\n",
    "    \n",
    "    #get the indices that do not go to traning data\n",
    "    rest_idx = [x for x in range(len(labels)) if x not in train_idx]\n",
    "    #get the first val_num\n",
    "    val_idx = rest_idx[:val_num]\n",
    "    test_idx = rest_idx[val_num:(val_num+test_num)]\n",
    "    return train_idx, val_idx,test_idx\n",
    "\n",
    "\n",
    "train_idx,val_idx,test_idx = limit_data(labels)"
   ]
  },
  {
   "cell_type": "code",
   "execution_count": 4,
   "metadata": {},
   "outputs": [],
   "source": [
    "#set the mask\n",
    "train_mask = np.zeros((N,),dtype=bool)\n",
    "train_mask[train_idx] = True\n",
    "\n",
    "val_mask = np.zeros((N,),dtype=bool)\n",
    "val_mask[val_idx] = True\n",
    "\n",
    "test_mask = np.zeros((N,),dtype=bool)\n",
    "test_mask[test_idx] = True"
   ]
  },
  {
   "cell_type": "markdown",
   "metadata": {},
   "source": [
    "<h3>Show Data Distribution</h3>"
   ]
  },
  {
   "cell_type": "code",
   "execution_count": 5,
   "metadata": {},
   "outputs": [
    {
     "name": "stdout",
     "output_type": "stream",
     "text": [
      "All Data : \n",
      "Counter({'eo': 5442, 'ho': 846})\n",
      "Training Data: \n",
      "Counter({'eo': 20, 'ho': 20})\n",
      "Validation Data : \n",
      "Counter({'eo': 500})\n"
     ]
    }
   ],
   "source": [
    "print(\"All Data : \\n{}\".format(Counter(labels)))\n",
    "print(\"Training Data: \\n{}\".format(Counter([labels[i] for i in train_idx])))\n",
    "print(\"Validation Data : \\n{}\".format(Counter([labels[i] for i in val_idx])))"
   ]
  },
  {
   "cell_type": "markdown",
   "metadata": {},
   "source": [
    "<h3>Convert the labels to one hot encoding</h3>"
   ]
  },
  {
   "cell_type": "code",
   "execution_count": 6,
   "metadata": {},
   "outputs": [],
   "source": [
    "def encode_label(labels):\n",
    "    label_encoder = LabelEncoder()\n",
    "    labels = label_encoder.fit_transform(labels)\n",
    "    labels = to_categorical(labels)\n",
    "    return labels, label_encoder.classes_\n",
    "\n",
    "labels_encoded, classes = encode_label(labels)"
   ]
  },
  {
   "cell_type": "markdown",
   "metadata": {},
   "source": [
    "<h2> Fully-Connected Neural Networks </h2>"
   ]
  },
  {
   "cell_type": "markdown",
   "metadata": {},
   "source": [
    "<h3>Building and Training FNN</h3>"
   ]
  },
  {
   "cell_type": "code",
   "execution_count": 7,
   "metadata": {},
   "outputs": [
    {
     "name": "stdout",
     "output_type": "stream",
     "text": [
      "Epoch 1/200\n",
      "1/1 [==============================] - 1s 639ms/step - loss: 0.1927 - acc: 0.5750 - val_loss: 33.0013 - val_acc: 0.0000e+00\n",
      "Epoch 2/200\n",
      "WARNING:tensorflow:From /Users/vedikasaravanan/opt/anaconda3/lib/python3.8/site-packages/tensorflow/python/ops/summary_ops_v2.py:1277: stop (from tensorflow.python.eager.profiler) is deprecated and will be removed after 2020-07-01.\n",
      "Instructions for updating:\n",
      "use `tf.profiler.experimental.stop` instead.\n",
      "1/1 [==============================] - 0s 33ms/step - loss: 0.1276 - acc: 0.5000 - val_loss: 45.5599 - val_acc: 0.0000e+00\n",
      "Epoch 3/200\n",
      "1/1 [==============================] - 0s 43ms/step - loss: 0.1860 - acc: 0.5000 - val_loss: 46.8256 - val_acc: 0.0000e+00\n",
      "Epoch 4/200\n",
      "1/1 [==============================] - 0s 40ms/step - loss: 0.1981 - acc: 0.5000 - val_loss: 40.9684 - val_acc: 0.0000e+00\n",
      "Epoch 5/200\n",
      "1/1 [==============================] - 0s 37ms/step - loss: 0.1781 - acc: 0.5000 - val_loss: 29.4239 - val_acc: 0.0000e+00\n",
      "Epoch 6/200\n",
      "1/1 [==============================] - 0s 44ms/step - loss: 0.1296 - acc: 0.5250 - val_loss: 14.0451 - val_acc: 0.0000e+00\n",
      "Epoch 7/200\n",
      "1/1 [==============================] - 0s 41ms/step - loss: 0.0910 - acc: 0.5000 - val_loss: 12.5455 - val_acc: 0.0000e+00\n",
      "Epoch 8/200\n",
      "1/1 [==============================] - 0s 35ms/step - loss: 0.1015 - acc: 0.5500 - val_loss: 13.7374 - val_acc: 0.0000e+00\n",
      "Epoch 9/200\n",
      "1/1 [==============================] - 0s 38ms/step - loss: 0.0518 - acc: 0.5750 - val_loss: 11.5286 - val_acc: 0.0020\n",
      "Epoch 10/200\n",
      "1/1 [==============================] - 0s 37ms/step - loss: 0.0483 - acc: 0.5750 - val_loss: 9.3529 - val_acc: 0.0020\n",
      "Epoch 11/200\n",
      "1/1 [==============================] - 0s 34ms/step - loss: 0.1141 - acc: 0.5500 - val_loss: 11.3535 - val_acc: 0.0020\n",
      "Epoch 12/200\n",
      "1/1 [==============================] - 0s 41ms/step - loss: 0.0581 - acc: 0.5750 - val_loss: 10.8640 - val_acc: 0.0020\n",
      "Epoch 13/200\n",
      "1/1 [==============================] - 0s 38ms/step - loss: 0.0715 - acc: 0.5000 - val_loss: 12.2933 - val_acc: 0.0020\n",
      "Epoch 14/200\n",
      "1/1 [==============================] - 0s 46ms/step - loss: 0.0442 - acc: 0.5250 - val_loss: 13.9784 - val_acc: 0.0020\n",
      "Epoch 15/200\n",
      "1/1 [==============================] - 0s 36ms/step - loss: 0.0372 - acc: 0.6000 - val_loss: 14.0329 - val_acc: 0.0020\n",
      "Epoch 16/200\n",
      "1/1 [==============================] - 0s 68ms/step - loss: 0.0499 - acc: 0.6000 - val_loss: 12.5218 - val_acc: 0.0020\n",
      "Epoch 17/200\n",
      "1/1 [==============================] - 0s 38ms/step - loss: 0.0495 - acc: 0.5750 - val_loss: 9.6182 - val_acc: 0.0060\n",
      "Epoch 18/200\n",
      "1/1 [==============================] - 0s 43ms/step - loss: 0.0322 - acc: 0.6500 - val_loss: 7.2959 - val_acc: 0.0080\n",
      "Epoch 19/200\n",
      "1/1 [==============================] - 0s 36ms/step - loss: 0.0464 - acc: 0.5750 - val_loss: 5.6818 - val_acc: 0.0120\n",
      "Epoch 20/200\n",
      "1/1 [==============================] - 0s 38ms/step - loss: 0.0704 - acc: 0.6750 - val_loss: 7.1153 - val_acc: 0.0080\n",
      "Epoch 21/200\n",
      "1/1 [==============================] - 0s 37ms/step - loss: 0.0877 - acc: 0.5750 - val_loss: 10.1524 - val_acc: 0.0060\n",
      "Epoch 22/200\n",
      "1/1 [==============================] - 0s 39ms/step - loss: 0.0428 - acc: 0.5750 - val_loss: 11.6808 - val_acc: 0.0020\n",
      "Epoch 23/200\n",
      "1/1 [==============================] - 0s 38ms/step - loss: 0.0363 - acc: 0.5500 - val_loss: 12.1103 - val_acc: 0.0020\n",
      "Epoch 24/200\n",
      "1/1 [==============================] - 0s 39ms/step - loss: 0.0376 - acc: 0.5750 - val_loss: 11.6485 - val_acc: 0.0020\n",
      "Epoch 25/200\n",
      "1/1 [==============================] - 0s 38ms/step - loss: 0.0363 - acc: 0.5750 - val_loss: 10.4415 - val_acc: 0.0020\n",
      "Epoch 26/200\n",
      "1/1 [==============================] - 0s 34ms/step - loss: 0.0333 - acc: 0.6000 - val_loss: 8.6480 - val_acc: 0.0060\n",
      "Epoch 27/200\n",
      "1/1 [==============================] - 0s 37ms/step - loss: 0.0301 - acc: 0.6250 - val_loss: 6.2478 - val_acc: 0.0060\n",
      "Epoch 28/200\n",
      "1/1 [==============================] - 0s 36ms/step - loss: 0.0184 - acc: 0.6250 - val_loss: 4.3419 - val_acc: 0.0160\n",
      "Epoch 29/200\n",
      "1/1 [==============================] - 0s 40ms/step - loss: 0.0235 - acc: 0.6500 - val_loss: 4.2917 - val_acc: 0.0160\n",
      "Epoch 30/200\n",
      "1/1 [==============================] - 0s 37ms/step - loss: 0.0237 - acc: 0.7500 - val_loss: 4.6717 - val_acc: 0.0120\n",
      "Epoch 31/200\n",
      "1/1 [==============================] - 0s 37ms/step - loss: 0.0134 - acc: 0.7250 - val_loss: 5.3682 - val_acc: 0.0060\n",
      "Epoch 32/200\n",
      "1/1 [==============================] - 0s 37ms/step - loss: 0.0279 - acc: 0.5750 - val_loss: 6.2468 - val_acc: 0.0060\n",
      "Epoch 33/200\n",
      "1/1 [==============================] - 0s 38ms/step - loss: 0.0199 - acc: 0.5750 - val_loss: 6.6320 - val_acc: 0.0060\n",
      "Epoch 34/200\n",
      "1/1 [==============================] - 0s 38ms/step - loss: 0.0182 - acc: 0.6000 - val_loss: 6.7155 - val_acc: 0.0060\n",
      "Epoch 35/200\n",
      "1/1 [==============================] - 0s 40ms/step - loss: 0.0176 - acc: 0.6000 - val_loss: 6.5118 - val_acc: 0.0060\n",
      "Epoch 36/200\n",
      "1/1 [==============================] - 0s 42ms/step - loss: 0.0246 - acc: 0.5750 - val_loss: 6.0041 - val_acc: 0.0060\n",
      "Epoch 37/200\n",
      "1/1 [==============================] - 0s 39ms/step - loss: 0.0152 - acc: 0.6250 - val_loss: 5.2896 - val_acc: 0.0060\n",
      "Epoch 38/200\n",
      "1/1 [==============================] - 0s 41ms/step - loss: 0.0137 - acc: 0.6000 - val_loss: 4.4043 - val_acc: 0.0060\n",
      "Epoch 39/200\n",
      "1/1 [==============================] - 0s 39ms/step - loss: 0.0139 - acc: 0.6500 - val_loss: 3.2934 - val_acc: 0.0160\n",
      "Epoch 40/200\n",
      "1/1 [==============================] - 0s 36ms/step - loss: 0.0096 - acc: 0.7250 - val_loss: 2.0438 - val_acc: 0.0440\n",
      "Epoch 41/200\n",
      "1/1 [==============================] - 0s 35ms/step - loss: 0.0137 - acc: 0.6750 - val_loss: 1.8541 - val_acc: 0.0500\n",
      "Epoch 42/200\n",
      "1/1 [==============================] - 0s 37ms/step - loss: 0.0068 - acc: 0.6750 - val_loss: 2.1088 - val_acc: 0.0400\n",
      "Epoch 43/200\n",
      "1/1 [==============================] - 0s 36ms/step - loss: 0.0081 - acc: 0.7500 - val_loss: 2.4247 - val_acc: 0.0240\n",
      "Epoch 44/200\n",
      "1/1 [==============================] - 0s 33ms/step - loss: 0.0066 - acc: 0.7000 - val_loss: 2.5575 - val_acc: 0.0240\n",
      "Epoch 45/200\n",
      "1/1 [==============================] - 0s 33ms/step - loss: 0.0067 - acc: 0.7750 - val_loss: 2.5592 - val_acc: 0.0200\n",
      "Epoch 46/200\n",
      "1/1 [==============================] - 0s 32ms/step - loss: 0.0079 - acc: 0.7000 - val_loss: 2.5423 - val_acc: 0.0240\n",
      "Epoch 47/200\n",
      "1/1 [==============================] - 0s 37ms/step - loss: 0.0068 - acc: 0.7500 - val_loss: 2.5782 - val_acc: 0.0240\n",
      "Epoch 48/200\n",
      "1/1 [==============================] - 0s 35ms/step - loss: 0.0130 - acc: 0.6250 - val_loss: 2.5532 - val_acc: 0.0240\n",
      "Epoch 49/200\n",
      "1/1 [==============================] - 0s 35ms/step - loss: 0.0060 - acc: 0.7500 - val_loss: 2.4413 - val_acc: 0.0240\n",
      "Epoch 50/200\n",
      "1/1 [==============================] - 0s 35ms/step - loss: 0.0054 - acc: 0.8250 - val_loss: 2.3447 - val_acc: 0.0360\n",
      "Epoch 51/200\n",
      "1/1 [==============================] - 0s 36ms/step - loss: 0.0082 - acc: 0.7000 - val_loss: 2.2791 - val_acc: 0.0360\n"
     ]
    },
    {
     "data": {
      "text/plain": [
       "<tensorflow.python.keras.callbacks.History at 0x7facd248f1f0>"
      ]
     },
     "execution_count": 7,
     "metadata": {},
     "output_type": "execute_result"
    }
   ],
   "source": [
    "es_patience = 10\n",
    "optimizer = Adam(lr=1e-2)\n",
    "l2_reg = 5e-4\n",
    "epochs = 200\n",
    "\n",
    "#Compare with FNN\n",
    "#Construct the model\n",
    "model_fnn = Sequential()\n",
    "model_fnn.add(Dense(\n",
    "                    128,\n",
    "                    input_dim=X.shape[1],\n",
    "                    activation=tf.nn.relu,\n",
    "                    kernel_regularizer=tf.keras.regularizers.l2(l2_reg))\n",
    "             )\n",
    "model_fnn.add(Dropout(0.5))\n",
    "model_fnn.add(Dense(256, activation=tf.nn.relu))\n",
    "model_fnn.add(Dropout(0.5))\n",
    "model_fnn.add(Dense(num_classes, activation=tf.keras.activations.softmax))\n",
    "\n",
    "\n",
    "model_fnn.compile(optimizer=optimizer,\n",
    "              loss='categorical_crossentropy',\n",
    "              weighted_metrics=['acc'])\n",
    "\n",
    "\n",
    "#define TensorBoard\n",
    "tbCallBack_FNN = TensorBoard(\n",
    "    log_dir='./Tensorboard_FNN_cora',\n",
    ")\n",
    "\n",
    "#Train model\n",
    "validation_data_fnn = (X, labels_encoded, val_mask)\n",
    "model_fnn.fit(\n",
    "                X,labels_encoded,\n",
    "                sample_weight=train_mask,\n",
    "                epochs=epochs,\n",
    "                batch_size=N,\n",
    "                validation_data=validation_data_fnn,\n",
    "                shuffle=False,\n",
    "                callbacks=[\n",
    "                  EarlyStopping(patience=es_patience,  restore_best_weights=True),\n",
    "                  tbCallBack_FNN\n",
    "          ])"
   ]
  },
  {
   "cell_type": "code",
   "execution_count": 8,
   "metadata": {},
   "outputs": [
    {
     "name": "stdout",
     "output_type": "stream",
     "text": [
      "FCNN Classification Report: \n",
      "               precision    recall  f1-score   support\n",
      "\n",
      "          eo       0.99      0.45      0.62       937\n",
      "          ho       0.10      0.94      0.19        63\n",
      "\n",
      "    accuracy                           0.48      1000\n",
      "   macro avg       0.55      0.69      0.40      1000\n",
      "weighted avg       0.93      0.48      0.59      1000\n",
      "\n"
     ]
    }
   ],
   "source": [
    "# Evaluate model\n",
    "X_te = X[test_mask]\n",
    "A_te = A[test_mask,:][:,test_mask]\n",
    "y_te = labels_encoded[test_mask]\n",
    "y_pred = model_fnn.predict(X_te)\n",
    "report = classification_report(np.argmax(y_te,axis=1), np.argmax(y_pred,axis=1), target_names=classes)\n",
    "print('FCNN Classification Report: \\n {}'.format(report))"
   ]
  },
  {
   "cell_type": "markdown",
   "metadata": {},
   "source": [
    "<h3>Get hidden layer representation for FNN</h3>"
   ]
  },
  {
   "cell_type": "code",
   "execution_count": 9,
   "metadata": {},
   "outputs": [],
   "source": [
    "layer_outputs = [layer.output for layer in model_fnn.layers] \n",
    "activation_model = Model(inputs=model_fnn.input, outputs=layer_outputs)\n",
    "activations = activation_model.predict([X])"
   ]
  },
  {
   "cell_type": "code",
   "execution_count": 11,
   "metadata": {},
   "outputs": [
    {
     "data": {
      "image/png": "[encoded data removed]",
      "text/plain": [
       "<Figure size 720x720 with 1 Axes>"
      ]
     },
     "metadata": {
      "needs_background": "light"
     },
     "output_type": "display_data"
    }
   ],
   "source": [
    "x_tsne = TSNE(n_components=2).fit_transform(activations[3])\n",
    "def plot_tSNE(labels_encoded,x_tsne):\n",
    "    color_map = np.argmax(labels_encoded, axis=1)\n",
    "    plt.figure(figsize=(10,10))\n",
    "    for cl in range(num_classes):\n",
    "        indices = np.where(color_map==cl)\n",
    "        indices = indices[0]\n",
    "        plt.scatter(x_tsne[indices,0], x_tsne[indices, 1], label=cl)\n",
    "    plt.legend()\n",
    "    plt.show()\n",
    "plot_tSNE(labels_encoded,x_tsne)"
   ]
  }
 ],
 "metadata": {
  "kernelspec": {
   "display_name": "Python 3",
   "language": "python",
   "name": "python3"
  },
  "language_info": {
   "codemirror_mode": {
    "name": "ipython",
    "version": 3
   },
   "file_extension": ".py",
   "mimetype": "text/x-python",
   "name": "python",
   "nbconvert_exporter": "python",
   "pygments_lexer": "ipython3",
   "version": "3.8.3"
  }
 },
 "nbformat": 4,
 "nbformat_minor": 2
}
