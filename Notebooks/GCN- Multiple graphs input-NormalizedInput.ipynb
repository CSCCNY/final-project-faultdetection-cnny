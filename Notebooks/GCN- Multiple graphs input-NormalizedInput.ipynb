{
 "cells": [
  {
   "cell_type": "code",
   "execution_count": 1,
   "metadata": {
    "id": "7XCcqWXrz4_z"
   },
   "outputs": [],
   "source": [
    "from spektral.layers import GCNConv\n",
    "\n",
    "from tensorflow.keras.models import Model\n",
    "from tensorflow.keras.layers import Input, Dropout, Dense\n",
    "from tensorflow.keras import Sequential\n",
    "from tensorflow.keras.optimizers import Adam\n",
    "from tensorflow.keras.callbacks import TensorBoard, EarlyStopping\n",
    "import tensorflow as tf\n",
    "from tensorflow.keras.regularizers import l2\n",
    "import pandas as pd"
   ]
  },
  {
   "cell_type": "code",
   "execution_count": 2,
   "metadata": {
    "id": "KfQOPlQp7YTb"
   },
   "outputs": [],
   "source": [
    "import numpy as np\n",
    "import scipy.sparse as sp\n",
    "import tensorflow as tf\n",
    "from tensorflow.keras.layers import Dense, Input, BatchNormalization\n",
    "from tensorflow.keras.losses import CategoricalCrossentropy\n",
    "from tensorflow.keras.metrics import categorical_accuracy\n",
    "from tensorflow.keras.models import Model\n",
    "from tensorflow.keras.optimizers import Adam\n",
    "\n",
    "from spektral.data import Dataset, DisjointLoader, Graph\n",
    "from spektral.layers import GCSConv, GlobalAvgPool, ChebConv, GlobalSumPool\n",
    "from spektral.layers.pooling import TopKPool\n",
    "from spektral.transforms.normalize_adj import NormalizeAdj\n",
    "import pickle as pkl\n",
    "import networkx as nx\n",
    "import pdb\n",
    "from sklearn.preprocessing import LabelEncoder\n",
    "from tensorflow.keras.utils import to_categorical"
   ]
  },
  {
   "cell_type": "code",
   "execution_count": 3,
   "metadata": {
    "colab": {
     "base_uri": "https://localhost:8080/"
    },
    "id": "qD0qZF0dwSPO",
    "outputId": "86ea698f-a279-4c5e-8652-e940d02d4eed"
   },
   "outputs": [
    {
     "name": "stdout",
     "output_type": "stream",
     "text": [
      "(4209, 4209)\n",
      "(4209, 4)\n",
      "adder.bench: [637.], 4209\n",
      "(36352, 36352)\n",
      "(36352, 4)\n",
      "arbiter.bench: [3763.], 36352\n",
      "(1355, 1355)\n",
      "(1355, 4)\n",
      "c1355: [192.], 1355\n",
      "(1908, 1908)\n",
      "(1908, 4)\n",
      "c1908: [257.], 1908\n",
      "(3540, 3540)\n",
      "(3540, 4)\n",
      "c3540: [406.], 3540\n",
      "(432, 432)\n",
      "(432, 4)\n",
      "c432: [60.], 432\n",
      "(499, 499)\n",
      "(499, 4)\n",
      "c499: [50.], 499\n",
      "(5315, 5315)\n",
      "(5315, 4)\n",
      "c5315: [599.], 5315\n",
      "(6288, 6288)\n",
      "(6288, 4)\n",
      "c6288: [846.], 6288\n",
      "(880, 880)\n",
      "(880, 4)\n",
      "c880: [114.], 880\n",
      "(2164, 2164)\n",
      "(2164, 4)\n",
      "cavlc.bench: [318.], 2164\n",
      "(936, 936)\n",
      "(936, 4)\n",
      "dec.bench: [186.], 936\n",
      "(761, 761)\n",
      "(761, 4)\n",
      "int2float.bench: [80.], 761\n",
      "(9996, 9996)\n",
      "(9996, 4)\n",
      "max.bench: [1040.], 9996\n",
      "(89943, 89943)\n",
      "(89943, 4)\n",
      "multiplier.bench: [9294.], 89943\n",
      "(3495, 3495)\n",
      "(3495, 4)\n",
      "priority.bench: [350.], 3495\n",
      "(16771, 16771)\n",
      "(16771, 4)\n",
      "sin.bench: [1723.], 16771\n",
      "(50122, 50122)\n",
      "(50122, 4)\n",
      "voter.bench: [5012.], 50122\n",
      "[ 0  1  8  5  3 13 16 15 11  2  9 17  4 12] [ 7 10] [14  6]\n"
     ]
    }
   ],
   "source": [
    "################################################################################\n",
    "# PARAMETERS\n",
    "################################################################################\n",
    "learning_rate = 1e-2  # Learning rate\n",
    "epochs = 1000  # Number of training epochs\n",
    "es_patience = 10  # Patience for early stopping\n",
    "batch_size = 3  # Batch size\n",
    "\n",
    "\n",
    "################################################################################\n",
    "# LOAD DATA\n",
    "################################################################################\n",
    "import sys\n",
    "from spektral.data import Dataset, Graph\n",
    "# sys.path.append('../lib')\n",
    "# from data_pre_processing import load_data\n",
    "# sys.path.remove('../lib')\n",
    "from spektral.layers import GCNConv, GraphSageConv\n",
    "from spektral.models.gcn import GCN\n",
    "from spektral.transforms import AdjToSpTensor, LayerPreprocess\n",
    "from sklearn.preprocessing import MinMaxScaler\n",
    "\n",
    "\n",
    "x_data = []\n",
    "y_data = []\n",
    "\n",
    "def load_data(circuit_name, path_to_data=\"data\", normalize=False):\n",
    "    \"\"\"Load data.\"\"\"\n",
    "    names = [\"x\", \"y\", \"graph\"]\n",
    "    objects = []\n",
    "    for i in range(len(names)):\n",
    "        with open(f\"{path_to_data}/{circuit_name}.{names[i]}\", \"rb\") as f:\n",
    "            if sys.version_info > (3, 0):\n",
    "                objects.append(pkl.load(f, encoding=\"latin1\"))\n",
    "            else:\n",
    "                objects.append(pkl.load(f))\n",
    "\n",
    "    x, y, graph = tuple(objects)\n",
    "    \n",
    "    x = np.array(x).astype(\"float32\")\n",
    "    for x_feat in x:\n",
    "        x_data.append(x_feat)\n",
    "        \n",
    "    features = sp.csr_matrix(x).astype('float32')\n",
    "    # adj = nx.adjacency_matrix(nx.from_dict_of_lists(graph)).astype(int)\n",
    "    g = nx.DiGraph()\n",
    "    g.add_nodes_from(graph.keys())\n",
    "    for k, v in graph.items():\n",
    "      g.add_edges_from(([(k, t) for t in v]))\n",
    "      g.add_edges_from([(k, k)])\n",
    "    adj = nx.adjacency_matrix(g)\n",
    "    labels = np.array(y).astype('float32').reshape((-1,1))\n",
    "    for l in y:\n",
    "        y_data.append(l)\n",
    "    print(adj.shape)\n",
    "    print(features.shape)\n",
    "    return adj, features, labels\n",
    "  \n",
    "def encode_label(labels):\n",
    "    label_encoder = LabelEncoder()\n",
    "    labels = label_encoder.fit_transform(labels)\n",
    "    labels = to_categorical(labels)\n",
    "    return labels\n",
    "\n",
    "\n",
    "def _preprocess_features(features):\n",
    "    rowsum = np.array(features.sum(1))\n",
    "    r_inv = np.power(rowsum, -1).flatten()\n",
    "    r_inv[np.isinf(r_inv)] = 0.0\n",
    "    r_mat_inv = sp.diags(r_inv)\n",
    "    features = r_mat_inv.dot(features)\n",
    "    return features\n",
    "\n",
    "\n",
    "\n",
    "class CircuitDataset(Dataset):\n",
    "    def read(self):\n",
    "        circuits = []\n",
    "#         circs = ['c6288','c5315','c432', 'c499', 'c17', 'c880', 'c1355', 'c1908', 'c3540', 'adder.bench', 'arbiter.bench', 'cavlc.bench', 'dec.bench', 'voter.bench', \"sin.bench\",\"priority.bench\", \"multiplier.bench\", \"max.bench\"]\n",
    "        circs = [\"adder.bench\",\"arbiter.bench\",\"c1355\",\"c1908\",\"c3540\",\"c432\",\"c499\",\"c5315\",\"c6288\",\"c880\",\"cavlc.bench\",\"dec.bench\",\"int2float.bench\",\"max.bench\",\"multiplier.bench\",\"priority.bench\",\"sin.bench\",\"voter.bench\"]\n",
    "#         circs = [\"log2.bench\"]\n",
    "#         circs = ['adder.bench', \"arbiter.bench\",  \"sin.bench\", \"multiplier.bench\", \"voter.bench\", \"priority.bench\"]\n",
    "        for circ in circs:\n",
    "            A, X, labels = load_data(circ, '../data/output', normalize=\"\")\n",
    "#             if sum(labels) >= 500:\n",
    "            print(f\"{circ}: {sum(labels)}, {len(labels)}\")\n",
    "            scaler = MinMaxScaler()\n",
    "            X = scaler.fit_transform(X.toarray())\n",
    "            circuits.append(Graph(x=X, a=A, y=labels))\n",
    "\n",
    "        return circuits\n",
    "\n",
    "# def normalize_feature(circ_dataset):\n",
    "#     scaler = MinMaxScaler()\n",
    "#     scaler.fit(x_data)\n",
    "#     for graph in circ_dataset:\n",
    "#         graph.x = scaler.transform(graph.x)\n",
    "#     return circ_dataset\n",
    "\n",
    "dataset = CircuitDataset(transforms=[LayerPreprocess(ChebConv)])\n",
    "\n",
    "# Parameters\n",
    "\n",
    "F = dataset.n_node_features  # Dimension of node features\n",
    "n_out = dataset.n_labels  # Dimension of the target\n",
    "\n",
    "# Train/valid/test split\n",
    "np.random.seed(42)\n",
    "idxs = np.random.permutation(len(dataset))\n",
    "split_va, split_te = int(0.8 * len(dataset)), int(0.9 * len(dataset))\n",
    "idx_tr, idx_va, idx_te = np.split(idxs, [split_va, split_te])\n",
    "print(idx_tr, idx_va, idx_te)\n",
    "dataset_tr = dataset[idx_tr]\n",
    "dataset_va = dataset[idx_va]\n",
    "dataset_te = dataset[idx_te]\n",
    "# dataset_tr = dataset[[ 0,7, 8,  14,  3, 13, 10, 15, 11,  2,  9, 17,  4, 12]]\n",
    "# dataset_va = dataset[[1, 6]]\n",
    "# dataset_te = dataset[[16, 5]]\n",
    "# dataset_tr = dataset[[0,1]]\n",
    "# dataset_va = dataset[[2, 3]]\n",
    "# dataset_te = dataset[[4, 5]]\n",
    "\n",
    "# loader_tr = DisjointLoader(dataset_tr, batch_size=batch_size, epochs=epochs, node_level=True)\n",
    "# loader_va = DisjointLoader(dataset_va, batch_size=batch_size, node_level=True)\n",
    "# loader_te = DisjointLoader(dataset_te, batch_size=batch_size, node_level=True)\n",
    "def load_tr_data(epochs=400):\n",
    "    loader_tr = DisjointLoader(dataset_tr, batch_size=batch_size, epochs=epochs, node_level=True)\n",
    "    loader_va = DisjointLoader(dataset_va, batch_size=batch_size, node_level=True)\n",
    "    loader_te = DisjointLoader(dataset_te, batch_size=batch_size, node_level=True)\n",
    "    return loader_tr, loader_va, loader_te\n",
    "\n",
    "loader_tr, loader_va, loader_te = load_tr_data()\n"
   ]
  },
  {
   "cell_type": "code",
   "execution_count": 4,
   "metadata": {
    "colab": {
     "base_uri": "https://localhost:8080/"
    },
    "id": "DZsZPDKRJoSf",
    "outputId": "55cb3423-0f12-460c-9e2c-0e97489bb48c"
   },
   "outputs": [
    {
     "data": {
      "text/plain": [
       "234966"
      ]
     },
     "execution_count": 4,
     "metadata": {},
     "output_type": "execute_result"
    }
   ],
   "source": [
    "N = sum([ g.n_nodes for g in dataset.graphs ])\n",
    "n_out = 1\n",
    "N"
   ]
  },
  {
   "cell_type": "code",
   "execution_count": 5,
   "metadata": {},
   "outputs": [
    {
     "name": "stdout",
     "output_type": "stream",
     "text": [
      "{0.0: 0.559920411181657, 1.0: 4.672201009136779}\n"
     ]
    },
    {
     "name": "stderr",
     "output_type": "stream",
     "text": [
      "/Users/nikitaacharya/anaconda3/lib/python3.7/site-packages/sklearn/utils/validation.py:71: FutureWarning: Pass classes=[0. 1.], y=[0. 0. 0. ... 0. 0. 0.] as keyword args. From version 0.25 passing these as positional arguments will result in an error\n",
      "  FutureWarning)\n"
     ]
    }
   ],
   "source": [
    "from sklearn.utils.class_weight import compute_class_weight\n",
    "\n",
    "y_data = []\n",
    "for data_tr in dataset_tr:\n",
    "    y_data.append(data_tr.y)\n",
    "y_data = np.vstack((y_data)).reshape((-1,))\n",
    "\n",
    "\n",
    "def _compute_class_weight_dictionary(y):\n",
    "    # helper for returning a dictionary instead of an array\n",
    "    classes = np.unique(y).astype('float32')\n",
    "    class_weight = compute_class_weight(\"balanced\", classes, y)\n",
    "    class_weight_dict = dict(zip(classes, class_weight))\n",
    "    return class_weight_dict \n",
    "\n",
    "weights = _compute_class_weight_dictionary(np.vstack((y_data)).reshape((-1,)))\n",
    "print(weights)"
   ]
  },
  {
   "cell_type": "code",
   "execution_count": 6,
   "metadata": {},
   "outputs": [],
   "source": [
    "%load_ext tensorboard"
   ]
  },
  {
   "cell_type": "code",
   "execution_count": 7,
   "metadata": {},
   "outputs": [],
   "source": [
    "# from focal_loss import BinaryFocalLoss\n",
    "from tensorflow.keras.metrics import sparse_categorical_accuracy, binary_accuracy, binary_crossentropy\n",
    "\n",
    "# focal_loss_fn = BinaryFocalLoss(gamma=0.9999, pos_weight=1)"
   ]
  },
  {
   "cell_type": "code",
   "execution_count": 8,
   "metadata": {
    "scrolled": true
   },
   "outputs": [
    {
     "name": "stdout",
     "output_type": "stream",
     "text": [
      "X_in:  (None, 4)\n",
      "Model: \"model\"\n",
      "__________________________________________________________________________________________________\n",
      "Layer (type)                    Output Shape         Param #     Connected to                     \n",
      "==================================================================================================\n",
      "input_1 (InputLayer)            [(None, 4)]          0                                            \n",
      "__________________________________________________________________________________________________\n",
      "input_2 (InputLayer)            [(None, None)]       0                                            \n",
      "__________________________________________________________________________________________________\n",
      "conv2 (GraphSageConv)           (None, 256)          2304        input_1[0][0]                    \n",
      "                                                                 input_2[0][0]                    \n",
      "__________________________________________________________________________________________________\n",
      "batch_normalization_1 (BatchNor (None, 256)          1024        conv2[0][0]                      \n",
      "__________________________________________________________________________________________________\n",
      "dropout_1 (Dropout)             (None, 256)          0           batch_normalization_1[0][0]      \n",
      "__________________________________________________________________________________________________\n",
      "conv5 (ChebConv)                (None, 256)          1638656     dropout_1[0][0]                  \n",
      "                                                                 input_2[0][0]                    \n",
      "__________________________________________________________________________________________________\n",
      "batch_normalization_2 (BatchNor (None, 256)          1024        conv5[0][0]                      \n",
      "__________________________________________________________________________________________________\n",
      "dropout_2 (Dropout)             (None, 256)          0           batch_normalization_2[0][0]      \n",
      "__________________________________________________________________________________________________\n",
      "input_3 (InputLayer)            [(None, None)]       0                                            \n",
      "__________________________________________________________________________________________________\n",
      "conv8 (ChebConv)                (None, 1)            257         dropout_2[0][0]                  \n",
      "                                                                 input_2[0][0]                    \n",
      "==================================================================================================\n",
      "Total params: 1,643,265\n",
      "Trainable params: 1,642,241\n",
      "Non-trainable params: 1,024\n",
      "__________________________________________________________________________________________________\n"
     ]
    }
   ],
   "source": [
    "from tensorflow.keras.metrics import sparse_categorical_accuracy, binary_accuracy, binary_crossentropy\n",
    "from tensorflow.keras import activations\n",
    "from tensorflow.keras import layers\n",
    "import tempfile\n",
    "\n",
    "channels = 256         # Number of channels in the first layer\n",
    "dropout = 0.05         # Dropout rate for the features\n",
    "l2_reg = 5e-4           # L2 regularization rate\n",
    "learning_rate = 1e-3    # Learning rate\n",
    "epochs = 500            # Number of training epochs\n",
    "es_patience = 10    \n",
    "patience = 100 # Patience for early stopping\n",
    "# N = \n",
    "\n",
    "# Model definition\n",
    "X_in = Input(shape=(F, ))\n",
    "print(\"X_in: \", X_in.shape)\n",
    "fltr_in = Input((None, ), sparse=True)\n",
    "mask_in = Input((None, ))\n",
    "\n",
    "# x_1 = BatchNormalization()(X_in)\n",
    "# dropout_1 = Dropout(dropout)(x_1)\n",
    "use_bias = True\n",
    "x = GraphSageConv(256, K=25,\n",
    "                         dropout_rate=dropout,\n",
    "                         activation='relu',\n",
    "                         kernel_regularizer=l2(l2_reg),\n",
    "                         attn_kernel_regularizer=l2(l2_reg),\n",
    "                         bias_regularizer=l2(l2_reg),\n",
    "                         use_bias=use_bias,\n",
    "                         n_input_channels=dataset.n_node_features, name=\"conv1\")([X_in, fltr_in])\n",
    "x = BatchNormalization()(x)\n",
    "x = Dropout(dropout)(x)\n",
    "x = GraphSageConv(256, K=25,\n",
    "                         dropout_rate=dropout,\n",
    "                         activation='relu',\n",
    "                         kernel_regularizer=l2(l2_reg),\n",
    "                         attn_kernel_regularizer=l2(l2_reg),\n",
    "                         bias_regularizer=l2(l2_reg),\n",
    "                         use_bias=use_bias,\n",
    "                         n_input_channels=dataset.n_node_features, name=\"conv2\")([X_in, fltr_in])\n",
    "# x = BatchNormalization()(x)\n",
    "# x = Dropout(dropout)(x)\n",
    "# x = ChebConv(128, K=1,\n",
    "#                          dropout_rate=dropout,\n",
    "#                          activation='relu',\n",
    "#                          kernel_regularizer=l2(l2_reg),\n",
    "#                          attn_kernel_regularizer=l2(l2_reg),\n",
    "#                          bias_regularizer=l2(l2_reg),\n",
    "#                          use_bias=use_bias,\n",
    "#                          n_input_channels=dataset.n_node_features, name=\"conv3\")([x, fltr_in])\n",
    "# x = BatchNormalization()(x)\n",
    "# x = Dropout(dropout)(x)\n",
    "# x = ChebConv(64, K=1,\n",
    "#                          dropout_rate=dropout,\n",
    "#                          activation='relu',\n",
    "#                          kernel_regularizer=l2(l2_reg),\n",
    "#                          attn_kernel_regularizer=l2(l2_reg),\n",
    "#                          bias_regularizer=l2(l2_reg),\n",
    "#                          use_bias=use_bias,\n",
    "#                          n_input_channels=dataset.n_node_features, name=\"conv4\")([x, fltr_in])\n",
    "x = BatchNormalization()(x)\n",
    "x = Dropout(dropout)(x)\n",
    "x = ChebConv(256, K=25,\n",
    "                         dropout_rate=dropout,\n",
    "                         activation='relu',\n",
    "                         kernel_regularizer=l2(l2_reg),\n",
    "                         attn_kernel_regularizer=l2(l2_reg),\n",
    "                         bias_regularizer=l2(l2_reg),\n",
    "                         use_bias=use_bias,\n",
    "                         n_input_channels=dataset.n_node_features, name=\"conv5\")([x, fltr_in])\n",
    "# x = BatchNormalization()(x)\n",
    "# x = Dropout(dropout)(x)\n",
    "# x = ChebConv(8, K=2,\n",
    "#                          dropout_rate=dropout,\n",
    "#                          activation='relu',\n",
    "#                          kernel_regularizer=l2(l2_reg),\n",
    "#                          attn_kernel_regularizer=l2(l2_reg),\n",
    "#                          bias_regularizer=l2(l2_reg),\n",
    "#                          use_bias=use_bias,\n",
    "#                          n_input_channels=dataset.n_node_features, name=\"conv6\")([x, fltr_in])\n",
    "\n",
    "# x = BatchNormalization()(x)\n",
    "# x = Dropout(dropout)(x)\n",
    "# x = ChebConv(4, K=2,\n",
    "#                          dropout_rate=dropout,\n",
    "#                          activation='relu',\n",
    "#                          kernel_regularizer=l2(l2_reg),\n",
    "#                          attn_kernel_regularizer=l2(l2_reg),\n",
    "#                          bias_regularizer=l2(l2_reg),\n",
    "#                          use_bias=use_bias,\n",
    "#                          n_input_channels=dataset.n_node_features, name=\"conv7\")([x, fltr_in])\n",
    "x = BatchNormalization()(x)\n",
    "x = Dropout(dropout)(x)\n",
    "x = ChebConv(n_out, activation='sigmoid',\n",
    "                         n_input_channels=dataset.n_node_features, name=\"conv8\", use_bias=use_bias)([x, fltr_in])\n",
    "\n",
    "model = Model(inputs=[X_in, fltr_in, mask_in], outputs=x)\n",
    "optimizer = Adam(lr=learning_rate)\n",
    "\n",
    "def masked_loss_and_accuracy(target, predictions):\n",
    "    loss = binary_crossentropy(target, predictions)\n",
    "    minimum = tf.math.minimum(tf.reduce_sum(tf.dtypes.cast(target == 0, tf.int32)), tf.reduce_sum(tf.dtypes.cast(target == 1, tf.int32)))\n",
    "    zeroes_index = tf.random.shuffle(tf.where(target == 0)[:,0])\n",
    "    ones_index = tf.random.shuffle(tf.where(target == 1)[:,0])\n",
    "    loss_zeroes =  tf.reduce_mean(tf.gather(loss, zeroes_index))\n",
    "    loss_ones = tf.reduce_mean(tf.gather(loss, ones_index))\n",
    "    \n",
    "    weight_for_0 = tf.cast((1 / tf.shape(zeroes_index)[0])*(tf.cast(tf.shape(target)[0], 'float64'))/2.0, 'float32')\n",
    "    weight_for_1 = tf.cast((1 / tf.shape(ones_index)[0])*(tf.cast(tf.shape(target)[0], 'float64'))/2.0, 'float32')\n",
    "\n",
    "    return (weight_for_0 * loss_zeroes * 0.6 +  weight_for_1 * loss_ones * 0.4)\n",
    "\n",
    "\n",
    "model.compile(optimizer=optimizer,\n",
    "              loss='binary_crossentropy',\n",
    "              weighted_metrics=['acc', tf.keras.metrics.Precision(), tf.keras.metrics.Recall()])\n",
    "model.summary()\n",
    "\n",
    "tfcallback_dir = tempfile.TemporaryDirectory(suffix='tf', prefix='/tmp/', dir=None)\n",
    "\n",
    "tbCallBack_GCN = tf.keras.callbacks.TensorBoard(\n",
    "        log_dir=tfcallback_dir,\n",
    "        histogram_freq=1\n",
    ")\n",
    "# \n",
    "callback_GCN = [tbCallBack_GCN, EarlyStopping(patience=patience, restore_best_weights=True)]"
   ]
  },
  {
   "cell_type": "code",
   "execution_count": 9,
   "metadata": {},
   "outputs": [
    {
     "name": "stdout",
     "output_type": "stream",
     "text": [
      "Model: \"model_1\"\n",
      "__________________________________________________________________________________________________\n",
      "Layer (type)                    Output Shape         Param #     Connected to                     \n",
      "==================================================================================================\n",
      "input_4 (InputLayer)            [(None, 4)]          0                                            \n",
      "__________________________________________________________________________________________________\n",
      "input_5 (InputLayer)            [(None, None)]       0                                            \n",
      "__________________________________________________________________________________________________\n",
      "gcn_conv (GCNConv)              (None, 256)          1280        input_4[0][0]                    \n",
      "                                                                 input_5[0][0]                    \n",
      "__________________________________________________________________________________________________\n",
      "batch_normalization_3 (BatchNor (None, 256)          1024        gcn_conv[0][0]                   \n",
      "__________________________________________________________________________________________________\n",
      "dropout_3 (Dropout)             (None, 256)          0           batch_normalization_3[0][0]      \n",
      "__________________________________________________________________________________________________\n",
      "gcn_conv_1 (GCNConv)            (None, 256)          65792       dropout_3[0][0]                  \n",
      "                                                                 input_5[0][0]                    \n",
      "__________________________________________________________________________________________________\n",
      "batch_normalization_4 (BatchNor (None, 256)          1024        gcn_conv_1[0][0]                 \n",
      "__________________________________________________________________________________________________\n",
      "dropout_4 (Dropout)             (None, 256)          0           batch_normalization_4[0][0]      \n",
      "__________________________________________________________________________________________________\n",
      "input_6 (InputLayer)            [(None, None)]       0                                            \n",
      "__________________________________________________________________________________________________\n",
      "gcn_conv_2 (GCNConv)            (None, 1)            257         dropout_4[0][0]                  \n",
      "                                                                 input_5[0][0]                    \n",
      "==================================================================================================\n",
      "Total params: 69,377\n",
      "Trainable params: 68,353\n",
      "Non-trainable params: 1,024\n",
      "__________________________________________________________________________________________________\n"
     ]
    }
   ],
   "source": [
    "channels = 256  # Number of channels for GCN layers\n",
    "dropout = 0.5  # Dropout rate for the features\n",
    "learning_rate = 1e-3  # Learning rate\n",
    "epochs = 200 \n",
    "\n",
    "x_in = Input(shape=(F,))\n",
    "a_in = Input((None,), sparse=True)\n",
    "mask_in = Input((None, ))\n",
    "\n",
    "x_1 = GCNConv(channels, activation=\"relu\")([x_in, a_in])\n",
    "x_1 = BatchNormalization()(x_1)\n",
    "x_1 = Dropout(dropout)(x_1)\n",
    "x_2 = GCNConv(channels, activation=\"relu\")([x_1, a_in])\n",
    "x_2 = BatchNormalization()(x_2)\n",
    "x_2 = Dropout(dropout)(x_2)\n",
    "fc2 = GCNConv(n_out, activation=\"sigmoid\")([x_2, a_in])  \n",
    "\n",
    "\n",
    "model = Model(inputs=[x_in, a_in, mask_in], outputs=fc2)\n",
    "optimizer = Adam(lr=learning_rate)\n",
    "model.compile(optimizer=optimizer,\n",
    "              loss='binary_crossentropy',\n",
    "              weighted_metrics=['acc', tf.keras.metrics.Precision(), tf.keras.metrics.Recall()])\n",
    "model.summary()\n",
    "\n",
    "tfcallback_dir = tempfile.TemporaryDirectory(suffix='tf', prefix='/tmp/', dir=None).name\n",
    "tbCallBack_GCN = tf.keras.callbacks.TensorBoard(\n",
    "        log_dir=tfcallback_dir,\n",
    "        histogram_freq=1\n",
    ")\n",
    "callback_GCN = [tbCallBack_GCN]"
   ]
  },
  {
   "cell_type": "code",
   "execution_count": 10,
   "metadata": {
    "scrolled": true
   },
   "outputs": [
    {
     "name": "stdout",
     "output_type": "stream",
     "text": [
      "Epoch 1/120\n",
      "5/5 [==============================] - 4s 499ms/step - loss: 0.9892 - acc: 0.4315 - precision_1: 0.4226 - recall_1: 0.4019 - val_loss: 0.7087 - val_acc: 0.1863 - val_precision_1: 0.1284 - val_recall_1: 0.9738\n",
      "Epoch 2/120\n",
      "5/5 [==============================] - 2s 339ms/step - loss: 0.6873 - acc: 0.6839 - precision_1: 0.6480 - recall_1: 0.8171 - val_loss: 0.6914 - val_acc: 0.6219 - val_precision_1: 0.2431 - val_recall_1: 0.9858\n",
      "Epoch 3/120\n",
      "5/5 [==============================] - 2s 463ms/step - loss: 0.6949 - acc: 0.7298 - precision_1: 0.6833 - recall_1: 0.8851 - val_loss: 0.6516 - val_acc: 0.8374 - val_precision_1: 0.1013 - val_recall_1: 0.0414\n",
      "Epoch 4/120\n",
      "5/5 [==============================] - 2s 436ms/step - loss: 0.5605 - acc: 0.7668 - precision_1: 0.7144 - recall_1: 0.8918 - val_loss: 0.6144 - val_acc: 0.8595 - val_precision_1: 0.0000e+00 - val_recall_1: 0.0000e+00\n",
      "Epoch 5/120\n",
      "5/5 [==============================] - 2s 523ms/step - loss: 0.5936 - acc: 0.7462 - precision_1: 0.7144 - recall_1: 0.8313 - val_loss: 0.5848 - val_acc: 0.8595 - val_precision_1: 0.0000e+00 - val_recall_1: 0.0000e+00\n",
      "Epoch 6/120\n",
      "5/5 [==============================] - 2s 574ms/step - loss: 0.5621 - acc: 0.7572 - precision_1: 0.7349 - recall_1: 0.8113 - val_loss: 0.5655 - val_acc: 0.8595 - val_precision_1: 0.0000e+00 - val_recall_1: 0.0000e+00\n",
      "Epoch 7/120\n",
      "5/5 [==============================] - 3s 525ms/step - loss: 0.4999 - acc: 0.7919 - precision_1: 0.7632 - recall_1: 0.8419 - val_loss: 0.5506 - val_acc: 0.8595 - val_precision_1: 0.0000e+00 - val_recall_1: 0.0000e+00\n",
      "Epoch 8/120\n",
      "5/5 [==============================] - 3s 644ms/step - loss: 0.5892 - acc: 0.7399 - precision_1: 0.7653 - recall_1: 0.7350 - val_loss: 0.5374 - val_acc: 0.8595 - val_precision_1: 0.0000e+00 - val_recall_1: 0.0000e+00\n",
      "Epoch 9/120\n",
      "5/5 [==============================] - 2s 360ms/step - loss: 0.5574 - acc: 0.7209 - precision_1: 0.6973 - recall_1: 0.7796 - val_loss: 0.5194 - val_acc: 0.8595 - val_precision_1: 0.0000e+00 - val_recall_1: 0.0000e+00\n",
      "Epoch 10/120\n",
      "5/5 [==============================] - 2s 543ms/step - loss: 0.4692 - acc: 0.8010 - precision_1: 0.7794 - recall_1: 0.8488 - val_loss: 0.5032 - val_acc: 0.8595 - val_precision_1: 0.0000e+00 - val_recall_1: 0.0000e+00\n",
      "Epoch 11/120\n",
      "5/5 [==============================] - 2s 491ms/step - loss: 0.5028 - acc: 0.7966 - precision_1: 0.7974 - recall_1: 0.8015 - val_loss: 0.4969 - val_acc: 0.8595 - val_precision_1: 0.0000e+00 - val_recall_1: 0.0000e+00\n",
      "Epoch 12/120\n",
      "5/5 [==============================] - 3s 596ms/step - loss: 0.4842 - acc: 0.7930 - precision_1: 0.7999 - recall_1: 0.7937 - val_loss: 0.4926 - val_acc: 0.8595 - val_precision_1: 0.0000e+00 - val_recall_1: 0.0000e+00\n",
      "Epoch 13/120\n",
      "5/5 [==============================] - 3s 653ms/step - loss: 0.4955 - acc: 0.7997 - precision_1: 0.7820 - recall_1: 0.8431 - val_loss: 0.4864 - val_acc: 0.8595 - val_precision_1: 0.0000e+00 - val_recall_1: 0.0000e+00\n",
      "Epoch 14/120\n",
      "5/5 [==============================] - 3s 602ms/step - loss: 0.5395 - acc: 0.7815 - precision_1: 0.7467 - recall_1: 0.8682 - val_loss: 0.4768 - val_acc: 0.8595 - val_precision_1: 0.0000e+00 - val_recall_1: 0.0000e+00\n",
      "Epoch 15/120\n",
      "5/5 [==============================] - 3s 643ms/step - loss: 0.5336 - acc: 0.7719 - precision_1: 0.7904 - recall_1: 0.7789 - val_loss: 0.4708 - val_acc: 0.8595 - val_precision_1: 0.0000e+00 - val_recall_1: 0.0000e+00\n",
      "Epoch 16/120\n",
      "5/5 [==============================] - 2s 382ms/step - loss: 0.4966 - acc: 0.7898 - precision_1: 0.8036 - recall_1: 0.7668 - val_loss: 0.4660 - val_acc: 0.8595 - val_precision_1: 0.0000e+00 - val_recall_1: 0.0000e+00\n",
      "Epoch 17/120\n",
      "5/5 [==============================] - 2s 546ms/step - loss: 0.4818 - acc: 0.7961 - precision_1: 0.7996 - recall_1: 0.8082 - val_loss: 0.4630 - val_acc: 0.8595 - val_precision_1: 0.0000e+00 - val_recall_1: 0.0000e+00\n",
      "Epoch 18/120\n",
      "5/5 [==============================] - 2s 280ms/step - loss: 0.5197 - acc: 0.7659 - precision_1: 0.7544 - recall_1: 0.7837 - val_loss: 0.4609 - val_acc: 0.8595 - val_precision_1: 0.0000e+00 - val_recall_1: 0.0000e+00\n",
      "Epoch 19/120\n",
      "5/5 [==============================] - 2s 532ms/step - loss: 0.4324 - acc: 0.8251 - precision_1: 0.7917 - recall_1: 0.8851 - val_loss: 0.4582 - val_acc: 0.8595 - val_precision_1: 0.0000e+00 - val_recall_1: 0.0000e+00\n",
      "Epoch 20/120\n",
      "5/5 [==============================] - 2s 357ms/step - loss: 0.4389 - acc: 0.8086 - precision_1: 0.8044 - recall_1: 0.8111 - val_loss: 0.4591 - val_acc: 0.8595 - val_precision_1: 0.0000e+00 - val_recall_1: 0.0000e+00\n",
      "Epoch 21/120\n",
      "5/5 [==============================] - 2s 441ms/step - loss: 0.4189 - acc: 0.8327 - precision_1: 0.8272 - recall_1: 0.8382 - val_loss: 0.4603 - val_acc: 0.8595 - val_precision_1: 0.0000e+00 - val_recall_1: 0.0000e+00\n",
      "Epoch 22/120\n",
      "5/5 [==============================] - 2s 529ms/step - loss: 0.4738 - acc: 0.8046 - precision_1: 0.8132 - recall_1: 0.8054 - val_loss: 0.4549 - val_acc: 0.8595 - val_precision_1: 0.0000e+00 - val_recall_1: 0.0000e+00\n",
      "Epoch 23/120\n",
      "5/5 [==============================] - 2s 359ms/step - loss: 0.4260 - acc: 0.8207 - precision_1: 0.8208 - recall_1: 0.8198 - val_loss: 0.4523 - val_acc: 0.8595 - val_precision_1: 0.0000e+00 - val_recall_1: 0.0000e+00\n",
      "Epoch 24/120\n",
      "5/5 [==============================] - 2s 397ms/step - loss: 0.4569 - acc: 0.8133 - precision_1: 0.8346 - recall_1: 0.7870 - val_loss: 0.4503 - val_acc: 0.8595 - val_precision_1: 0.0000e+00 - val_recall_1: 0.0000e+00\n",
      "Epoch 25/120\n",
      "5/5 [==============================] - 2s 559ms/step - loss: 0.4329 - acc: 0.8235 - precision_1: 0.8182 - recall_1: 0.8395 - val_loss: 0.4391 - val_acc: 0.8595 - val_precision_1: 0.0000e+00 - val_recall_1: 0.0000e+00\n",
      "Epoch 26/120\n",
      "5/5 [==============================] - 2s 524ms/step - loss: 0.4588 - acc: 0.7821 - precision_1: 0.7531 - recall_1: 0.8485 - val_loss: 0.4283 - val_acc: 0.8595 - val_precision_1: 0.0000e+00 - val_recall_1: 0.0000e+00\n",
      "Epoch 27/120\n",
      "5/5 [==============================] - 2s 538ms/step - loss: 0.4650 - acc: 0.8094 - precision_1: 0.8261 - recall_1: 0.8073 - val_loss: 0.4234 - val_acc: 0.8595 - val_precision_1: 0.0000e+00 - val_recall_1: 0.0000e+00\n",
      "Epoch 28/120\n",
      "5/5 [==============================] - 2s 307ms/step - loss: 0.4272 - acc: 0.8205 - precision_1: 0.8171 - recall_1: 0.8210 - val_loss: 0.4141 - val_acc: 0.8595 - val_precision_1: 0.0000e+00 - val_recall_1: 0.0000e+00\n",
      "Epoch 29/120\n",
      "5/5 [==============================] - 2s 369ms/step - loss: 0.4115 - acc: 0.8285 - precision_1: 0.8278 - recall_1: 0.8307 - val_loss: 0.4067 - val_acc: 0.8595 - val_precision_1: 0.0000e+00 - val_recall_1: 0.0000e+00\n",
      "Epoch 30/120\n",
      "5/5 [==============================] - 2s 278ms/step - loss: 0.3522 - acc: 0.8642 - precision_1: 0.8337 - recall_1: 0.9076 - val_loss: 0.3987 - val_acc: 0.8595 - val_precision_1: 0.0000e+00 - val_recall_1: 0.0000e+00\n",
      "Epoch 31/120\n",
      "5/5 [==============================] - 2s 370ms/step - loss: 0.4374 - acc: 0.8179 - precision_1: 0.8379 - recall_1: 0.7929 - val_loss: 0.3907 - val_acc: 0.8595 - val_precision_1: 0.0000e+00 - val_recall_1: 0.0000e+00\n",
      "Epoch 32/120\n",
      "5/5 [==============================] - 2s 376ms/step - loss: 0.4322 - acc: 0.8222 - precision_1: 0.8295 - recall_1: 0.8149 - val_loss: 0.3916 - val_acc: 0.8595 - val_precision_1: 0.0000e+00 - val_recall_1: 0.0000e+00\n",
      "Epoch 33/120\n",
      "5/5 [==============================] - 2s 376ms/step - loss: 0.4110 - acc: 0.8354 - precision_1: 0.8412 - recall_1: 0.8255 - val_loss: 0.3978 - val_acc: 0.8747 - val_precision_1: 0.0000e+00 - val_recall_1: 0.0000e+00\n",
      "Epoch 34/120\n",
      "5/5 [==============================] - 2s 493ms/step - loss: 0.4573 - acc: 0.8119 - precision_1: 0.8300 - recall_1: 0.8097 - val_loss: 0.3989 - val_acc: 0.8766 - val_precision_1: 0.0000e+00 - val_recall_1: 0.0000e+00\n",
      "Epoch 35/120\n",
      "5/5 [==============================] - 2s 470ms/step - loss: 0.4432 - acc: 0.8330 - precision_1: 0.8171 - recall_1: 0.8619 - val_loss: 0.3991 - val_acc: 0.8774 - val_precision_1: 0.0000e+00 - val_recall_1: 0.0000e+00\n",
      "Epoch 36/120\n",
      "5/5 [==============================] - 2s 460ms/step - loss: 0.3704 - acc: 0.8518 - precision_1: 0.8503 - recall_1: 0.8554 - val_loss: 0.3976 - val_acc: 0.8774 - val_precision_1: 0.0000e+00 - val_recall_1: 0.0000e+00\n"
     ]
    },
    {
     "name": "stdout",
     "output_type": "stream",
     "text": [
      "Epoch 37/120\n",
      "5/5 [==============================] - 2s 449ms/step - loss: 0.4143 - acc: 0.8146 - precision_1: 0.8142 - recall_1: 0.8104 - val_loss: 0.3951 - val_acc: 0.8774 - val_precision_1: 0.0000e+00 - val_recall_1: 0.0000e+00\n",
      "Epoch 38/120\n",
      "5/5 [==============================] - 3s 391ms/step - loss: 0.3514 - acc: 0.8663 - precision_1: 0.8468 - recall_1: 0.8938 - val_loss: 0.3890 - val_acc: 0.8774 - val_precision_1: 0.0000e+00 - val_recall_1: 0.0000e+00\n",
      "Epoch 39/120\n",
      "5/5 [==============================] - 3s 682ms/step - loss: 0.4402 - acc: 0.8051 - precision_1: 0.7929 - recall_1: 0.8306 - val_loss: 0.3838 - val_acc: 0.8774 - val_precision_1: 0.0000e+00 - val_recall_1: 0.0000e+00\n",
      "Epoch 40/120\n",
      "5/5 [==============================] - 2s 453ms/step - loss: 0.3728 - acc: 0.8545 - precision_1: 0.8554 - recall_1: 0.8522 - val_loss: 0.3755 - val_acc: 0.8774 - val_precision_1: 0.0000e+00 - val_recall_1: 0.0000e+00\n",
      "Epoch 41/120\n",
      "5/5 [==============================] - 3s 375ms/step - loss: 0.3466 - acc: 0.8663 - precision_1: 0.8468 - recall_1: 0.8936 - val_loss: 0.3708 - val_acc: 0.8774 - val_precision_1: 0.0000e+00 - val_recall_1: 0.0000e+00\n",
      "Epoch 42/120\n",
      "5/5 [==============================] - 2s 320ms/step - loss: 0.3674 - acc: 0.8534 - precision_1: 0.8484 - recall_1: 0.8587 - val_loss: 0.3666 - val_acc: 0.8769 - val_precision_1: 0.0000e+00 - val_recall_1: 0.0000e+00\n",
      "Epoch 43/120\n",
      "5/5 [==============================] - 2s 473ms/step - loss: 0.3620 - acc: 0.8608 - precision_1: 0.8635 - recall_1: 0.8548 - val_loss: 0.3631 - val_acc: 0.8765 - val_precision_1: 0.0000e+00 - val_recall_1: 0.0000e+00\n",
      "Epoch 44/120\n",
      "5/5 [==============================] - 2s 439ms/step - loss: 0.3765 - acc: 0.8523 - precision_1: 0.8601 - recall_1: 0.8447 - val_loss: 0.3621 - val_acc: 0.8765 - val_precision_1: 0.0000e+00 - val_recall_1: 0.0000e+00\n",
      "Epoch 45/120\n",
      "5/5 [==============================] - 2s 555ms/step - loss: 0.4761 - acc: 0.7934 - precision_1: 0.8225 - recall_1: 0.7724 - val_loss: 0.3582 - val_acc: 0.8766 - val_precision_1: 0.0000e+00 - val_recall_1: 0.0000e+00\n",
      "Epoch 46/120\n",
      "5/5 [==============================] - 2s 562ms/step - loss: 0.4833 - acc: 0.7952 - precision_1: 0.8178 - recall_1: 0.7871 - val_loss: 0.3564 - val_acc: 0.8774 - val_precision_1: 0.0000e+00 - val_recall_1: 0.0000e+00\n",
      "Epoch 47/120\n",
      "5/5 [==============================] - 2s 347ms/step - loss: 0.3401 - acc: 0.8710 - precision_1: 0.8556 - recall_1: 0.8886 - val_loss: 0.3573 - val_acc: 0.8774 - val_precision_1: 0.0000e+00 - val_recall_1: 0.0000e+00\n",
      "Epoch 48/120\n",
      "5/5 [==============================] - 2s 422ms/step - loss: 0.4012 - acc: 0.8373 - precision_1: 0.8597 - recall_1: 0.8070 - val_loss: 0.3535 - val_acc: 0.8774 - val_precision_1: 0.0000e+00 - val_recall_1: 0.0000e+00\n",
      "Epoch 49/120\n",
      "5/5 [==============================] - 2s 360ms/step - loss: 0.3684 - acc: 0.8491 - precision_1: 0.8544 - recall_1: 0.8398 - val_loss: 0.3482 - val_acc: 0.8774 - val_precision_1: 0.0000e+00 - val_recall_1: 0.0000e+00\n",
      "Epoch 50/120\n",
      "5/5 [==============================] - 2s 470ms/step - loss: 0.4100 - acc: 0.8386 - precision_1: 0.8440 - recall_1: 0.8427 - val_loss: 0.3453 - val_acc: 0.8774 - val_precision_1: 0.0000e+00 - val_recall_1: 0.0000e+00\n",
      "Epoch 51/120\n",
      "5/5 [==============================] - 2s 454ms/step - loss: 0.3861 - acc: 0.8526 - precision_1: 0.8433 - recall_1: 0.8738 - val_loss: 0.3452 - val_acc: 0.8774 - val_precision_1: 0.0000e+00 - val_recall_1: 0.0000e+00\n",
      "Epoch 52/120\n",
      "5/5 [==============================] - 2s 427ms/step - loss: 0.3451 - acc: 0.8659 - precision_1: 0.8603 - recall_1: 0.8755 - val_loss: 0.3410 - val_acc: 0.8774 - val_precision_1: 0.0000e+00 - val_recall_1: 0.0000e+00\n",
      "Epoch 53/120\n",
      "5/5 [==============================] - 2s 354ms/step - loss: 0.3882 - acc: 0.8430 - precision_1: 0.8566 - recall_1: 0.8210 - val_loss: 0.3430 - val_acc: 0.8774 - val_precision_1: 0.0000e+00 - val_recall_1: 0.0000e+00\n",
      "Epoch 54/120\n",
      "5/5 [==============================] - 3s 634ms/step - loss: 0.3453 - acc: 0.8743 - precision_1: 0.8665 - recall_1: 0.8841 - val_loss: 0.3422 - val_acc: 0.8774 - val_precision_1: 0.0000e+00 - val_recall_1: 0.0000e+00\n",
      "Epoch 55/120\n",
      "5/5 [==============================] - 2s 468ms/step - loss: 0.3515 - acc: 0.8533 - precision_1: 0.8283 - recall_1: 0.8906 - val_loss: 0.3444 - val_acc: 0.8771 - val_precision_1: 0.0000e+00 - val_recall_1: 0.0000e+00\n",
      "Epoch 56/120\n",
      "5/5 [==============================] - 3s 488ms/step - loss: 0.4107 - acc: 0.8310 - precision_1: 0.8759 - recall_1: 0.7769 - val_loss: 0.3336 - val_acc: 0.8770 - val_precision_1: 0.0000e+00 - val_recall_1: 0.0000e+00\n",
      "Epoch 57/120\n",
      "5/5 [==============================] - 2s 528ms/step - loss: 0.3415 - acc: 0.8626 - precision_1: 0.8464 - recall_1: 0.8850 - val_loss: 0.3321 - val_acc: 0.8766 - val_precision_1: 0.0000e+00 - val_recall_1: 0.0000e+00\n",
      "Epoch 58/120\n",
      "5/5 [==============================] - 2s 460ms/step - loss: 0.3649 - acc: 0.8644 - precision_1: 0.8675 - recall_1: 0.8613 - val_loss: 0.3320 - val_acc: 0.8767 - val_precision_1: 0.0000e+00 - val_recall_1: 0.0000e+00\n",
      "Epoch 59/120\n",
      "5/5 [==============================] - 3s 405ms/step - loss: 0.3241 - acc: 0.8719 - precision_1: 0.8425 - recall_1: 0.9123 - val_loss: 0.3360 - val_acc: 0.8770 - val_precision_1: 0.0000e+00 - val_recall_1: 0.0000e+00\n",
      "Epoch 60/120\n",
      "5/5 [==============================] - 3s 540ms/step - loss: 0.3347 - acc: 0.8655 - precision_1: 0.8653 - recall_1: 0.8635 - val_loss: 0.3352 - val_acc: 0.8770 - val_precision_1: 0.0000e+00 - val_recall_1: 0.0000e+00\n",
      "Epoch 61/120\n",
      "5/5 [==============================] - 2s 354ms/step - loss: 0.3478 - acc: 0.8612 - precision_1: 0.8483 - recall_1: 0.8780 - val_loss: 0.3346 - val_acc: 0.8769 - val_precision_1: 0.0000e+00 - val_recall_1: 0.0000e+00\n",
      "Epoch 62/120\n",
      "5/5 [==============================] - 2s 378ms/step - loss: 0.3700 - acc: 0.8619 - precision_1: 0.8767 - recall_1: 0.8437 - val_loss: 0.3303 - val_acc: 0.8771 - val_precision_1: 0.0000e+00 - val_recall_1: 0.0000e+00\n",
      "Epoch 63/120\n",
      "5/5 [==============================] - 2s 358ms/step - loss: 0.3297 - acc: 0.8696 - precision_1: 0.8559 - recall_1: 0.8863 - val_loss: 0.3262 - val_acc: 0.8770 - val_precision_1: 0.0000e+00 - val_recall_1: 0.0000e+00\n",
      "Epoch 64/120\n",
      "5/5 [==============================] - 2s 436ms/step - loss: 0.3436 - acc: 0.8709 - precision_1: 0.8560 - recall_1: 0.8921 - val_loss: 0.3270 - val_acc: 0.8770 - val_precision_1: 0.0000e+00 - val_recall_1: 0.0000e+00\n",
      "Epoch 65/120\n",
      "5/5 [==============================] - 2s 458ms/step - loss: 0.3669 - acc: 0.8557 - precision_1: 0.8422 - recall_1: 0.8809 - val_loss: 0.3241 - val_acc: 0.8774 - val_precision_1: 0.0000e+00 - val_recall_1: 0.0000e+00\n",
      "Epoch 66/120\n",
      "5/5 [==============================] - 2s 468ms/step - loss: 0.3332 - acc: 0.8762 - precision_1: 0.8628 - recall_1: 0.8983 - val_loss: 0.3265 - val_acc: 0.8774 - val_precision_1: 0.0000e+00 - val_recall_1: 0.0000e+00\n",
      "Epoch 67/120\n",
      "5/5 [==============================] - 2s 352ms/step - loss: 0.3358 - acc: 0.8776 - precision_1: 0.8790 - recall_1: 0.8754 - val_loss: 0.3319 - val_acc: 0.8774 - val_precision_1: 0.0000e+00 - val_recall_1: 0.0000e+00\n",
      "Epoch 68/120\n",
      "5/5 [==============================] - 2s 427ms/step - loss: 0.3667 - acc: 0.8512 - precision_1: 0.8750 - recall_1: 0.8224 - val_loss: 0.3312 - val_acc: 0.8774 - val_precision_1: 0.0000e+00 - val_recall_1: 0.0000e+00\n",
      "Epoch 69/120\n",
      "5/5 [==============================] - 2s 369ms/step - loss: 0.3579 - acc: 0.8692 - precision_1: 0.8761 - recall_1: 0.8625 - val_loss: 0.3200 - val_acc: 0.8774 - val_precision_1: 0.0000e+00 - val_recall_1: 0.0000e+00\n",
      "Epoch 70/120\n",
      "5/5 [==============================] - 2s 487ms/step - loss: 0.3922 - acc: 0.8386 - precision_1: 0.8406 - recall_1: 0.8586 - val_loss: 0.3185 - val_acc: 0.8774 - val_precision_1: 0.0000e+00 - val_recall_1: 0.0000e+00\n",
      "Epoch 71/120\n",
      "5/5 [==============================] - 3s 639ms/step - loss: 0.4271 - acc: 0.8212 - precision_1: 0.8327 - recall_1: 0.8099 - val_loss: 0.3218 - val_acc: 0.8774 - val_precision_1: 0.0000e+00 - val_recall_1: 0.0000e+00\n",
      "Epoch 72/120\n",
      "5/5 [==============================] - 2s 350ms/step - loss: 0.3059 - acc: 0.8853 - precision_1: 0.8768 - recall_1: 0.8965 - val_loss: 0.3301 - val_acc: 0.8774 - val_precision_1: 0.0000e+00 - val_recall_1: 0.0000e+00\n"
     ]
    },
    {
     "name": "stdout",
     "output_type": "stream",
     "text": [
      "Epoch 73/120\n",
      "5/5 [==============================] - 2s 561ms/step - loss: 0.3745 - acc: 0.8537 - precision_1: 0.8673 - recall_1: 0.8479 - val_loss: 0.3154 - val_acc: 0.8774 - val_precision_1: 0.0000e+00 - val_recall_1: 0.0000e+00\n",
      "Epoch 74/120\n",
      "5/5 [==============================] - 3s 644ms/step - loss: 0.3357 - acc: 0.8708 - precision_1: 0.8615 - recall_1: 0.8934 - val_loss: 0.3058 - val_acc: 0.8774 - val_precision_1: 0.0000e+00 - val_recall_1: 0.0000e+00\n",
      "Epoch 75/120\n",
      "5/5 [==============================] - 2s 547ms/step - loss: 0.3868 - acc: 0.8461 - precision_1: 0.8574 - recall_1: 0.8520 - val_loss: 0.3125 - val_acc: 0.8774 - val_precision_1: 0.0000e+00 - val_recall_1: 0.0000e+00\n",
      "Epoch 76/120\n",
      "5/5 [==============================] - 2s 420ms/step - loss: 0.3553 - acc: 0.8618 - precision_1: 0.8919 - recall_1: 0.8216 - val_loss: 0.3192 - val_acc: 0.8774 - val_precision_1: 0.0000e+00 - val_recall_1: 0.0000e+00\n",
      "Epoch 77/120\n",
      "5/5 [==============================] - 2s 497ms/step - loss: 0.3616 - acc: 0.8641 - precision_1: 0.8625 - recall_1: 0.8813 - val_loss: 0.3218 - val_acc: 0.8774 - val_precision_1: 0.0000e+00 - val_recall_1: 0.0000e+00\n",
      "Epoch 78/120\n",
      "5/5 [==============================] - 2s 310ms/step - loss: 0.2908 - acc: 0.8928 - precision_1: 0.8771 - recall_1: 0.9103 - val_loss: 0.3178 - val_acc: 0.8774 - val_precision_1: 0.0000e+00 - val_recall_1: 0.0000e+00\n",
      "Epoch 79/120\n",
      "5/5 [==============================] - 2s 450ms/step - loss: 0.3671 - acc: 0.8584 - precision_1: 0.8658 - recall_1: 0.8620 - val_loss: 0.3136 - val_acc: 0.8774 - val_precision_1: 0.0000e+00 - val_recall_1: 0.0000e+00\n",
      "Epoch 80/120\n",
      "5/5 [==============================] - 2s 312ms/step - loss: 0.2938 - acc: 0.8891 - precision_1: 0.8644 - recall_1: 0.9203 - val_loss: 0.3116 - val_acc: 0.8774 - val_precision_1: 0.0000e+00 - val_recall_1: 0.0000e+00\n",
      "Epoch 81/120\n",
      "5/5 [==============================] - 3s 549ms/step - loss: 0.3309 - acc: 0.8575 - precision_1: 0.8376 - recall_1: 0.8909 - val_loss: 0.3137 - val_acc: 0.8774 - val_precision_1: 0.0000e+00 - val_recall_1: 0.0000e+00\n",
      "Epoch 82/120\n",
      "5/5 [==============================] - 2s 401ms/step - loss: 0.3563 - acc: 0.8628 - precision_1: 0.8753 - recall_1: 0.8486 - val_loss: 0.3091 - val_acc: 0.8774 - val_precision_1: 0.0000e+00 - val_recall_1: 0.0000e+00\n",
      "Epoch 83/120\n",
      "5/5 [==============================] - 2s 571ms/step - loss: 0.3401 - acc: 0.8654 - precision_1: 0.8508 - recall_1: 0.8958 - val_loss: 0.3035 - val_acc: 0.8774 - val_precision_1: 0.0000e+00 - val_recall_1: 0.0000e+00\n",
      "Epoch 84/120\n",
      "5/5 [==============================] - 2s 490ms/step - loss: 0.3453 - acc: 0.8505 - precision_1: 0.8473 - recall_1: 0.8549 - val_loss: 0.3081 - val_acc: 0.8774 - val_precision_1: 0.0000e+00 - val_recall_1: 0.0000e+00\n",
      "Epoch 85/120\n",
      "5/5 [==============================] - 2s 312ms/step - loss: 0.3108 - acc: 0.8812 - precision_1: 0.8905 - recall_1: 0.8682 - val_loss: 0.3048 - val_acc: 0.8774 - val_precision_1: 0.0000e+00 - val_recall_1: 0.0000e+00\n",
      "Epoch 86/120\n",
      "5/5 [==============================] - 2s 471ms/step - loss: 0.3219 - acc: 0.8800 - precision_1: 0.8697 - recall_1: 0.9012 - val_loss: 0.3079 - val_acc: 0.8774 - val_precision_1: 0.0000e+00 - val_recall_1: 0.0000e+00\n",
      "Epoch 87/120\n",
      "5/5 [==============================] - 2s 354ms/step - loss: 0.3301 - acc: 0.8812 - precision_1: 0.8939 - recall_1: 0.8656 - val_loss: 0.3100 - val_acc: 0.8774 - val_precision_1: 0.0000e+00 - val_recall_1: 0.0000e+00\n",
      "Epoch 88/120\n",
      "5/5 [==============================] - 2s 245ms/step - loss: 0.3320 - acc: 0.8708 - precision_1: 0.8870 - recall_1: 0.8488 - val_loss: 0.3062 - val_acc: 0.8774 - val_precision_1: 0.0000e+00 - val_recall_1: 0.0000e+00\n",
      "Epoch 89/120\n",
      "5/5 [==============================] - 2s 344ms/step - loss: 0.3394 - acc: 0.8696 - precision_1: 0.8699 - recall_1: 0.8705 - val_loss: 0.3139 - val_acc: 0.8774 - val_precision_1: 0.0000e+00 - val_recall_1: 0.0000e+00\n",
      "Epoch 90/120\n",
      "5/5 [==============================] - 2s 181ms/step - loss: 0.3665 - acc: 0.8395 - precision_1: 0.8448 - recall_1: 0.8288 - val_loss: 0.3199 - val_acc: 0.8774 - val_precision_1: 0.0000e+00 - val_recall_1: 0.0000e+00\n",
      "Epoch 91/120\n",
      "5/5 [==============================] - 2s 497ms/step - loss: 0.3872 - acc: 0.8389 - precision_1: 0.8529 - recall_1: 0.8288 - val_loss: 0.3052 - val_acc: 0.8774 - val_precision_1: 0.0000e+00 - val_recall_1: 0.0000e+00\n",
      "Epoch 92/120\n",
      "5/5 [==============================] - 2s 337ms/step - loss: 0.2941 - acc: 0.8871 - precision_1: 0.8758 - recall_1: 0.9001 - val_loss: 0.2996 - val_acc: 0.8774 - val_precision_1: 0.0000e+00 - val_recall_1: 0.0000e+00\n",
      "Epoch 93/120\n",
      "5/5 [==============================] - 2s 552ms/step - loss: 0.3808 - acc: 0.8491 - precision_1: 0.8675 - recall_1: 0.8336 - val_loss: 0.2964 - val_acc: 0.8774 - val_precision_1: 0.0000e+00 - val_recall_1: 0.0000e+00\n",
      "Epoch 94/120\n",
      "5/5 [==============================] - 2s 515ms/step - loss: 0.3801 - acc: 0.8319 - precision_1: 0.8340 - recall_1: 0.8390 - val_loss: 0.2963 - val_acc: 0.8774 - val_precision_1: 0.0000e+00 - val_recall_1: 0.0000e+00\n",
      "Epoch 95/120\n",
      "5/5 [==============================] - 2s 487ms/step - loss: 0.3372 - acc: 0.8662 - precision_1: 0.8614 - recall_1: 0.8806 - val_loss: 0.2993 - val_acc: 0.8774 - val_precision_1: 0.0000e+00 - val_recall_1: 0.0000e+00\n",
      "Epoch 96/120\n",
      "5/5 [==============================] - 2s 461ms/step - loss: 0.3629 - acc: 0.8640 - precision_1: 0.8698 - recall_1: 0.8681 - val_loss: 0.3057 - val_acc: 0.8774 - val_precision_1: 0.0000e+00 - val_recall_1: 0.0000e+00\n",
      "Epoch 97/120\n",
      "5/5 [==============================] - 2s 459ms/step - loss: 0.3315 - acc: 0.8790 - precision_1: 0.8829 - recall_1: 0.8712 - val_loss: 0.3076 - val_acc: 0.8774 - val_precision_1: 0.0000e+00 - val_recall_1: 0.0000e+00\n",
      "Epoch 98/120\n",
      "5/5 [==============================] - 2s 339ms/step - loss: 0.3230 - acc: 0.8795 - precision_1: 0.9047 - recall_1: 0.8452 - val_loss: 0.3062 - val_acc: 0.8774 - val_precision_1: 0.0000e+00 - val_recall_1: 0.0000e+00\n",
      "Epoch 99/120\n",
      "5/5 [==============================] - 2s 461ms/step - loss: 0.3584 - acc: 0.8598 - precision_1: 0.8669 - recall_1: 0.8616 - val_loss: 0.3019 - val_acc: 0.8774 - val_precision_1: 0.0000e+00 - val_recall_1: 0.0000e+00\n",
      "Epoch 100/120\n",
      "5/5 [==============================] - 2s 461ms/step - loss: 0.3090 - acc: 0.8690 - precision_1: 0.8436 - recall_1: 0.9054 - val_loss: 0.2880 - val_acc: 0.8774 - val_precision_1: 0.0000e+00 - val_recall_1: 0.0000e+00\n",
      "Epoch 101/120\n",
      "5/5 [==============================] - 2s 453ms/step - loss: 0.3297 - acc: 0.8757 - precision_1: 0.8994 - recall_1: 0.8489 - val_loss: 0.2768 - val_acc: 0.8774 - val_precision_1: 0.5000 - val_recall_1: 0.0011\n",
      "Epoch 102/120\n",
      "5/5 [==============================] - 2s 329ms/step - loss: 0.3048 - acc: 0.8758 - precision_1: 0.8511 - recall_1: 0.9080 - val_loss: 0.2815 - val_acc: 0.8774 - val_precision_1: 0.0000e+00 - val_recall_1: 0.0000e+00\n",
      "Epoch 103/120\n",
      "5/5 [==============================] - 2s 511ms/step - loss: 0.3159 - acc: 0.8867 - precision_1: 0.8800 - recall_1: 0.8960 - val_loss: 0.2955 - val_acc: 0.8774 - val_precision_1: 0.0000e+00 - val_recall_1: 0.0000e+00\n",
      "Epoch 104/120\n",
      "5/5 [==============================] - 3s 629ms/step - loss: 0.3697 - acc: 0.8545 - precision_1: 0.8382 - recall_1: 0.8972 - val_loss: 0.2960 - val_acc: 0.8771 - val_precision_1: 0.0000e+00 - val_recall_1: 0.0000e+00\n",
      "Epoch 105/120\n",
      "5/5 [==============================] - 2s 516ms/step - loss: 0.3233 - acc: 0.8806 - precision_1: 0.8705 - recall_1: 0.8950 - val_loss: 0.2960 - val_acc: 0.8774 - val_precision_1: 0.0000e+00 - val_recall_1: 0.0000e+00\n",
      "Epoch 106/120\n",
      "5/5 [==============================] - 2s 536ms/step - loss: 0.4093 - acc: 0.8417 - precision_1: 0.8673 - recall_1: 0.8320 - val_loss: 0.3048 - val_acc: 0.8770 - val_precision_1: 0.0000e+00 - val_recall_1: 0.0000e+00\n",
      "Epoch 107/120\n",
      "5/5 [==============================] - 2s 386ms/step - loss: 0.3501 - acc: 0.8676 - precision_1: 0.9007 - recall_1: 0.8276 - val_loss: 0.3056 - val_acc: 0.8767 - val_precision_1: 0.0000e+00 - val_recall_1: 0.0000e+00\n",
      "Epoch 108/120\n",
      "5/5 [==============================] - 2s 504ms/step - loss: 0.3462 - acc: 0.8743 - precision_1: 0.8854 - recall_1: 0.8740 - val_loss: 0.2941 - val_acc: 0.8771 - val_precision_1: 0.0000e+00 - val_recall_1: 0.0000e+00\n"
     ]
    },
    {
     "name": "stdout",
     "output_type": "stream",
     "text": [
      "Epoch 109/120\n",
      "5/5 [==============================] - 2s 321ms/step - loss: 0.2971 - acc: 0.8966 - precision_1: 0.8843 - recall_1: 0.9101 - val_loss: 0.2826 - val_acc: 0.8769 - val_precision_1: 0.0000e+00 - val_recall_1: 0.0000e+00\n",
      "Epoch 110/120\n",
      "5/5 [==============================] - 2s 351ms/step - loss: 0.2832 - acc: 0.9021 - precision_1: 0.9061 - recall_1: 0.8971 - val_loss: 0.2829 - val_acc: 0.8758 - val_precision_1: 0.0714 - val_recall_1: 0.0011\n",
      "Epoch 111/120\n",
      "5/5 [==============================] - 2s 517ms/step - loss: 0.3272 - acc: 0.8706 - precision_1: 0.8747 - recall_1: 0.8710 - val_loss: 0.3003 - val_acc: 0.8758 - val_precision_1: 0.0000e+00 - val_recall_1: 0.0000e+00\n",
      "Epoch 112/120\n",
      "5/5 [==============================] - 2s 520ms/step - loss: 0.4295 - acc: 0.8163 - precision_1: 0.8802 - recall_1: 0.7568 - val_loss: 0.3075 - val_acc: 0.8742 - val_precision_1: 0.0000e+00 - val_recall_1: 0.0000e+00\n",
      "Epoch 113/120\n",
      "5/5 [==============================] - 2s 468ms/step - loss: 0.2802 - acc: 0.8906 - precision_1: 0.8935 - recall_1: 0.8872 - val_loss: 0.2990 - val_acc: 0.8710 - val_precision_1: 0.0000e+00 - val_recall_1: 0.0000e+00\n",
      "Epoch 114/120\n",
      "5/5 [==============================] - 2s 527ms/step - loss: 0.3210 - acc: 0.8753 - precision_1: 0.8843 - recall_1: 0.8734 - val_loss: 0.2909 - val_acc: 0.8674 - val_precision_1: 0.0253 - val_recall_1: 0.0022\n",
      "Epoch 115/120\n",
      "5/5 [==============================] - 2s 358ms/step - loss: 0.2870 - acc: 0.8905 - precision_1: 0.8949 - recall_1: 0.8826 - val_loss: 0.2950 - val_acc: 0.8621 - val_precision_1: 0.0746 - val_recall_1: 0.0109\n",
      "Epoch 116/120\n",
      "5/5 [==============================] - 2s 269ms/step - loss: 0.3100 - acc: 0.8825 - precision_1: 0.8899 - recall_1: 0.8707 - val_loss: 0.3011 - val_acc: 0.8588 - val_precision_1: 0.0629 - val_recall_1: 0.0109\n",
      "Epoch 117/120\n",
      "5/5 [==============================] - 2s 502ms/step - loss: 0.3380 - acc: 0.8689 - precision_1: 0.8662 - recall_1: 0.8846 - val_loss: 0.2894 - val_acc: 0.8650 - val_precision_1: 0.2281 - val_recall_1: 0.0425\n",
      "Epoch 118/120\n",
      "5/5 [==============================] - 2s 494ms/step - loss: 0.2625 - acc: 0.9037 - precision_1: 0.9011 - recall_1: 0.9067 - val_loss: 0.2796 - val_acc: 0.8724 - val_precision_1: 0.4302 - val_recall_1: 0.1243\n",
      "Epoch 119/120\n",
      "5/5 [==============================] - 2s 396ms/step - loss: 0.3258 - acc: 0.8797 - precision_1: 0.8947 - recall_1: 0.8630 - val_loss: 0.2745 - val_acc: 0.8742 - val_precision_1: 0.4645 - val_recall_1: 0.1712\n",
      "Epoch 120/120\n",
      "5/5 [==============================] - 2s 276ms/step - loss: 0.3177 - acc: 0.8797 - precision_1: 0.8896 - recall_1: 0.8640 - val_loss: 0.2776 - val_acc: 0.8666 - val_precision_1: 0.3116 - val_recall_1: 0.0731\n"
     ]
    }
   ],
   "source": [
    "epochs = 120\n",
    "loader_tr, loader_va, loader_te = load_tr_data(epochs)\n",
    "history = model.fit(\n",
    "    loader_tr.load(),\n",
    "    steps_per_epoch=loader_tr.steps_per_epoch,\n",
    "    validation_data=loader_va.load(),\n",
    "    validation_steps=loader_va.steps_per_epoch,\n",
    "    epochs=epochs,\n",
    "    class_weight=weights,\n",
    "    callbacks=callback_GCN\n",
    ")"
   ]
  },
  {
   "cell_type": "code",
   "execution_count": 33,
   "metadata": {},
   "outputs": [
    {
     "data": {
      "text/plain": [
       "Reusing TensorBoard on port 6007 (pid 59749), started 0:01:37 ago. (Use '!kill 59749' to kill it.)"
      ]
     },
     "metadata": {},
     "output_type": "display_data"
    },
    {
     "data": {
      "text/html": [
       "\n",
       "      <iframe id=\"tensorboard-frame-2f5e62fe31acaa13\" width=\"100%\" height=\"800\" frameborder=\"0\">\n",
       "      </iframe>\n",
       "      <script>\n",
       "        (function() {\n",
       "          const frame = document.getElementById(\"tensorboard-frame-2f5e62fe31acaa13\");\n",
       "          const url = new URL(\"/\", window.location);\n",
       "          const port = 6007;\n",
       "          if (port) {\n",
       "            url.port = port;\n",
       "          }\n",
       "          frame.src = url;\n",
       "        })();\n",
       "      </script>\n",
       "    "
      ],
      "text/plain": [
       "<IPython.core.display.HTML object>"
      ]
     },
     "metadata": {},
     "output_type": "display_data"
    }
   ],
   "source": [
    "%tensorboard --logdir {tfcallback_dir}"
   ]
  },
  {
   "cell_type": "code",
   "execution_count": 34,
   "metadata": {},
   "outputs": [
    {
     "name": "stdout",
     "output_type": "stream",
     "text": [
      "1/1 [==============================] - 0s 460ms/step - loss: 0.3017 - acc: 0.8385 - precision_1: 0.3033 - recall_1: 0.4346\n",
      "Done. Test loss: [0.30170050263404846, 0.8384600281715393, 0.3033313453197479, 0.4346104562282562]\n"
     ]
    }
   ],
   "source": [
    "model_loss = model.evaluate(loader_te.load(), steps=loader_te.steps_per_epoch)\n",
    "print(\"Done. Test loss: {}\".format(model_loss))"
   ]
  },
  {
   "cell_type": "code",
   "execution_count": 35,
   "metadata": {},
   "outputs": [
    {
     "name": "stdout",
     "output_type": "stream",
     "text": [
      "2\n",
      "GCN Classification Report: \n",
      "               precision    recall  f1-score   support\n",
      "\n",
      "         0.0       1.00      0.84      0.92       449\n",
      "         1.0       0.42      1.00      0.59        50\n",
      "\n",
      "    accuracy                           0.86       499\n",
      "   macro avg       0.71      0.92      0.75       499\n",
      "weighted avg       0.94      0.86      0.88       499\n",
      "\n",
      "GCN Classification Report: \n",
      "               precision    recall  f1-score   support\n",
      "\n",
      "         0.0       0.93      0.89      0.91     80649\n",
      "         1.0       0.30      0.43      0.36      9294\n",
      "\n",
      "    accuracy                           0.84     89943\n",
      "   macro avg       0.62      0.66      0.63     89943\n",
      "weighted avg       0.87      0.84      0.85     89943\n",
      "\n"
     ]
    }
   ],
   "source": [
    "from sklearn.metrics import classification_report\n",
    "print(len(dataset_te))\n",
    "for test_data in dataset_te:\n",
    "    X_te = test_data.x\n",
    "    A_te = test_data.a\n",
    "    y_te = test_data.y\n",
    "\n",
    "    y_pred = model.predict([X_te, A_te, A_te], batch_size=X_te.shape[0])\n",
    "    report = classification_report(y_te, (y_pred >= 0.5).astype(int))\n",
    "    print('GCN Classification Report: \\n {}'.format(report))"
   ]
  },
  {
   "cell_type": "code",
   "execution_count": 36,
   "metadata": {
    "colab": {
     "base_uri": "https://localhost:8080/"
    },
    "id": "9nxKznEH4ltT",
    "outputId": "e9cdb608-825d-4611-b2c8-f60932e3a0ae"
   },
   "outputs": [
    {
     "name": "stdout",
     "output_type": "stream",
     "text": [
      "2\n",
      "GCN Classification Report: \n",
      "               precision    recall  f1-score   support\n",
      "\n",
      "         0.0       0.90      0.99      0.94      4716\n",
      "         1.0       0.62      0.10      0.17       599\n",
      "\n",
      "    accuracy                           0.89      5315\n",
      "   macro avg       0.76      0.55      0.56      5315\n",
      "weighted avg       0.87      0.89      0.86      5315\n",
      "\n",
      "GCN Classification Report: \n",
      "               precision    recall  f1-score   support\n",
      "\n",
      "         0.0       0.85      0.94      0.89      1846\n",
      "         1.0       0.06      0.02      0.03       318\n",
      "\n",
      "    accuracy                           0.80      2164\n",
      "   macro avg       0.45      0.48      0.46      2164\n",
      "weighted avg       0.73      0.80      0.77      2164\n",
      "\n"
     ]
    }
   ],
   "source": [
    "from sklearn.metrics import classification_report\n",
    "print(len(dataset_va))\n",
    "for test_data in dataset_va:\n",
    "    X_te = test_data.x\n",
    "    A_te = test_data.a\n",
    "    y_te = test_data.y\n",
    "\n",
    "    y_pred = model.predict([X_te, A_te, A_te], batch_size=X_te.shape[0])\n",
    "    report = classification_report(y_te, (y_pred >= 0.5).astype(int))\n",
    "    print('GCN Classification Report: \\n {}'.format(report))"
   ]
  },
  {
   "cell_type": "code",
   "execution_count": 37,
   "metadata": {
    "scrolled": true
   },
   "outputs": [
    {
     "name": "stdout",
     "output_type": "stream",
     "text": [
      "14\n",
      "GCN Classification Report: \n",
      "               precision    recall  f1-score   support\n",
      "\n",
      "         0.0       0.93      1.00      0.96     15048\n",
      "         1.0       1.00      0.33      0.50      1723\n",
      "\n",
      "    accuracy                           0.93     16771\n",
      "   macro avg       0.96      0.67      0.73     16771\n",
      "weighted avg       0.94      0.93      0.92     16771\n",
      "\n",
      "GCN Classification Report: \n",
      "               precision    recall  f1-score   support\n",
      "\n",
      "         0.0       0.98      0.91      0.95     45110\n",
      "         1.0       0.52      0.87      0.65      5012\n",
      "\n",
      "    accuracy                           0.91     50122\n",
      "   macro avg       0.75      0.89      0.80     50122\n",
      "weighted avg       0.94      0.91      0.92     50122\n",
      "\n",
      "GCN Classification Report: \n",
      "               precision    recall  f1-score   support\n",
      "\n",
      "         0.0       0.85      0.63      0.72       750\n",
      "         1.0       0.27      0.56      0.36       186\n",
      "\n",
      "    accuracy                           0.61       936\n",
      "   macro avg       0.56      0.59      0.54       936\n",
      "weighted avg       0.74      0.61      0.65       936\n",
      "\n",
      "GCN Classification Report: \n",
      "               precision    recall  f1-score   support\n",
      "\n",
      "         0.0       0.92      0.92      0.92      1163\n",
      "         1.0       0.52      0.50      0.51       192\n",
      "\n",
      "    accuracy                           0.86      1355\n",
      "   macro avg       0.72      0.71      0.72      1355\n",
      "weighted avg       0.86      0.86      0.86      1355\n",
      "\n",
      "GCN Classification Report: \n",
      "               precision    recall  f1-score   support\n",
      "\n",
      "         0.0       0.93      1.00      0.96      3134\n",
      "         1.0       0.99      0.44      0.61       406\n",
      "\n",
      "    accuracy                           0.93      3540\n",
      "   macro avg       0.96      0.72      0.78      3540\n",
      "weighted avg       0.94      0.93      0.92      3540\n",
      "\n",
      "GCN Classification Report: \n",
      "               precision    recall  f1-score   support\n",
      "\n",
      "         0.0       0.93      0.99      0.96     32589\n",
      "         1.0       0.86      0.32      0.47      3763\n",
      "\n",
      "    accuracy                           0.92     36352\n",
      "   macro avg       0.90      0.66      0.71     36352\n",
      "weighted avg       0.92      0.92      0.91     36352\n",
      "\n",
      "GCN Classification Report: \n",
      "               precision    recall  f1-score   support\n",
      "\n",
      "         0.0       0.89      0.95      0.92       681\n",
      "         1.0       0.08      0.04      0.05        80\n",
      "\n",
      "    accuracy                           0.85       761\n",
      "   macro avg       0.49      0.49      0.48       761\n",
      "weighted avg       0.81      0.85      0.83       761\n",
      "\n",
      "GCN Classification Report: \n",
      "               precision    recall  f1-score   support\n",
      "\n",
      "         0.0       0.94      0.97      0.95      3145\n",
      "         1.0       0.64      0.40      0.49       350\n",
      "\n",
      "    accuracy                           0.92      3495\n",
      "   macro avg       0.79      0.69      0.72      3495\n",
      "weighted avg       0.91      0.92      0.91      3495\n",
      "\n",
      "GCN Classification Report: \n",
      "               precision    recall  f1-score   support\n",
      "\n",
      "         0.0       0.89      1.00      0.94       766\n",
      "         1.0       0.95      0.18      0.31       114\n",
      "\n",
      "    accuracy                           0.89       880\n",
      "   macro avg       0.92      0.59      0.63       880\n",
      "weighted avg       0.90      0.89      0.86       880\n",
      "\n",
      "GCN Classification Report: \n",
      "               precision    recall  f1-score   support\n",
      "\n",
      "         0.0       1.00      0.98      0.99      8956\n",
      "         1.0       0.87      1.00      0.93      1040\n",
      "\n",
      "    accuracy                           0.98      9996\n",
      "   macro avg       0.93      0.99      0.96      9996\n",
      "weighted avg       0.99      0.98      0.98      9996\n",
      "\n",
      "GCN Classification Report: \n",
      "               precision    recall  f1-score   support\n",
      "\n",
      "         0.0       0.91      0.98      0.95      3572\n",
      "         1.0       0.84      0.46      0.59       637\n",
      "\n",
      "    accuracy                           0.90      4209\n",
      "   macro avg       0.87      0.72      0.77      4209\n",
      "weighted avg       0.90      0.90      0.89      4209\n",
      "\n",
      "GCN Classification Report: \n",
      "               precision    recall  f1-score   support\n",
      "\n",
      "         0.0       0.98      0.76      0.86      5442\n",
      "         1.0       0.37      0.92      0.53       846\n",
      "\n",
      "    accuracy                           0.78      6288\n",
      "   macro avg       0.68      0.84      0.70      6288\n",
      "weighted avg       0.90      0.78      0.81      6288\n",
      "\n",
      "GCN Classification Report: \n",
      "               precision    recall  f1-score   support\n",
      "\n",
      "         0.0       0.89      0.98      0.93      1651\n",
      "         1.0       0.62      0.20      0.30       257\n",
      "\n",
      "    accuracy                           0.88      1908\n",
      "   macro avg       0.75      0.59      0.62      1908\n",
      "weighted avg       0.85      0.88      0.85      1908\n",
      "\n",
      "GCN Classification Report: \n",
      "               precision    recall  f1-score   support\n",
      "\n",
      "         0.0       0.86      1.00      0.93       372\n",
      "         1.0       0.67      0.03      0.06        60\n",
      "\n",
      "    accuracy                           0.86       432\n",
      "   macro avg       0.77      0.52      0.49       432\n",
      "weighted avg       0.84      0.86      0.81       432\n",
      "\n"
     ]
    }
   ],
   "source": [
    "from sklearn.metrics import classification_report\n",
    "print(len(dataset_tr))\n",
    "for test_data in dataset_tr:\n",
    "    X_te = test_data.x\n",
    "    A_te = test_data.a\n",
    "    y_te = test_data.y\n",
    "\n",
    "    y_pred = model.predict([X_te, A_te, A_te], batch_size=X_te.shape[0])\n",
    "    report = classification_report(y_te, (y_pred >= 0.5).astype(int))\n",
    "    print('GCN Classification Report: \\n {}'.format(report))"
   ]
  },
  {
   "cell_type": "code",
   "execution_count": 41,
   "metadata": {},
   "outputs": [
    {
     "name": "stderr",
     "output_type": "stream",
     "text": [
      "/Users/nikitaacharya/anaconda3/lib/python3.7/site-packages/ipykernel_launcher.py:1: VisibleDeprecationWarning: Creating an ndarray from ragged nested sequences (which is a list-or-tuple of lists-or-tuples-or ndarrays with different lengths or shapes) is deprecated. If you meant to do this, you must specify 'dtype=object' when creating the ndarray\n",
      "  \"\"\"Entry point for launching an IPython kernel.\n"
     ]
    }
   ],
   "source": [
    "df = pd.DataFrame(np.vstack(np.array([gr.x for gr in dataset_tr])), columns=['level', 'c0', 'c1', 'ob'])"
   ]
  },
  {
   "cell_type": "code",
   "execution_count": 42,
   "metadata": {},
   "outputs": [],
   "source": [
    "df['y'] = y_data"
   ]
  },
  {
   "cell_type": "code",
   "execution_count": 43,
   "metadata": {},
   "outputs": [
    {
     "name": "stdout",
     "output_type": "stream",
     "text": [
      "level\n",
      "\n",
      "c0\n",
      "\n",
      "c1\n",
      "\n",
      "ob\n",
      "\n"
     ]
    },
    {
     "data": {
      "image/png": "[encoded data removed]",
      "text/plain": [
       "<Figure size 432x288 with 2 Axes>"
      ]
     },
     "metadata": {
      "needs_background": "light"
     },
     "output_type": "display_data"
    },
    {
     "data": {
      "image/png": "[encoded data removed]",
      "text/plain": [
       "<Figure size 432x288 with 2 Axes>"
      ]
     },
     "metadata": {
      "needs_background": "light"
     },
     "output_type": "display_data"
    },
    {
     "data": {
      "image/png": "[encoded data removed]",
      "text/plain": [
       "<Figure size 432x288 with 2 Axes>"
      ]
     },
     "metadata": {
      "needs_background": "light"
     },
     "output_type": "display_data"
    },
    {
     "data": {
      "image/png": "[encoded data removed]",
      "text/plain": [
       "<Figure size 432x288 with 2 Axes>"
      ]
     },
     "metadata": {
      "needs_background": "light"
     },
     "output_type": "display_data"
    }
   ],
   "source": [
    "for col in ['level', 'c0', 'c1', 'ob']:\n",
    "    print(col)\n",
    "    df.hist(by='y', column=col, bins=40, sharex=True, sharey=True)\n",
    "    print('')"
   ]
  },
  {
   "cell_type": "code",
   "execution_count": 44,
   "metadata": {},
   "outputs": [
    {
     "data": {
      "text/plain": [
       "array([<matplotlib.axes._subplots.AxesSubplot object at 0x7ffcf97dc898>,\n",
       "       <matplotlib.axes._subplots.AxesSubplot object at 0x7ffcfbbb5d30>],\n",
       "      dtype=object)"
      ]
     },
     "execution_count": 44,
     "metadata": {},
     "output_type": "execute_result"
    },
    {
     "data": {
      "image/png": "[encoded data removed]",
      "text/plain": [
       "<Figure size 432x288 with 2 Axes>"
      ]
     },
     "metadata": {
      "needs_background": "light"
     },
     "output_type": "display_data"
    }
   ],
   "source": [
    "df.hist(by='y', bins=5, sharex=True, sharey=True)"
   ]
  },
  {
   "cell_type": "code",
   "execution_count": 45,
   "metadata": {},
   "outputs": [
    {
     "data": {
      "text/plain": [
       "array([<matplotlib.axes._subplots.AxesSubplot object at 0x7ffcfa311c88>,\n",
       "       <matplotlib.axes._subplots.AxesSubplot object at 0x7ffcf97492b0>],\n",
       "      dtype=object)"
      ]
     },
     "execution_count": 45,
     "metadata": {},
     "output_type": "execute_result"
    },
    {
     "data": {
      "image/png": "[encoded data removed]",
      "text/plain": [
       "<Figure size 432x288 with 2 Axes>"
      ]
     },
     "metadata": {
      "needs_background": "light"
     },
     "output_type": "display_data"
    }
   ],
   "source": [
    "df.hist(by='y', column='c1')"
   ]
  },
  {
   "cell_type": "code",
   "execution_count": 46,
   "metadata": {},
   "outputs": [
    {
     "name": "stderr",
     "output_type": "stream",
     "text": [
      "/Users/nikitaacharya/anaconda3/lib/python3.7/site-packages/ipykernel_launcher.py:1: VisibleDeprecationWarning: Creating an ndarray from ragged nested sequences (which is a list-or-tuple of lists-or-tuples-or ndarrays with different lengths or shapes) is deprecated. If you meant to do this, you must specify 'dtype=object' when creating the ndarray\n",
      "  \"\"\"Entry point for launching an IPython kernel.\n",
      "/Users/nikitaacharya/anaconda3/lib/python3.7/site-packages/ipykernel_launcher.py:2: VisibleDeprecationWarning: Creating an ndarray from ragged nested sequences (which is a list-or-tuple of lists-or-tuples-or ndarrays with different lengths or shapes) is deprecated. If you meant to do this, you must specify 'dtype=object' when creating the ndarray\n",
      "  \n"
     ]
    }
   ],
   "source": [
    "df_te = pd.DataFrame(np.vstack(np.array([gr.x for gr in dataset_te])), columns=['level', 'c0', 'c1', 'ob'])\n",
    "df_te['y'] = np.vstack(np.array([gr.y for gr in dataset_te]))\n",
    "                       "
   ]
  },
  {
   "cell_type": "code",
   "execution_count": 47,
   "metadata": {},
   "outputs": [
    {
     "name": "stdout",
     "output_type": "stream",
     "text": [
      "level\n",
      "\n",
      "c0\n",
      "\n",
      "c1\n",
      "\n",
      "ob\n",
      "\n"
     ]
    },
    {
     "data": {
      "image/png": "[encoded data removed]",
      "text/plain": [
       "<Figure size 432x288 with 2 Axes>"
      ]
     },
     "metadata": {
      "needs_background": "light"
     },
     "output_type": "display_data"
    },
    {
     "data": {
      "image/png": "[encoded data removed]",
      "text/plain": [
       "<Figure size 432x288 with 2 Axes>"
      ]
     },
     "metadata": {
      "needs_background": "light"
     },
     "output_type": "display_data"
    },
    {
     "data": {
      "image/png": "[encoded data removed]",
      "text/plain": [
       "<Figure size 432x288 with 2 Axes>"
      ]
     },
     "metadata": {
      "needs_background": "light"
     },
     "output_type": "display_data"
    },
    {
     "data": {
      "image/png": "[encoded data removed]",
      "text/plain": [
       "<Figure size 432x288 with 2 Axes>"
      ]
     },
     "metadata": {
      "needs_background": "light"
     },
     "output_type": "display_data"
    }
   ],
   "source": [
    "for col in ['level', 'c0', 'c1', 'ob']:\n",
    "    print(col)\n",
    "    df_te.hist(by='y', column=col, bins=40, sharex=True, sharey=True)\n",
    "    print('')"
   ]
  },
  {
   "cell_type": "code",
   "execution_count": 48,
   "metadata": {},
   "outputs": [],
   "source": [
    "def stratified_sample_df(df, col, n_samples):\n",
    "    n = min(n_samples, df[col].value_counts().min())\n",
    "    df_ = df.groupby(col).apply(lambda x: x.sample(n))\n",
    "    df_.index = df_.index.droplevel(0)\n",
    "    return df_"
   ]
  },
  {
   "cell_type": "code",
   "execution_count": 50,
   "metadata": {},
   "outputs": [
    {
     "data": {
      "text/plain": [
       "(1999, 2)"
      ]
     },
     "execution_count": 50,
     "metadata": {},
     "output_type": "execute_result"
    }
   ],
   "source": [
    "import numpy as np\n",
    "from sklearn.manifold import TSNE\n",
    "df_1000 = stratified_sample_df(df, 'y', 1000)\n",
    "X_embedded = TSNE(n_components=2).fit_transform(df_1000[:-1])\n",
    "X_embedded.shape"
   ]
  },
  {
   "cell_type": "code",
   "execution_count": 51,
   "metadata": {},
   "outputs": [
    {
     "name": "stdout",
     "output_type": "stream",
     "text": [
      "level\n",
      "\n",
      "c0\n",
      "\n",
      "c1\n",
      "\n",
      "ob\n",
      "\n"
     ]
    },
    {
     "data": {
      "image/png": "[encoded data removed]",
      "text/plain": [
       "<Figure size 432x288 with 2 Axes>"
      ]
     },
     "metadata": {
      "needs_background": "light"
     },
     "output_type": "display_data"
    },
    {
     "data": {
      "image/png": "[encoded data removed]",
      "text/plain": [
       "<Figure size 432x288 with 2 Axes>"
      ]
     },
     "metadata": {
      "needs_background": "light"
     },
     "output_type": "display_data"
    },
    {
     "data": {
      "image/png": "[encoded data removed]",
      "text/plain": [
       "<Figure size 432x288 with 2 Axes>"
      ]
     },
     "metadata": {
      "needs_background": "light"
     },
     "output_type": "display_data"
    },
    {
     "data": {
      "image/png": "[encoded data removed]",
      "text/plain": [
       "<Figure size 432x288 with 2 Axes>"
      ]
     },
     "metadata": {
      "needs_background": "light"
     },
     "output_type": "display_data"
    }
   ],
   "source": [
    "for col in ['level', 'c0', 'c1', 'ob']:\n",
    "    print(col)\n",
    "    df_1000.hist(by='y', column=col, bins=40, sharex=True, sharey=True)\n",
    "    print('')"
   ]
  },
  {
   "cell_type": "code",
   "execution_count": 52,
   "metadata": {},
   "outputs": [
    {
     "data": {
      "text/plain": [
       "<matplotlib.axes._subplots.AxesSubplot at 0x7ffd170e8208>"
      ]
     },
     "execution_count": 52,
     "metadata": {},
     "output_type": "execute_result"
    },
    {
     "data": {
      "image/png": "[encoded data removed]",
      "text/plain": [
       "<Figure size 432x288 with 1 Axes>"
      ]
     },
     "metadata": {
      "needs_background": "light"
     },
     "output_type": "display_data"
    }
   ],
   "source": [
    "import seaborn as sns\n",
    "df_tsne = pd.DataFrame(X_embedded, columns=['x0', 'x1'])\n",
    "df_tsne['y'] = df_1000['y']\n",
    "sns.scatterplot(data=df_tsne, x=\"x0\", y=\"x1\", hue=\"y\", style=\"y\", alpha=0.5)"
   ]
  },
  {
   "cell_type": "code",
   "execution_count": 53,
   "metadata": {},
   "outputs": [],
   "source": [
    "import numpy as np\n",
    "from sklearn import metrics\n",
    "\n",
    "test_data = dataset_te[0]\n",
    "X_te = test_data.x\n",
    "A_te = test_data.a\n",
    "y_te = test_data.y\n",
    "y_pred = model.predict([X_te, A_te, A_te], batch_size=X_te.shape[0])\n",
    "\n",
    "fpr, tpr, thresholds = metrics.roc_curve(y_te, y_pred)"
   ]
  },
  {
   "cell_type": "code",
   "execution_count": 54,
   "metadata": {},
   "outputs": [
    {
     "data": {
      "image/png": "[encoded data removed]",
      "text/plain": [
       "<Figure size 432x288 with 1 Axes>"
      ]
     },
     "metadata": {
      "needs_background": "light"
     },
     "output_type": "display_data"
    }
   ],
   "source": [
    "from sklearn.metrics import roc_curve, precision_recall_curve\n",
    "from matplotlib import pyplot\n",
    "\n",
    "\n",
    "# plot model roc curve\n",
    "pyplot.plot(fpr, tpr, marker='.', label='Classification')\n",
    "# axis labels\n",
    "pyplot.xlabel('False Positive Rate')\n",
    "pyplot.ylabel('True Positive Rate')\n",
    "# show the legend\n",
    "pyplot.legend()\n",
    "# show the plot\n",
    "pyplot.show()"
   ]
  },
  {
   "cell_type": "code",
   "execution_count": 55,
   "metadata": {},
   "outputs": [
    {
     "data": {
      "image/png": "[encoded data removed]",
      "text/plain": [
       "<Figure size 432x288 with 1 Axes>"
      ]
     },
     "metadata": {
      "needs_background": "light"
     },
     "output_type": "display_data"
    }
   ],
   "source": [
    "from sklearn.metrics import roc_curve, precision_recall_curve\n",
    "from matplotlib import pyplot\n",
    "\n",
    "precision, recall, thre = precision_recall_curve(y_te, y_pred)\n",
    "\n",
    "# cmap = plt.cm.get_cmap('hsv', len(thre))\n",
    "pyplot.plot(recall, precision, marker='.', label='Classification')\n",
    "# axis labels\n",
    "pyplot.xlabel('Recall')\n",
    "pyplot.ylabel('Precision')\n",
    "# show the legend\n",
    "pyplot.legend()\n",
    "# show the plot\n",
    "pyplot.show()"
   ]
  },
  {
   "cell_type": "code",
   "execution_count": 56,
   "metadata": {},
   "outputs": [],
   "source": [
    "thres = thre.tolist() + [1]\n",
    "n = len(thres)"
   ]
  },
  {
   "cell_type": "code",
   "execution_count": 59,
   "metadata": {},
   "outputs": [
    {
     "data": {
      "image/png": "[encoded data removed]",
      "text/plain": [
       "<Figure size 432x288 with 2 Axes>"
      ]
     },
     "metadata": {
      "needs_background": "light"
     },
     "output_type": "display_data"
    }
   ],
   "source": [
    "import seaborn as sns\n",
    "from sklearn.metrics import roc_curve, precision_recall_curve\n",
    "from matplotlib import pyplot as plt\n",
    "\n",
    "\n",
    "precision, recall, thre = precision_recall_curve(y_te, y_pred)\n",
    "thres = thre.tolist() + [1]\n",
    "df_prec = pd.DataFrame({'precision': precision, 'recall': recall, 'threshold': thres})\n",
    "ax = sns.scatterplot(data=df_prec, x=\"recall\", y=\"precision\", hue=\"threshold\", palette='jet')\n",
    "\n",
    "norm = plt.Normalize(min(thres), max(thres))\n",
    "sm = plt.cm.ScalarMappable(cmap=\"jet\", norm=norm)\n",
    "sm.set_array([])\n",
    "\n",
    "# Remove the legend and add a colorbar\n",
    "ax.get_legend().remove()\n",
    "ax.figure.colorbar(sm)\n",
    "\n",
    "plt.show()"
   ]
  },
  {
   "cell_type": "code",
   "execution_count": 58,
   "metadata": {},
   "outputs": [
    {
     "ename": "AttributeError",
     "evalue": "'numpy.ndarray' object has no attribute 'append'",
     "output_type": "error",
     "traceback": [
      "\u001b[0;31m---------------------------------------------------------------------------\u001b[0m",
      "\u001b[0;31mAttributeError\u001b[0m                            Traceback (most recent call last)",
      "\u001b[0;32m<ipython-input-58-4a52b65a0259>\u001b[0m in \u001b[0;36m<module>\u001b[0;34m\u001b[0m\n\u001b[0;32m----> 1\u001b[0;31m \u001b[0mds\u001b[0m \u001b[0;34m=\u001b[0m \u001b[0mCircuitDataset\u001b[0m\u001b[0;34m(\u001b[0m\u001b[0mtransforms\u001b[0m\u001b[0;34m=\u001b[0m\u001b[0;34m[\u001b[0m\u001b[0mLayerPreprocess\u001b[0m\u001b[0;34m(\u001b[0m\u001b[0mChebConv\u001b[0m\u001b[0;34m)\u001b[0m\u001b[0;34m]\u001b[0m\u001b[0;34m)\u001b[0m\u001b[0;34m\u001b[0m\u001b[0;34m\u001b[0m\u001b[0m\n\u001b[0m",
      "\u001b[0;32m~/anaconda3/lib/python3.7/site-packages/spektral/data/dataset.py\u001b[0m in \u001b[0;36m__init__\u001b[0;34m(self, transforms, **kwargs)\u001b[0m\n\u001b[1;32m    116\u001b[0m \u001b[0;34m\u001b[0m\u001b[0m\n\u001b[1;32m    117\u001b[0m         \u001b[0;31m# Read graphs\u001b[0m\u001b[0;34m\u001b[0m\u001b[0;34m\u001b[0m\u001b[0;34m\u001b[0m\u001b[0m\n\u001b[0;32m--> 118\u001b[0;31m         \u001b[0mself\u001b[0m\u001b[0;34m.\u001b[0m\u001b[0mgraphs\u001b[0m \u001b[0;34m=\u001b[0m \u001b[0mself\u001b[0m\u001b[0;34m.\u001b[0m\u001b[0mread\u001b[0m\u001b[0;34m(\u001b[0m\u001b[0;34m)\u001b[0m\u001b[0;34m\u001b[0m\u001b[0;34m\u001b[0m\u001b[0m\n\u001b[0m\u001b[1;32m    119\u001b[0m         \u001b[0;32mif\u001b[0m \u001b[0mself\u001b[0m\u001b[0;34m.\u001b[0m\u001b[0ma\u001b[0m \u001b[0;32mis\u001b[0m \u001b[0;32mNone\u001b[0m \u001b[0;32mand\u001b[0m \u001b[0mself\u001b[0m\u001b[0;34m.\u001b[0m\u001b[0m__len__\u001b[0m\u001b[0;34m(\u001b[0m\u001b[0;34m)\u001b[0m \u001b[0;34m>\u001b[0m \u001b[0;36m0\u001b[0m \u001b[0;32mand\u001b[0m \u001b[0;34m\"a\"\u001b[0m \u001b[0;32mnot\u001b[0m \u001b[0;32min\u001b[0m \u001b[0mself\u001b[0m\u001b[0;34m.\u001b[0m\u001b[0mgraphs\u001b[0m\u001b[0;34m[\u001b[0m\u001b[0;36m0\u001b[0m\u001b[0;34m]\u001b[0m\u001b[0;34m:\u001b[0m\u001b[0;34m\u001b[0m\u001b[0;34m\u001b[0m\u001b[0m\n\u001b[1;32m    120\u001b[0m             warnings.warn(\n",
      "\u001b[0;32m<ipython-input-3-223735623626>\u001b[0m in \u001b[0;36mread\u001b[0;34m(self)\u001b[0m\n\u001b[1;32m     82\u001b[0m \u001b[0;31m#         circs = ['adder.bench', \"arbiter.bench\",  \"sin.bench\", \"multiplier.bench\", \"voter.bench\", \"priority.bench\"]\u001b[0m\u001b[0;34m\u001b[0m\u001b[0;34m\u001b[0m\u001b[0;34m\u001b[0m\u001b[0m\n\u001b[1;32m     83\u001b[0m         \u001b[0;32mfor\u001b[0m \u001b[0mcirc\u001b[0m \u001b[0;32min\u001b[0m \u001b[0mcircs\u001b[0m\u001b[0;34m:\u001b[0m\u001b[0;34m\u001b[0m\u001b[0;34m\u001b[0m\u001b[0m\n\u001b[0;32m---> 84\u001b[0;31m             \u001b[0mA\u001b[0m\u001b[0;34m,\u001b[0m \u001b[0mX\u001b[0m\u001b[0;34m,\u001b[0m \u001b[0mlabels\u001b[0m \u001b[0;34m=\u001b[0m \u001b[0mload_data\u001b[0m\u001b[0;34m(\u001b[0m\u001b[0mcirc\u001b[0m\u001b[0;34m,\u001b[0m \u001b[0;34m'../data/output'\u001b[0m\u001b[0;34m,\u001b[0m \u001b[0mnormalize\u001b[0m\u001b[0;34m=\u001b[0m\u001b[0;34m\"\"\u001b[0m\u001b[0;34m)\u001b[0m\u001b[0;34m\u001b[0m\u001b[0;34m\u001b[0m\u001b[0m\n\u001b[0m\u001b[1;32m     85\u001b[0m \u001b[0;31m#             if sum(labels) >= 500:\u001b[0m\u001b[0;34m\u001b[0m\u001b[0;34m\u001b[0m\u001b[0;34m\u001b[0m\u001b[0m\n\u001b[1;32m     86\u001b[0m             \u001b[0mprint\u001b[0m\u001b[0;34m(\u001b[0m\u001b[0;34mf\"{circ}: {sum(labels)}, {len(labels)}\"\u001b[0m\u001b[0;34m)\u001b[0m\u001b[0;34m\u001b[0m\u001b[0;34m\u001b[0m\u001b[0m\n",
      "\u001b[0;32m<ipython-input-3-223735623626>\u001b[0m in \u001b[0;36mload_data\u001b[0;34m(circuit_name, path_to_data, normalize)\u001b[0m\n\u001b[1;32m     52\u001b[0m     \u001b[0mlabels\u001b[0m \u001b[0;34m=\u001b[0m \u001b[0mnp\u001b[0m\u001b[0;34m.\u001b[0m\u001b[0marray\u001b[0m\u001b[0;34m(\u001b[0m\u001b[0my\u001b[0m\u001b[0;34m)\u001b[0m\u001b[0;34m.\u001b[0m\u001b[0mastype\u001b[0m\u001b[0;34m(\u001b[0m\u001b[0;34m'float32'\u001b[0m\u001b[0;34m)\u001b[0m\u001b[0;34m.\u001b[0m\u001b[0mreshape\u001b[0m\u001b[0;34m(\u001b[0m\u001b[0;34m(\u001b[0m\u001b[0;34m-\u001b[0m\u001b[0;36m1\u001b[0m\u001b[0;34m,\u001b[0m\u001b[0;36m1\u001b[0m\u001b[0;34m)\u001b[0m\u001b[0;34m)\u001b[0m\u001b[0;34m\u001b[0m\u001b[0;34m\u001b[0m\u001b[0m\n\u001b[1;32m     53\u001b[0m     \u001b[0;32mfor\u001b[0m \u001b[0ml\u001b[0m \u001b[0;32min\u001b[0m \u001b[0my\u001b[0m\u001b[0;34m:\u001b[0m\u001b[0;34m\u001b[0m\u001b[0;34m\u001b[0m\u001b[0m\n\u001b[0;32m---> 54\u001b[0;31m         \u001b[0my_data\u001b[0m\u001b[0;34m.\u001b[0m\u001b[0mappend\u001b[0m\u001b[0;34m(\u001b[0m\u001b[0ml\u001b[0m\u001b[0;34m)\u001b[0m\u001b[0;34m\u001b[0m\u001b[0;34m\u001b[0m\u001b[0m\n\u001b[0m\u001b[1;32m     55\u001b[0m     \u001b[0mprint\u001b[0m\u001b[0;34m(\u001b[0m\u001b[0madj\u001b[0m\u001b[0;34m.\u001b[0m\u001b[0mshape\u001b[0m\u001b[0;34m)\u001b[0m\u001b[0;34m\u001b[0m\u001b[0;34m\u001b[0m\u001b[0m\n\u001b[1;32m     56\u001b[0m     \u001b[0mprint\u001b[0m\u001b[0;34m(\u001b[0m\u001b[0mfeatures\u001b[0m\u001b[0;34m.\u001b[0m\u001b[0mshape\u001b[0m\u001b[0;34m)\u001b[0m\u001b[0;34m\u001b[0m\u001b[0;34m\u001b[0m\u001b[0m\n",
      "\u001b[0;31mAttributeError\u001b[0m: 'numpy.ndarray' object has no attribute 'append'"
     ]
    }
   ],
   "source": [
    "ds = CircuitDataset(transforms=[LayerPreprocess(ChebConv)])"
   ]
  },
  {
   "cell_type": "code",
   "execution_count": null,
   "metadata": {},
   "outputs": [],
   "source": [
    "for g in ds:\n",
    "    scaler = MinMaxScaler()\n",
    "    scaler.fit(g.x)\n",
    "    g.x = scaler.transform(g.x)"
   ]
  },
  {
   "cell_type": "code",
   "execution_count": null,
   "metadata": {},
   "outputs": [],
   "source": [
    "df_all_data = pd.DataFrame(np.vstack(np.array([gr.x for gr in ds])), columns=['level', 'c0', 'c1', 'ob'])\n",
    "df_all_data['y'] = np.vstack(np.array([gr.y for gr in ds]))"
   ]
  },
  {
   "cell_type": "code",
   "execution_count": null,
   "metadata": {},
   "outputs": [],
   "source": [
    "for col in ['level', 'c0', 'c1', 'ob']:\n",
    "    print(col)\n",
    "    df_all_data.hist(by='y', column=col, bins=40, sharex=True, sharey=True)\n",
    "    print('')"
   ]
  },
  {
   "cell_type": "code",
   "execution_count": null,
   "metadata": {},
   "outputs": [],
   "source": [
    "ds1 = CircuitDataset(transforms=[LayerPreprocess(ChebConv)])\n",
    "\n",
    "for g in ds1:\n",
    "    scaler = MinMaxScaler()\n",
    "    scaler.fit(g.x[0:1])\n",
    "    g.x[0] = scaler.transform(g.x[0:1])\n",
    "    \n",
    "    "
   ]
  },
  {
   "cell_type": "code",
   "execution_count": null,
   "metadata": {
    "scrolled": true
   },
   "outputs": [],
   "source": [
    "# ds2 = CircuitDataset(transforms=[LayerPreprocess(ChebConv)])\n",
    "\n",
    "for i, g in enumerate(ds2):\n",
    "    print(f\"----------------{i}-----------------\")\n",
    "    df_all_circ_data = pd.DataFrame(g.x, columns=['level', 'c0', 'c1', 'ob'])\n",
    "    df_all_circ_data['y'] = g.y\n",
    "    for col in ['level', 'c0', 'c1', 'ob']:\n",
    "        df_all_circ_data.hist(by='y', column=col, sharex=True, sharey=True)\n",
    "        plt.suptitle(col)\n",
    "        plt.show()"
   ]
  },
  {
   "cell_type": "code",
   "execution_count": null,
   "metadata": {},
   "outputs": [],
   "source": [
    "scaler = MinMaxScaler()\n",
    "scaler.fit_transform(ds1[0].x).shape"
   ]
  },
  {
   "cell_type": "code",
   "execution_count": null,
   "metadata": {},
   "outputs": [],
   "source": [
    "ds1[0].x"
   ]
  },
  {
   "cell_type": "code",
   "execution_count": null,
   "metadata": {},
   "outputs": [],
   "source": []
  }
 ],
 "metadata": {
  "colab": {
   "collapsed_sections": [],
   "name": "DisjoingGraphs.ipynb",
   "provenance": []
  },
  "kernelspec": {
   "display_name": "Python 3",
   "language": "python",
   "name": "python3"
  },
  "language_info": {
   "codemirror_mode": {
    "name": "ipython",
    "version": 3
   },
   "file_extension": ".py",
   "mimetype": "text/x-python",
   "name": "python",
   "nbconvert_exporter": "python",
   "pygments_lexer": "ipython3",
   "version": "3.7.3"
  },
  "toc": {
   "base_numbering": 1,
   "nav_menu": {},
   "number_sections": true,
   "sideBar": true,
   "skip_h1_title": false,
   "title_cell": "Table of Contents",
   "title_sidebar": "Contents",
   "toc_cell": false,
   "toc_position": {},
   "toc_section_display": true,
   "toc_window_display": false
  }
 },
 "nbformat": 4,
 "nbformat_minor": 1
}
