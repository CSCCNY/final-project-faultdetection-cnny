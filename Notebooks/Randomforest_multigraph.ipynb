{
 "cells": [
  {
   "cell_type": "markdown",
   "metadata": {},
   "source": [
    "# Random Forest Classifier"
   ]
  },
  {
   "cell_type": "markdown",
   "metadata": {},
   "source": [
    "## Input data (format .x, .graph, and .y)"
   ]
  },
  {
   "cell_type": "code",
   "execution_count": 1,
   "metadata": {
    "scrolled": true
   },
   "outputs": [
    {
     "name": "stdout",
     "output_type": "stream",
     "text": [
      "(4209, 4209)\n",
      "(4209, 4)\n",
      "adder.bench: [637.], 4209\n",
      "(36352, 36352)\n",
      "(36352, 4)\n",
      "arbiter.bench: [3763.], 36352\n",
      "(1355, 1355)\n",
      "(1355, 4)\n",
      "c1355: [192.], 1355\n",
      "(1908, 1908)\n",
      "(1908, 4)\n",
      "c1908: [257.], 1908\n",
      "(3540, 3540)\n",
      "(3540, 4)\n",
      "c3540: [406.], 3540\n",
      "(432, 432)\n",
      "(432, 4)\n",
      "c432: [60.], 432\n",
      "(499, 499)\n",
      "(499, 4)\n",
      "c499: [50.], 499\n",
      "(5315, 5315)\n",
      "(5315, 4)\n",
      "c5315: [599.], 5315\n",
      "(6288, 6288)\n",
      "(6288, 4)\n",
      "c6288: [846.], 6288\n",
      "(880, 880)\n",
      "(880, 4)\n",
      "c880: [114.], 880\n",
      "(2164, 2164)\n",
      "(2164, 4)\n",
      "cavlc.bench: [318.], 2164\n",
      "(936, 936)\n",
      "(936, 4)\n",
      "dec.bench: [186.], 936\n",
      "(761, 761)\n",
      "(761, 4)\n",
      "int2float.bench: [80.], 761\n",
      "(9996, 9996)\n",
      "(9996, 4)\n",
      "max.bench: [1040.], 9996\n",
      "(89943, 89943)\n",
      "(89943, 4)\n",
      "multiplier.bench: [9294.], 89943\n",
      "(3495, 3495)\n",
      "(3495, 4)\n",
      "priority.bench: [350.], 3495\n",
      "(16771, 16771)\n",
      "(16771, 4)\n",
      "sin.bench: [1723.], 16771\n",
      "(50122, 50122)\n",
      "(50122, 4)\n",
      "voter.bench: [5012.], 50122\n",
      "[ 0  1  8  5  3 13 16 15 11  2  9 17  4 12] [ 7 10] [14  6]\n"
     ]
    },
    {
     "name": "stderr",
     "output_type": "stream",
     "text": [
      "/Users/vedikasaravanan/opt/anaconda3/lib/python3.8/site-packages/sklearn/utils/validation.py:70: FutureWarning: Pass classes=[0. 1.], y=[0. 0. 0. ... 0. 0. 0.] as keyword args. From version 1.0 (renaming of 0.25) passing these as positional arguments will result in an error\n",
      "  warnings.warn(f\"Pass {args_msg} as keyword args. From version \"\n"
     ]
    }
   ],
   "source": [
    "import sys\n",
    "from spektral.data import Dataset, Graph\n",
    "from spektral.transforms import AdjToSpTensor, LayerPreprocess\n",
    "from sklearn.preprocessing import MinMaxScaler\n",
    "import pickle as pkl\n",
    "import networkx as nx\n",
    "import numpy as np\n",
    "import scipy.sparse as sp\n",
    "x_data = []\n",
    "y_data = []\n",
    "batch_size = 3  # Batch size\n",
    "def load_data(circuit_name, path_to_data=\"data\", normalize=False):\n",
    "    \"\"\"Load data.\"\"\"\n",
    "    names = [\"x\", \"y\", \"graph\"]\n",
    "    objects = []\n",
    "    for i in range(len(names)):\n",
    "        with open(f\"{path_to_data}/{circuit_name}.{names[i]}\", \"rb\") as f:\n",
    "            if sys.version_info > (3, 0):\n",
    "                objects.append(pkl.load(f, encoding=\"latin1\"))\n",
    "            else:\n",
    "                objects.append(pkl.load(f))\n",
    "\n",
    "    x, y, graph = tuple(objects)\n",
    "    \n",
    "    x = np.array(x).astype(\"float32\")\n",
    "    for x_feat in x:\n",
    "        x_data.append(x_feat)\n",
    "        \n",
    "    features = sp.csr_matrix(x).astype('float32')\n",
    "    # adj = nx.adjacency_matrix(nx.from_dict_of_lists(graph)).astype(int)\n",
    "    g = nx.DiGraph()\n",
    "    g.add_nodes_from(graph.keys())\n",
    "    for k, v in graph.items():\n",
    "      g.add_edges_from(([(k, t) for t in v]))\n",
    "      g.add_edges_from([(k, k)])\n",
    "    adj = nx.adjacency_matrix(g)\n",
    "    labels = np.array(y).astype('float32').reshape((-1,1))\n",
    "    for l in y:\n",
    "        y_data.append(l)\n",
    "    print(adj.shape)\n",
    "    print(features.shape)\n",
    "    return adj, features, labels\n",
    "  \n",
    "def encode_label(labels):\n",
    "    label_encoder = LabelEncoder()\n",
    "    labels = label_encoder.fit_transform(labels)\n",
    "    labels = to_categorical(labels)\n",
    "    return labels\n",
    "\n",
    "\n",
    "def _preprocess_features(features):\n",
    "    rowsum = np.array(features.sum(1))\n",
    "    r_inv = np.power(rowsum, -1).flatten()\n",
    "    r_inv[np.isinf(r_inv)] = 0.0\n",
    "    r_mat_inv = sp.diags(r_inv)\n",
    "    features = r_mat_inv.dot(features)\n",
    "    return features\n",
    "\n",
    "\n",
    "\n",
    "class CircuitDataset(Dataset):\n",
    "    def read(self):\n",
    "        circuits = []\n",
    "#         circs = ['c6288','c5315','c432', 'c499', 'c17', 'c880', 'c1355', 'c1908', 'c3540', 'adder.bench', 'arbiter.bench', 'cavlc.bench', 'dec.bench', 'voter.bench', \"sin.bench\",\"priority.bench\", \"multiplier.bench\", \"max.bench\"]\n",
    "        circs = [\"adder.bench\",\"arbiter.bench\",\"c1355\",\"c1908\",\"c3540\",\"c432\",\"c499\",\"c5315\",\"c6288\",\"c880\",\"cavlc.bench\",\"dec.bench\",\"int2float.bench\",\"max.bench\",\"multiplier.bench\",\"priority.bench\",\"sin.bench\",\"voter.bench\"]\n",
    "#         circs = [\"log2.bench\"]\n",
    "#         circs = ['adder.bench', \"arbiter.bench\",  \"sin.bench\", \"multiplier.bench\", \"voter.bench\", \"priority.bench\"]\n",
    "        for circ in circs:\n",
    "            A, X, labels = load_data(circ, '../data/output', normalize=\"\")\n",
    "#             if sum(labels) >= 500:\n",
    "            print(f\"{circ}: {sum(labels)}, {len(labels)}\")\n",
    "            circuits.append(Graph(x=X.toarray(), a=A, y=labels))\n",
    "\n",
    "        return circuits\n",
    "\n",
    "def normalize_feature(circ_dataset):\n",
    "    scaler = MinMaxScaler()\n",
    "    scaler.fit(x_data)\n",
    "    for graph in circ_dataset:\n",
    "        graph.x = scaler.transform(graph.x)\n",
    "    return circ_dataset\n",
    "\n",
    "dataset = normalize_feature(CircuitDataset(transforms=[AdjToSpTensor()]))\n",
    "\n",
    "# Parameters\n",
    "\n",
    "F = dataset.n_node_features  # Dimension of node features\n",
    "n_out = dataset.n_labels  # Dimension of the target\n",
    "\n",
    "# Train/valid/test split\n",
    "np.random.seed(42)\n",
    "idxs = np.random.permutation(len(dataset))\n",
    "split_va, split_te = int(0.8 * len(dataset)), int(0.9 * len(dataset))\n",
    "idx_tr, idx_va, idx_te = np.split(idxs, [split_va, split_te])\n",
    "print(idx_tr, idx_va, idx_te)\n",
    "dataset_tr = dataset[idx_tr]\n",
    "dataset_va = dataset[idx_va]\n",
    "dataset_te = dataset[idx_te]\n",
    "from sklearn.utils.class_weight import compute_class_weight\n",
    "\n",
    "y_data = []\n",
    "for data_tr in dataset_tr:\n",
    "    y_data.append(data_tr.y)\n",
    "y_data = np.vstack((y_data)).reshape((-1,))\n",
    "\n",
    "\n",
    "def _compute_class_weight_dictionary(y):\n",
    "    # helper for returning a dictionary instead of an array\n",
    "    classes = np.unique(y).astype('float32')\n",
    "    class_weight = compute_class_weight(\"balanced\", classes, y)\n",
    "    class_weight_dict = dict(zip(classes, class_weight))\n",
    "    return class_weight_dict \n",
    "\n",
    "weights = _compute_class_weight_dictionary(np.vstack((y_data)).reshape((-1,)))\n",
    "y_data = []\n",
    "for data_tr in dataset:\n",
    "    y_data.append(data_tr.y)\n",
    "y_data = np.vstack((y_data)).reshape((-1,))\n",
    "\n",
    "scaler = MinMaxScaler()\n",
    "scaler.fit(x_data)\n",
    "x_data = scaler.transform(x_data)"
   ]
  },
  {
   "cell_type": "code",
   "execution_count": 2,
   "metadata": {},
   "outputs": [
    {
     "data": {
      "text/plain": [
       "array([[1.26262626e-03, 0.00000000e+00, 0.00000000e+00, 8.34553994e-27],\n",
       "       [1.26262626e-03, 0.00000000e+00, 0.00000000e+00, 2.65539907e-26],\n",
       "       [1.26262626e-03, 0.00000000e+00, 0.00000000e+00, 4.55211270e-26],\n",
       "       ...,\n",
       "       [2.20959596e-01, 3.52941176e-02, 4.98642947e-13, 3.23776014e-12],\n",
       "       [2.22222222e-01, 3.72549020e-02, 4.99319855e-13, 3.23708318e-12],\n",
       "       [2.37373737e-01, 4.31372549e-02, 3.73640309e-12, 0.00000000e+00]])"
      ]
     },
     "execution_count": 2,
     "metadata": {},
     "output_type": "execute_result"
    }
   ],
   "source": [
    "x_data"
   ]
  },
  {
   "cell_type": "code",
   "execution_count": 3,
   "metadata": {},
   "outputs": [
    {
     "data": {
      "text/plain": [
       "array([0., 0., 0., ..., 0., 0., 0.], dtype=float32)"
      ]
     },
     "execution_count": 3,
     "metadata": {},
     "output_type": "execute_result"
    }
   ],
   "source": [
    "y_data"
   ]
  },
  {
   "cell_type": "code",
   "execution_count": 4,
   "metadata": {},
   "outputs": [
    {
     "name": "stdout",
     "output_type": "stream",
     "text": [
      "(187972, 4) (187972,)\n",
      "(46994, 4) (46994,)\n"
     ]
    }
   ],
   "source": [
    "import pandas as pd\n",
    "from sklearn.model_selection import train_test_split\n",
    "import numpy as np\n",
    "from sklearn.model_selection import KFold, StratifiedKFold, cross_val_score\n",
    "from sklearn import linear_model, tree, ensemble\n",
    "X_train, X_test, y_train, y_test = train_test_split(x_data,y_data,test_size=0.2)\n",
    "print (X_train.shape, y_train.shape)\n",
    "print (X_test.shape, y_test.shape)"
   ]
  },
  {
   "cell_type": "code",
   "execution_count": 5,
   "metadata": {},
   "outputs": [
    {
     "name": "stdout",
     "output_type": "stream",
     "text": [
      "Fold:1, Train set: 187972, Test set:46994\n",
      "Fold:2, Train set: 187973, Test set:46993\n",
      "Fold:3, Train set: 187973, Test set:46993\n",
      "Fold:4, Train set: 187973, Test set:46993\n",
      "Fold:5, Train set: 187973, Test set:46993\n"
     ]
    }
   ],
   "source": [
    "kf =KFold(n_splits=5, shuffle=True, random_state=42)\n",
    "\n",
    "cnt = 1\n",
    "# split()  method generate indices to split data into training and test set.\n",
    "for train_index, test_index in kf.split(x_data, y_data):\n",
    "    print(f'Fold:{cnt}, Train set: {len(train_index)}, Test set:{len(test_index)}')\n",
    "    cnt += 1"
   ]
  },
  {
   "cell_type": "code",
   "execution_count": 6,
   "metadata": {},
   "outputs": [],
   "source": [
    "def rmse(score):\n",
    "    rmse = np.sqrt(-score)\n",
    "    print(f'rmse= {\"{:.2f}\".format(rmse)}')"
   ]
  },
  {
   "cell_type": "code",
   "execution_count": 7,
   "metadata": {},
   "outputs": [
    {
     "name": "stdout",
     "output_type": "stream",
     "text": [
      "Scores for each fold: [0.91173341 0.9110293  0.90983764 0.90907156 0.91056115]\n"
     ]
    }
   ],
   "source": [
    "score = cross_val_score(ensemble.RandomForestClassifier(random_state= 42), x_data, y_data, cv=kf)\n",
    "print(f'Scores for each fold: {score}')"
   ]
  },
  {
   "cell_type": "code",
   "execution_count": 8,
   "metadata": {},
   "outputs": [
    {
     "name": "stdout",
     "output_type": "stream",
     "text": [
      "Fold:1, Train set: 187972, Test set:46994\n",
      "Fold:2, Train set: 187973, Test set:46993\n",
      "Fold:3, Train set: 187973, Test set:46993\n",
      "Fold:4, Train set: 187973, Test set:46993\n",
      "Fold:5, Train set: 187973, Test set:46993\n"
     ]
    }
   ],
   "source": [
    "kf = StratifiedKFold(n_splits=5, shuffle=True, random_state=42)\n",
    "\n",
    "cnt = 1\n",
    "# split()  method generate indices to split data into training and test set.\n",
    "for train_index, test_index in kf.split(x_data, y_data):\n",
    "    print(f'Fold:{cnt}, Train set: {len(train_index)}, Test set:{len(test_index)}')\n",
    "    cnt+=1\n",
    "    "
   ]
  },
  {
   "cell_type": "code",
   "execution_count": 9,
   "metadata": {},
   "outputs": [
    {
     "name": "stdout",
     "output_type": "stream",
     "text": [
      "Scores for each fold are: [0.84604418 0.84650905 0.84642394 0.8464665  0.84504075]\n",
      "Average score: 0.85\n"
     ]
    }
   ],
   "source": [
    "score = cross_val_score(ensemble.RandomForestClassifier(random_state= 42,class_weight = weights), x_data, y_data, cv= kf, scoring=\"accuracy\")\n",
    "print(f'Scores for each fold are: {score}')\n",
    "print(f'Average score: {\"{:.2f}\".format(score.mean())}')"
   ]
  },
  {
   "cell_type": "code",
   "execution_count": 10,
   "metadata": {},
   "outputs": [
    {
     "name": "stdout",
     "output_type": "stream",
     "text": [
      "Average score(1): 0.894\n",
      "Average score(2): 0.894\n",
      "Average score(3): 0.895\n",
      "Average score(4): 0.900\n",
      "Average score(5): 0.901\n",
      "Average score(6): 0.903\n",
      "Average score(7): 0.904\n",
      "Average score(8): 0.906\n",
      "Average score(9): 0.907\n",
      "Average score(10): 0.908\n"
     ]
    }
   ],
   "source": [
    "max_depth = [1,2,3,4,5,6,7,8,9,10]\n",
    "from sklearn.model_selection import cross_val_score, cross_val_predict\n",
    "from sklearn import metrics\n",
    "for val in max_depth:\n",
    "    score = cross_val_score(ensemble.RandomForestClassifier(max_depth= val, random_state= 42), x_data, y_data, cv= kf, scoring=\"accuracy\")\n",
    "    print(f'Average score({val}): {\"{:.3f}\".format(score.mean())}')"
   ]
  },
  {
   "cell_type": "code",
   "execution_count": 11,
   "metadata": {},
   "outputs": [],
   "source": [
    "def evaluate_model(data_x, data_y):\n",
    "    k_fold = KFold(10, shuffle=True, random_state=1)\n",
    "\n",
    "    predicted_targets = np.array([])\n",
    "    actual_targets = np.array([])\n",
    "\n",
    "    for train_ix, test_ix in k_fold.split(data_x):\n",
    "        train_x, train_y, test_x, test_y = data_x[train_ix], data_y[train_ix], data_x[test_ix], data_y[test_ix]\n",
    "\n",
    "        # Fit the classifier\n",
    "        classifier = ensemble.RandomForestClassifier().fit(train_x, train_y)\n",
    "\n",
    "        # Predict the labels of the test set samples\n",
    "        predicted_labels = classifier.predict(test_x)\n",
    "\n",
    "        predicted_targets = np.append(predicted_targets, predicted_labels)\n",
    "        actual_targets = np.append(actual_targets, test_y)\n",
    "\n",
    "    return predicted_targets, actual_targets"
   ]
  },
  {
   "cell_type": "code",
   "execution_count": 12,
   "metadata": {},
   "outputs": [],
   "source": [
    "def plot_confusion_matrix(predicted_labels_list, y_test_list):\n",
    "    cnf_matrix = confusion_matrix(y_test_list, predicted_labels_list)\n",
    "    np.set_printoptions(precision=2)\n",
    "\n",
    "    # Plot non-normalized confusion matrix\n",
    "    plt.figure()\n",
    "    generate_confusion_matrix(cnf_matrix, classes=class_names, title='Confusion matrix, without normalization')\n",
    "    plt.show()\n",
    "\n",
    "    # Plot normalized confusion matrix\n",
    "    plt.figure()\n",
    "    generate_confusion_matrix(cnf_matrix, classes=class_names, normalize=True, title='Normalized confusion matrix')\n",
    "    plt.show()"
   ]
  },
  {
   "cell_type": "code",
   "execution_count": 13,
   "metadata": {},
   "outputs": [],
   "source": [
    "def generate_confusion_matrix(cnf_matrix, classes, normalize=False, title='Confusion matrix'):\n",
    "    if normalize:\n",
    "        cnf_matrix = cnf_matrix.astype('float') / cnf_matrix.sum(axis=1)[:, np.newaxis]\n",
    "        print(\"Normalized confusion matrix\")\n",
    "    else:\n",
    "        print('Confusion matrix, without normalization')\n",
    "\n",
    "    plt.imshow(cnf_matrix, interpolation='nearest', cmap=plt.get_cmap('Blues'))\n",
    "    plt.title(title)\n",
    "    plt.colorbar()\n",
    "\n",
    "    tick_marks = np.arange(len(classes))\n",
    "    plt.xticks(tick_marks, classes, rotation=45)\n",
    "    plt.yticks(tick_marks, classes)\n",
    "\n",
    "    fmt = '.2f' if normalize else 'd'\n",
    "    thresh = cnf_matrix.max() / 2.\n",
    "\n",
    "    for i, j in itertools.product(range(cnf_matrix.shape[0]), range(cnf_matrix.shape[1])):\n",
    "        plt.text(j, i, format(cnf_matrix[i, j], fmt), horizontalalignment=\"center\",\n",
    "                 color=\"white\" if cnf_matrix[i, j] > thresh else \"black\")\n",
    "\n",
    "    plt.tight_layout()\n",
    "    plt.ylabel('True label')\n",
    "    plt.xlabel('Predicted label')\n",
    "\n",
    "    return cnf_matrix"
   ]
  },
  {
   "cell_type": "code",
   "execution_count": 14,
   "metadata": {},
   "outputs": [
    {
     "name": "stdout",
     "output_type": "stream",
     "text": [
      "Confusion matrix, without normalization\n"
     ]
    },
    {
     "data": {
      "image/png": "[encoded data removed]",
      "text/plain": [
       "<Figure size 432x288 with 2 Axes>"
      ]
     },
     "metadata": {
      "needs_background": "light"
     },
     "output_type": "display_data"
    },
    {
     "name": "stdout",
     "output_type": "stream",
     "text": [
      "Normalized confusion matrix\n"
     ]
    },
    {
     "data": {
      "image/png": "[encoded data removed]",
      "text/plain": [
       "<Figure size 432x288 with 2 Axes>"
      ]
     },
     "metadata": {
      "needs_background": "light"
     },
     "output_type": "display_data"
    }
   ],
   "source": [
    "import itertools\n",
    "\n",
    "import matplotlib.pyplot as plt\n",
    "import numpy as np\n",
    "from sklearn import svm, datasets\n",
    "from sklearn.metrics import confusion_matrix\n",
    "from sklearn.model_selection import KFold\n",
    "class_names = ['0','1']\n",
    "predicted_target, actual_target = evaluate_model(x_data, y_data)\n",
    "plot_confusion_matrix(predicted_target, actual_target)"
   ]
  },
  {
   "cell_type": "code",
   "execution_count": null,
   "metadata": {},
   "outputs": [],
   "source": []
  },
  {
   "cell_type": "code",
   "execution_count": null,
   "metadata": {},
   "outputs": [],
   "source": []
  }
 ],
 "metadata": {
  "kernelspec": {
   "display_name": "Python 3",
   "language": "python",
   "name": "python3"
  },
  "language_info": {
   "codemirror_mode": {
    "name": "ipython",
    "version": 3
   },
   "file_extension": ".py",
   "mimetype": "text/x-python",
   "name": "python",
   "nbconvert_exporter": "python",
   "pygments_lexer": "ipython3",
   "version": "3.8.3"
  }
 },
 "nbformat": 4,
 "nbformat_minor": 4
}
