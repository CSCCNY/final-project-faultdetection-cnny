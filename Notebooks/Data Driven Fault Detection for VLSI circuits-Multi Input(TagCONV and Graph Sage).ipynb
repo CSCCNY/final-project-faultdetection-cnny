{
 "cells": [
  {
   "cell_type": "code",
   "execution_count": 1,
   "metadata": {
    "executionInfo": {
     "elapsed": 352,
     "status": "ok",
     "timestamp": 1620859587680,
     "user": {
      "displayName": "Vedika Saravanan",
      "photoUrl": "https://lh3.googleusercontent.com/a-/AOh14GiFu_fiUGTb9Acqc-9pwSrSh0SeoS2jImjreYTqPg=s64",
      "userId": "03855894681171022360"
     },
     "user_tz": 240
    },
    "id": "7XCcqWXrz4_z"
   },
   "outputs": [],
   "source": [
    "from spektral.layers import GCNConv, TAGConv\n",
    "\n",
    "from tensorflow.keras.models import Model\n",
    "from tensorflow.keras.layers import Input, Dropout, Dense\n",
    "from tensorflow.keras import Sequential\n",
    "from tensorflow.keras.optimizers import Adam\n",
    "from tensorflow.keras.callbacks import TensorBoard, EarlyStopping\n",
    "import tensorflow as tf\n",
    "from tensorflow.keras.regularizers import l2\n",
    "import pandas as pd"
   ]
  },
  {
   "cell_type": "code",
   "execution_count": 2,
   "metadata": {
    "executionInfo": {
     "elapsed": 203,
     "status": "ok",
     "timestamp": 1620859587682,
     "user": {
      "displayName": "Vedika Saravanan",
      "photoUrl": "https://lh3.googleusercontent.com/a-/AOh14GiFu_fiUGTb9Acqc-9pwSrSh0SeoS2jImjreYTqPg=s64",
      "userId": "03855894681171022360"
     },
     "user_tz": 240
    },
    "id": "KfQOPlQp7YTb"
   },
   "outputs": [],
   "source": [
    "import numpy as np\n",
    "import scipy.sparse as sp\n",
    "import tensorflow as tf\n",
    "from tensorflow.keras.layers import Dense, Input, BatchNormalization\n",
    "from tensorflow.keras.losses import CategoricalCrossentropy\n",
    "from tensorflow.keras.metrics import categorical_accuracy\n",
    "from tensorflow.keras.models import Model\n",
    "from tensorflow.keras.optimizers import Adam\n",
    "\n",
    "from spektral.data import Dataset, DisjointLoader, Graph\n",
    "from spektral.layers import GCSConv, GlobalAvgPool, ChebConv, GlobalSumPool, GraphSageConv\n",
    "from spektral.layers.pooling import TopKPool\n",
    "from spektral.transforms.normalize_adj import NormalizeAdj\n",
    "import pickle as pkl\n",
    "import networkx as nx\n",
    "import pdb\n",
    "from sklearn.preprocessing import LabelEncoder\n",
    "from tensorflow.keras.utils import to_categorical\n",
    "from spektral.layers import GCNConv, GraphSageConv\n",
    "from spektral.models.gcn import GCN\n",
    "from spektral.transforms import AdjToSpTensor, LayerPreprocess\n",
    "from sklearn.preprocessing import MinMaxScaler"
   ]
  },
  {
   "cell_type": "markdown",
   "metadata": {},
   "source": [
    "# Preprocess data\n",
    "- Read the circuit files (.x, .y, and .graph)\n",
    "- Normalize the circuit level features using Min Max Scalar for each circuit\n",
    "- Generate the adjacency matrix from graph dictionary\n"
   ]
  },
  {
   "cell_type": "code",
   "execution_count": 3,
   "metadata": {},
   "outputs": [],
   "source": [
    "\n",
    "batch_size = 3  # Batch size\n",
    "\n",
    "import sys\n",
    "from spektral.data import Dataset, Graph\n",
    "# sys.path.append('../lib')\n",
    "# from data_pre_processing import load_data\n",
    "# sys.path.remove('../lib')\n",
    "\n",
    "x_data = []\n",
    "y_data = []\n",
    "\n",
    "def load_data(circuit_name, path_to_data=\"data\", normalize=False):\n",
    "    \"\"\"Load data.\"\"\"\n",
    "    names = [\"x\", \"y\", \"graph\"]\n",
    "    objects = []\n",
    "    for i in range(len(names)):\n",
    "        with open(f\"{path_to_data}/{circuit_name}.{names[i]}\", \"rb\") as f:\n",
    "            if sys.version_info > (3, 0):\n",
    "                objects.append(pkl.load(f, encoding=\"latin1\"))\n",
    "            else:\n",
    "                objects.append(pkl.load(f))\n",
    "\n",
    "    x, y, graph = tuple(objects)\n",
    "    \n",
    "    x = np.array(x).astype(\"float32\")\n",
    "    for x_feat in x:\n",
    "        x_data.append(x_feat)\n",
    "        \n",
    "    features = sp.csr_matrix(x).astype('float32')\n",
    "    # adj = nx.adjacency_matrix(nx.from_dict_of_lists(graph)).astype(int)\n",
    "    g = nx.DiGraph()\n",
    "    g.add_nodes_from(graph.keys())\n",
    "    for k, v in graph.items():\n",
    "      g.add_edges_from(([(k, t) for t in v]))\n",
    "      g.add_edges_from([(k, k)])\n",
    "    adj = nx.adjacency_matrix(g)\n",
    "    labels = np.array(y).astype('float32').reshape((-1,1))\n",
    "    for l in y:\n",
    "        y_data.append(l)\n",
    "    print(adj.shape)\n",
    "    print(features.shape)\n",
    "    return adj, features, labels\n",
    "  \n",
    "def encode_label(labels):\n",
    "    label_encoder = LabelEncoder()\n",
    "    labels = label_encoder.fit_transform(labels)\n",
    "    labels = to_categorical(labels)\n",
    "    return labels\n",
    "\n",
    "\n",
    "def _preprocess_features(features):\n",
    "    rowsum = np.array(features.sum(1))\n",
    "    r_inv = np.power(rowsum, -1).flatten()\n",
    "    r_inv[np.isinf(r_inv)] = 0.0\n",
    "    r_mat_inv = sp.diags(r_inv)\n",
    "    features = r_mat_inv.dot(features)\n",
    "    return features\n",
    "\n",
    "\n",
    "\n",
    "class CircuitDataset(Dataset):\n",
    "    def read(self):\n",
    "        circuits = []\n",
    "        circs = [\"adder.bench\",\"arbiter.bench\",\"c1355\",\"c1908\",\"c3540\",\"c432\",\"c499\",\"c5315\",\"c6288\",\"c880\",\"cavlc.bench\",\"ctrl\",\"dec.bench\",\"i2c\",\"int2float.bench\",\"max.bench\",\"multiplier.bench\",\"priority.bench\",\"router\",\"sin.bench\",\"voter.bench\"]\n",
    "        for circ in circs:\n",
    "            A, X, labels = load_data(circ, 'data/output', normalize=\"\")\n",
    "            print(f\"{circ}: {sum(labels)}, {len(labels)}\")\n",
    "            scaler = MinMaxScaler()\n",
    "            X = scaler.fit_transform(X.toarray())\n",
    "            circuits.append(Graph(x=X, a=A, y=labels))\n",
    "\n",
    "        return circuits\n",
    "\n",
    "\n"
   ]
  },
  {
   "cell_type": "markdown",
   "metadata": {},
   "source": [
    "# Initialize dataset and split into train, test, and validation"
   ]
  },
  {
   "cell_type": "code",
   "execution_count": 4,
   "metadata": {
    "colab": {
     "base_uri": "https://localhost:8080/"
    },
    "executionInfo": {
     "elapsed": 9624,
     "status": "ok",
     "timestamp": 1620859598459,
     "user": {
      "displayName": "Vedika Saravanan",
      "photoUrl": "https://lh3.googleusercontent.com/a-/AOh14GiFu_fiUGTb9Acqc-9pwSrSh0SeoS2jImjreYTqPg=s64",
      "userId": "03855894681171022360"
     },
     "user_tz": 240
    },
    "id": "qD0qZF0dwSPO",
    "outputId": "d65a4509-29be-4af0-a358-5bd781f762fa"
   },
   "outputs": [
    {
     "name": "stdout",
     "output_type": "stream",
     "text": [
      "(4209, 4209)\n",
      "(4209, 4)\n",
      "adder.bench: [637.], 4209\n",
      "(36352, 36352)\n",
      "(36352, 4)\n",
      "arbiter.bench: [3763.], 36352\n",
      "(1355, 1355)\n",
      "(1355, 4)\n",
      "c1355: [192.], 1355\n",
      "(1908, 1908)\n",
      "(1908, 4)\n",
      "c1908: [257.], 1908\n",
      "(3540, 3540)\n",
      "(3540, 4)\n",
      "c3540: [406.], 3540\n",
      "(432, 432)\n",
      "(432, 4)\n",
      "c432: [60.], 432\n",
      "(499, 499)\n",
      "(499, 4)\n",
      "c499: [50.], 499\n",
      "(5315, 5315)\n",
      "(5315, 4)\n",
      "c5315: [599.], 5315\n",
      "(6288, 6288)\n",
      "(6288, 4)\n",
      "c6288: [846.], 6288\n",
      "(880, 880)\n",
      "(880, 4)\n",
      "c880: [114.], 880\n",
      "(2164, 2164)\n",
      "(2164, 4)\n",
      "cavlc.bench: [318.], 2164\n",
      "(569, 569)\n",
      "(569, 4)\n",
      "ctrl: [92.], 569\n",
      "(936, 936)\n",
      "(936, 4)\n",
      "dec.bench: [186.], 936\n",
      "(4107, 4107)\n",
      "(4107, 4)\n",
      "i2c: [502.], 4107\n",
      "(761, 761)\n",
      "(761, 4)\n",
      "int2float.bench: [80.], 761\n",
      "(9996, 9996)\n",
      "(9996, 4)\n",
      "max.bench: [1040.], 9996\n",
      "(89943, 89943)\n",
      "(89943, 4)\n",
      "multiplier.bench: [9294.], 89943\n",
      "(3495, 3495)\n",
      "(3495, 4)\n",
      "priority.bench: [350.], 3495\n",
      "(945, 945)\n",
      "(945, 4)\n",
      "router: [99.], 945\n",
      "(16771, 16771)\n",
      "(16771, 4)\n",
      "sin.bench: [1723.], 16771\n",
      "(50122, 50122)\n",
      "(50122, 4)\n",
      "voter.bench: [5012.], 50122\n",
      "[ 0 17 15  1  8  5 11  3 18 16 13  2  9 20  4 12] [ 7 10] [14 19  6]\n"
     ]
    }
   ],
   "source": [
    "dataset = CircuitDataset(transforms=[LayerPreprocess(TAGConv)])\n",
    "\n",
    "# Parameters\n",
    "\n",
    "F = dataset.n_node_features  # Dimension of node features\n",
    "n_out = dataset.n_labels  # Dimension of the target\n",
    "\n",
    "# Train/valid/test split\n",
    "np.random.seed(42)\n",
    "idxs = np.random.permutation(len(dataset))\n",
    "split_va, split_te = int(0.8 * len(dataset)), int(0.9 * len(dataset))\n",
    "idx_tr, idx_va, idx_te = np.split(idxs, [split_va, split_te])\n",
    "print(idx_tr, idx_va, idx_te)\n",
    "dataset_tr = dataset[idx_tr]\n",
    "dataset_va = dataset[idx_va]\n",
    "dataset_te = dataset[idx_te]\n",
    "def load_tr_data(epochs=400):\n",
    "    loader_tr = DisjointLoader(dataset_tr, batch_size=batch_size, epochs=epochs, node_level=True)\n",
    "    loader_va = DisjointLoader(dataset_va, batch_size=batch_size, node_level=True)\n",
    "    loader_te = DisjointLoader(dataset_te, batch_size=batch_size, node_level=True)\n",
    "    return loader_tr, loader_va, loader_te\n",
    "\n",
    "loader_tr, loader_va, loader_te = load_tr_data()\n"
   ]
  },
  {
   "cell_type": "markdown",
   "metadata": {},
   "source": [
    "# Normalized Input Distribution"
   ]
  },
  {
   "cell_type": "code",
   "execution_count": 5,
   "metadata": {},
   "outputs": [
    {
     "data": {
      "text/plain": [
       "Graph(n_nodes=4209, n_node_features=4, n_edge_features=None, n_labels=1)"
      ]
     },
     "execution_count": 5,
     "metadata": {},
     "output_type": "execute_result"
    }
   ],
   "source": [
    "dataset_tr[0]"
   ]
  },
  {
   "cell_type": "code",
   "execution_count": 6,
   "metadata": {
    "scrolled": true
   },
   "outputs": [],
   "source": [
    "# for i, g in enumerate(dataset):\n",
    "#     print(f\"----------------{i}-----------------\")\n",
    "#     df_all_circ_data = pd.DataFrame(g.x, columns=['level', 'c0', 'c1', 'ob'])\n",
    "#     df_all_circ_data['y'] = g.y\n",
    "#     for col in ['level', 'c0', 'c1', 'ob']:\n",
    "#         df_all_circ_data.hist(by='y', column=col, sharex=True, sharey=True)\n",
    "#         plt.suptitle(col)\n",
    "#         plt.show()"
   ]
  },
  {
   "cell_type": "code",
   "execution_count": 7,
   "metadata": {
    "colab": {
     "base_uri": "https://localhost:8080/"
    },
    "executionInfo": {
     "elapsed": 538,
     "status": "ok",
     "timestamp": 1620859599013,
     "user": {
      "displayName": "Vedika Saravanan",
      "photoUrl": "https://lh3.googleusercontent.com/a-/AOh14GiFu_fiUGTb9Acqc-9pwSrSh0SeoS2jImjreYTqPg=s64",
      "userId": "03855894681171022360"
     },
     "user_tz": 240
    },
    "id": "DZsZPDKRJoSf",
    "outputId": "415564df-ec92-450d-ba83-72a931595caf"
   },
   "outputs": [
    {
     "data": {
      "text/plain": [
       "240587"
      ]
     },
     "execution_count": 7,
     "metadata": {},
     "output_type": "execute_result"
    }
   ],
   "source": [
    "N = sum([ g.n_nodes for g in dataset.graphs ])\n",
    "n_out = 1\n",
    "N"
   ]
  },
  {
   "cell_type": "markdown",
   "metadata": {},
   "source": [
    "# Compute class weight for unbalanced labels"
   ]
  },
  {
   "cell_type": "code",
   "execution_count": 8,
   "metadata": {
    "colab": {
     "base_uri": "https://localhost:8080/"
    },
    "executionInfo": {
     "elapsed": 997,
     "status": "ok",
     "timestamp": 1620859599478,
     "user": {
      "displayName": "Vedika Saravanan",
      "photoUrl": "https://lh3.googleusercontent.com/a-/AOh14GiFu_fiUGTb9Acqc-9pwSrSh0SeoS2jImjreYTqPg=s64",
      "userId": "03855894681171022360"
     },
     "user_tz": 240
    },
    "id": "x4ftCHRFQrLH",
    "outputId": "292675a6-2fd4-4c4e-d62c-367bfa58a562"
   },
   "outputs": [
    {
     "name": "stdout",
     "output_type": "stream",
     "text": [
      "{0.0: 0.5594349389003626, 1.0: 4.706280087527352}\n"
     ]
    },
    {
     "name": "stderr",
     "output_type": "stream",
     "text": [
      "/Users/nikitaacharya/anaconda3/lib/python3.7/site-packages/sklearn/utils/validation.py:71: FutureWarning: Pass classes=[0. 1.], y=[0. 0. 0. ... 0. 0. 0.] as keyword args. From version 0.25 passing these as positional arguments will result in an error\n",
      "  FutureWarning)\n"
     ]
    }
   ],
   "source": [
    "from sklearn.utils.class_weight import compute_class_weight\n",
    "\n",
    "y_data = []\n",
    "for data_tr in dataset_tr:\n",
    "    y_data.append(data_tr.y)\n",
    "y_data = np.vstack((y_data)).reshape((-1,))\n",
    "\n",
    "\n",
    "def _compute_class_weight_dictionary(y):\n",
    "    # helper for returning a dictionary instead of an array\n",
    "    classes = np.unique(y).astype('float32')\n",
    "    class_weight = compute_class_weight(\"balanced\", classes, y)\n",
    "    class_weight_dict = dict(zip(classes, class_weight))\n",
    "    return class_weight_dict \n",
    "\n",
    "weights = _compute_class_weight_dictionary(np.vstack((y_data)).reshape((-1,)))\n",
    "print(weights)"
   ]
  },
  {
   "cell_type": "code",
   "execution_count": 9,
   "metadata": {
    "colab": {
     "base_uri": "https://localhost:8080/"
    },
    "executionInfo": {
     "elapsed": 350,
     "status": "ok",
     "timestamp": 1620859600214,
     "user": {
      "displayName": "Vedika Saravanan",
      "photoUrl": "https://lh3.googleusercontent.com/a-/AOh14GiFu_fiUGTb9Acqc-9pwSrSh0SeoS2jImjreYTqPg=s64",
      "userId": "03855894681171022360"
     },
     "user_tz": 240
    },
    "id": "ib2tcn6SQrLI",
    "outputId": "081f3240-db25-4a8a-ecb5-d0e6a67ad1b7"
   },
   "outputs": [],
   "source": [
    "%load_ext tensorboard"
   ]
  },
  {
   "cell_type": "markdown",
   "metadata": {
    "id": "pxGvwiguwxiZ"
   },
   "source": []
  },
  {
   "cell_type": "markdown",
   "metadata": {},
   "source": [
    "# Topology Aware Graph Convolution Network Model (TAGConv)"
   ]
  },
  {
   "cell_type": "code",
   "execution_count": 10,
   "metadata": {
    "colab": {
     "base_uri": "https://localhost:8080/"
    },
    "executionInfo": {
     "elapsed": 707,
     "status": "ok",
     "timestamp": 1620859651978,
     "user": {
      "displayName": "Vedika Saravanan",
      "photoUrl": "https://lh3.googleusercontent.com/a-/AOh14GiFu_fiUGTb9Acqc-9pwSrSh0SeoS2jImjreYTqPg=s64",
      "userId": "03855894681171022360"
     },
     "user_tz": 240
    },
    "id": "SOJe-nzrQrLJ",
    "outputId": "3dab8ed6-9f97-4a34-f6d8-cfd85667e401",
    "scrolled": false
   },
   "outputs": [
    {
     "name": "stdout",
     "output_type": "stream",
     "text": [
      "X_in:  (None, 4)\n",
      "Model: \"model\"\n",
      "__________________________________________________________________________________________________\n",
      "Layer (type)                    Output Shape         Param #     Connected to                     \n",
      "==================================================================================================\n",
      "input_1 (InputLayer)            [(None, 4)]          0                                            \n",
      "__________________________________________________________________________________________________\n",
      "input_2 (InputLayer)            [(None, None)]       0                                            \n",
      "__________________________________________________________________________________________________\n",
      "conv1 (TAGConv)                 (None, 256)          11520       input_1[0][0]                    \n",
      "                                                                 input_2[0][0]                    \n",
      "__________________________________________________________________________________________________\n",
      "conv3 (GraphSageConv)           (None, 256)          2304        input_1[0][0]                    \n",
      "                                                                 input_2[0][0]                    \n",
      "__________________________________________________________________________________________________\n",
      "batch_normalization (BatchNorma (None, 256)          1024        conv1[0][0]                      \n",
      "__________________________________________________________________________________________________\n",
      "batch_normalization_1 (BatchNor (None, 256)          1024        conv3[0][0]                      \n",
      "__________________________________________________________________________________________________\n",
      "dropout (Dropout)               (None, 256)          0           batch_normalization[0][0]        \n",
      "__________________________________________________________________________________________________\n",
      "dropout_1 (Dropout)             (None, 256)          0           batch_normalization_1[0][0]      \n",
      "__________________________________________________________________________________________________\n",
      "conv2 (TAGConv)                 (None, 256)          262400      dropout[0][0]                    \n",
      "                                                                 input_2[0][0]                    \n",
      "__________________________________________________________________________________________________\n",
      "conv4 (GraphSageConv)           (None, 256)          131328      dropout_1[0][0]                  \n",
      "                                                                 input_2[0][0]                    \n",
      "__________________________________________________________________________________________________\n",
      "concatenate (Concatenate)       (None, 512)          0           conv2[0][0]                      \n",
      "                                                                 conv4[0][0]                      \n",
      "__________________________________________________________________________________________________\n",
      "dropout_2 (Dropout)             (None, 512)          0           concatenate[0][0]                \n",
      "__________________________________________________________________________________________________\n",
      "input_3 (InputLayer)            [(None, None)]       0                                            \n",
      "__________________________________________________________________________________________________\n",
      "classification (GCNConv)        (None, 1)            513         dropout_2[0][0]                  \n",
      "                                                                 input_2[0][0]                    \n",
      "==================================================================================================\n",
      "Total params: 410,113\n",
      "Trainable params: 409,089\n",
      "Non-trainable params: 1,024\n",
      "__________________________________________________________________________________________________\n"
     ]
    }
   ],
   "source": [
    "from tensorflow.keras.metrics import sparse_categorical_accuracy, binary_accuracy, binary_crossentropy\n",
    "from tensorflow.keras import activations\n",
    "from tensorflow.keras import layers\n",
    "\n",
    "channels = 256         # Number of channels in the first layer\n",
    "dropout = 0.05         # Dropout rate for the features\n",
    "l2_reg = 1e-4           # L2 regularization rate\n",
    "learning_rate = 1e-5    # Learning rate\n",
    "epochs = 500            # Number of training epochs\n",
    "es_patience = 10    \n",
    "patience = 100 # Patience for early stopping\n",
    "# N = \n",
    "\n",
    "# Model definition\n",
    "X_in = Input(shape=(F, ))\n",
    "print(\"X_in: \", X_in.shape)\n",
    "fltr_in = Input((None, ), sparse=True)\n",
    "mask_in = Input((None, ))\n",
    "\n",
    "use_bias = True\n",
    "x = TAGConv(channels, K=10, aggregate=\"sum\",\n",
    "                         dropout_rate=dropout,\n",
    "                         activation='relu',\n",
    "                         kernel_regularizer=l2(l2_reg),\n",
    "                         attn_kernel_regularizer=l2(l2_reg),\n",
    "                         bias_regularizer=l2(l2_reg),\n",
    "                         use_bias=use_bias,\n",
    "                         n_input_channels=dataset.n_node_features, name=\"conv1\")([X_in, fltr_in]) \n",
    "x = BatchNormalization()(x)\n",
    "x = Dropout(dropout)(x)\n",
    "x1 = TAGConv(256, k = 5, aggregate=\"mean\",\n",
    "                         dropout_rate=dropout,\n",
    "                         activation='relu',\n",
    "                         kernel_regularizer=l2(l2_reg),\n",
    "                         attn_kernel_regularizer=l2(l2_reg),\n",
    "                         bias_regularizer=l2(l2_reg),\n",
    "                         use_bias=use_bias,\n",
    "                         n_input_channels=dataset.n_node_features, name=\"conv2\")([x, fltr_in])\n",
    "# x = BatchNormalization()(x)\n",
    "# x = Dropout(dropout)(x)\n",
    "# x = TAGConv(256, k = 5, aggregate=\"sum\",\n",
    "#                          dropout_rate=dropout,\n",
    "#                          activation='relu',\n",
    "#                          kernel_regularizer=l2(l2_reg),\n",
    "#                          attn_kernel_regularizer=l2(l2_reg),\n",
    "#                          bias_regularizer=l2(l2_reg),\n",
    "#                          use_bias=use_bias,\n",
    "#                          n_input_channels=dataset.n_node_features, name=\"conv3\")([x, fltr_in])\n",
    "# x = BatchNormalization()(x)\n",
    "# x = Dropout(dropout)(x)\n",
    "x = GraphSageConv(256, aggregate_op='sum',\n",
    "                         dropout_rate=dropout,\n",
    "                         activation='relu',\n",
    "                         kernel_regularizer=l2(l2_reg),\n",
    "                         attn_kernel_regularizer=l2(l2_reg),\n",
    "                         bias_regularizer=l2(l2_reg),\n",
    "                         use_bias=use_bias,\n",
    "                         n_input_channels=dataset.n_node_features, name=\"conv3\")([X_in, fltr_in])\n",
    "x = BatchNormalization()(x)\n",
    "x = Dropout(dropout)(x)\n",
    "x2 = GraphSageConv(256, aggregate_op='sum',\n",
    "                         dropout_rate=dropout,\n",
    "                         activation='relu',\n",
    "                         kernel_regularizer=l2(l2_reg),\n",
    "                         attn_kernel_regularizer=l2(l2_reg),\n",
    "                         bias_regularizer=l2(l2_reg),\n",
    "                         use_bias=use_bias,\n",
    "                         n_input_channels=dataset.n_node_features, name=\"conv4\")([x, fltr_in])\n",
    "# x = BatchNormalization()(x)\n",
    "# x = Dropout(dropout)(x)\n",
    "# x = GraphSageConv(128, aggregate_op='sum',\n",
    "#                          dropout_rate=dropout,\n",
    "#                          activation='relu',\n",
    "#                          kernel_regularizer=l2(l2_reg),\n",
    "#                          attn_kernel_regularizer=l2(l2_reg),\n",
    "#                          bias_regularizer=l2(l2_reg),\n",
    "#                          use_bias=use_bias,\n",
    "#                          n_input_channels=dataset.n_node_features, name=\"conv5\")([x, fltr_in])\n",
    "# x = BatchNormalization()(x)\n",
    "# x = Dropout(dropout)(x)\n",
    "# x = GraphSageConv(64, aggregate_op='sum',\n",
    "#                          dropout_rate=dropout,\n",
    "#                          activation='relu',\n",
    "#                          kernel_regularizer=l2(l2_reg),\n",
    "#                          attn_kernel_regularizer=l2(l2_reg),\n",
    "#                          bias_regularizer=l2(l2_reg),\n",
    "#                          use_bias=use_bias,\n",
    "#                          n_input_channels=dataset.n_node_features, name=\"conv6\")([x, fltr_in])\n",
    "# x = BatchNormalization()(x)\n",
    "# x = Dropout(dropout)(x)\n",
    "# x = GraphSageConv(32, aggregate_op='sum',\n",
    "#                          dropout_rate=dropout,\n",
    "#                          activation='relu',\n",
    "#                          kernel_regularizer=l2(l2_reg),\n",
    "#                          attn_kernel_regularizer=l2(l2_reg),\n",
    "#                          bias_regularizer=l2(l2_reg),\n",
    "#                          use_bias=use_bias,\n",
    "#                          n_input_channels=dataset.n_node_features, name=\"conv7\")([x, fltr_in])\n",
    "# x = BatchNormalization()(x)\n",
    "# x = Dropout(dropout)(x)\n",
    "# x = GraphSageConv(4, aggregate_op='sum',\n",
    "#                          dropout_rate=dropout,\n",
    "#                          activation='relu',\n",
    "#                          kernel_regularizer=l2(l2_reg),\n",
    "#                          attn_kernel_regularizer=l2(l2_reg),\n",
    "#                          bias_regularizer=l2(l2_reg),\n",
    "#                          use_bias=use_bias,\n",
    "#                          n_input_channels=dataset.n_node_features, name=\"conv8\")([x, fltr_in])\n",
    "concatted = tf.keras.layers.Concatenate()([x1, x2])\n",
    "\n",
    "x = BatchNormalization()(concatted)\n",
    "x = Dropout(dropout)(concatted)\n",
    "x = GCNConv(n_out, activation='sigmoid',\n",
    "                         n_input_channels=dataset.n_node_features, name=\"classification\", use_bias=use_bias)([x, fltr_in])\n",
    "\n",
    "model = Model(inputs=[X_in, fltr_in, mask_in], outputs=x)\n",
    "optimizer = Adam(lr=learning_rate)\n",
    "\n",
    "def masked_loss_and_accuracy(target, predictions):\n",
    "    loss = binary_crossentropy(target, predictions)\n",
    "    minimum = tf.math.minimum(tf.reduce_sum(tf.dtypes.cast(target == 0, tf.int32)), tf.reduce_sum(tf.dtypes.cast(target == 1, tf.int32)))\n",
    "    zeroes_index = tf.random.shuffle(tf.where(target == 0)[:,0])\n",
    "    ones_index = tf.random.shuffle(tf.where(target == 1)[:,0])\n",
    "    loss_zeroes =  tf.reduce_mean(tf.gather(loss, zeroes_index))\n",
    "    loss_ones = tf.reduce_mean(tf.gather(loss, ones_index))\n",
    "    \n",
    "    weight_for_0 = tf.cast((1 / tf.shape(zeroes_index)[0])*(tf.cast(tf.shape(target)[0], 'float64'))/2.0, 'float32')\n",
    "    weight_for_1 = tf.cast((1 / tf.shape(ones_index)[0])*(tf.cast(tf.shape(target)[0], 'float64'))/2.0, 'float32')\n",
    "\n",
    "    return (weight_for_0 * loss_zeroes * 0.6 +  weight_for_1 * loss_ones * 0.4)\n",
    "\n",
    "\n",
    "model.compile(optimizer=optimizer,\n",
    "              loss='binary_crossentropy',\n",
    "              weighted_metrics=['acc', tf.keras.metrics.Precision(), tf.keras.metrics.Recall()])\n",
    "model.summary()\n",
    "\n",
    "import tempfile\n",
    "tfcallback_dir = tempfile.TemporaryDirectory(suffix='tf', prefix='', dir=None).name\n",
    "tbCallBack_GCN = tf.keras.callbacks.TensorBoard(\n",
    "        log_dir=tfcallback_dir,\n",
    "        histogram_freq=1\n",
    ")\n",
    "# \n",
    "callback_GCN = [tbCallBack_GCN, EarlyStopping(patience=patience, restore_best_weights=True)]"
   ]
  },
  {
   "cell_type": "code",
   "execution_count": 11,
   "metadata": {},
   "outputs": [
    {
     "data": {
      "image/png": "[encoded data removed]",
      "text/plain": [
       "<IPython.core.display.Image object>"
      ]
     },
     "execution_count": 11,
     "metadata": {},
     "output_type": "execute_result"
    }
   ],
   "source": [
    "tf.keras.utils.plot_model(\n",
    "    model,\n",
    "    show_layer_names=True,\n",
    "    rankdir=\"TB\",\n",
    "    dpi=96,\n",
    ")"
   ]
  },
  {
   "cell_type": "markdown",
   "metadata": {},
   "source": [
    "# Train the model"
   ]
  },
  {
   "cell_type": "code",
   "execution_count": 12,
   "metadata": {
    "colab": {
     "base_uri": "https://localhost:8080/",
     "height": 1000
    },
    "id": "Y0xT-VFEQrLO",
    "outputId": "6816d1c7-2490-4c0c-8032-1d65fe35c3aa",
    "scrolled": true
   },
   "outputs": [
    {
     "name": "stdout",
     "output_type": "stream",
     "text": [
      "Epoch 1/150\n",
      "6/6 [==============================] - 14s 2s/step - loss: 0.7511 - acc: 0.5974 - precision: 0.5603 - recall: 0.8799 - val_loss: 0.7906 - val_acc: 0.2043 - val_precision: 0.1335 - val_recall: 1.0000\n",
      "Epoch 2/150\n",
      "6/6 [==============================] - 16s 621ms/step - loss: 0.7509 - acc: 0.5740 - precision: 0.5424 - recall: 0.9101 - val_loss: 0.7917 - val_acc: 0.2548 - val_precision: 0.1413 - val_recall: 1.0000\n",
      "Epoch 3/150\n",
      "6/6 [==============================] - 10s 1s/step - loss: 0.7232 - acc: 0.6974 - precision: 0.6321 - recall: 0.9401 - val_loss: 0.7929 - val_acc: 0.2829 - val_precision: 0.1460 - val_recall: 1.0000\n",
      "Epoch 4/150\n",
      "6/6 [==============================] - 8s 2s/step - loss: 0.7138 - acc: 0.6806 - precision: 0.6169 - recall: 0.9593 - val_loss: 0.7933 - val_acc: 0.3181 - val_precision: 0.1524 - val_recall: 1.0000\n",
      "Epoch 5/150\n",
      "6/6 [==============================] - 8s 1s/step - loss: 0.6939 - acc: 0.7273 - precision: 0.6568 - recall: 0.9672 - val_loss: 0.7940 - val_acc: 0.3432 - val_precision: 0.1573 - val_recall: 1.0000\n",
      "Epoch 6/150\n",
      "6/6 [==============================] - 7s 1s/step - loss: 0.6928 - acc: 0.7051 - precision: 0.6382 - recall: 0.9618 - val_loss: 0.7940 - val_acc: 0.3726 - val_precision: 0.1635 - val_recall: 1.0000\n",
      "Epoch 7/150\n",
      "6/6 [==============================] - 12s 2s/step - loss: 0.6917 - acc: 0.7045 - precision: 0.6426 - recall: 0.9654 - val_loss: 0.7935 - val_acc: 0.4054 - val_precision: 0.1710 - val_recall: 1.0000\n",
      "Epoch 8/150\n",
      "6/6 [==============================] - 9s 2s/step - loss: 0.6855 - acc: 0.6982 - precision: 0.6384 - recall: 0.9585 - val_loss: 0.7933 - val_acc: 0.4289 - val_precision: 0.1768 - val_recall: 1.0000\n",
      "Epoch 9/150\n",
      "6/6 [==============================] - 7s 1s/step - loss: 0.6989 - acc: 0.7218 - precision: 0.6633 - recall: 0.9557 - val_loss: 0.7924 - val_acc: 0.4538 - val_precision: 0.1833 - val_recall: 1.0000\n",
      "Epoch 10/150\n",
      "6/6 [==============================] - 7s 1s/step - loss: 0.7175 - acc: 0.6302 - precision: 0.5851 - recall: 0.8888 - val_loss: 0.7909 - val_acc: 0.4776 - val_precision: 0.1901 - val_recall: 1.0000\n",
      "Epoch 11/150\n",
      "6/6 [==============================] - 10s 2s/step - loss: 0.6972 - acc: 0.6973 - precision: 0.6425 - recall: 0.9559 - val_loss: 0.7897 - val_acc: 0.5009 - val_precision: 0.1972 - val_recall: 1.0000\n",
      "Epoch 12/150\n",
      "6/6 [==============================] - 11s 2s/step - loss: 0.6740 - acc: 0.7000 - precision: 0.6447 - recall: 0.9328 - val_loss: 0.7875 - val_acc: 0.5268 - val_precision: 0.2058 - val_recall: 1.0000\n",
      "Epoch 13/150\n",
      "6/6 [==============================] - 11s 2s/step - loss: 0.7008 - acc: 0.7160 - precision: 0.6698 - recall: 0.9230 - val_loss: 0.7855 - val_acc: 0.5544 - val_precision: 0.2158 - val_recall: 1.0000\n",
      "Epoch 14/150\n",
      "6/6 [==============================] - 11s 2s/step - loss: 0.6827 - acc: 0.6647 - precision: 0.6095 - recall: 0.9173 - val_loss: 0.7832 - val_acc: 0.5775 - val_precision: 0.2249 - val_recall: 1.0000\n",
      "Epoch 15/150\n",
      "6/6 [==============================] - 9s 2s/step - loss: 0.6666 - acc: 0.7456 - precision: 0.6855 - recall: 0.9520 - val_loss: 0.7809 - val_acc: 0.5902 - val_precision: 0.2303 - val_recall: 1.0000\n",
      "Epoch 16/150\n",
      "6/6 [==============================] - 9s 768ms/step - loss: 0.6353 - acc: 0.7260 - precision: 0.6510 - recall: 0.9704 - val_loss: 0.7782 - val_acc: 0.6032 - val_precision: 0.2360 - val_recall: 1.0000\n",
      "Epoch 17/150\n",
      "6/6 [==============================] - 10s 2s/step - loss: 0.6458 - acc: 0.7414 - precision: 0.6710 - recall: 0.9589 - val_loss: 0.7754 - val_acc: 0.6136 - val_precision: 0.2409 - val_recall: 1.0000\n",
      "Epoch 18/150\n",
      "6/6 [==============================] - 9s 1s/step - loss: 0.6757 - acc: 0.6743 - precision: 0.6180 - recall: 0.8980 - val_loss: 0.7724 - val_acc: 0.6233 - val_precision: 0.2456 - val_recall: 1.0000\n",
      "Epoch 19/150\n",
      "6/6 [==============================] - 10s 2s/step - loss: 0.6838 - acc: 0.6857 - precision: 0.6357 - recall: 0.9128 - val_loss: 0.7696 - val_acc: 0.6340 - val_precision: 0.2510 - val_recall: 1.0000\n",
      "Epoch 20/150\n",
      "6/6 [==============================] - 10s 2s/step - loss: 0.6411 - acc: 0.7558 - precision: 0.7022 - recall: 0.9483 - val_loss: 0.7668 - val_acc: 0.6409 - val_precision: 0.2545 - val_recall: 1.0000\n",
      "Epoch 21/150\n",
      "6/6 [==============================] - 8s 896ms/step - loss: 0.6337 - acc: 0.7271 - precision: 0.6585 - recall: 0.9380 - val_loss: 0.7631 - val_acc: 0.6481 - val_precision: 0.2584 - val_recall: 1.0000\n",
      "Epoch 22/150\n",
      "6/6 [==============================] - 10s 899ms/step - loss: 0.6641 - acc: 0.7393 - precision: 0.6717 - recall: 0.9323 - val_loss: 0.7600 - val_acc: 0.6533 - val_precision: 0.2613 - val_recall: 1.0000\n",
      "Epoch 23/150\n",
      "6/6 [==============================] - 8s 2s/step - loss: 0.6394 - acc: 0.7381 - precision: 0.6791 - recall: 0.9423 - val_loss: 0.7564 - val_acc: 0.6584 - val_precision: 0.2641 - val_recall: 1.0000\n",
      "Epoch 24/150\n",
      "6/6 [==============================] - 8s 1s/step - loss: 0.6271 - acc: 0.7528 - precision: 0.6884 - recall: 0.9422 - val_loss: 0.7529 - val_acc: 0.6624 - val_precision: 0.2663 - val_recall: 0.9989\n",
      "Epoch 25/150\n",
      "6/6 [==============================] - 9s 2s/step - loss: 0.6213 - acc: 0.7447 - precision: 0.6755 - recall: 0.9425 - val_loss: 0.7492 - val_acc: 0.6667 - val_precision: 0.2688 - val_recall: 0.9989\n",
      "Epoch 26/150\n",
      "6/6 [==============================] - 10s 980ms/step - loss: 0.6061 - acc: 0.7612 - precision: 0.6859 - recall: 0.9657 - val_loss: 0.7452 - val_acc: 0.6711 - val_precision: 0.2713 - val_recall: 0.9978\n",
      "Epoch 27/150\n",
      "6/6 [==============================] - 11s 2s/step - loss: 0.6821 - acc: 0.6996 - precision: 0.6554 - recall: 0.9048 - val_loss: 0.7412 - val_acc: 0.6758 - val_precision: 0.2741 - val_recall: 0.9978\n",
      "Epoch 28/150\n",
      "6/6 [==============================] - 9s 2s/step - loss: 0.6616 - acc: 0.7451 - precision: 0.6939 - recall: 0.9046 - val_loss: 0.7383 - val_acc: 0.6776 - val_precision: 0.2753 - val_recall: 0.9978\n",
      "Epoch 29/150\n",
      "6/6 [==============================] - 7s 1s/step - loss: 0.6414 - acc: 0.7593 - precision: 0.7117 - recall: 0.9277 - val_loss: 0.7346 - val_acc: 0.6804 - val_precision: 0.2770 - val_recall: 0.9978\n",
      "Epoch 30/150\n",
      "6/6 [==============================] - 7s 810ms/step - loss: 0.6229 - acc: 0.7485 - precision: 0.6744 - recall: 0.9592 - val_loss: 0.7304 - val_acc: 0.6861 - val_precision: 0.2806 - val_recall: 0.9978\n",
      "Epoch 31/150\n",
      "6/6 [==============================] - 7s 1s/step - loss: 0.6092 - acc: 0.7603 - precision: 0.6947 - recall: 0.9458 - val_loss: 0.7259 - val_acc: 0.6938 - val_precision: 0.2855 - val_recall: 0.9967\n",
      "Epoch 32/150\n",
      "6/6 [==============================] - 7s 1s/step - loss: 0.6276 - acc: 0.7139 - precision: 0.6485 - recall: 0.9353 - val_loss: 0.7221 - val_acc: 0.6989 - val_precision: 0.2890 - val_recall: 0.9967\n",
      "Epoch 33/150\n",
      "6/6 [==============================] - 12s 2s/step - loss: 0.6676 - acc: 0.7000 - precision: 0.6546 - recall: 0.8715 - val_loss: 0.7185 - val_acc: 0.7029 - val_precision: 0.2915 - val_recall: 0.9945\n",
      "Epoch 34/150\n",
      "6/6 [==============================] - 9s 2s/step - loss: 0.6330 - acc: 0.7386 - precision: 0.6820 - recall: 0.9206 - val_loss: 0.7139 - val_acc: 0.7061 - val_precision: 0.2936 - val_recall: 0.9935\n",
      "Epoch 35/150\n",
      "6/6 [==============================] - 7s 1s/step - loss: 0.6223 - acc: 0.7467 - precision: 0.6874 - recall: 0.9152 - val_loss: 0.7089 - val_acc: 0.7107 - val_precision: 0.2967 - val_recall: 0.9924\n",
      "Epoch 36/150\n",
      "6/6 [==============================] - 8s 2s/step - loss: 0.6536 - acc: 0.6920 - precision: 0.6539 - recall: 0.8524 - val_loss: 0.7043 - val_acc: 0.7144 - val_precision: 0.2993 - val_recall: 0.9913\n",
      "Epoch 37/150\n",
      "6/6 [==============================] - 11s 2s/step - loss: 0.6295 - acc: 0.7308 - precision: 0.6713 - recall: 0.9086 - val_loss: 0.7002 - val_acc: 0.7161 - val_precision: 0.3005 - val_recall: 0.9902\n",
      "Epoch 38/150\n",
      "6/6 [==============================] - 9s 2s/step - loss: 0.6062 - acc: 0.7597 - precision: 0.6945 - recall: 0.9399 - val_loss: 0.6945 - val_acc: 0.7192 - val_precision: 0.3020 - val_recall: 0.9836\n",
      "Epoch 39/150\n",
      "6/6 [==============================] - 9s 1s/step - loss: 0.6257 - acc: 0.7262 - precision: 0.6639 - recall: 0.9114 - val_loss: 0.6905 - val_acc: 0.7238 - val_precision: 0.3053 - val_recall: 0.9826\n"
     ]
    },
    {
     "name": "stdout",
     "output_type": "stream",
     "text": [
      "Epoch 40/150\n",
      "6/6 [==============================] - 10s 2s/step - loss: 0.6170 - acc: 0.7243 - precision: 0.6626 - recall: 0.9258 - val_loss: 0.6859 - val_acc: 0.7280 - val_precision: 0.3087 - val_recall: 0.9826\n",
      "Epoch 41/150\n",
      "6/6 [==============================] - 9s 2s/step - loss: 0.5786 - acc: 0.7810 - precision: 0.7149 - recall: 0.9496 - val_loss: 0.6808 - val_acc: 0.7320 - val_precision: 0.3116 - val_recall: 0.9804\n",
      "Epoch 42/150\n",
      "6/6 [==============================] - 7s 794ms/step - loss: 0.5825 - acc: 0.7860 - precision: 0.7156 - recall: 0.9485 - val_loss: 0.6754 - val_acc: 0.7353 - val_precision: 0.3141 - val_recall: 0.9793\n",
      "Epoch 43/150\n",
      "6/6 [==============================] - 8s 1s/step - loss: 0.5805 - acc: 0.7980 - precision: 0.7302 - recall: 0.9540 - val_loss: 0.6716 - val_acc: 0.7367 - val_precision: 0.3153 - val_recall: 0.9793\n",
      "Epoch 44/150\n",
      "6/6 [==============================] - 8s 1s/step - loss: 0.6061 - acc: 0.7589 - precision: 0.6912 - recall: 0.9334 - val_loss: 0.6675 - val_acc: 0.7386 - val_precision: 0.3166 - val_recall: 0.9771\n",
      "Epoch 45/150\n",
      "6/6 [==============================] - 7s 1s/step - loss: 0.5713 - acc: 0.7893 - precision: 0.7179 - recall: 0.9642 - val_loss: 0.6621 - val_acc: 0.7409 - val_precision: 0.3184 - val_recall: 0.9760\n",
      "Epoch 46/150\n",
      "6/6 [==============================] - 11s 2s/step - loss: 0.6127 - acc: 0.7578 - precision: 0.7038 - recall: 0.9136 - val_loss: 0.6570 - val_acc: 0.7457 - val_precision: 0.3224 - val_recall: 0.9749\n",
      "Epoch 47/150\n",
      "6/6 [==============================] - 13s 3s/step - loss: 0.5788 - acc: 0.7843 - precision: 0.7228 - recall: 0.9374 - val_loss: 0.6523 - val_acc: 0.7498 - val_precision: 0.3259 - val_recall: 0.9738\n",
      "Epoch 48/150\n",
      "6/6 [==============================] - 14s 2s/step - loss: 0.6056 - acc: 0.7782 - precision: 0.7113 - recall: 0.9307 - val_loss: 0.6488 - val_acc: 0.7514 - val_precision: 0.3273 - val_recall: 0.9738\n",
      "Epoch 49/150\n",
      "6/6 [==============================] - 13s 2s/step - loss: 0.6376 - acc: 0.7145 - precision: 0.6475 - recall: 0.9311 - val_loss: 0.6454 - val_acc: 0.7514 - val_precision: 0.3273 - val_recall: 0.9738\n",
      "Epoch 50/150\n",
      "6/6 [==============================] - 10s 1s/step - loss: 0.5963 - acc: 0.7858 - precision: 0.7126 - recall: 0.9545 - val_loss: 0.6418 - val_acc: 0.7522 - val_precision: 0.3282 - val_recall: 0.9749\n",
      "Epoch 51/150\n",
      "6/6 [==============================] - 9s 2s/step - loss: 0.5716 - acc: 0.7934 - precision: 0.7301 - recall: 0.9339 - val_loss: 0.6357 - val_acc: 0.7560 - val_precision: 0.3315 - val_recall: 0.9738\n",
      "Epoch 52/150\n",
      "6/6 [==============================] - 10s 2s/step - loss: 0.5521 - acc: 0.8152 - precision: 0.7537 - recall: 0.9508 - val_loss: 0.6304 - val_acc: 0.7585 - val_precision: 0.3338 - val_recall: 0.9738\n",
      "Epoch 53/150\n",
      "6/6 [==============================] - 8s 1s/step - loss: 0.5892 - acc: 0.7462 - precision: 0.6860 - recall: 0.9192 - val_loss: 0.6241 - val_acc: 0.7600 - val_precision: 0.3351 - val_recall: 0.9727\n",
      "Epoch 54/150\n",
      "6/6 [==============================] - 10s 2s/step - loss: 0.5621 - acc: 0.7978 - precision: 0.7239 - recall: 0.9717 - val_loss: 0.6200 - val_acc: 0.7613 - val_precision: 0.3363 - val_recall: 0.9727\n",
      "Epoch 55/150\n",
      "6/6 [==============================] - 10s 2s/step - loss: 0.5781 - acc: 0.7999 - precision: 0.7428 - recall: 0.9261 - val_loss: 0.6149 - val_acc: 0.7640 - val_precision: 0.3388 - val_recall: 0.9716\n",
      "Epoch 56/150\n",
      "6/6 [==============================] - 12s 2s/step - loss: 0.5839 - acc: 0.7559 - precision: 0.6894 - recall: 0.9415 - val_loss: 0.6112 - val_acc: 0.7645 - val_precision: 0.3394 - val_recall: 0.9727\n",
      "Epoch 57/150\n",
      "6/6 [==============================] - 8s 1s/step - loss: 0.6039 - acc: 0.7547 - precision: 0.6906 - recall: 0.9150 - val_loss: 0.6064 - val_acc: 0.7675 - val_precision: 0.3422 - val_recall: 0.9716\n",
      "Epoch 58/150\n",
      "6/6 [==============================] - 9s 1s/step - loss: 0.5883 - acc: 0.7846 - precision: 0.7101 - recall: 0.9588 - val_loss: 0.6024 - val_acc: 0.7680 - val_precision: 0.3427 - val_recall: 0.9716\n",
      "Epoch 59/150\n",
      "6/6 [==============================] - 9s 1s/step - loss: 0.6055 - acc: 0.7576 - precision: 0.7059 - recall: 0.8812 - val_loss: 0.5984 - val_acc: 0.7672 - val_precision: 0.3421 - val_recall: 0.9738\n",
      "Epoch 60/150\n",
      "6/6 [==============================] - 8s 829ms/step - loss: 0.5629 - acc: 0.7886 - precision: 0.7175 - recall: 0.9544 - val_loss: 0.5946 - val_acc: 0.7656 - val_precision: 0.3406 - val_recall: 0.9738\n",
      "Epoch 61/150\n",
      "6/6 [==============================] - 8s 2s/step - loss: 0.5665 - acc: 0.7913 - precision: 0.7301 - recall: 0.9403 - val_loss: 0.5901 - val_acc: 0.7659 - val_precision: 0.3407 - val_recall: 0.9727\n",
      "Epoch 62/150\n",
      "6/6 [==============================] - 14s 630ms/step - loss: 0.5891 - acc: 0.7365 - precision: 0.6588 - recall: 0.9738 - val_loss: 0.5861 - val_acc: 0.7659 - val_precision: 0.3407 - val_recall: 0.9727\n",
      "Epoch 63/150\n",
      "6/6 [==============================] - 15s 3s/step - loss: 0.5964 - acc: 0.7767 - precision: 0.7039 - recall: 0.9492 - val_loss: 0.5807 - val_acc: 0.7695 - val_precision: 0.3438 - val_recall: 0.9684\n",
      "Epoch 64/150\n",
      "6/6 [==============================] - 11s 855ms/step - loss: 0.5672 - acc: 0.7792 - precision: 0.7107 - recall: 0.9391 - val_loss: 0.5778 - val_acc: 0.7704 - val_precision: 0.3445 - val_recall: 0.9662\n",
      "Epoch 65/150\n",
      "6/6 [==============================] - 10s 2s/step - loss: 0.5802 - acc: 0.7741 - precision: 0.7015 - recall: 0.9483 - val_loss: 0.5724 - val_acc: 0.7728 - val_precision: 0.3468 - val_recall: 0.9651\n",
      "Epoch 66/150\n",
      "6/6 [==============================] - 7s 1s/step - loss: 0.5619 - acc: 0.8083 - precision: 0.7422 - recall: 0.9481 - val_loss: 0.5689 - val_acc: 0.7738 - val_precision: 0.3477 - val_recall: 0.9651\n",
      "Epoch 67/150\n",
      "6/6 [==============================] - 7s 799ms/step - loss: 0.5440 - acc: 0.7944 - precision: 0.7199 - recall: 0.9639 - val_loss: 0.5639 - val_acc: 0.7764 - val_precision: 0.3505 - val_recall: 0.9651\n",
      "Epoch 68/150\n",
      "6/6 [==============================] - 7s 1s/step - loss: 0.5475 - acc: 0.8307 - precision: 0.7749 - recall: 0.9409 - val_loss: 0.5611 - val_acc: 0.7766 - val_precision: 0.3506 - val_recall: 0.9651\n",
      "Epoch 69/150\n",
      "6/6 [==============================] - 7s 804ms/step - loss: 0.5374 - acc: 0.8032 - precision: 0.7288 - recall: 0.9677 - val_loss: 0.5573 - val_acc: 0.7774 - val_precision: 0.3515 - val_recall: 0.9651\n",
      "Epoch 70/150\n",
      "6/6 [==============================] - 7s 1s/step - loss: 0.5533 - acc: 0.8089 - precision: 0.7633 - recall: 0.9126 - val_loss: 0.5540 - val_acc: 0.7770 - val_precision: 0.3511 - val_recall: 0.9651\n",
      "Epoch 71/150\n",
      "6/6 [==============================] - 11s 2s/step - loss: 0.5661 - acc: 0.7552 - precision: 0.6856 - recall: 0.9530 - val_loss: 0.5524 - val_acc: 0.7771 - val_precision: 0.3513 - val_recall: 0.9662\n",
      "Epoch 72/150\n",
      "6/6 [==============================] - 8s 1s/step - loss: 0.5663 - acc: 0.7846 - precision: 0.7191 - recall: 0.9435 - val_loss: 0.5485 - val_acc: 0.7784 - val_precision: 0.3527 - val_recall: 0.9662\n",
      "Epoch 73/150\n",
      "6/6 [==============================] - 9s 2s/step - loss: 0.5494 - acc: 0.7956 - precision: 0.7288 - recall: 0.9593 - val_loss: 0.5458 - val_acc: 0.7782 - val_precision: 0.3524 - val_recall: 0.9662\n",
      "Epoch 74/150\n",
      "6/6 [==============================] - 8s 1s/step - loss: 0.5980 - acc: 0.7575 - precision: 0.7028 - recall: 0.8990 - val_loss: 0.5436 - val_acc: 0.7779 - val_precision: 0.3521 - val_recall: 0.9662\n",
      "Epoch 75/150\n",
      "6/6 [==============================] - 7s 845ms/step - loss: 0.5795 - acc: 0.7776 - precision: 0.7179 - recall: 0.9080 - val_loss: 0.5407 - val_acc: 0.7776 - val_precision: 0.3519 - val_recall: 0.9662\n",
      "Epoch 76/150\n",
      "6/6 [==============================] - 9s 2s/step - loss: 0.5583 - acc: 0.7959 - precision: 0.7409 - recall: 0.9159 - val_loss: 0.5359 - val_acc: 0.7802 - val_precision: 0.3542 - val_recall: 0.9629\n",
      "Epoch 77/150\n",
      "6/6 [==============================] - 7s 1s/step - loss: 0.5633 - acc: 0.8063 - precision: 0.7709 - recall: 0.9023 - val_loss: 0.5325 - val_acc: 0.7813 - val_precision: 0.3552 - val_recall: 0.9618\n",
      "Epoch 78/150\n",
      "6/6 [==============================] - 8s 1s/step - loss: 0.5652 - acc: 0.8007 - precision: 0.7446 - recall: 0.9264 - val_loss: 0.5279 - val_acc: 0.7825 - val_precision: 0.3562 - val_recall: 0.9586\n"
     ]
    },
    {
     "name": "stdout",
     "output_type": "stream",
     "text": [
      "Epoch 79/150\n",
      "6/6 [==============================] - 10s 589ms/step - loss: 0.5716 - acc: 0.7516 - precision: 0.6714 - recall: 0.9809 - val_loss: 0.5273 - val_acc: 0.7806 - val_precision: 0.3544 - val_recall: 0.9607\n",
      "Epoch 80/150\n",
      "6/6 [==============================] - 7s 1s/step - loss: 0.5462 - acc: 0.7968 - precision: 0.7240 - recall: 0.9576 - val_loss: 0.5223 - val_acc: 0.7835 - val_precision: 0.3569 - val_recall: 0.9542\n",
      "Epoch 81/150\n",
      "6/6 [==============================] - 9s 2s/step - loss: 0.5745 - acc: 0.7812 - precision: 0.7195 - recall: 0.9431 - val_loss: 0.5207 - val_acc: 0.7829 - val_precision: 0.3561 - val_recall: 0.9542\n",
      "Epoch 82/150\n",
      "6/6 [==============================] - 7s 1s/step - loss: 0.5676 - acc: 0.7842 - precision: 0.7289 - recall: 0.9022 - val_loss: 0.5188 - val_acc: 0.7833 - val_precision: 0.3563 - val_recall: 0.9520\n",
      "Epoch 83/150\n",
      "6/6 [==============================] - 7s 1s/step - loss: 0.5456 - acc: 0.8013 - precision: 0.7326 - recall: 0.9464 - val_loss: 0.5147 - val_acc: 0.7858 - val_precision: 0.3590 - val_recall: 0.9509\n",
      "Epoch 84/150\n",
      "6/6 [==============================] - 7s 1s/step - loss: 0.5526 - acc: 0.8093 - precision: 0.7548 - recall: 0.9355 - val_loss: 0.5114 - val_acc: 0.7867 - val_precision: 0.3597 - val_recall: 0.9477\n",
      "Epoch 85/150\n",
      "6/6 [==============================] - 7s 792ms/step - loss: 0.5402 - acc: 0.8069 - precision: 0.7344 - recall: 0.9606 - val_loss: 0.5070 - val_acc: 0.7903 - val_precision: 0.3638 - val_recall: 0.9477\n",
      "Epoch 86/150\n",
      "6/6 [==============================] - 9s 2s/step - loss: 0.5698 - acc: 0.7640 - precision: 0.7054 - recall: 0.9261 - val_loss: 0.5041 - val_acc: 0.7915 - val_precision: 0.3650 - val_recall: 0.9466\n",
      "Epoch 87/150\n",
      "6/6 [==============================] - 7s 1s/step - loss: 0.5363 - acc: 0.8067 - precision: 0.7372 - recall: 0.9589 - val_loss: 0.5008 - val_acc: 0.7921 - val_precision: 0.3656 - val_recall: 0.9466\n",
      "Epoch 88/150\n",
      "6/6 [==============================] - 7s 1s/step - loss: 0.5754 - acc: 0.7951 - precision: 0.7280 - recall: 0.9399 - val_loss: 0.4966 - val_acc: 0.7946 - val_precision: 0.3684 - val_recall: 0.9444\n",
      "Epoch 89/150\n",
      "6/6 [==============================] - 7s 1s/step - loss: 0.5507 - acc: 0.7805 - precision: 0.7082 - recall: 0.9760 - val_loss: 0.4970 - val_acc: 0.7930 - val_precision: 0.3667 - val_recall: 0.9466\n",
      "Epoch 90/150\n",
      "6/6 [==============================] - 10s 437ms/step - loss: 0.5539 - acc: 0.7457 - precision: 0.6705 - recall: 0.9614 - val_loss: 0.4954 - val_acc: 0.7928 - val_precision: 0.3664 - val_recall: 0.9466\n",
      "Epoch 91/150\n",
      "6/6 [==============================] - 7s 1s/step - loss: 0.5344 - acc: 0.8146 - precision: 0.7771 - recall: 0.9042 - val_loss: 0.4920 - val_acc: 0.7930 - val_precision: 0.3666 - val_recall: 0.9455\n",
      "Epoch 92/150\n",
      "6/6 [==============================] - 9s 1s/step - loss: 0.5418 - acc: 0.7678 - precision: 0.6978 - recall: 0.9566 - val_loss: 0.4903 - val_acc: 0.7938 - val_precision: 0.3676 - val_recall: 0.9466\n",
      "Epoch 93/150\n",
      "6/6 [==============================] - 7s 802ms/step - loss: 0.5455 - acc: 0.7966 - precision: 0.7266 - recall: 0.9491 - val_loss: 0.4860 - val_acc: 0.7953 - val_precision: 0.3688 - val_recall: 0.9411\n",
      "Epoch 94/150\n",
      "6/6 [==============================] - 7s 838ms/step - loss: 0.5335 - acc: 0.8036 - precision: 0.7328 - recall: 0.9555 - val_loss: 0.4853 - val_acc: 0.7937 - val_precision: 0.3669 - val_recall: 0.9411\n",
      "Epoch 95/150\n",
      "6/6 [==============================] - 7s 1s/step - loss: 0.5359 - acc: 0.8065 - precision: 0.7467 - recall: 0.9411 - val_loss: 0.4846 - val_acc: 0.7932 - val_precision: 0.3663 - val_recall: 0.9411\n",
      "Epoch 96/150\n",
      "6/6 [==============================] - 7s 1s/step - loss: 0.5203 - acc: 0.8314 - precision: 0.7844 - recall: 0.9294 - val_loss: 0.4825 - val_acc: 0.7941 - val_precision: 0.3674 - val_recall: 0.9411\n",
      "Epoch 97/150\n",
      "6/6 [==============================] - 8s 1s/step - loss: 0.5895 - acc: 0.8007 - precision: 0.7456 - recall: 0.9145 - val_loss: 0.4782 - val_acc: 0.7968 - val_precision: 0.3704 - val_recall: 0.9400\n",
      "Epoch 98/150\n",
      "6/6 [==============================] - 7s 1s/step - loss: 0.5372 - acc: 0.8098 - precision: 0.7442 - recall: 0.9525 - val_loss: 0.4759 - val_acc: 0.7981 - val_precision: 0.3719 - val_recall: 0.9389\n",
      "Epoch 99/150\n",
      "6/6 [==============================] - 9s 2s/step - loss: 0.5174 - acc: 0.8405 - precision: 0.7931 - recall: 0.9386 - val_loss: 0.4748 - val_acc: 0.7974 - val_precision: 0.3713 - val_recall: 0.9411\n",
      "Epoch 100/150\n",
      "6/6 [==============================] - 10s 2s/step - loss: 0.5121 - acc: 0.8162 - precision: 0.7535 - recall: 0.9703 - val_loss: 0.4749 - val_acc: 0.7969 - val_precision: 0.3708 - val_recall: 0.9422\n",
      "Epoch 101/150\n",
      "6/6 [==============================] - 7s 1s/step - loss: 0.5453 - acc: 0.8040 - precision: 0.7491 - recall: 0.9277 - val_loss: 0.4744 - val_acc: 0.7964 - val_precision: 0.3702 - val_recall: 0.9422\n",
      "Epoch 102/150\n",
      "6/6 [==============================] - 8s 1s/step - loss: 0.5200 - acc: 0.8242 - precision: 0.7666 - recall: 0.9368 - val_loss: 0.4711 - val_acc: 0.7972 - val_precision: 0.3707 - val_recall: 0.9378\n",
      "Epoch 103/150\n",
      "6/6 [==============================] - 8s 2s/step - loss: 0.5521 - acc: 0.7909 - precision: 0.7524 - recall: 0.9053 - val_loss: 0.4690 - val_acc: 0.7977 - val_precision: 0.3712 - val_recall: 0.9368\n",
      "Epoch 104/150\n",
      "6/6 [==============================] - 9s 2s/step - loss: 0.5155 - acc: 0.8007 - precision: 0.7334 - recall: 0.9772 - val_loss: 0.4691 - val_acc: 0.7972 - val_precision: 0.3707 - val_recall: 0.9378\n",
      "Epoch 105/150\n",
      "6/6 [==============================] - 7s 1s/step - loss: 0.5320 - acc: 0.8223 - precision: 0.7655 - recall: 0.9421 - val_loss: 0.4660 - val_acc: 0.7993 - val_precision: 0.3730 - val_recall: 0.9357\n",
      "Epoch 106/150\n",
      "6/6 [==============================] - 7s 1s/step - loss: 0.5271 - acc: 0.8149 - precision: 0.7570 - recall: 0.9322 - val_loss: 0.4638 - val_acc: 0.7994 - val_precision: 0.3724 - val_recall: 0.9280\n",
      "Epoch 107/150\n",
      "6/6 [==============================] - 7s 1s/step - loss: 0.5705 - acc: 0.8050 - precision: 0.7511 - recall: 0.9235 - val_loss: 0.4602 - val_acc: 0.8029 - val_precision: 0.3766 - val_recall: 0.9269\n",
      "Epoch 108/150\n",
      "6/6 [==============================] - 7s 1s/step - loss: 0.5265 - acc: 0.8286 - precision: 0.7850 - recall: 0.9111 - val_loss: 0.4558 - val_acc: 0.8064 - val_precision: 0.3810 - val_recall: 0.9269\n",
      "Epoch 109/150\n",
      "6/6 [==============================] - 8s 565ms/step - loss: 0.5449 - acc: 0.7699 - precision: 0.6904 - recall: 0.9768 - val_loss: 0.4534 - val_acc: 0.8081 - val_precision: 0.3829 - val_recall: 0.9237\n",
      "Epoch 110/150\n",
      "6/6 [==============================] - 7s 1s/step - loss: 0.5116 - acc: 0.8187 - precision: 0.7513 - recall: 0.9621 - val_loss: 0.4512 - val_acc: 0.8088 - val_precision: 0.3836 - val_recall: 0.9215\n",
      "Epoch 111/150\n",
      "6/6 [==============================] - 8s 1s/step - loss: 0.5421 - acc: 0.7731 - precision: 0.7103 - recall: 0.9588 - val_loss: 0.4533 - val_acc: 0.8080 - val_precision: 0.3829 - val_recall: 0.9258\n",
      "Epoch 112/150\n",
      "6/6 [==============================] - 7s 1s/step - loss: 0.5236 - acc: 0.8341 - precision: 0.8008 - recall: 0.8994 - val_loss: 0.4518 - val_acc: 0.8083 - val_precision: 0.3832 - val_recall: 0.9248\n",
      "Epoch 113/150\n",
      "6/6 [==============================] - 7s 1s/step - loss: 0.5663 - acc: 0.7910 - precision: 0.7904 - recall: 0.8422 - val_loss: 0.4513 - val_acc: 0.8079 - val_precision: 0.3821 - val_recall: 0.9193\n",
      "Epoch 114/150\n",
      "6/6 [==============================] - 7s 1s/step - loss: 0.5447 - acc: 0.8102 - precision: 0.7578 - recall: 0.9134 - val_loss: 0.4480 - val_acc: 0.8105 - val_precision: 0.3856 - val_recall: 0.9193\n",
      "Epoch 115/150\n",
      "6/6 [==============================] - 9s 2s/step - loss: 0.5151 - acc: 0.8398 - precision: 0.7902 - recall: 0.9452 - val_loss: 0.4473 - val_acc: 0.8103 - val_precision: 0.3852 - val_recall: 0.9182\n",
      "Epoch 116/150\n",
      "6/6 [==============================] - 7s 1s/step - loss: 0.5353 - acc: 0.8156 - precision: 0.7756 - recall: 0.8974 - val_loss: 0.4450 - val_acc: 0.8115 - val_precision: 0.3866 - val_recall: 0.9160\n",
      "Epoch 117/150\n",
      "6/6 [==============================] - 8s 2s/step - loss: 0.5245 - acc: 0.8081 - precision: 0.7490 - recall: 0.9510 - val_loss: 0.4435 - val_acc: 0.8119 - val_precision: 0.3870 - val_recall: 0.9149\n"
     ]
    },
    {
     "name": "stdout",
     "output_type": "stream",
     "text": [
      "Epoch 118/150\n",
      "6/6 [==============================] - 8s 1s/step - loss: 0.5004 - acc: 0.8333 - precision: 0.7716 - recall: 0.9500 - val_loss: 0.4423 - val_acc: 0.8119 - val_precision: 0.3870 - val_recall: 0.9149\n",
      "Epoch 119/150\n",
      "6/6 [==============================] - 7s 1s/step - loss: 0.4846 - acc: 0.8563 - precision: 0.8016 - recall: 0.9628 - val_loss: 0.4413 - val_acc: 0.8123 - val_precision: 0.3873 - val_recall: 0.9128\n",
      "Epoch 120/150\n",
      "6/6 [==============================] - 7s 1s/step - loss: 0.5009 - acc: 0.8189 - precision: 0.7570 - recall: 0.9433 - val_loss: 0.4378 - val_acc: 0.8147 - val_precision: 0.3903 - val_recall: 0.9095\n",
      "Epoch 121/150\n",
      "6/6 [==============================] - 7s 749ms/step - loss: 0.5039 - acc: 0.8184 - precision: 0.7485 - recall: 0.9634 - val_loss: 0.4344 - val_acc: 0.8179 - val_precision: 0.3945 - val_recall: 0.9073\n",
      "Epoch 122/150\n",
      "6/6 [==============================] - 7s 1s/step - loss: 0.5232 - acc: 0.8383 - precision: 0.7784 - recall: 0.9457 - val_loss: 0.4317 - val_acc: 0.8194 - val_precision: 0.3962 - val_recall: 0.9029\n",
      "Epoch 123/150\n",
      "6/6 [==============================] - 8s 1s/step - loss: 0.5699 - acc: 0.7742 - precision: 0.7078 - recall: 0.9331 - val_loss: 0.4302 - val_acc: 0.8207 - val_precision: 0.3979 - val_recall: 0.9008\n",
      "Epoch 124/150\n",
      "6/6 [==============================] - 7s 778ms/step - loss: 0.5098 - acc: 0.8089 - precision: 0.7348 - recall: 0.9686 - val_loss: 0.4300 - val_acc: 0.8204 - val_precision: 0.3975 - val_recall: 0.9008\n",
      "Epoch 125/150\n",
      "6/6 [==============================] - 7s 825ms/step - loss: 0.5281 - acc: 0.8107 - precision: 0.7417 - recall: 0.9525 - val_loss: 0.4289 - val_acc: 0.8215 - val_precision: 0.3988 - val_recall: 0.8986\n",
      "Epoch 126/150\n",
      "6/6 [==============================] - 7s 1s/step - loss: 0.5187 - acc: 0.8014 - precision: 0.7566 - recall: 0.9100 - val_loss: 0.4269 - val_acc: 0.8219 - val_precision: 0.3990 - val_recall: 0.8942\n",
      "Epoch 127/150\n",
      "6/6 [==============================] - 7s 1s/step - loss: 0.5066 - acc: 0.8248 - precision: 0.7573 - recall: 0.9572 - val_loss: 0.4269 - val_acc: 0.8218 - val_precision: 0.3988 - val_recall: 0.8942\n",
      "Epoch 128/150\n",
      "6/6 [==============================] - 7s 1s/step - loss: 0.5500 - acc: 0.8039 - precision: 0.7516 - recall: 0.9067 - val_loss: 0.4257 - val_acc: 0.8226 - val_precision: 0.3998 - val_recall: 0.8920\n",
      "Epoch 129/150\n",
      "6/6 [==============================] - 9s 1s/step - loss: 0.5308 - acc: 0.8142 - precision: 0.7570 - recall: 0.9326 - val_loss: 0.4304 - val_acc: 0.8172 - val_precision: 0.3926 - val_recall: 0.8964\n",
      "Epoch 130/150\n",
      "6/6 [==============================] - 7s 1s/step - loss: 0.4862 - acc: 0.8397 - precision: 0.7763 - recall: 0.9649 - val_loss: 0.4305 - val_acc: 0.8171 - val_precision: 0.3926 - val_recall: 0.8986\n",
      "Epoch 131/150\n",
      "6/6 [==============================] - 7s 1s/step - loss: 0.5284 - acc: 0.7922 - precision: 0.7148 - recall: 0.9744 - val_loss: 0.4334 - val_acc: 0.8143 - val_precision: 0.3890 - val_recall: 0.9019\n",
      "Epoch 132/150\n",
      "6/6 [==============================] - 7s 1s/step - loss: 0.5052 - acc: 0.8204 - precision: 0.7607 - recall: 0.9511 - val_loss: 0.4342 - val_acc: 0.8136 - val_precision: 0.3882 - val_recall: 0.9029\n",
      "Epoch 133/150\n",
      "6/6 [==============================] - 7s 1s/step - loss: 0.4955 - acc: 0.8398 - precision: 0.7981 - recall: 0.9204 - val_loss: 0.4335 - val_acc: 0.8133 - val_precision: 0.3874 - val_recall: 0.8986\n",
      "Epoch 134/150\n",
      "6/6 [==============================] - 8s 1s/step - loss: 0.5133 - acc: 0.7982 - precision: 0.7309 - recall: 0.9526 - val_loss: 0.4342 - val_acc: 0.8128 - val_precision: 0.3868 - val_recall: 0.8997\n",
      "Epoch 135/150\n",
      "6/6 [==============================] - 7s 1s/step - loss: 0.4932 - acc: 0.8439 - precision: 0.7833 - recall: 0.9576 - val_loss: 0.4349 - val_acc: 0.8121 - val_precision: 0.3859 - val_recall: 0.8997\n",
      "Epoch 136/150\n",
      "6/6 [==============================] - 7s 994ms/step - loss: 0.5152 - acc: 0.8115 - precision: 0.7521 - recall: 0.9261 - val_loss: 0.4341 - val_acc: 0.8127 - val_precision: 0.3865 - val_recall: 0.8986\n",
      "Epoch 137/150\n",
      "6/6 [==============================] - 8s 1s/step - loss: 0.5193 - acc: 0.8294 - precision: 0.7718 - recall: 0.9361 - val_loss: 0.4330 - val_acc: 0.8132 - val_precision: 0.3870 - val_recall: 0.8964\n",
      "Epoch 138/150\n",
      "6/6 [==============================] - 7s 1s/step - loss: 0.5159 - acc: 0.8075 - precision: 0.7558 - recall: 0.9097 - val_loss: 0.4308 - val_acc: 0.8141 - val_precision: 0.3875 - val_recall: 0.8888\n",
      "Epoch 139/150\n",
      "6/6 [==============================] - 7s 1s/step - loss: 0.5350 - acc: 0.8171 - precision: 0.7931 - recall: 0.8757 - val_loss: 0.4285 - val_acc: 0.8148 - val_precision: 0.3880 - val_recall: 0.8844\n",
      "Epoch 140/150\n",
      "6/6 [==============================] - 8s 2s/step - loss: 0.5301 - acc: 0.8043 - precision: 0.7387 - recall: 0.9699 - val_loss: 0.4298 - val_acc: 0.8137 - val_precision: 0.3865 - val_recall: 0.8833\n",
      "Epoch 141/150\n",
      "6/6 [==============================] - 7s 837ms/step - loss: 0.5168 - acc: 0.8217 - precision: 0.7788 - recall: 0.8969 - val_loss: 0.4294 - val_acc: 0.8143 - val_precision: 0.3869 - val_recall: 0.8800\n",
      "Epoch 142/150\n",
      "6/6 [==============================] - 7s 1s/step - loss: 0.5103 - acc: 0.8344 - precision: 0.8102 - recall: 0.8922 - val_loss: 0.4319 - val_acc: 0.8128 - val_precision: 0.3849 - val_recall: 0.8811\n",
      "Epoch 143/150\n",
      "6/6 [==============================] - 7s 1s/step - loss: 0.5078 - acc: 0.8253 - precision: 0.7633 - recall: 0.9504 - val_loss: 0.4295 - val_acc: 0.8135 - val_precision: 0.3848 - val_recall: 0.8702\n",
      "Epoch 144/150\n",
      "6/6 [==============================] - 8s 2s/step - loss: 0.5065 - acc: 0.7952 - precision: 0.7205 - recall: 0.9758 - val_loss: 0.4303 - val_acc: 0.8133 - val_precision: 0.3848 - val_recall: 0.8724\n",
      "Epoch 145/150\n",
      "6/6 [==============================] - 7s 974ms/step - loss: 0.5183 - acc: 0.8010 - precision: 0.7410 - recall: 0.9207 - val_loss: 0.4286 - val_acc: 0.8141 - val_precision: 0.3851 - val_recall: 0.8648\n",
      "Epoch 146/150\n",
      "6/6 [==============================] - 10s 2s/step - loss: 0.4913 - acc: 0.8360 - precision: 0.7974 - recall: 0.9231 - val_loss: 0.4319 - val_acc: 0.8121 - val_precision: 0.3834 - val_recall: 0.8746\n",
      "Epoch 147/150\n",
      "6/6 [==============================] - 7s 1s/step - loss: 0.4792 - acc: 0.8593 - precision: 0.8345 - recall: 0.9201 - val_loss: 0.4301 - val_acc: 0.8123 - val_precision: 0.3831 - val_recall: 0.8702\n",
      "Epoch 148/150\n",
      "6/6 [==============================] - 8s 1s/step - loss: 0.5097 - acc: 0.8197 - precision: 0.7591 - recall: 0.9348 - val_loss: 0.4269 - val_acc: 0.8129 - val_precision: 0.3829 - val_recall: 0.8593\n",
      "Epoch 149/150\n",
      "6/6 [==============================] - 8s 2s/step - loss: 0.5040 - acc: 0.8292 - precision: 0.7918 - recall: 0.8993 - val_loss: 0.4261 - val_acc: 0.8132 - val_precision: 0.3829 - val_recall: 0.8561\n",
      "Epoch 150/150\n",
      "6/6 [==============================] - 9s 2s/step - loss: 0.5196 - acc: 0.7940 - precision: 0.7288 - recall: 0.9508 - val_loss: 0.4256 - val_acc: 0.8125 - val_precision: 0.3812 - val_recall: 0.8484\n"
     ]
    }
   ],
   "source": [
    "epochs = 150\n",
    "loader_tr, loader_va, loader_te = load_tr_data(epochs)\n",
    "# class_weight = {0: 0.11, 1: 0.89}\n",
    "history = model.fit(\n",
    "    loader_tr.load(),\n",
    "    steps_per_epoch=loader_tr.steps_per_epoch,\n",
    "    validation_data=loader_va.load(),\n",
    "    validation_steps=loader_va.steps_per_epoch,\n",
    "    epochs=epochs,\n",
    "    class_weight=weights,\n",
    "    callbacks=callback_GCN\n",
    ")"
   ]
  },
  {
   "cell_type": "code",
   "execution_count": 13,
   "metadata": {},
   "outputs": [],
   "source": [
    "import os\n",
    "import tensorflow as tf\n",
    "# import tensorflow_datasets as tfds\n",
    "from tensorboard.plugins import projector"
   ]
  },
  {
   "cell_type": "code",
   "execution_count": 14,
   "metadata": {},
   "outputs": [
    {
     "data": {
      "text/html": [
       "\n",
       "      <iframe id=\"tensorboard-frame-9d56370d6e5fb303\" width=\"100%\" height=\"800\" frameborder=\"0\">\n",
       "      </iframe>\n",
       "      <script>\n",
       "        (function() {\n",
       "          const frame = document.getElementById(\"tensorboard-frame-9d56370d6e5fb303\");\n",
       "          const url = new URL(\"/\", window.location);\n",
       "          const port = 6006;\n",
       "          if (port) {\n",
       "            url.port = port;\n",
       "          }\n",
       "          frame.src = url;\n",
       "        })();\n",
       "      </script>\n",
       "    "
      ],
      "text/plain": [
       "<IPython.core.display.HTML object>"
      ]
     },
     "metadata": {},
     "output_type": "display_data"
    }
   ],
   "source": [
    "%tensorboard --logdir {tfcallback_dir}"
   ]
  },
  {
   "cell_type": "code",
   "execution_count": 15,
   "metadata": {
    "colab": {
     "base_uri": "https://localhost:8080/"
    },
    "executionInfo": {
     "elapsed": 1900,
     "status": "ok",
     "timestamp": 1620858507685,
     "user": {
      "displayName": "Vedika Saravanan",
      "photoUrl": "https://lh3.googleusercontent.com/a-/AOh14GiFu_fiUGTb9Acqc-9pwSrSh0SeoS2jImjreYTqPg=s64",
      "userId": "03855894681171022360"
     },
     "user_tz": 240
    },
    "id": "jd9OlFTAQrLP",
    "outputId": "315fda69-6b0e-41e2-f337-ae5e74e19749"
   },
   "outputs": [
    {
     "name": "stdout",
     "output_type": "stream",
     "text": [
      "1/1 [==============================] - 0s 229ms/step - loss: 0.3452 - acc: 0.8896 - precision: 0.4141 - recall: 0.1781\n",
      "Done. Test loss: [0.3452495336532593, 0.8896344900131226, 0.41405269503593445, 0.17808958888053894]\n"
     ]
    }
   ],
   "source": [
    "model_loss = model.evaluate(loader_te.load(), steps=loader_te.steps_per_epoch)\n",
    "print(\"Done. Test loss: {}\".format(model_loss))"
   ]
  },
  {
   "cell_type": "markdown",
   "metadata": {},
   "source": [
    "# Model prediction metrics"
   ]
  },
  {
   "cell_type": "code",
   "execution_count": 16,
   "metadata": {
    "colab": {
     "base_uri": "https://localhost:8080/"
    },
    "executionInfo": {
     "elapsed": 2325,
     "status": "ok",
     "timestamp": 1620858511826,
     "user": {
      "displayName": "Vedika Saravanan",
      "photoUrl": "https://lh3.googleusercontent.com/a-/AOh14GiFu_fiUGTb9Acqc-9pwSrSh0SeoS2jImjreYTqPg=s64",
      "userId": "03855894681171022360"
     },
     "user_tz": 240
    },
    "id": "t-MEYWzaQrLP",
    "outputId": "f01e5b9c-a571-4710-ed25-73e58adf63c1"
   },
   "outputs": [
    {
     "name": "stdout",
     "output_type": "stream",
     "text": [
      "3\n",
      "GCN Classification Report: \n",
      "               precision    recall  f1-score   support\n",
      "\n",
      "         0.0       1.00      0.45      0.62       449\n",
      "         1.0       0.17      1.00      0.29        50\n",
      "\n",
      "    accuracy                           0.50       499\n",
      "   macro avg       0.58      0.72      0.45       499\n",
      "weighted avg       0.92      0.50      0.58       499\n",
      "\n",
      "GCN Classification Report: \n",
      "               precision    recall  f1-score   support\n",
      "\n",
      "         0.0       0.91      1.00      0.95     15048\n",
      "         1.0       1.00      0.12      0.21      1723\n",
      "\n",
      "    accuracy                           0.91     16771\n",
      "   macro avg       0.95      0.56      0.58     16771\n",
      "weighted avg       0.92      0.91      0.88     16771\n",
      "\n",
      "GCN Classification Report: \n",
      "               precision    recall  f1-score   support\n",
      "\n",
      "         0.0       1.00      0.68      0.81       681\n",
      "         1.0       0.27      1.00      0.42        80\n",
      "\n",
      "    accuracy                           0.71       761\n",
      "   macro avg       0.63      0.84      0.62       761\n",
      "weighted avg       0.92      0.71      0.77       761\n",
      "\n"
     ]
    }
   ],
   "source": [
    "from sklearn.metrics import classification_report\n",
    "print(len(dataset_te))\n",
    "for test_data in dataset_te:\n",
    "    X_te = test_data.x\n",
    "    A_te = test_data.a\n",
    "    y_te = test_data.y\n",
    "\n",
    "    y_pred = model.predict([X_te, A_te, A_te], batch_size=X_te.shape[0])\n",
    "    report = classification_report(y_te, (y_pred >= 0.5).astype(int))\n",
    "    print('GCN Classification Report: \\n {}'.format(report))"
   ]
  },
  {
   "cell_type": "code",
   "execution_count": 17,
   "metadata": {
    "colab": {
     "base_uri": "https://localhost:8080/"
    },
    "executionInfo": {
     "elapsed": 722,
     "status": "ok",
     "timestamp": 1620858619727,
     "user": {
      "displayName": "Vedika Saravanan",
      "photoUrl": "https://lh3.googleusercontent.com/a-/AOh14GiFu_fiUGTb9Acqc-9pwSrSh0SeoS2jImjreYTqPg=s64",
      "userId": "03855894681171022360"
     },
     "user_tz": 240
    },
    "id": "9nxKznEH4ltT",
    "outputId": "93d8f48e-9a98-4de0-cec5-77446bdec0af"
   },
   "outputs": [
    {
     "name": "stdout",
     "output_type": "stream",
     "text": [
      "2\n",
      "GCN Classification Report: \n",
      "               precision    recall  f1-score   support\n",
      "\n",
      "         0.0       1.00      0.42      0.59      1846\n",
      "         1.0       0.23      1.00      0.37       318\n",
      "\n",
      "    accuracy                           0.50      2164\n",
      "   macro avg       0.61      0.71      0.48      2164\n",
      "weighted avg       0.89      0.50      0.56      2164\n",
      "\n",
      "GCN Classification Report: \n",
      "               precision    recall  f1-score   support\n",
      "\n",
      "         0.0       0.97      0.96      0.96      4716\n",
      "         1.0       0.71      0.77      0.74       599\n",
      "\n",
      "    accuracy                           0.94      5315\n",
      "   macro avg       0.84      0.86      0.85      5315\n",
      "weighted avg       0.94      0.94      0.94      5315\n",
      "\n"
     ]
    }
   ],
   "source": [
    "from sklearn.metrics import classification_report\n",
    "print(len(dataset_va))\n",
    "for test_data in dataset_va:\n",
    "    X_te = test_data.x\n",
    "    A_te = test_data.a\n",
    "    y_te = test_data.y\n",
    "\n",
    "    y_pred = model.predict([X_te, A_te, A_te], batch_size=X_te.shape[0])\n",
    "    report = classification_report(y_te, (y_pred >= 0.5).astype(int))\n",
    "    print('GCN Classification Report: \\n {}'.format(report))"
   ]
  },
  {
   "cell_type": "code",
   "execution_count": 18,
   "metadata": {
    "colab": {
     "base_uri": "https://localhost:8080/"
    },
    "executionInfo": {
     "elapsed": 3848,
     "status": "ok",
     "timestamp": 1620858626777,
     "user": {
      "displayName": "Vedika Saravanan",
      "photoUrl": "https://lh3.googleusercontent.com/a-/AOh14GiFu_fiUGTb9Acqc-9pwSrSh0SeoS2jImjreYTqPg=s64",
      "userId": "03855894681171022360"
     },
     "user_tz": 240
    },
    "id": "u-B2x3mNQrLQ",
    "outputId": "ad697aad-5d36-4960-f8f4-66c5eaf56764",
    "scrolled": false
   },
   "outputs": [
    {
     "name": "stdout",
     "output_type": "stream",
     "text": [
      "16\n",
      "GCN Classification Report: \n",
      "               precision    recall  f1-score   support\n",
      "\n",
      "         0.0       0.94      0.97      0.95       766\n",
      "         1.0       0.73      0.60      0.66       114\n",
      "\n",
      "    accuracy                           0.92       880\n",
      "   macro avg       0.84      0.78      0.81       880\n",
      "weighted avg       0.91      0.92      0.92       880\n",
      "\n",
      "GCN Classification Report: \n",
      "               precision    recall  f1-score   support\n",
      "\n",
      "         0.0       1.00      0.65      0.79      5442\n",
      "         1.0       0.31      1.00      0.47       846\n",
      "\n",
      "    accuracy                           0.70      6288\n",
      "   macro avg       0.66      0.83      0.63      6288\n",
      "weighted avg       0.91      0.70      0.75      6288\n",
      "\n",
      "GCN Classification Report: \n",
      "               precision    recall  f1-score   support\n",
      "\n",
      "         0.0       0.94      0.43      0.59      1163\n",
      "         1.0       0.20      0.83      0.32       192\n",
      "\n",
      "    accuracy                           0.49      1355\n",
      "   macro avg       0.57      0.63      0.45      1355\n",
      "weighted avg       0.83      0.49      0.55      1355\n",
      "\n",
      "GCN Classification Report: \n",
      "               precision    recall  f1-score   support\n",
      "\n",
      "         0.0       0.94      1.00      0.97      3605\n",
      "         1.0       1.00      0.58      0.73       502\n",
      "\n",
      "    accuracy                           0.95      4107\n",
      "   macro avg       0.97      0.79      0.85      4107\n",
      "weighted avg       0.95      0.95      0.94      4107\n",
      "\n",
      "GCN Classification Report: \n",
      "               precision    recall  f1-score   support\n",
      "\n",
      "         0.0       1.00      0.10      0.18     32589\n",
      "         1.0       0.11      1.00      0.20      3763\n",
      "\n",
      "    accuracy                           0.19     36352\n",
      "   macro avg       0.56      0.55      0.19     36352\n",
      "weighted avg       0.91      0.19      0.18     36352\n",
      "\n",
      "GCN Classification Report: \n",
      "               precision    recall  f1-score   support\n",
      "\n",
      "         0.0       1.00      0.81      0.90       846\n",
      "         1.0       0.38      0.99      0.55        99\n",
      "\n",
      "    accuracy                           0.83       945\n",
      "   macro avg       0.69      0.90      0.73       945\n",
      "weighted avg       0.93      0.83      0.86       945\n",
      "\n",
      "GCN Classification Report: \n",
      "               precision    recall  f1-score   support\n",
      "\n",
      "         0.0       1.00      0.62      0.77     80649\n",
      "         1.0       0.23      1.00      0.38      9294\n",
      "\n",
      "    accuracy                           0.66     89943\n",
      "   macro avg       0.62      0.81      0.57     89943\n",
      "weighted avg       0.92      0.66      0.73     89943\n",
      "\n",
      "GCN Classification Report: \n",
      "               precision    recall  f1-score   support\n",
      "\n",
      "         0.0       0.90      0.97      0.93       750\n",
      "         1.0       0.81      0.55      0.65       186\n",
      "\n",
      "    accuracy                           0.88       936\n",
      "   macro avg       0.85      0.76      0.79       936\n",
      "weighted avg       0.88      0.88      0.88       936\n",
      "\n",
      "GCN Classification Report: \n",
      "               precision    recall  f1-score   support\n",
      "\n",
      "         0.0       1.00      0.00      0.00     45110\n",
      "         1.0       0.10      1.00      0.18      5012\n",
      "\n",
      "    accuracy                           0.10     50122\n",
      "   macro avg       0.55      0.50      0.09     50122\n",
      "weighted avg       0.91      0.10      0.02     50122\n",
      "\n",
      "GCN Classification Report: \n",
      "               precision    recall  f1-score   support\n",
      "\n",
      "         0.0       0.99      0.91      0.94      1651\n",
      "         1.0       0.60      0.92      0.73       257\n",
      "\n",
      "    accuracy                           0.91      1908\n",
      "   macro avg       0.79      0.91      0.84      1908\n",
      "weighted avg       0.94      0.91      0.92      1908\n",
      "\n",
      "GCN Classification Report: \n",
      "               precision    recall  f1-score   support\n",
      "\n",
      "         0.0       0.95      1.00      0.97      3134\n",
      "         1.0       1.00      0.58      0.73       406\n",
      "\n",
      "    accuracy                           0.95      3540\n",
      "   macro avg       0.97      0.79      0.85      3540\n",
      "weighted avg       0.95      0.95      0.95      3540\n",
      "\n",
      "GCN Classification Report: \n",
      "               precision    recall  f1-score   support\n",
      "\n",
      "         0.0       0.97      0.83      0.89       372\n",
      "         1.0       0.43      0.83      0.57        60\n",
      "\n",
      "    accuracy                           0.83       432\n",
      "   macro avg       0.70      0.83      0.73       432\n",
      "weighted avg       0.89      0.83      0.85       432\n",
      "\n",
      "GCN Classification Report: \n",
      "               precision    recall  f1-score   support\n",
      "\n",
      "         0.0       1.00      0.99      0.99      8956\n",
      "         1.0       0.89      1.00      0.94      1040\n",
      "\n",
      "    accuracy                           0.99      9996\n",
      "   macro avg       0.94      0.99      0.97      9996\n",
      "weighted avg       0.99      0.99      0.99      9996\n",
      "\n",
      "GCN Classification Report: \n",
      "               precision    recall  f1-score   support\n",
      "\n",
      "         0.0       1.00      0.71      0.83      3145\n",
      "         1.0       0.28      1.00      0.44       350\n",
      "\n",
      "    accuracy                           0.74      3495\n",
      "   macro avg       0.64      0.86      0.64      3495\n",
      "weighted avg       0.93      0.74      0.79      3495\n",
      "\n",
      "GCN Classification Report: \n",
      "               precision    recall  f1-score   support\n",
      "\n",
      "         0.0       0.99      0.86      0.92       477\n",
      "         1.0       0.57      0.93      0.71        92\n",
      "\n",
      "    accuracy                           0.88       569\n",
      "   macro avg       0.78      0.90      0.81       569\n",
      "weighted avg       0.92      0.88      0.89       569\n",
      "\n",
      "GCN Classification Report: \n",
      "               precision    recall  f1-score   support\n",
      "\n",
      "         0.0       0.92      1.00      0.96      3572\n",
      "         1.0       1.00      0.54      0.71       637\n",
      "\n",
      "    accuracy                           0.93      4209\n",
      "   macro avg       0.96      0.77      0.83      4209\n",
      "weighted avg       0.94      0.93      0.92      4209\n",
      "\n"
     ]
    }
   ],
   "source": [
    "from sklearn.metrics import classification_report\n",
    "print(len(dataset_tr))\n",
    "for test_data in dataset_tr:\n",
    "    X_te = test_data.x\n",
    "    A_te = test_data.a\n",
    "    y_te = test_data.y\n",
    "\n",
    "    y_pred = model.predict([X_te, A_te, A_te], batch_size=X_te.shape[0])\n",
    "    report = classification_report(y_te, (y_pred >= 0.5).astype(int))\n",
    "    print('GCN Classification Report: \\n {}'.format(report))"
   ]
  },
  {
   "cell_type": "markdown",
   "metadata": {},
   "source": [
    "# Model layers output using TSNE"
   ]
  },
  {
   "cell_type": "code",
   "execution_count": 19,
   "metadata": {
    "executionInfo": {
     "elapsed": 921,
     "status": "ok",
     "timestamp": 1620858675839,
     "user": {
      "displayName": "Vedika Saravanan",
      "photoUrl": "https://lh3.googleusercontent.com/a-/AOh14GiFu_fiUGTb9Acqc-9pwSrSh0SeoS2jImjreYTqPg=s64",
      "userId": "03855894681171022360"
     },
     "user_tz": 240
    },
    "id": "6s6y6rmYhvUa"
   },
   "outputs": [],
   "source": [
    "from sklearn.manifold import TSNE\n",
    "test_data = dataset_te[1]\n",
    "X_te = test_data.x\n",
    "A_te = test_data.a\n",
    "y_te = test_data.y\n",
    "\n",
    "layer_outputs = [layer.output for layer in model.layers]\n",
    "activation_model = Model(inputs=model.input, outputs=layer_outputs)\n",
    "activations = activation_model.predict([X_te,A_te, A_te],batch_size=X_te.shape[0])\n"
   ]
  },
  {
   "cell_type": "code",
   "execution_count": 20,
   "metadata": {
    "executionInfo": {
     "elapsed": 214,
     "status": "ok",
     "timestamp": 1620858683248,
     "user": {
      "displayName": "Vedika Saravanan",
      "photoUrl": "https://lh3.googleusercontent.com/a-/AOh14GiFu_fiUGTb9Acqc-9pwSrSh0SeoS2jImjreYTqPg=s64",
      "userId": "03855894681171022360"
     },
     "user_tz": 240
    },
    "id": "v0kmabbIyLWv"
   },
   "outputs": [],
   "source": [
    "from collections import Counter\n",
    "from sklearn.manifold import TSNE\n",
    "import matplotlib.pyplot as plt\n",
    "\n",
    "num_classes = 2\n",
    "def plot_tSNE(labels_encoded,x_tsne):\n",
    "    color_map = labels_encoded\n",
    "    plt.figure(figsize=(10,10))\n",
    "    for cl in range(num_classes):\n",
    "        indices = np.where(color_map==cl)\n",
    "        indices = indices[0]\n",
    "        plt.scatter(x_tsne[indices,0], x_tsne[indices, 1], label=cl, alpha=0.5)\n",
    "    plt.legend()\n",
    "    plt.show()"
   ]
  },
  {
   "cell_type": "code",
   "execution_count": 22,
   "metadata": {
    "colab": {
     "base_uri": "https://localhost:8080/",
     "height": 1000
    },
    "executionInfo": {
     "elapsed": 83554,
     "status": "ok",
     "timestamp": 1620858771931,
     "user": {
      "displayName": "Vedika Saravanan",
      "photoUrl": "https://lh3.googleusercontent.com/a-/AOh14GiFu_fiUGTb9Acqc-9pwSrSh0SeoS2jImjreYTqPg=s64",
      "userId": "03855894681171022360"
     },
     "user_tz": 240
    },
    "id": "E-gWa-5urM38",
    "outputId": "ae208f5d-9c56-414e-84ca-dde2c1845179",
    "scrolled": false
   },
   "outputs": [
    {
     "name": "stdout",
     "output_type": "stream",
     "text": [
      "13\n"
     ]
    },
    {
     "data": {
      "image/png": "[encoded data removed]",
      "text/plain": [
       "<Figure size 720x720 with 1 Axes>"
      ]
     },
     "metadata": {
      "needs_background": "light"
     },
     "output_type": "display_data"
    }
   ],
   "source": [
    "for i, layer in enumerate(model.layers):\n",
    "#     if isinstance(layer, TAGConv) or isinstance(layer, GraphSageConv):\n",
    "    if isinstance(layer, GCNConv):\n",
    "        print(i)\n",
    "        x_tsne17 = TSNE(n_components=2).fit_transform(activations[i]) \n",
    "        plot_tSNE(y_te,x_tsne17)"
   ]
  },
  {
   "cell_type": "code",
   "execution_count": 28,
   "metadata": {},
   "outputs": [],
   "source": [
    "from sklearn.metrics import confusion_matrix\n",
    "def plot_confusion_matrix(predicted_labels_list, y_test_list):\n",
    "    cnf_matrix = confusion_matrix(y_test_list, predicted_labels_list)\n",
    "    np.set_printoptions(precision=2)\n",
    "\n",
    "    # Plot non-normalized confusion matrix\n",
    "    plt.figure()\n",
    "    generate_confusion_matrix(cnf_matrix, classes=class_names, title='Confusion matrix, without normalization')\n",
    "    plt.show()\n",
    "    \n",
    "    "
   ]
  },
  {
   "cell_type": "code",
   "execution_count": 29,
   "metadata": {},
   "outputs": [],
   "source": [
    "def generate_confusion_matrix(cnf_matrix, classes, normalize=False, title='Confusion matrix'):\n",
    "    precision = cnf_matrix[1,1]/cnf_matrix[:,1].sum()\n",
    "    recall = cnf_matrix[1,1]/cnf_matrix[1,:].sum()\n",
    "    print('precision:', precision)\n",
    "    print('recall:', recall)\n",
    "    if normalize:\n",
    "#         cnf_matrix = confusion_matrix\n",
    "        print(\"Normalized confusion matrix\")\n",
    "    else:\n",
    "        print('Confusion matrix, without normalization')\n",
    "\n",
    "    plt.imshow(cnf_matrix, interpolation='nearest', cmap=plt.get_cmap('Blues'))\n",
    "    plt.title(title)\n",
    "    plt.colorbar()\n",
    "\n",
    "    tick_marks = np.arange(len(classes))\n",
    "    plt.xticks(tick_marks, classes, rotation=45)\n",
    "    plt.yticks(tick_marks, classes)\n",
    "\n",
    "    fmt = '.2f' if normalize else 'd'\n",
    "    thresh = cnf_matrix.max() / 2.\n",
    "\n",
    "    for i, j in itertools.product(range(cnf_matrix.shape[0]), range(cnf_matrix.shape[1])):\n",
    "        plt.text(j, i, format(cnf_matrix[i, j], fmt), horizontalalignment=\"center\",\n",
    "                 color=\"white\" if cnf_matrix[i, j] > thresh else \"black\")\n",
    "   \n",
    "    plt.tight_layout()\n",
    "    plt.ylabel('True label')\n",
    "    plt.xlabel('Predicted label')\n",
    "\n",
    "    return cnf_matrix"
   ]
  },
  {
   "cell_type": "code",
   "execution_count": 32,
   "metadata": {},
   "outputs": [
    {
     "name": "stdout",
     "output_type": "stream",
     "text": [
      "3\n",
      "precision: 1.0\n",
      "recall: 0.16722408026755853\n",
      "Confusion matrix, without normalization\n"
     ]
    },
    {
     "data": {
      "image/png": "[encoded data removed]",
      "text/plain": [
       "<Figure size 432x288 with 2 Axes>"
      ]
     },
     "metadata": {
      "needs_background": "light"
     },
     "output_type": "display_data"
    },
    {
     "name": "stdout",
     "output_type": "stream",
     "text": [
      "DNN Classification Report: \n",
      " None\n",
      "precision: 0.11607661056297155\n",
      "recall: 1.0\n",
      "Confusion matrix, without normalization\n"
     ]
    },
    {
     "data": {
      "image/png": "[encoded data removed]",
      "text/plain": [
       "<Figure size 432x288 with 2 Axes>"
      ]
     },
     "metadata": {
      "needs_background": "light"
     },
     "output_type": "display_data"
    },
    {
     "name": "stdout",
     "output_type": "stream",
     "text": [
      "DNN Classification Report: \n",
      " None\n",
      "precision: 1.0\n",
      "recall: 0.2684563758389262\n",
      "Confusion matrix, without normalization\n"
     ]
    },
    {
     "data": {
      "image/png": "[encoded data removed]",
      "text/plain": [
       "<Figure size 432x288 with 2 Axes>"
      ]
     },
     "metadata": {
      "needs_background": "light"
     },
     "output_type": "display_data"
    },
    {
     "name": "stdout",
     "output_type": "stream",
     "text": [
      "DNN Classification Report: \n",
      " None\n"
     ]
    }
   ],
   "source": [
    "from sklearn.metrics import classification_report\n",
    "import itertools\n",
    "\n",
    "print(len(dataset_te))\n",
    "class_names = ['0', '1']\n",
    "for test_data in dataset_te:\n",
    "    X_te = test_data.x\n",
    "    A_te = test_data.a\n",
    "    y_te = test_data.y\n",
    "\n",
    "    y_pred = model.predict([X_te, A_te, A_te], batch_size=X_te.shape[0])\n",
    "    report = plot_confusion_matrix(y_te, (y_pred >= 0.5).astype(int))\n",
    "    print('DNN Classification Report: \\n {}'.format(report))"
   ]
  },
  {
   "cell_type": "code",
   "execution_count": null,
   "metadata": {},
   "outputs": [],
   "source": []
  }
 ],
 "metadata": {
  "colab": {
   "collapsed_sections": [],
   "name": "Copy of GCN- Multiple graphs input-Cheb.ipynb",
   "provenance": [
    {
     "file_id": "1G2d4MQPaOAVPqakGUP2mneT1B59FkKB0",
     "timestamp": 1620854770831
    }
   ]
  },
  "kernelspec": {
   "display_name": "Python 3",
   "language": "python",
   "name": "python3"
  },
  "language_info": {
   "codemirror_mode": {
    "name": "ipython",
    "version": 3
   },
   "file_extension": ".py",
   "mimetype": "text/x-python",
   "name": "python",
   "nbconvert_exporter": "python",
   "pygments_lexer": "ipython3",
   "version": "3.7.3"
  },
  "toc": {
   "base_numbering": 1,
   "nav_menu": {},
   "number_sections": true,
   "sideBar": true,
   "skip_h1_title": false,
   "title_cell": "Table of Contents",
   "title_sidebar": "Contents",
   "toc_cell": false,
   "toc_position": {},
   "toc_section_display": true,
   "toc_window_display": false
  }
 },
 "nbformat": 4,
 "nbformat_minor": 1
}
