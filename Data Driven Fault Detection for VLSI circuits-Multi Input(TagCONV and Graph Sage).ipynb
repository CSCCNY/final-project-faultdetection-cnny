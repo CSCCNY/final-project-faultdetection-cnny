{
 "cells": [
  {
   "cell_type": "code",
   "execution_count": 1,
   "metadata": {
    "executionInfo": {
     "elapsed": 352,
     "status": "ok",
     "timestamp": 1620859587680,
     "user": {
      "displayName": "Vedika Saravanan",
      "photoUrl": "https://lh3.googleusercontent.com/a-/AOh14GiFu_fiUGTb9Acqc-9pwSrSh0SeoS2jImjreYTqPg=s64",
      "userId": "03855894681171022360"
     },
     "user_tz": 240
    },
    "id": "7XCcqWXrz4_z"
   },
   "outputs": [],
   "source": [
    "from spektral.layers import GCNConv, TAGConv\n",
    "\n",
    "from tensorflow.keras.models import Model\n",
    "from tensorflow.keras.layers import Input, Dropout, Dense\n",
    "from tensorflow.keras import Sequential\n",
    "from tensorflow.keras.optimizers import Adam\n",
    "from tensorflow.keras.callbacks import TensorBoard, EarlyStopping\n",
    "import tensorflow as tf\n",
    "from tensorflow.keras.regularizers import l2\n",
    "import pandas as pd"
   ]
  },
  {
   "cell_type": "code",
   "execution_count": 2,
   "metadata": {
    "executionInfo": {
     "elapsed": 203,
     "status": "ok",
     "timestamp": 1620859587682,
     "user": {
      "displayName": "Vedika Saravanan",
      "photoUrl": "https://lh3.googleusercontent.com/a-/AOh14GiFu_fiUGTb9Acqc-9pwSrSh0SeoS2jImjreYTqPg=s64",
      "userId": "03855894681171022360"
     },
     "user_tz": 240
    },
    "id": "KfQOPlQp7YTb"
   },
   "outputs": [],
   "source": [
    "import numpy as np\n",
    "import scipy.sparse as sp\n",
    "import tensorflow as tf\n",
    "from tensorflow.keras.layers import Dense, Input, BatchNormalization\n",
    "from tensorflow.keras.losses import CategoricalCrossentropy\n",
    "from tensorflow.keras.metrics import categorical_accuracy\n",
    "from tensorflow.keras.models import Model\n",
    "from tensorflow.keras.optimizers import Adam\n",
    "\n",
    "from spektral.data import Dataset, DisjointLoader, Graph\n",
    "from spektral.layers import GCSConv, GlobalAvgPool, ChebConv, GlobalSumPool, GraphSageConv\n",
    "from spektral.layers.pooling import TopKPool\n",
    "from spektral.transforms.normalize_adj import NormalizeAdj\n",
    "import pickle as pkl\n",
    "import networkx as nx\n",
    "import pdb\n",
    "from sklearn.preprocessing import LabelEncoder\n",
    "from tensorflow.keras.utils import to_categorical\n",
    "from spektral.layers import GCNConv, GraphSageConv\n",
    "from spektral.models.gcn import GCN\n",
    "from spektral.transforms import AdjToSpTensor, LayerPreprocess\n",
    "from sklearn.preprocessing import MinMaxScaler"
   ]
  },
  {
   "cell_type": "markdown",
   "metadata": {},
   "source": [
    "# Preprocess data\n",
    "- Read the circuit files (.x, .y, and .graph)\n",
    "- Normalize the circuit level features using Min Max Scalar for each circuit\n",
    "- Generate the adjacency matrix from graph dictionary\n"
   ]
  },
  {
   "cell_type": "code",
   "execution_count": 3,
   "metadata": {},
   "outputs": [],
   "source": [
    "\n",
    "batch_size = 3  # Batch size\n",
    "\n",
    "import sys\n",
    "from spektral.data import Dataset, Graph\n",
    "# sys.path.append('../lib')\n",
    "# from data_pre_processing import load_data\n",
    "# sys.path.remove('../lib')\n",
    "\n",
    "x_data = []\n",
    "y_data = []\n",
    "\n",
    "def load_data(circuit_name, path_to_data=\"data\", normalize=False):\n",
    "    \"\"\"Load data.\"\"\"\n",
    "    names = [\"x\", \"y\", \"graph\"]\n",
    "    objects = []\n",
    "    for i in range(len(names)):\n",
    "        with open(f\"{path_to_data}/{circuit_name}.{names[i]}\", \"rb\") as f:\n",
    "            if sys.version_info > (3, 0):\n",
    "                objects.append(pkl.load(f, encoding=\"latin1\"))\n",
    "            else:\n",
    "                objects.append(pkl.load(f))\n",
    "\n",
    "    x, y, graph = tuple(objects)\n",
    "    \n",
    "    x = np.array(x).astype(\"float32\")\n",
    "    for x_feat in x:\n",
    "        x_data.append(x_feat)\n",
    "        \n",
    "    features = sp.csr_matrix(x).astype('float32')\n",
    "    # adj = nx.adjacency_matrix(nx.from_dict_of_lists(graph)).astype(int)\n",
    "    g = nx.DiGraph()\n",
    "    g.add_nodes_from(graph.keys())\n",
    "    for k, v in graph.items():\n",
    "      g.add_edges_from(([(k, t) for t in v]))\n",
    "      g.add_edges_from([(k, k)])\n",
    "    adj = nx.adjacency_matrix(g)\n",
    "    labels = np.array(y).astype('float32').reshape((-1,1))\n",
    "    for l in y:\n",
    "        y_data.append(l)\n",
    "    print(adj.shape)\n",
    "    print(features.shape)\n",
    "    return adj, features, labels\n",
    "  \n",
    "def encode_label(labels):\n",
    "    label_encoder = LabelEncoder()\n",
    "    labels = label_encoder.fit_transform(labels)\n",
    "    labels = to_categorical(labels)\n",
    "    return labels\n",
    "\n",
    "\n",
    "def _preprocess_features(features):\n",
    "    rowsum = np.array(features.sum(1))\n",
    "    r_inv = np.power(rowsum, -1).flatten()\n",
    "    r_inv[np.isinf(r_inv)] = 0.0\n",
    "    r_mat_inv = sp.diags(r_inv)\n",
    "    features = r_mat_inv.dot(features)\n",
    "    return features\n",
    "\n",
    "\n",
    "\n",
    "class CircuitDataset(Dataset):\n",
    "    def read(self):\n",
    "        circuits = []\n",
    "        circs = [\"adder.bench\",\"arbiter.bench\",\"c1355\",\"c1908\",\"c3540\",\"c432\",\"c499\",\"c5315\",\"c6288\",\"c880\",\"cavlc.bench\",\"ctrl\",\"dec.bench\",\"i2c\",\"int2float.bench\",\"max.bench\",\"multiplier.bench\",\"priority.bench\",\"router\",\"sin.bench\",\"voter.bench\"]\n",
    "        for circ in circs:\n",
    "            A, X, labels = load_data(circ, 'data/output', normalize=\"\")\n",
    "            print(f\"{circ}: {sum(labels)}, {len(labels)}\")\n",
    "            scaler = MinMaxScaler()\n",
    "            X = scaler.fit_transform(X.toarray())\n",
    "            circuits.append(Graph(x=X, a=A, y=labels))\n",
    "\n",
    "        return circuits\n",
    "\n",
    "\n"
   ]
  },
  {
   "cell_type": "markdown",
   "metadata": {},
   "source": [
    "# Initialize dataset and split into train, test, and validation"
   ]
  },
  {
   "cell_type": "code",
   "execution_count": 4,
   "metadata": {
    "colab": {
     "base_uri": "https://localhost:8080/"
    },
    "executionInfo": {
     "elapsed": 9624,
     "status": "ok",
     "timestamp": 1620859598459,
     "user": {
      "displayName": "Vedika Saravanan",
      "photoUrl": "https://lh3.googleusercontent.com/a-/AOh14GiFu_fiUGTb9Acqc-9pwSrSh0SeoS2jImjreYTqPg=s64",
      "userId": "03855894681171022360"
     },
     "user_tz": 240
    },
    "id": "qD0qZF0dwSPO",
    "outputId": "d65a4509-29be-4af0-a358-5bd781f762fa"
   },
   "outputs": [
    {
     "name": "stdout",
     "output_type": "stream",
     "text": [
      "(4209, 4209)\n",
      "(4209, 4)\n",
      "adder.bench: [637.], 4209\n",
      "(36352, 36352)\n",
      "(36352, 4)\n",
      "arbiter.bench: [3763.], 36352\n",
      "(1355, 1355)\n",
      "(1355, 4)\n",
      "c1355: [192.], 1355\n",
      "(1908, 1908)\n",
      "(1908, 4)\n",
      "c1908: [257.], 1908\n",
      "(3540, 3540)\n",
      "(3540, 4)\n",
      "c3540: [406.], 3540\n",
      "(432, 432)\n",
      "(432, 4)\n",
      "c432: [60.], 432\n",
      "(499, 499)\n",
      "(499, 4)\n",
      "c499: [50.], 499\n",
      "(5315, 5315)\n",
      "(5315, 4)\n",
      "c5315: [599.], 5315\n",
      "(6288, 6288)\n",
      "(6288, 4)\n",
      "c6288: [846.], 6288\n",
      "(880, 880)\n",
      "(880, 4)\n",
      "c880: [114.], 880\n",
      "(2164, 2164)\n",
      "(2164, 4)\n",
      "cavlc.bench: [318.], 2164\n",
      "(569, 569)\n",
      "(569, 4)\n",
      "ctrl: [92.], 569\n",
      "(936, 936)\n",
      "(936, 4)\n",
      "dec.bench: [186.], 936\n",
      "(4107, 4107)\n",
      "(4107, 4)\n",
      "i2c: [502.], 4107\n",
      "(761, 761)\n",
      "(761, 4)\n",
      "int2float.bench: [80.], 761\n",
      "(9996, 9996)\n",
      "(9996, 4)\n",
      "max.bench: [1040.], 9996\n",
      "(89943, 89943)\n",
      "(89943, 4)\n",
      "multiplier.bench: [9294.], 89943\n",
      "(3495, 3495)\n",
      "(3495, 4)\n",
      "priority.bench: [350.], 3495\n",
      "(945, 945)\n",
      "(945, 4)\n",
      "router: [99.], 945\n",
      "(16771, 16771)\n",
      "(16771, 4)\n",
      "sin.bench: [1723.], 16771\n",
      "(50122, 50122)\n",
      "(50122, 4)\n",
      "voter.bench: [5012.], 50122\n",
      "[ 0 17 15  1  8  5 11  3 18 16 13  2  9 20  4 12] [ 7 10] [14 19  6]\n"
     ]
    }
   ],
   "source": [
    "dataset = CircuitDataset(transforms=[LayerPreprocess(TAGConv)])\n",
    "\n",
    "# Parameters\n",
    "\n",
    "F = dataset.n_node_features  # Dimension of node features\n",
    "n_out = dataset.n_labels  # Dimension of the target\n",
    "\n",
    "# Train/valid/test split\n",
    "np.random.seed(42)\n",
    "idxs = np.random.permutation(len(dataset))\n",
    "split_va, split_te = int(0.8 * len(dataset)), int(0.9 * len(dataset))\n",
    "idx_tr, idx_va, idx_te = np.split(idxs, [split_va, split_te])\n",
    "print(idx_tr, idx_va, idx_te)\n",
    "dataset_tr = dataset[idx_tr]\n",
    "dataset_va = dataset[idx_va]\n",
    "dataset_te = dataset[idx_te]\n",
    "def load_tr_data(epochs=400):\n",
    "    loader_tr = DisjointLoader(dataset_tr, batch_size=batch_size, epochs=epochs, node_level=True)\n",
    "    loader_va = DisjointLoader(dataset_va, batch_size=batch_size, node_level=True)\n",
    "    loader_te = DisjointLoader(dataset_te, batch_size=batch_size, node_level=True)\n",
    "    return loader_tr, loader_va, loader_te\n",
    "\n",
    "loader_tr, loader_va, loader_te = load_tr_data()\n"
   ]
  },
  {
   "cell_type": "markdown",
   "metadata": {},
   "source": [
    "# Normalized Input Distribution"
   ]
  },
  {
   "cell_type": "code",
   "execution_count": 5,
   "metadata": {},
   "outputs": [
    {
     "data": {
      "text/plain": [
       "Graph(n_nodes=4209, n_node_features=4, n_edge_features=None, n_labels=1)"
      ]
     },
     "execution_count": 5,
     "metadata": {},
     "output_type": "execute_result"
    }
   ],
   "source": [
    "dataset_tr[0]"
   ]
  },
  {
   "cell_type": "code",
   "execution_count": 6,
   "metadata": {
    "scrolled": true
   },
   "outputs": [],
   "source": [
    "# for i, g in enumerate(dataset):\n",
    "#     print(f\"----------------{i}-----------------\")\n",
    "#     df_all_circ_data = pd.DataFrame(g.x, columns=['level', 'c0', 'c1', 'ob'])\n",
    "#     df_all_circ_data['y'] = g.y\n",
    "#     for col in ['level', 'c0', 'c1', 'ob']:\n",
    "#         df_all_circ_data.hist(by='y', column=col, sharex=True, sharey=True)\n",
    "#         plt.suptitle(col)\n",
    "#         plt.show()"
   ]
  },
  {
   "cell_type": "code",
   "execution_count": 7,
   "metadata": {
    "colab": {
     "base_uri": "https://localhost:8080/"
    },
    "executionInfo": {
     "elapsed": 538,
     "status": "ok",
     "timestamp": 1620859599013,
     "user": {
      "displayName": "Vedika Saravanan",
      "photoUrl": "https://lh3.googleusercontent.com/a-/AOh14GiFu_fiUGTb9Acqc-9pwSrSh0SeoS2jImjreYTqPg=s64",
      "userId": "03855894681171022360"
     },
     "user_tz": 240
    },
    "id": "DZsZPDKRJoSf",
    "outputId": "415564df-ec92-450d-ba83-72a931595caf"
   },
   "outputs": [
    {
     "data": {
      "text/plain": [
       "240587"
      ]
     },
     "execution_count": 7,
     "metadata": {},
     "output_type": "execute_result"
    }
   ],
   "source": [
    "N = sum([ g.n_nodes for g in dataset.graphs ])\n",
    "n_out = 1\n",
    "N"
   ]
  },
  {
   "cell_type": "markdown",
   "metadata": {},
   "source": [
    "# Compute class weight for unbalanced labels"
   ]
  },
  {
   "cell_type": "code",
   "execution_count": 8,
   "metadata": {
    "colab": {
     "base_uri": "https://localhost:8080/"
    },
    "executionInfo": {
     "elapsed": 997,
     "status": "ok",
     "timestamp": 1620859599478,
     "user": {
      "displayName": "Vedika Saravanan",
      "photoUrl": "https://lh3.googleusercontent.com/a-/AOh14GiFu_fiUGTb9Acqc-9pwSrSh0SeoS2jImjreYTqPg=s64",
      "userId": "03855894681171022360"
     },
     "user_tz": 240
    },
    "id": "x4ftCHRFQrLH",
    "outputId": "292675a6-2fd4-4c4e-d62c-367bfa58a562"
   },
   "outputs": [
    {
     "name": "stdout",
     "output_type": "stream",
     "text": [
      "{0.0: 0.5594349389003626, 1.0: 4.706280087527352}\n"
     ]
    },
    {
     "name": "stderr",
     "output_type": "stream",
     "text": [
      "/Users/nikitaacharya/anaconda3/lib/python3.7/site-packages/sklearn/utils/validation.py:71: FutureWarning: Pass classes=[0. 1.], y=[0. 0. 0. ... 0. 0. 0.] as keyword args. From version 0.25 passing these as positional arguments will result in an error\n",
      "  FutureWarning)\n"
     ]
    }
   ],
   "source": [
    "from sklearn.utils.class_weight import compute_class_weight\n",
    "\n",
    "y_data = []\n",
    "for data_tr in dataset_tr:\n",
    "    y_data.append(data_tr.y)\n",
    "y_data = np.vstack((y_data)).reshape((-1,))\n",
    "\n",
    "\n",
    "def _compute_class_weight_dictionary(y):\n",
    "    # helper for returning a dictionary instead of an array\n",
    "    classes = np.unique(y).astype('float32')\n",
    "    class_weight = compute_class_weight(\"balanced\", classes, y)\n",
    "    class_weight_dict = dict(zip(classes, class_weight))\n",
    "    return class_weight_dict \n",
    "\n",
    "weights = _compute_class_weight_dictionary(np.vstack((y_data)).reshape((-1,)))\n",
    "print(weights)"
   ]
  },
  {
   "cell_type": "code",
   "execution_count": 9,
   "metadata": {
    "colab": {
     "base_uri": "https://localhost:8080/"
    },
    "executionInfo": {
     "elapsed": 350,
     "status": "ok",
     "timestamp": 1620859600214,
     "user": {
      "displayName": "Vedika Saravanan",
      "photoUrl": "https://lh3.googleusercontent.com/a-/AOh14GiFu_fiUGTb9Acqc-9pwSrSh0SeoS2jImjreYTqPg=s64",
      "userId": "03855894681171022360"
     },
     "user_tz": 240
    },
    "id": "ib2tcn6SQrLI",
    "outputId": "081f3240-db25-4a8a-ecb5-d0e6a67ad1b7"
   },
   "outputs": [],
   "source": [
    "%load_ext tensorboard"
   ]
  },
  {
   "cell_type": "markdown",
   "metadata": {
    "id": "pxGvwiguwxiZ"
   },
   "source": []
  },
  {
   "cell_type": "markdown",
   "metadata": {},
   "source": [
    "# Topology Aware Graph Convolution Network Model (TAGConv)"
   ]
  },
  {
   "cell_type": "code",
   "execution_count": 10,
   "metadata": {
    "colab": {
     "base_uri": "https://localhost:8080/"
    },
    "executionInfo": {
     "elapsed": 707,
     "status": "ok",
     "timestamp": 1620859651978,
     "user": {
      "displayName": "Vedika Saravanan",
      "photoUrl": "https://lh3.googleusercontent.com/a-/AOh14GiFu_fiUGTb9Acqc-9pwSrSh0SeoS2jImjreYTqPg=s64",
      "userId": "03855894681171022360"
     },
     "user_tz": 240
    },
    "id": "SOJe-nzrQrLJ",
    "outputId": "3dab8ed6-9f97-4a34-f6d8-cfd85667e401",
    "scrolled": false
   },
   "outputs": [
    {
     "name": "stdout",
     "output_type": "stream",
     "text": [
      "X_in:  (None, 4)\n",
      "Model: \"model\"\n",
      "__________________________________________________________________________________________________\n",
      "Layer (type)                    Output Shape         Param #     Connected to                     \n",
      "==================================================================================================\n",
      "input_1 (InputLayer)            [(None, 4)]          0                                            \n",
      "__________________________________________________________________________________________________\n",
      "input_2 (InputLayer)            [(None, None)]       0                                            \n",
      "__________________________________________________________________________________________________\n",
      "tagconv1 (TAGConv)              (None, 256)          11520       input_1[0][0]                    \n",
      "                                                                 input_2[0][0]                    \n",
      "__________________________________________________________________________________________________\n",
      "graphconv1 (GraphSageConv)      (None, 256)          2304        input_1[0][0]                    \n",
      "                                                                 input_2[0][0]                    \n",
      "__________________________________________________________________________________________________\n",
      "batch_normalization (BatchNorma (None, 256)          1024        tagconv1[0][0]                   \n",
      "__________________________________________________________________________________________________\n",
      "batch_normalization_1 (BatchNor (None, 256)          1024        graphconv1[0][0]                 \n",
      "__________________________________________________________________________________________________\n",
      "dropout (Dropout)               (None, 256)          0           batch_normalization[0][0]        \n",
      "__________________________________________________________________________________________________\n",
      "dropout_1 (Dropout)             (None, 256)          0           batch_normalization_1[0][0]      \n",
      "__________________________________________________________________________________________________\n",
      "tagconv3 (TAGConv)              (None, 256)          262400      dropout[0][0]                    \n",
      "                                                                 input_2[0][0]                    \n",
      "__________________________________________________________________________________________________\n",
      "graphconv3 (GraphSageConv)      (None, 256)          131328      dropout_1[0][0]                  \n",
      "                                                                 input_2[0][0]                    \n",
      "__________________________________________________________________________________________________\n",
      "concatenate (Concatenate)       (None, 512)          0           tagconv3[0][0]                   \n",
      "                                                                 graphconv3[0][0]                 \n",
      "__________________________________________________________________________________________________\n",
      "flatten (Flatten)               (None, 512)          0           concatenate[0][0]                \n",
      "__________________________________________________________________________________________________\n",
      "dense_2 (Dense)                 (None, 128)          65664       flatten[0][0]                    \n",
      "__________________________________________________________________________________________________\n",
      "dropout_2 (Dropout)             (None, 128)          0           dense_2[0][0]                    \n",
      "__________________________________________________________________________________________________\n",
      "input_3 (InputLayer)            [(None, None)]       0                                            \n",
      "__________________________________________________________________________________________________\n",
      "classification (Dense)          (None, 1)            129         dropout_2[0][0]                  \n",
      "==================================================================================================\n",
      "Total params: 475,393\n",
      "Trainable params: 474,369\n",
      "Non-trainable params: 1,024\n",
      "__________________________________________________________________________________________________\n"
     ]
    }
   ],
   "source": [
    "from tensorflow.keras.metrics import sparse_categorical_accuracy, binary_accuracy, binary_crossentropy\n",
    "from tensorflow.keras import activations\n",
    "from tensorflow.keras import layers\n",
    "\n",
    "channels = 256         # Number of channels in the first layer\n",
    "dropout = 0.05         # Dropout rate for the features\n",
    "l2_reg = 1e-4           # L2 regularization rate\n",
    "learning_rate = 1e-5    # Learning rate\n",
    "epochs = 500            # Number of training epochs\n",
    "es_patience = 10    \n",
    "patience = 30 # Patience for early stopping\n",
    "# N = \n",
    "\n",
    "# Model definition\n",
    "X_in = Input(shape=(F, ))\n",
    "print(\"X_in: \", X_in.shape)\n",
    "fltr_in = Input((None, ), sparse=True)\n",
    "mask_in = Input((None, ))\n",
    "\n",
    "use_bias = True\n",
    "x = TAGConv(channels, K=10, aggregate=\"sum\",\n",
    "                         dropout_rate=dropout,\n",
    "                         activation='relu',\n",
    "                         kernel_regularizer=l2(l2_reg),\n",
    "                         attn_kernel_regularizer=l2(l2_reg),\n",
    "                         bias_regularizer=l2(l2_reg),\n",
    "                         use_bias=use_bias,\n",
    "                         n_input_channels=dataset.n_node_features, name=\"tagconv1\")([X_in, fltr_in]) \n",
    "# x = BatchNormalization()(x)\n",
    "# x = Dropout(dropout)(x)\n",
    "# x = TAGConv(channels, K=10, aggregate=\"sum\",\n",
    "#                          dropout_rate=dropout,\n",
    "#                          activation='relu',\n",
    "#                          kernel_regularizer=l2(l2_reg),\n",
    "#                          attn_kernel_regularizer=l2(l2_reg),\n",
    "#                          bias_regularizer=l2(l2_reg),\n",
    "#                          use_bias=use_bias,\n",
    "#                          n_input_channels=dataset.n_node_features, name=\"tagconv2\")([x, fltr_in]) \n",
    "x = BatchNormalization()(x)\n",
    "x = Dropout(dropout)(x)\n",
    "x1 = TAGConv(256, k = 5, aggregate=\"mean\",\n",
    "                         dropout_rate=dropout,\n",
    "                         activation='relu',\n",
    "                         kernel_regularizer=l2(l2_reg),\n",
    "                         attn_kernel_regularizer=l2(l2_reg),\n",
    "                         bias_regularizer=l2(l2_reg),\n",
    "                         use_bias=use_bias,\n",
    "                         n_input_channels=dataset.n_node_features, name=\"tagconv3\")([x, fltr_in])\n",
    "x = GraphSageConv(256, aggregate_op='sum',\n",
    "                         dropout_rate=dropout,\n",
    "                         activation='relu',\n",
    "                         kernel_regularizer=l2(l2_reg),\n",
    "                         attn_kernel_regularizer=l2(l2_reg),\n",
    "                         bias_regularizer=l2(l2_reg),\n",
    "                         use_bias=use_bias,\n",
    "                         n_input_channels=dataset.n_node_features, name=\"graphconv1\")([X_in, fltr_in])\n",
    "x = BatchNormalization()(x)\n",
    "x = Dropout(dropout)(x)\n",
    "# x = GraphSageConv(256, aggregate_op='sum',\n",
    "#                          dropout_rate=dropout,\n",
    "#                          activation='relu',\n",
    "#                          kernel_regularizer=l2(l2_reg),\n",
    "#                          attn_kernel_regularizer=l2(l2_reg),\n",
    "#                          bias_regularizer=l2(l2_reg),\n",
    "#                          use_bias=use_bias,\n",
    "#                          n_input_channels=dataset.n_node_features, name=\"graphconv2\")([x, fltr_in])\n",
    "# x = BatchNormalization()(x)\n",
    "# x = Dropout(dropout)(x)\n",
    "x2 = GraphSageConv(256, aggregate_op='sum',\n",
    "                         dropout_rate=dropout,\n",
    "                         activation='relu',\n",
    "                         kernel_regularizer=l2(l2_reg),\n",
    "                         attn_kernel_regularizer=l2(l2_reg),\n",
    "                         bias_regularizer=l2(l2_reg),\n",
    "                         use_bias=use_bias,\n",
    "                         n_input_channels=dataset.n_node_features, name=\"graphconv3\")([x, fltr_in])\n",
    "concatted = tf.keras.layers.Concatenate()([x1, x2])\n",
    "flattened = tf.keras.layers.Flatten()(concatted)\n",
    "fl1 = tf.keras.layers.Dense(128, activation='relu')(flattened)\n",
    "x = Dropout(dropout)(fl1)\n",
    "x = tf.keras.layers.Dense(n_out, activation='sigmoid', name=\"classification\")(x)\n",
    "# x = GCNConv(n_out, activation='sigmoid',\n",
    "#                          n_input_channels=dataset.n_node_features, name=\"classification\", use_bias=use_bias)([x, fltr_in])\n",
    "\n",
    "model = Model(inputs=[X_in, fltr_in, mask_in], outputs=x)\n",
    "optimizer = Adam(lr=learning_rate)\n",
    "\n",
    "def masked_loss_and_accuracy(target, predictions):\n",
    "    loss = binary_crossentropy(target, predictions)\n",
    "    minimum = tf.math.minimum(tf.reduce_sum(tf.dtypes.cast(target == 0, tf.int32)), tf.reduce_sum(tf.dtypes.cast(target == 1, tf.int32)))\n",
    "    zeroes_index = tf.random.shuffle(tf.where(target == 0)[:,0])\n",
    "    ones_index = tf.random.shuffle(tf.where(target == 1)[:,0])\n",
    "    loss_zeroes =  tf.reduce_mean(tf.gather(loss, zeroes_index))\n",
    "    loss_ones = tf.reduce_mean(tf.gather(loss, ones_index))\n",
    "    \n",
    "    weight_for_0 = tf.cast((1 / tf.shape(zeroes_index)[0])*(tf.cast(tf.shape(target)[0], 'float64'))/2.0, 'float32')\n",
    "    weight_for_1 = tf.cast((1 / tf.shape(ones_index)[0])*(tf.cast(tf.shape(target)[0], 'float64'))/2.0, 'float32')\n",
    "\n",
    "    return (weight_for_0 * loss_zeroes * 0.6 +  weight_for_1 * loss_ones * 0.4)\n",
    "\n",
    "\n",
    "model.compile(optimizer=optimizer,\n",
    "              loss='binary_crossentropy',\n",
    "              weighted_metrics=['acc', tf.keras.metrics.Precision(), tf.keras.metrics.Recall()])\n",
    "model.summary()\n",
    "\n",
    "import tempfile\n",
    "tfcallback_dir = tempfile.TemporaryDirectory(suffix='tf', prefix='', dir=None).name\n",
    "tbCallBack_GCN = tf.keras.callbacks.TensorBoard(\n",
    "        log_dir=tfcallback_dir,\n",
    "        histogram_freq=1\n",
    ")\n",
    "# \n",
    "callback_GCN = [tbCallBack_GCN, EarlyStopping(patience=patience, restore_best_weights=True)]"
   ]
  },
  {
   "cell_type": "code",
   "execution_count": 11,
   "metadata": {},
   "outputs": [
    {
     "data": {
      "image/png": "[encoded data removed]",
      "text/plain": [
       "<IPython.core.display.Image object>"
      ]
     },
     "execution_count": 11,
     "metadata": {},
     "output_type": "execute_result"
    }
   ],
   "source": [
    "tf.keras.utils.plot_model(\n",
    "    model,\n",
    "    show_layer_names=True,\n",
    "    rankdir=\"TB\",\n",
    "    dpi=96,\n",
    ")"
   ]
  },
  {
   "cell_type": "markdown",
   "metadata": {},
   "source": [
    "# Train the model"
   ]
  },
  {
   "cell_type": "code",
   "execution_count": 12,
   "metadata": {
    "colab": {
     "base_uri": "https://localhost:8080/",
     "height": 1000
    },
    "id": "Y0xT-VFEQrLO",
    "outputId": "6816d1c7-2490-4c0c-8032-1d65fe35c3aa",
    "scrolled": true
   },
   "outputs": [
    {
     "name": "stdout",
     "output_type": "stream",
     "text": [
      "Epoch 1/500\n",
      "6/6 [==============================] - 17s 2s/step - loss: 0.7882 - acc: 0.4789 - precision: 0.4829 - recall: 0.7409 - val_loss: 0.7802 - val_acc: 0.5798 - val_precision: 0.2259 - val_recall: 1.0000\n",
      "Epoch 2/500\n",
      "6/6 [==============================] - 15s 570ms/step - loss: 0.7802 - acc: 0.5169 - precision: 0.5081 - recall: 0.8583 - val_loss: 0.7805 - val_acc: 0.5874 - val_precision: 0.2291 - val_recall: 1.0000\n",
      "Epoch 3/500\n",
      "6/6 [==============================] - 11s 1s/step - loss: 0.7859 - acc: 0.5570 - precision: 0.5328 - recall: 0.9072 - val_loss: 0.7810 - val_acc: 0.5890 - val_precision: 0.2298 - val_recall: 1.0000\n",
      "Epoch 4/500\n",
      "6/6 [==============================] - 8s 2s/step - loss: 0.7625 - acc: 0.5854 - precision: 0.5543 - recall: 0.8729 - val_loss: 0.7812 - val_acc: 0.5918 - val_precision: 0.2310 - val_recall: 1.0000\n",
      "Epoch 5/500\n",
      "6/6 [==============================] - 8s 2s/step - loss: 0.7450 - acc: 0.6422 - precision: 0.5910 - recall: 0.9492 - val_loss: 0.7816 - val_acc: 0.5937 - val_precision: 0.2318 - val_recall: 1.0000\n",
      "Epoch 6/500\n",
      "6/6 [==============================] - 9s 2s/step - loss: 0.7414 - acc: 0.6471 - precision: 0.5958 - recall: 0.9319 - val_loss: 0.7816 - val_acc: 0.6038 - val_precision: 0.2363 - val_recall: 1.0000\n",
      "Epoch 7/500\n",
      "6/6 [==============================] - 15s 3s/step - loss: 0.7404 - acc: 0.6436 - precision: 0.5933 - recall: 0.9679 - val_loss: 0.7814 - val_acc: 0.6101 - val_precision: 0.2392 - val_recall: 1.0000\n",
      "Epoch 8/500\n",
      "6/6 [==============================] - 15s 3s/step - loss: 0.7352 - acc: 0.6720 - precision: 0.6185 - recall: 0.9499 - val_loss: 0.7812 - val_acc: 0.6164 - val_precision: 0.2422 - val_recall: 1.0000\n",
      "Epoch 9/500\n",
      "6/6 [==============================] - 10s 2s/step - loss: 0.7437 - acc: 0.6530 - precision: 0.6102 - recall: 0.9202 - val_loss: 0.7807 - val_acc: 0.6192 - val_precision: 0.2436 - val_recall: 1.0000\n",
      "Epoch 10/500\n",
      "6/6 [==============================] - 10s 1s/step - loss: 0.7519 - acc: 0.6034 - precision: 0.5680 - recall: 0.8476 - val_loss: 0.7798 - val_acc: 0.6228 - val_precision: 0.2453 - val_recall: 1.0000\n",
      "Epoch 11/500\n",
      "6/6 [==============================] - 19s 4s/step - loss: 0.7323 - acc: 0.6773 - precision: 0.6213 - recall: 0.9699 - val_loss: 0.7792 - val_acc: 0.6275 - val_precision: 0.2476 - val_recall: 1.0000\n",
      "Epoch 12/500\n",
      "6/6 [==============================] - 11s 2s/step - loss: 0.7201 - acc: 0.6668 - precision: 0.6146 - recall: 0.9394 - val_loss: 0.7779 - val_acc: 0.6310 - val_precision: 0.2494 - val_recall: 1.0000\n",
      "Epoch 13/500\n",
      "6/6 [==============================] - 15s 3s/step - loss: 0.7430 - acc: 0.6858 - precision: 0.6430 - recall: 0.9157 - val_loss: 0.7767 - val_acc: 0.6364 - val_precision: 0.2522 - val_recall: 1.0000\n",
      "Epoch 14/500\n",
      "6/6 [==============================] - 8s 1s/step - loss: 0.7346 - acc: 0.6039 - precision: 0.5692 - recall: 0.8638 - val_loss: 0.7752 - val_acc: 0.6445 - val_precision: 0.2564 - val_recall: 1.0000\n",
      "Epoch 15/500\n",
      "6/6 [==============================] - 7s 1s/step - loss: 0.7260 - acc: 0.6691 - precision: 0.6287 - recall: 0.9044 - val_loss: 0.7737 - val_acc: 0.6492 - val_precision: 0.2590 - val_recall: 1.0000\n",
      "Epoch 16/500\n",
      "6/6 [==============================] - 8s 751ms/step - loss: 0.6808 - acc: 0.6967 - precision: 0.6281 - recall: 0.9604 - val_loss: 0.7720 - val_acc: 0.6542 - val_precision: 0.2618 - val_recall: 1.0000\n",
      "Epoch 17/500\n",
      "6/6 [==============================] - 7s 1s/step - loss: 0.6870 - acc: 0.7163 - precision: 0.6534 - recall: 0.9366 - val_loss: 0.7703 - val_acc: 0.6570 - val_precision: 0.2634 - val_recall: 1.0000\n",
      "Epoch 18/500\n",
      "6/6 [==============================] - 7s 1s/step - loss: 0.7100 - acc: 0.6466 - precision: 0.5988 - recall: 0.8644 - val_loss: 0.7684 - val_acc: 0.6612 - val_precision: 0.2657 - val_recall: 1.0000\n",
      "Epoch 19/500\n",
      "6/6 [==============================] - 7s 1s/step - loss: 0.7204 - acc: 0.6379 - precision: 0.5986 - recall: 0.8802 - val_loss: 0.7667 - val_acc: 0.6639 - val_precision: 0.2673 - val_recall: 1.0000\n",
      "Epoch 20/500\n",
      "6/6 [==============================] - 9s 2s/step - loss: 0.6872 - acc: 0.7345 - precision: 0.6756 - recall: 0.9620 - val_loss: 0.7650 - val_acc: 0.6663 - val_precision: 0.2687 - val_recall: 1.0000\n",
      "Epoch 21/500\n",
      "6/6 [==============================] - 8s 806ms/step - loss: 0.6708 - acc: 0.7073 - precision: 0.6400 - recall: 0.9429 - val_loss: 0.7628 - val_acc: 0.6711 - val_precision: 0.2715 - val_recall: 1.0000\n",
      "Epoch 22/500\n",
      "6/6 [==============================] - 8s 814ms/step - loss: 0.7142 - acc: 0.6412 - precision: 0.5999 - recall: 0.8376 - val_loss: 0.7609 - val_acc: 0.6748 - val_precision: 0.2734 - val_recall: 0.9967\n",
      "Epoch 23/500\n",
      "6/6 [==============================] - 7s 1s/step - loss: 0.6878 - acc: 0.7033 - precision: 0.6493 - recall: 0.9352 - val_loss: 0.7585 - val_acc: 0.6807 - val_precision: 0.2764 - val_recall: 0.9913\n",
      "Epoch 24/500\n",
      "6/6 [==============================] - 7s 1s/step - loss: 0.6611 - acc: 0.7253 - precision: 0.6619 - recall: 0.9394 - val_loss: 0.7562 - val_acc: 0.6881 - val_precision: 0.2807 - val_recall: 0.9880\n",
      "Epoch 25/500\n",
      "6/6 [==============================] - 8s 1s/step - loss: 0.6604 - acc: 0.6992 - precision: 0.6371 - recall: 0.9333 - val_loss: 0.7536 - val_acc: 0.6897 - val_precision: 0.2810 - val_recall: 0.9826\n",
      "Epoch 26/500\n",
      "6/6 [==============================] - 9s 814ms/step - loss: 0.6399 - acc: 0.7427 - precision: 0.6694 - recall: 0.9633 - val_loss: 0.7508 - val_acc: 0.6951 - val_precision: 0.2844 - val_recall: 0.9804\n",
      "Epoch 27/500\n",
      "6/6 [==============================] - 8s 2s/step - loss: 0.7179 - acc: 0.6518 - precision: 0.6199 - recall: 0.8597 - val_loss: 0.7482 - val_acc: 0.6978 - val_precision: 0.2859 - val_recall: 0.9782\n",
      "Epoch 28/500\n",
      "6/6 [==============================] - 8s 1s/step - loss: 0.6980 - acc: 0.6875 - precision: 0.6460 - recall: 0.8592 - val_loss: 0.7463 - val_acc: 0.6994 - val_precision: 0.2869 - val_recall: 0.9771\n",
      "Epoch 29/500\n",
      "6/6 [==============================] - 7s 1s/step - loss: 0.6710 - acc: 0.7387 - precision: 0.6875 - recall: 0.9299 - val_loss: 0.7435 - val_acc: 0.7022 - val_precision: 0.2882 - val_recall: 0.9716\n",
      "Epoch 30/500\n",
      "6/6 [==============================] - 7s 906ms/step - loss: 0.6501 - acc: 0.7163 - precision: 0.6543 - recall: 0.9145 - val_loss: 0.7402 - val_acc: 0.7081 - val_precision: 0.2922 - val_recall: 0.9706\n",
      "Epoch 31/500\n",
      "6/6 [==============================] - 7s 1s/step - loss: 0.6464 - acc: 0.7410 - precision: 0.6775 - recall: 0.9415 - val_loss: 0.7367 - val_acc: 0.7112 - val_precision: 0.2943 - val_recall: 0.9695\n",
      "Epoch 32/500\n",
      "6/6 [==============================] - 7s 1s/step - loss: 0.6663 - acc: 0.6621 - precision: 0.6108 - recall: 0.8997 - val_loss: 0.7338 - val_acc: 0.7121 - val_precision: 0.2948 - val_recall: 0.9684\n",
      "Epoch 33/500\n",
      "6/6 [==============================] - 10s 2s/step - loss: 0.6970 - acc: 0.6821 - precision: 0.6354 - recall: 0.8796 - val_loss: 0.7311 - val_acc: 0.7140 - val_precision: 0.2962 - val_recall: 0.9684\n",
      "Epoch 34/500\n",
      "6/6 [==============================] - 9s 2s/step - loss: 0.6686 - acc: 0.7152 - precision: 0.6600 - recall: 0.9165 - val_loss: 0.7273 - val_acc: 0.7179 - val_precision: 0.2983 - val_recall: 0.9618\n",
      "Epoch 35/500\n",
      "6/6 [==============================] - 7s 1s/step - loss: 0.6611 - acc: 0.6914 - precision: 0.6377 - recall: 0.9020 - val_loss: 0.7231 - val_acc: 0.7223 - val_precision: 0.3012 - val_recall: 0.9586\n",
      "Epoch 36/500\n",
      "6/6 [==============================] - 7s 1s/step - loss: 0.6795 - acc: 0.6761 - precision: 0.6351 - recall: 0.8672 - val_loss: 0.7192 - val_acc: 0.7252 - val_precision: 0.3035 - val_recall: 0.9586\n",
      "Epoch 37/500\n",
      "6/6 [==============================] - 9s 2s/step - loss: 0.6560 - acc: 0.7098 - precision: 0.6512 - recall: 0.9046 - val_loss: 0.7159 - val_acc: 0.7271 - val_precision: 0.3049 - val_recall: 0.9575\n",
      "Epoch 38/500\n",
      "6/6 [==============================] - 7s 1s/step - loss: 0.6314 - acc: 0.7393 - precision: 0.6756 - recall: 0.9351 - val_loss: 0.7111 - val_acc: 0.7286 - val_precision: 0.3054 - val_recall: 0.9520\n",
      "Epoch 39/500\n",
      "6/6 [==============================] - 7s 1s/step - loss: 0.6513 - acc: 0.6818 - precision: 0.6276 - recall: 0.8903 - val_loss: 0.7079 - val_acc: 0.7292 - val_precision: 0.3059 - val_recall: 0.9520\n"
     ]
    },
    {
     "name": "stdout",
     "output_type": "stream",
     "text": [
      "Epoch 40/500\n",
      "6/6 [==============================] - 7s 1s/step - loss: 0.6468 - acc: 0.6891 - precision: 0.6341 - recall: 0.9120 - val_loss: 0.7038 - val_acc: 0.7326 - val_precision: 0.3086 - val_recall: 0.9520\n",
      "Epoch 41/500\n",
      "6/6 [==============================] - 7s 1s/step - loss: 0.6164 - acc: 0.7397 - precision: 0.6746 - recall: 0.9480 - val_loss: 0.6992 - val_acc: 0.7366 - val_precision: 0.3119 - val_recall: 0.9520\n",
      "Epoch 42/500\n",
      "6/6 [==============================] - 7s 770ms/step - loss: 0.6041 - acc: 0.7705 - precision: 0.6985 - recall: 0.9507 - val_loss: 0.6945 - val_acc: 0.7425 - val_precision: 0.3165 - val_recall: 0.9487\n",
      "Epoch 43/500\n",
      "6/6 [==============================] - 7s 1s/step - loss: 0.6191 - acc: 0.7484 - precision: 0.6862 - recall: 0.9313 - val_loss: 0.6912 - val_acc: 0.7442 - val_precision: 0.3180 - val_recall: 0.9487\n",
      "Epoch 44/500\n",
      "6/6 [==============================] - 7s 1s/step - loss: 0.6329 - acc: 0.7094 - precision: 0.6516 - recall: 0.8939 - val_loss: 0.6879 - val_acc: 0.7458 - val_precision: 0.3196 - val_recall: 0.9509\n",
      "Epoch 45/500\n",
      "6/6 [==============================] - 7s 1s/step - loss: 0.6042 - acc: 0.7738 - precision: 0.7023 - recall: 0.9625 - val_loss: 0.6829 - val_acc: 0.7502 - val_precision: 0.3233 - val_recall: 0.9487\n",
      "Epoch 46/500\n",
      "6/6 [==============================] - 7s 1s/step - loss: 0.6325 - acc: 0.7253 - precision: 0.6728 - recall: 0.8971 - val_loss: 0.6786 - val_acc: 0.7556 - val_precision: 0.3277 - val_recall: 0.9444\n",
      "Epoch 47/500\n",
      "6/6 [==============================] - 7s 1s/step - loss: 0.6045 - acc: 0.7648 - precision: 0.7048 - recall: 0.9315 - val_loss: 0.6744 - val_acc: 0.7595 - val_precision: 0.3314 - val_recall: 0.9455\n",
      "Epoch 48/500\n",
      "6/6 [==============================] - 7s 821ms/step - loss: 0.6282 - acc: 0.7356 - precision: 0.6777 - recall: 0.8893 - val_loss: 0.6712 - val_acc: 0.7600 - val_precision: 0.3322 - val_recall: 0.9477\n",
      "Epoch 49/500\n",
      "6/6 [==============================] - 10s 2s/step - loss: 0.6474 - acc: 0.6766 - precision: 0.6222 - recall: 0.8779 - val_loss: 0.6681 - val_acc: 0.7600 - val_precision: 0.3323 - val_recall: 0.9487\n",
      "Epoch 50/500\n",
      "6/6 [==============================] - 7s 1s/step - loss: 0.6260 - acc: 0.7105 - precision: 0.6571 - recall: 0.8716 - val_loss: 0.6646 - val_acc: 0.7611 - val_precision: 0.3333 - val_recall: 0.9487\n",
      "Epoch 51/500\n",
      "6/6 [==============================] - 7s 1s/step - loss: 0.6025 - acc: 0.7553 - precision: 0.6923 - recall: 0.9215 - val_loss: 0.6587 - val_acc: 0.7653 - val_precision: 0.3375 - val_recall: 0.9487\n",
      "Epoch 52/500\n",
      "6/6 [==============================] - 7s 1s/step - loss: 0.5879 - acc: 0.7789 - precision: 0.7170 - recall: 0.9390 - val_loss: 0.6534 - val_acc: 0.7665 - val_precision: 0.3384 - val_recall: 0.9466\n",
      "Epoch 53/500\n",
      "6/6 [==============================] - 7s 1s/step - loss: 0.6185 - acc: 0.7093 - precision: 0.6504 - recall: 0.9235 - val_loss: 0.6476 - val_acc: 0.7702 - val_precision: 0.3416 - val_recall: 0.9433\n",
      "Epoch 54/500\n",
      "6/6 [==============================] - 7s 1s/step - loss: 0.5886 - acc: 0.7669 - precision: 0.6984 - recall: 0.9495 - val_loss: 0.6439 - val_acc: 0.7715 - val_precision: 0.3434 - val_recall: 0.9466\n",
      "Epoch 55/500\n",
      "6/6 [==============================] - 7s 1s/step - loss: 0.6091 - acc: 0.7526 - precision: 0.6980 - recall: 0.8989 - val_loss: 0.6391 - val_acc: 0.7716 - val_precision: 0.3437 - val_recall: 0.9487\n",
      "Epoch 56/500\n",
      "6/6 [==============================] - 7s 1s/step - loss: 0.6118 - acc: 0.7190 - precision: 0.6526 - recall: 0.9407 - val_loss: 0.6358 - val_acc: 0.7712 - val_precision: 0.3436 - val_recall: 0.9509\n",
      "Epoch 57/500\n",
      "6/6 [==============================] - 7s 975ms/step - loss: 0.6177 - acc: 0.7103 - precision: 0.6572 - recall: 0.8656 - val_loss: 0.6311 - val_acc: 0.7716 - val_precision: 0.3440 - val_recall: 0.9509\n",
      "Epoch 58/500\n",
      "6/6 [==============================] - 7s 1s/step - loss: 0.6107 - acc: 0.7148 - precision: 0.6591 - recall: 0.8827 - val_loss: 0.6274 - val_acc: 0.7708 - val_precision: 0.3434 - val_recall: 0.9531\n",
      "Epoch 59/500\n",
      "6/6 [==============================] - 7s 1s/step - loss: 0.6230 - acc: 0.7043 - precision: 0.6586 - recall: 0.8447 - val_loss: 0.6235 - val_acc: 0.7703 - val_precision: 0.3429 - val_recall: 0.9531\n",
      "Epoch 60/500\n",
      "6/6 [==============================] - 7s 788ms/step - loss: 0.5777 - acc: 0.7727 - precision: 0.7015 - recall: 0.9516 - val_loss: 0.6195 - val_acc: 0.7692 - val_precision: 0.3419 - val_recall: 0.9542\n",
      "Epoch 61/500\n",
      "6/6 [==============================] - 7s 1s/step - loss: 0.5857 - acc: 0.7668 - precision: 0.7054 - recall: 0.9344 - val_loss: 0.6148 - val_acc: 0.7702 - val_precision: 0.3427 - val_recall: 0.9531\n",
      "Epoch 62/500\n",
      "6/6 [==============================] - 10s 655ms/step - loss: 0.6018 - acc: 0.7282 - precision: 0.6514 - recall: 0.9737 - val_loss: 0.6107 - val_acc: 0.7706 - val_precision: 0.3431 - val_recall: 0.9531\n",
      "Epoch 63/500\n",
      "6/6 [==============================] - 7s 1s/step - loss: 0.6055 - acc: 0.7188 - precision: 0.6586 - recall: 0.8966 - val_loss: 0.6055 - val_acc: 0.7742 - val_precision: 0.3467 - val_recall: 0.9520\n",
      "Epoch 64/500\n",
      "6/6 [==============================] - 7s 776ms/step - loss: 0.5836 - acc: 0.7496 - precision: 0.6844 - recall: 0.9223 - val_loss: 0.6027 - val_acc: 0.7739 - val_precision: 0.3466 - val_recall: 0.9531\n",
      "Epoch 65/500\n",
      "6/6 [==============================] - 7s 1s/step - loss: 0.5925 - acc: 0.7304 - precision: 0.6622 - recall: 0.9327 - val_loss: 0.5975 - val_acc: 0.7788 - val_precision: 0.3516 - val_recall: 0.9520\n",
      "Epoch 66/500\n",
      "6/6 [==============================] - 7s 1s/step - loss: 0.5918 - acc: 0.7564 - precision: 0.6945 - recall: 0.9177 - val_loss: 0.5937 - val_acc: 0.7801 - val_precision: 0.3529 - val_recall: 0.9520\n",
      "Epoch 67/500\n",
      "6/6 [==============================] - 7s 787ms/step - loss: 0.5614 - acc: 0.7850 - precision: 0.7077 - recall: 0.9708 - val_loss: 0.5885 - val_acc: 0.7827 - val_precision: 0.3557 - val_recall: 0.9520\n",
      "Epoch 68/500\n",
      "6/6 [==============================] - 7s 1s/step - loss: 0.5794 - acc: 0.7735 - precision: 0.7264 - recall: 0.8862 - val_loss: 0.5854 - val_acc: 0.7826 - val_precision: 0.3560 - val_recall: 0.9553\n",
      "Epoch 69/500\n",
      "6/6 [==============================] - 7s 811ms/step - loss: 0.5558 - acc: 0.7899 - precision: 0.7147 - recall: 0.9663 - val_loss: 0.5813 - val_acc: 0.7831 - val_precision: 0.3565 - val_recall: 0.9553\n",
      "Epoch 70/500\n",
      "6/6 [==============================] - 7s 1s/step - loss: 0.5848 - acc: 0.7795 - precision: 0.7296 - recall: 0.9070 - val_loss: 0.5775 - val_acc: 0.7843 - val_precision: 0.3580 - val_recall: 0.9564\n",
      "Epoch 71/500\n",
      "6/6 [==============================] - 10s 2s/step - loss: 0.5856 - acc: 0.7395 - precision: 0.6709 - recall: 0.9484 - val_loss: 0.5757 - val_acc: 0.7826 - val_precision: 0.3563 - val_recall: 0.9586\n",
      "Epoch 72/500\n",
      "6/6 [==============================] - 7s 1s/step - loss: 0.5839 - acc: 0.7671 - precision: 0.7036 - recall: 0.9326 - val_loss: 0.5711 - val_acc: 0.7843 - val_precision: 0.3584 - val_recall: 0.9607\n",
      "Epoch 73/500\n",
      "6/6 [==============================] - 9s 2s/step - loss: 0.5842 - acc: 0.7546 - precision: 0.6950 - recall: 0.9264 - val_loss: 0.5671 - val_acc: 0.7842 - val_precision: 0.3585 - val_recall: 0.9629\n",
      "Epoch 74/500\n",
      "6/6 [==============================] - 9s 2s/step - loss: 0.6015 - acc: 0.7333 - precision: 0.6851 - recall: 0.8675 - val_loss: 0.5644 - val_acc: 0.7850 - val_precision: 0.3597 - val_recall: 0.9662\n",
      "Epoch 75/500\n",
      "6/6 [==============================] - 7s 788ms/step - loss: 0.5934 - acc: 0.7635 - precision: 0.7036 - recall: 0.9025 - val_loss: 0.5601 - val_acc: 0.7869 - val_precision: 0.3618 - val_recall: 0.9662\n",
      "Epoch 76/500\n",
      "6/6 [==============================] - 7s 1s/step - loss: 0.5817 - acc: 0.7714 - precision: 0.7182 - recall: 0.8993 - val_loss: 0.5545 - val_acc: 0.7914 - val_precision: 0.3669 - val_recall: 0.9662\n",
      "Epoch 77/500\n",
      "6/6 [==============================] - 12s 2s/step - loss: 0.5843 - acc: 0.7843 - precision: 0.7487 - recall: 0.8881 - val_loss: 0.5509 - val_acc: 0.7917 - val_precision: 0.3672 - val_recall: 0.9662\n",
      "Epoch 78/500\n",
      "6/6 [==============================] - 8s 1s/step - loss: 0.5840 - acc: 0.7711 - precision: 0.7201 - recall: 0.8995 - val_loss: 0.5461 - val_acc: 0.7940 - val_precision: 0.3697 - val_recall: 0.9651\n"
     ]
    },
    {
     "name": "stdout",
     "output_type": "stream",
     "text": [
      "Epoch 79/500\n",
      "6/6 [==============================] - 11s 594ms/step - loss: 0.5783 - acc: 0.7431 - precision: 0.6693 - recall: 0.9556 - val_loss: 0.5444 - val_acc: 0.7910 - val_precision: 0.3665 - val_recall: 0.9673\n",
      "Epoch 80/500\n",
      "6/6 [==============================] - 7s 1s/step - loss: 0.5517 - acc: 0.7838 - precision: 0.7114 - recall: 0.9529 - val_loss: 0.5390 - val_acc: 0.7961 - val_precision: 0.3722 - val_recall: 0.9651\n",
      "Epoch 81/500\n",
      "6/6 [==============================] - 10s 2s/step - loss: 0.5823 - acc: 0.7745 - precision: 0.7180 - recall: 0.9259 - val_loss: 0.5367 - val_acc: 0.7944 - val_precision: 0.3702 - val_recall: 0.9662\n",
      "Epoch 82/500\n",
      "6/6 [==============================] - 7s 1s/step - loss: 0.5771 - acc: 0.7731 - precision: 0.7273 - recall: 0.8719 - val_loss: 0.5346 - val_acc: 0.7949 - val_precision: 0.3710 - val_recall: 0.9673\n",
      "Epoch 83/500\n",
      "6/6 [==============================] - 7s 1s/step - loss: 0.5560 - acc: 0.7910 - precision: 0.7241 - recall: 0.9374 - val_loss: 0.5298 - val_acc: 0.7964 - val_precision: 0.3727 - val_recall: 0.9673\n",
      "Epoch 84/500\n",
      "6/6 [==============================] - 7s 1s/step - loss: 0.5856 - acc: 0.7850 - precision: 0.7385 - recall: 0.9056 - val_loss: 0.5259 - val_acc: 0.7984 - val_precision: 0.3749 - val_recall: 0.9662\n",
      "Epoch 85/500\n",
      "6/6 [==============================] - 7s 760ms/step - loss: 0.5436 - acc: 0.8047 - precision: 0.7307 - recall: 0.9642 - val_loss: 0.5215 - val_acc: 0.8002 - val_precision: 0.3771 - val_recall: 0.9651\n",
      "Epoch 86/500\n",
      "6/6 [==============================] - 9s 2s/step - loss: 0.5775 - acc: 0.7535 - precision: 0.6953 - recall: 0.9245 - val_loss: 0.5178 - val_acc: 0.8028 - val_precision: 0.3803 - val_recall: 0.9662\n",
      "Epoch 87/500\n",
      "6/6 [==============================] - 7s 1s/step - loss: 0.5529 - acc: 0.7974 - precision: 0.7281 - recall: 0.9546 - val_loss: 0.5137 - val_acc: 0.8059 - val_precision: 0.3839 - val_recall: 0.9651\n",
      "Epoch 88/500\n",
      "6/6 [==============================] - 7s 1s/step - loss: 0.5733 - acc: 0.7931 - precision: 0.7311 - recall: 0.9253 - val_loss: 0.5099 - val_acc: 0.8064 - val_precision: 0.3847 - val_recall: 0.9662\n",
      "Epoch 89/500\n",
      "6/6 [==============================] - 10s 2s/step - loss: 0.5646 - acc: 0.7751 - precision: 0.7078 - recall: 0.9596 - val_loss: 0.5095 - val_acc: 0.8053 - val_precision: 0.3837 - val_recall: 0.9695\n",
      "Epoch 90/500\n",
      "6/6 [==============================] - 9s 448ms/step - loss: 0.5663 - acc: 0.7301 - precision: 0.6566 - recall: 0.9595 - val_loss: 0.5068 - val_acc: 0.8057 - val_precision: 0.3843 - val_recall: 0.9706\n",
      "Epoch 91/500\n",
      "6/6 [==============================] - 16s 3s/step - loss: 0.5560 - acc: 0.8055 - precision: 0.7678 - recall: 0.8967 - val_loss: 0.5024 - val_acc: 0.8063 - val_precision: 0.3847 - val_recall: 0.9684\n",
      "Epoch 92/500\n",
      "6/6 [==============================] - 9s 2s/step - loss: 0.5592 - acc: 0.7496 - precision: 0.6819 - recall: 0.9487 - val_loss: 0.4997 - val_acc: 0.8057 - val_precision: 0.3843 - val_recall: 0.9706\n",
      "Epoch 93/500\n",
      "6/6 [==============================] - 7s 838ms/step - loss: 0.5474 - acc: 0.7969 - precision: 0.7257 - recall: 0.9524 - val_loss: 0.4953 - val_acc: 0.8077 - val_precision: 0.3868 - val_recall: 0.9706\n",
      "Epoch 94/500\n",
      "6/6 [==============================] - 38s 7s/step - loss: 0.5426 - acc: 0.7968 - precision: 0.7275 - recall: 0.9487 - val_loss: 0.4937 - val_acc: 0.8073 - val_precision: 0.3863 - val_recall: 0.9706\n",
      "Epoch 95/500\n",
      "6/6 [==============================] - 12s 2s/step - loss: 0.5340 - acc: 0.8144 - precision: 0.7444 - recall: 0.9645 - val_loss: 0.4922 - val_acc: 0.8060 - val_precision: 0.3849 - val_recall: 0.9738\n",
      "Epoch 96/500\n",
      "6/6 [==============================] - 11s 2s/step - loss: 0.5411 - acc: 0.8240 - precision: 0.7669 - recall: 0.9405 - val_loss: 0.4895 - val_acc: 0.8064 - val_precision: 0.3854 - val_recall: 0.9738\n",
      "Epoch 97/500\n",
      "6/6 [==============================] - 9s 1s/step - loss: 0.5812 - acc: 0.8045 - precision: 0.7561 - recall: 0.9009 - val_loss: 0.4855 - val_acc: 0.8087 - val_precision: 0.3883 - val_recall: 0.9738\n",
      "Epoch 98/500\n",
      "6/6 [==============================] - 13s 2s/step - loss: 0.5428 - acc: 0.8084 - precision: 0.7451 - recall: 0.9498 - val_loss: 0.4829 - val_acc: 0.8097 - val_precision: 0.3898 - val_recall: 0.9760\n",
      "Epoch 99/500\n",
      "6/6 [==============================] - 10s 2s/step - loss: 0.5321 - acc: 0.8318 - precision: 0.7783 - recall: 0.9426 - val_loss: 0.4812 - val_acc: 0.8093 - val_precision: 0.3894 - val_recall: 0.9771\n",
      "Epoch 100/500\n",
      "6/6 [==============================] - 24s 5s/step - loss: 0.5390 - acc: 0.7924 - precision: 0.7218 - recall: 0.9772 - val_loss: 0.4803 - val_acc: 0.8087 - val_precision: 0.3886 - val_recall: 0.9771\n",
      "Epoch 101/500\n",
      "6/6 [==============================] - 8s 1s/step - loss: 0.5547 - acc: 0.7940 - precision: 0.7395 - recall: 0.9215 - val_loss: 0.4791 - val_acc: 0.8085 - val_precision: 0.3884 - val_recall: 0.9771\n",
      "Epoch 102/500\n",
      "6/6 [==============================] - 10s 2s/step - loss: 0.5338 - acc: 0.8140 - precision: 0.7564 - recall: 0.9303 - val_loss: 0.4754 - val_acc: 0.8103 - val_precision: 0.3906 - val_recall: 0.9771\n",
      "Epoch 103/500\n",
      "6/6 [==============================] - 8s 2s/step - loss: 0.5563 - acc: 0.8053 - precision: 0.7536 - recall: 0.9369 - val_loss: 0.4729 - val_acc: 0.8108 - val_precision: 0.3911 - val_recall: 0.9749\n",
      "Epoch 104/500\n",
      "6/6 [==============================] - 13s 3s/step - loss: 0.5325 - acc: 0.7801 - precision: 0.7080 - recall: 0.9862 - val_loss: 0.4720 - val_acc: 0.8093 - val_precision: 0.3890 - val_recall: 0.9727\n",
      "Epoch 105/500\n",
      "6/6 [==============================] - 7s 1s/step - loss: 0.5365 - acc: 0.8274 - precision: 0.7695 - recall: 0.9433 - val_loss: 0.4687 - val_acc: 0.8099 - val_precision: 0.3896 - val_recall: 0.9716\n",
      "Epoch 106/500\n",
      "6/6 [==============================] - 8s 1s/step - loss: 0.5369 - acc: 0.8195 - precision: 0.7589 - recall: 0.9401 - val_loss: 0.4663 - val_acc: 0.8107 - val_precision: 0.3906 - val_recall: 0.9716\n",
      "Epoch 107/500\n",
      "6/6 [==============================] - 8s 2s/step - loss: 0.5681 - acc: 0.8149 - precision: 0.7637 - recall: 0.9222 - val_loss: 0.4629 - val_acc: 0.8123 - val_precision: 0.3924 - val_recall: 0.9684\n",
      "Epoch 108/500\n",
      "6/6 [==============================] - 9s 2s/step - loss: 0.5318 - acc: 0.8256 - precision: 0.7834 - recall: 0.9035 - val_loss: 0.4586 - val_acc: 0.8145 - val_precision: 0.3953 - val_recall: 0.9673\n",
      "Epoch 109/500\n",
      "6/6 [==============================] - 10s 589ms/step - loss: 0.5444 - acc: 0.7803 - precision: 0.6991 - recall: 0.9838 - val_loss: 0.4560 - val_acc: 0.8168 - val_precision: 0.3983 - val_recall: 0.9673\n",
      "Epoch 110/500\n",
      "6/6 [==============================] - 8s 1s/step - loss: 0.5227 - acc: 0.8169 - precision: 0.7499 - recall: 0.9605 - val_loss: 0.4535 - val_acc: 0.8180 - val_precision: 0.3998 - val_recall: 0.9662\n",
      "Epoch 111/500\n",
      "6/6 [==============================] - 12s 2s/step - loss: 0.5461 - acc: 0.7612 - precision: 0.6923 - recall: 0.9730 - val_loss: 0.4548 - val_acc: 0.8143 - val_precision: 0.3951 - val_recall: 0.9695\n",
      "Epoch 112/500\n",
      "6/6 [==============================] - 8s 1s/step - loss: 0.5320 - acc: 0.8304 - precision: 0.7983 - recall: 0.8928 - val_loss: 0.4527 - val_acc: 0.8149 - val_precision: 0.3958 - val_recall: 0.9673\n",
      "Epoch 113/500\n",
      "6/6 [==============================] - 7s 1s/step - loss: 0.5675 - acc: 0.8150 - precision: 0.7920 - recall: 0.8911 - val_loss: 0.4518 - val_acc: 0.8153 - val_precision: 0.3962 - val_recall: 0.9662\n",
      "Epoch 114/500\n",
      "6/6 [==============================] - 7s 1s/step - loss: 0.5398 - acc: 0.8236 - precision: 0.7804 - recall: 0.9035 - val_loss: 0.4487 - val_acc: 0.8163 - val_precision: 0.3974 - val_recall: 0.9651\n",
      "Epoch 115/500\n",
      "6/6 [==============================] - 9s 2s/step - loss: 0.5202 - acc: 0.8301 - precision: 0.7721 - recall: 0.9494 - val_loss: 0.4472 - val_acc: 0.8176 - val_precision: 0.3992 - val_recall: 0.9651\n",
      "Epoch 116/500\n",
      "6/6 [==============================] - 17s 3s/step - loss: 0.5406 - acc: 0.8241 - precision: 0.7982 - recall: 0.8761 - val_loss: 0.4446 - val_acc: 0.8187 - val_precision: 0.4006 - val_recall: 0.9651\n",
      "Epoch 117/500\n",
      "6/6 [==============================] - 14s 3s/step - loss: 0.5396 - acc: 0.7897 - precision: 0.7408 - recall: 0.9240 - val_loss: 0.4421 - val_acc: 0.8203 - val_precision: 0.4028 - val_recall: 0.9651\n"
     ]
    },
    {
     "name": "stdout",
     "output_type": "stream",
     "text": [
      "Epoch 118/500\n",
      "6/6 [==============================] - 7s 1s/step - loss: 0.5098 - acc: 0.8273 - precision: 0.7772 - recall: 0.9221 - val_loss: 0.4400 - val_acc: 0.8215 - val_precision: 0.4044 - val_recall: 0.9640\n",
      "Epoch 119/500\n",
      "6/6 [==============================] - 9s 2s/step - loss: 0.4971 - acc: 0.8561 - precision: 0.7954 - recall: 0.9712 - val_loss: 0.4383 - val_acc: 0.8222 - val_precision: 0.4051 - val_recall: 0.9618\n",
      "Epoch 120/500\n",
      "6/6 [==============================] - 9s 2s/step - loss: 0.5123 - acc: 0.8177 - precision: 0.7553 - recall: 0.9437 - val_loss: 0.4352 - val_acc: 0.8243 - val_precision: 0.4081 - val_recall: 0.9618\n",
      "Epoch 121/500\n",
      "6/6 [==============================] - 8s 844ms/step - loss: 0.5114 - acc: 0.8217 - precision: 0.7525 - recall: 0.9648 - val_loss: 0.4318 - val_acc: 0.8267 - val_precision: 0.4112 - val_recall: 0.9564\n",
      "Epoch 122/500\n",
      "6/6 [==============================] - 9s 1s/step - loss: 0.5065 - acc: 0.8689 - precision: 0.8323 - recall: 0.9292 - val_loss: 0.4290 - val_acc: 0.8289 - val_precision: 0.4143 - val_recall: 0.9564\n",
      "Epoch 123/500\n",
      "6/6 [==============================] - 11s 2s/step - loss: 0.5501 - acc: 0.8044 - precision: 0.7403 - recall: 0.9419 - val_loss: 0.4277 - val_acc: 0.8289 - val_precision: 0.4141 - val_recall: 0.9542\n",
      "Epoch 124/500\n",
      "6/6 [==============================] - 7s 830ms/step - loss: 0.5117 - acc: 0.8147 - precision: 0.7408 - recall: 0.9714 - val_loss: 0.4272 - val_acc: 0.8285 - val_precision: 0.4135 - val_recall: 0.9542\n",
      "Epoch 125/500\n",
      "6/6 [==============================] - 8s 894ms/step - loss: 0.5242 - acc: 0.8197 - precision: 0.7537 - recall: 0.9500 - val_loss: 0.4266 - val_acc: 0.8283 - val_precision: 0.4133 - val_recall: 0.9542\n",
      "Epoch 126/500\n",
      "6/6 [==============================] - 9s 2s/step - loss: 0.5185 - acc: 0.8231 - precision: 0.7781 - recall: 0.9228 - val_loss: 0.4247 - val_acc: 0.8295 - val_precision: 0.4150 - val_recall: 0.9531\n",
      "Epoch 127/500\n",
      "6/6 [==============================] - 7s 1s/step - loss: 0.5035 - acc: 0.8199 - precision: 0.7532 - recall: 0.9539 - val_loss: 0.4246 - val_acc: 0.8289 - val_precision: 0.4141 - val_recall: 0.9542\n",
      "Epoch 128/500\n",
      "6/6 [==============================] - 8s 1s/step - loss: 0.5267 - acc: 0.8318 - precision: 0.7892 - recall: 0.9069 - val_loss: 0.4229 - val_acc: 0.8291 - val_precision: 0.4141 - val_recall: 0.9487\n",
      "Epoch 129/500\n",
      "6/6 [==============================] - 9s 1s/step - loss: 0.5137 - acc: 0.8461 - precision: 0.7978 - recall: 0.9372 - val_loss: 0.4270 - val_acc: 0.8259 - val_precision: 0.4100 - val_recall: 0.9564\n",
      "Epoch 130/500\n",
      "6/6 [==============================] - 7s 1s/step - loss: 0.4931 - acc: 0.8414 - precision: 0.7755 - recall: 0.9705 - val_loss: 0.4265 - val_acc: 0.8248 - val_precision: 0.4085 - val_recall: 0.9564\n",
      "Epoch 131/500\n",
      "6/6 [==============================] - 11s 2s/step - loss: 0.5171 - acc: 0.8058 - precision: 0.7279 - recall: 0.9782 - val_loss: 0.4289 - val_acc: 0.8240 - val_precision: 0.4074 - val_recall: 0.9575\n",
      "Epoch 132/500\n",
      "6/6 [==============================] - 7s 1s/step - loss: 0.5079 - acc: 0.8198 - precision: 0.7584 - recall: 0.9528 - val_loss: 0.4292 - val_acc: 0.8231 - val_precision: 0.4059 - val_recall: 0.9553\n",
      "Epoch 133/500\n",
      "6/6 [==============================] - 7s 1s/step - loss: 0.4959 - acc: 0.8297 - precision: 0.7822 - recall: 0.9186 - val_loss: 0.4282 - val_acc: 0.8238 - val_precision: 0.4064 - val_recall: 0.9487\n",
      "Epoch 134/500\n",
      "6/6 [==============================] - 10s 2s/step - loss: 0.5217 - acc: 0.7728 - precision: 0.7153 - recall: 0.9205 - val_loss: 0.4277 - val_acc: 0.8242 - val_precision: 0.4068 - val_recall: 0.9477\n",
      "Epoch 135/500\n",
      "6/6 [==============================] - 7s 1s/step - loss: 0.4773 - acc: 0.8734 - precision: 0.8262 - recall: 0.9541 - val_loss: 0.4288 - val_acc: 0.8222 - val_precision: 0.4042 - val_recall: 0.9498\n",
      "Epoch 136/500\n",
      "6/6 [==============================] - 7s 1s/step - loss: 0.4970 - acc: 0.8412 - precision: 0.7898 - recall: 0.9309 - val_loss: 0.4279 - val_acc: 0.8224 - val_precision: 0.4044 - val_recall: 0.9477\n",
      "Epoch 137/500\n",
      "6/6 [==============================] - 7s 1s/step - loss: 0.4976 - acc: 0.8680 - precision: 0.8250 - recall: 0.9379 - val_loss: 0.4266 - val_acc: 0.8235 - val_precision: 0.4057 - val_recall: 0.9455\n",
      "Epoch 138/500\n",
      "6/6 [==============================] - 11s 2s/step - loss: 0.5084 - acc: 0.8221 - precision: 0.7775 - recall: 0.9045 - val_loss: 0.4240 - val_acc: 0.8259 - val_precision: 0.4088 - val_recall: 0.9411\n",
      "Epoch 139/500\n",
      "6/6 [==============================] - 9s 2s/step - loss: 0.5272 - acc: 0.8200 - precision: 0.7860 - recall: 0.8890 - val_loss: 0.4215 - val_acc: 0.8267 - val_precision: 0.4098 - val_recall: 0.9389\n",
      "Epoch 140/500\n",
      "6/6 [==============================] - 14s 3s/step - loss: 0.5255 - acc: 0.8122 - precision: 0.7478 - recall: 0.9684 - val_loss: 0.4223 - val_acc: 0.8264 - val_precision: 0.4094 - val_recall: 0.9389\n",
      "Epoch 141/500\n",
      "6/6 [==============================] - 14s 2s/step - loss: 0.5086 - acc: 0.8148 - precision: 0.7867 - recall: 0.8631 - val_loss: 0.4212 - val_acc: 0.8278 - val_precision: 0.4108 - val_recall: 0.9313\n",
      "Epoch 142/500\n",
      "6/6 [==============================] - 16s 3s/step - loss: 0.4945 - acc: 0.8458 - precision: 0.8185 - recall: 0.9036 - val_loss: 0.4234 - val_acc: 0.8250 - val_precision: 0.4070 - val_recall: 0.9357\n",
      "Epoch 143/500\n",
      "6/6 [==============================] - 11s 2s/step - loss: 0.4898 - acc: 0.8371 - precision: 0.7789 - recall: 0.9492 - val_loss: 0.4210 - val_acc: 0.8259 - val_precision: 0.4076 - val_recall: 0.9258\n",
      "Epoch 144/500\n",
      "6/6 [==============================] - 16s 3s/step - loss: 0.5073 - acc: 0.7803 - precision: 0.7087 - recall: 0.9656 - val_loss: 0.4212 - val_acc: 0.8258 - val_precision: 0.4075 - val_recall: 0.9269\n",
      "Epoch 145/500\n",
      "6/6 [==============================] - 8s 1s/step - loss: 0.5048 - acc: 0.8277 - precision: 0.7722 - recall: 0.9284 - val_loss: 0.4192 - val_acc: 0.8267 - val_precision: 0.4083 - val_recall: 0.9204\n",
      "Epoch 146/500\n",
      "6/6 [==============================] - 13s 2s/step - loss: 0.5034 - acc: 0.8123 - precision: 0.7732 - recall: 0.9074 - val_loss: 0.4214 - val_acc: 0.8238 - val_precision: 0.4046 - val_recall: 0.9269\n",
      "Epoch 147/500\n",
      "6/6 [==============================] - 11s 2s/step - loss: 0.4820 - acc: 0.8686 - precision: 0.8387 - recall: 0.9303 - val_loss: 0.4190 - val_acc: 0.8255 - val_precision: 0.4067 - val_recall: 0.9226\n",
      "Epoch 148/500\n",
      "6/6 [==============================] - 9s 1s/step - loss: 0.5009 - acc: 0.8333 - precision: 0.7830 - recall: 0.9216 - val_loss: 0.4163 - val_acc: 0.8258 - val_precision: 0.4062 - val_recall: 0.9117\n",
      "Epoch 149/500\n",
      "6/6 [==============================] - 7s 1s/step - loss: 0.4965 - acc: 0.8295 - precision: 0.8048 - recall: 0.8763 - val_loss: 0.4153 - val_acc: 0.8263 - val_precision: 0.4060 - val_recall: 0.8997\n",
      "Epoch 150/500\n",
      "6/6 [==============================] - 8s 2s/step - loss: 0.5274 - acc: 0.7743 - precision: 0.7162 - recall: 0.9274 - val_loss: 0.4143 - val_acc: 0.8263 - val_precision: 0.4054 - val_recall: 0.8920\n",
      "Epoch 151/500\n",
      "6/6 [==============================] - 7s 1s/step - loss: 0.4978 - acc: 0.8551 - precision: 0.8246 - recall: 0.9205 - val_loss: 0.4112 - val_acc: 0.8256 - val_precision: 0.4028 - val_recall: 0.8746\n",
      "Epoch 152/500\n",
      "6/6 [==============================] - 9s 1s/step - loss: 0.4799 - acc: 0.8465 - precision: 0.7921 - recall: 0.9400 - val_loss: 0.4090 - val_acc: 0.8263 - val_precision: 0.4032 - val_recall: 0.8680\n",
      "Epoch 153/500\n",
      "6/6 [==============================] - 13s 2s/step - loss: 0.4951 - acc: 0.8339 - precision: 0.8127 - recall: 0.8747 - val_loss: 0.4110 - val_acc: 0.8240 - val_precision: 0.4001 - val_recall: 0.8713\n",
      "Epoch 154/500\n",
      "6/6 [==============================] - 8s 1s/step - loss: 0.4741 - acc: 0.8772 - precision: 0.8378 - recall: 0.9398 - val_loss: 0.4079 - val_acc: 0.8263 - val_precision: 0.4034 - val_recall: 0.8702\n",
      "Epoch 155/500\n",
      "6/6 [==============================] - 9s 1s/step - loss: 0.4612 - acc: 0.8906 - precision: 0.8548 - recall: 0.9471 - val_loss: 0.4084 - val_acc: 0.8267 - val_precision: 0.4051 - val_recall: 0.8822\n",
      "Epoch 156/500\n"
     ]
    },
    {
     "name": "stdout",
     "output_type": "stream",
     "text": [
      "6/6 [==============================] - 9s 2s/step - loss: 0.4699 - acc: 0.8622 - precision: 0.8071 - recall: 0.9629 - val_loss: 0.4071 - val_acc: 0.8285 - val_precision: 0.4088 - val_recall: 0.8942\n",
      "Epoch 157/500\n",
      "6/6 [==============================] - 8s 812ms/step - loss: 0.4876 - acc: 0.8295 - precision: 0.7603 - recall: 0.9647 - val_loss: 0.4043 - val_acc: 0.8303 - val_precision: 0.4111 - val_recall: 0.8877\n",
      "Epoch 158/500\n",
      "6/6 [==============================] - 8s 1s/step - loss: 0.4637 - acc: 0.8582 - precision: 0.8127 - recall: 0.9325 - val_loss: 0.4050 - val_acc: 0.8291 - val_precision: 0.4102 - val_recall: 0.8997\n",
      "Epoch 159/500\n",
      "6/6 [==============================] - 10s 2s/step - loss: 0.4842 - acc: 0.8180 - precision: 0.7528 - recall: 0.9667 - val_loss: 0.4056 - val_acc: 0.8286 - val_precision: 0.4100 - val_recall: 0.9062\n",
      "Epoch 160/500\n",
      "6/6 [==============================] - 11s 2s/step - loss: 0.5057 - acc: 0.8225 - precision: 0.7561 - recall: 0.9716 - val_loss: 0.4058 - val_acc: 0.8294 - val_precision: 0.4111 - val_recall: 0.9051\n",
      "Epoch 161/500\n",
      "6/6 [==============================] - 9s 2s/step - loss: 0.4590 - acc: 0.8756 - precision: 0.8253 - recall: 0.9580 - val_loss: 0.4027 - val_acc: 0.8298 - val_precision: 0.4112 - val_recall: 0.8986\n",
      "Epoch 162/500\n",
      "6/6 [==============================] - 8s 858ms/step - loss: 0.4926 - acc: 0.8181 - precision: 0.7658 - recall: 0.9154 - val_loss: 0.4059 - val_acc: 0.8286 - val_precision: 0.4099 - val_recall: 0.9051\n",
      "Epoch 163/500\n",
      "6/6 [==============================] - 11s 631ms/step - loss: 0.5124 - acc: 0.8078 - precision: 0.7292 - recall: 0.9807 - val_loss: 0.4069 - val_acc: 0.8278 - val_precision: 0.4087 - val_recall: 0.9051\n",
      "Epoch 164/500\n",
      "6/6 [==============================] - 8s 1s/step - loss: 0.4732 - acc: 0.8588 - precision: 0.8210 - recall: 0.9221 - val_loss: 0.4089 - val_acc: 0.8266 - val_precision: 0.4075 - val_recall: 0.9128\n",
      "Epoch 165/500\n",
      "6/6 [==============================] - 8s 823ms/step - loss: 0.4773 - acc: 0.8387 - precision: 0.7643 - recall: 0.9838 - val_loss: 0.4076 - val_acc: 0.8264 - val_precision: 0.4062 - val_recall: 0.8997\n",
      "Epoch 166/500\n",
      "6/6 [==============================] - 12s 2s/step - loss: 0.4890 - acc: 0.8329 - precision: 0.7804 - recall: 0.9354 - val_loss: 0.4037 - val_acc: 0.8278 - val_precision: 0.4068 - val_recall: 0.8833\n",
      "Epoch 167/500\n",
      "6/6 [==============================] - 10s 893ms/step - loss: 0.4808 - acc: 0.8338 - precision: 0.7599 - recall: 0.9782 - val_loss: 0.4000 - val_acc: 0.8275 - val_precision: 0.4048 - val_recall: 0.8648\n",
      "Epoch 168/500\n",
      "6/6 [==============================] - 9s 1s/step - loss: 0.4813 - acc: 0.8280 - precision: 0.7510 - recall: 0.9847 - val_loss: 0.3989 - val_acc: 0.8279 - val_precision: 0.4049 - val_recall: 0.8593\n",
      "Epoch 169/500\n",
      "6/6 [==============================] - 8s 2s/step - loss: 0.5206 - acc: 0.8019 - precision: 0.7781 - recall: 0.8664 - val_loss: 0.3970 - val_acc: 0.8285 - val_precision: 0.4047 - val_recall: 0.8473\n",
      "Epoch 170/500\n",
      "6/6 [==============================] - 7s 1s/step - loss: 0.4638 - acc: 0.8524 - precision: 0.7897 - recall: 0.9638 - val_loss: 0.3936 - val_acc: 0.8277 - val_precision: 0.4007 - val_recall: 0.8190\n",
      "Epoch 171/500\n",
      "6/6 [==============================] - 13s 3s/step - loss: 0.5089 - acc: 0.7943 - precision: 0.7296 - recall: 0.9368 - val_loss: 0.3965 - val_acc: 0.8266 - val_precision: 0.3988 - val_recall: 0.8168\n",
      "Epoch 172/500\n",
      "6/6 [==============================] - 11s 2s/step - loss: 0.4933 - acc: 0.7888 - precision: 0.7294 - recall: 0.9225 - val_loss: 0.3957 - val_acc: 0.8256 - val_precision: 0.3951 - val_recall: 0.7950\n",
      "Epoch 173/500\n",
      "6/6 [==============================] - 7s 1s/step - loss: 0.5061 - acc: 0.8111 - precision: 0.7626 - recall: 0.9210 - val_loss: 0.3950 - val_acc: 0.8244 - val_precision: 0.3918 - val_recall: 0.7819\n",
      "Epoch 174/500\n",
      "6/6 [==============================] - 9s 2s/step - loss: 0.4822 - acc: 0.8114 - precision: 0.7714 - recall: 0.8980 - val_loss: 0.3961 - val_acc: 0.8239 - val_precision: 0.3913 - val_recall: 0.7852\n",
      "Epoch 175/500\n",
      "6/6 [==============================] - 7s 1s/step - loss: 0.4558 - acc: 0.8685 - precision: 0.8229 - recall: 0.9413 - val_loss: 0.3939 - val_acc: 0.8248 - val_precision: 0.3926 - val_recall: 0.7830\n",
      "Epoch 176/500\n",
      "6/6 [==============================] - 7s 1s/step - loss: 0.4775 - acc: 0.8374 - precision: 0.7945 - recall: 0.9210 - val_loss: 0.3940 - val_acc: 0.8238 - val_precision: 0.3909 - val_recall: 0.7830\n",
      "Epoch 177/500\n",
      "6/6 [==============================] - 8s 1s/step - loss: 0.5140 - acc: 0.7810 - precision: 0.7332 - recall: 0.8960 - val_loss: 0.3945 - val_acc: 0.8235 - val_precision: 0.3904 - val_recall: 0.7830\n",
      "Epoch 178/500\n",
      "6/6 [==============================] - 12s 2s/step - loss: 0.4757 - acc: 0.8099 - precision: 0.7479 - recall: 0.9478 - val_loss: 0.3936 - val_acc: 0.8228 - val_precision: 0.3888 - val_recall: 0.7775\n",
      "Epoch 179/500\n",
      "6/6 [==============================] - 11s 2s/step - loss: 0.4724 - acc: 0.8764 - precision: 0.8404 - recall: 0.9513 - val_loss: 0.3940 - val_acc: 0.8220 - val_precision: 0.3869 - val_recall: 0.7721\n",
      "Epoch 180/500\n",
      "6/6 [==============================] - 7s 1s/step - loss: 0.4542 - acc: 0.8788 - precision: 0.8306 - recall: 0.9590 - val_loss: 0.3922 - val_acc: 0.8234 - val_precision: 0.3883 - val_recall: 0.7655\n",
      "Epoch 181/500\n",
      "6/6 [==============================] - 7s 1s/step - loss: 0.4968 - acc: 0.8169 - precision: 0.7485 - recall: 0.9606 - val_loss: 0.3932 - val_acc: 0.8230 - val_precision: 0.3878 - val_recall: 0.7666\n",
      "Epoch 182/500\n",
      "6/6 [==============================] - 10s 468ms/step - loss: 0.5033 - acc: 0.7775 - precision: 0.7060 - recall: 0.9470 - val_loss: 0.3945 - val_acc: 0.8219 - val_precision: 0.3864 - val_recall: 0.7699\n",
      "Epoch 183/500\n",
      "6/6 [==============================] - 7s 1s/step - loss: 0.4534 - acc: 0.8752 - precision: 0.8209 - recall: 0.9627 - val_loss: 0.3941 - val_acc: 0.8200 - val_precision: 0.3827 - val_recall: 0.7634\n",
      "Epoch 184/500\n",
      "6/6 [==============================] - 7s 950ms/step - loss: 0.4617 - acc: 0.8565 - precision: 0.8050 - recall: 0.9430 - val_loss: 0.3928 - val_acc: 0.8208 - val_precision: 0.3831 - val_recall: 0.7557\n",
      "Epoch 185/500\n",
      "6/6 [==============================] - 7s 1s/step - loss: 0.4781 - acc: 0.8441 - precision: 0.8216 - recall: 0.8937 - val_loss: 0.3938 - val_acc: 0.8191 - val_precision: 0.3796 - val_recall: 0.7492\n",
      "Epoch 186/500\n",
      "6/6 [==============================] - 10s 2s/step - loss: 0.4722 - acc: 0.8311 - precision: 0.7918 - recall: 0.9241 - val_loss: 0.3924 - val_acc: 0.8195 - val_precision: 0.3797 - val_recall: 0.7448\n",
      "Epoch 187/500\n",
      "6/6 [==============================] - 10s 566ms/step - loss: 0.4970 - acc: 0.8193 - precision: 0.7461 - recall: 0.9689 - val_loss: 0.3950 - val_acc: 0.8195 - val_precision: 0.3819 - val_recall: 0.7634\n",
      "Epoch 188/500\n",
      "6/6 [==============================] - 7s 1s/step - loss: 0.4592 - acc: 0.8597 - precision: 0.8300 - recall: 0.9062 - val_loss: 0.3952 - val_acc: 0.8195 - val_precision: 0.3837 - val_recall: 0.7786\n",
      "Epoch 189/500\n",
      "6/6 [==============================] - 15s 3s/step - loss: 0.4700 - acc: 0.8349 - precision: 0.7907 - recall: 0.9274 - val_loss: 0.3972 - val_acc: 0.8184 - val_precision: 0.3825 - val_recall: 0.7830\n",
      "Epoch 190/500\n",
      "6/6 [==============================] - 7s 1s/step - loss: 0.4588 - acc: 0.8525 - precision: 0.8147 - recall: 0.9191 - val_loss: 0.3974 - val_acc: 0.8184 - val_precision: 0.3825 - val_recall: 0.7830\n",
      "Epoch 191/500\n",
      "6/6 [==============================] - 7s 1s/step - loss: 0.4732 - acc: 0.8464 - precision: 0.8093 - recall: 0.9204 - val_loss: 0.3968 - val_acc: 0.8187 - val_precision: 0.3826 - val_recall: 0.7797\n",
      "Epoch 192/500\n",
      "6/6 [==============================] - 7s 872ms/step - loss: 0.4642 - acc: 0.8516 - precision: 0.7837 - recall: 0.9708 - val_loss: 0.3951 - val_acc: 0.8188 - val_precision: 0.3823 - val_recall: 0.7754\n",
      "Epoch 193/500\n",
      "6/6 [==============================] - 18s 1s/step - loss: 0.4693 - acc: 0.8438 - precision: 0.7820 - recall: 0.9559 - val_loss: 0.3917 - val_acc: 0.8203 - val_precision: 0.3838 - val_recall: 0.7688\n",
      "Epoch 194/500\n"
     ]
    },
    {
     "name": "stdout",
     "output_type": "stream",
     "text": [
      "6/6 [==============================] - 14s 3s/step - loss: 0.4293 - acc: 0.8773 - precision: 0.8350 - recall: 0.9486 - val_loss: 0.3891 - val_acc: 0.8222 - val_precision: 0.3862 - val_recall: 0.7644\n",
      "Epoch 195/500\n",
      "6/6 [==============================] - 12s 2s/step - loss: 0.4512 - acc: 0.8830 - precision: 0.8598 - recall: 0.9193 - val_loss: 0.3870 - val_acc: 0.8230 - val_precision: 0.3861 - val_recall: 0.7525\n",
      "Epoch 196/500\n",
      "6/6 [==============================] - 16s 3s/step - loss: 0.4407 - acc: 0.8744 - precision: 0.8316 - recall: 0.9429 - val_loss: 0.3867 - val_acc: 0.8232 - val_precision: 0.3864 - val_recall: 0.7514\n",
      "Epoch 197/500\n",
      "6/6 [==============================] - 11s 2s/step - loss: 0.4260 - acc: 0.8870 - precision: 0.8516 - recall: 0.9441 - val_loss: 0.3869 - val_acc: 0.8246 - val_precision: 0.3901 - val_recall: 0.7644\n",
      "Epoch 198/500\n",
      "6/6 [==============================] - 8s 2s/step - loss: 0.4498 - acc: 0.8556 - precision: 0.8224 - recall: 0.9099 - val_loss: 0.3861 - val_acc: 0.8250 - val_precision: 0.3911 - val_recall: 0.7677\n",
      "Epoch 199/500\n",
      "6/6 [==============================] - 9s 1s/step - loss: 0.4620 - acc: 0.8334 - precision: 0.8026 - recall: 0.8884 - val_loss: 0.3855 - val_acc: 0.8239 - val_precision: 0.3893 - val_recall: 0.7666\n",
      "Epoch 200/500\n",
      "6/6 [==============================] - 8s 1s/step - loss: 0.4297 - acc: 0.8882 - precision: 0.8532 - recall: 0.9431 - val_loss: 0.3847 - val_acc: 0.8248 - val_precision: 0.3914 - val_recall: 0.7721\n",
      "Epoch 201/500\n",
      "6/6 [==============================] - 8s 1s/step - loss: 0.4400 - acc: 0.8648 - precision: 0.8258 - recall: 0.9274 - val_loss: 0.3847 - val_acc: 0.8252 - val_precision: 0.3929 - val_recall: 0.7797\n",
      "Epoch 202/500\n",
      "6/6 [==============================] - 7s 1s/step - loss: 0.4573 - acc: 0.8450 - precision: 0.7855 - recall: 0.9567 - val_loss: 0.3841 - val_acc: 0.8256 - val_precision: 0.3940 - val_recall: 0.7841\n",
      "Epoch 203/500\n",
      "6/6 [==============================] - 8s 1s/step - loss: 0.4724 - acc: 0.8414 - precision: 0.7803 - recall: 0.9647 - val_loss: 0.3827 - val_acc: 0.8270 - val_precision: 0.3961 - val_recall: 0.7841\n",
      "Epoch 204/500\n",
      "6/6 [==============================] - 13s 2s/step - loss: 0.4599 - acc: 0.8109 - precision: 0.7473 - recall: 0.9438 - val_loss: 0.3830 - val_acc: 0.8250 - val_precision: 0.3911 - val_recall: 0.7677\n",
      "Epoch 205/500\n",
      "6/6 [==============================] - 10s 2s/step - loss: 0.4731 - acc: 0.8537 - precision: 0.8358 - recall: 0.9061 - val_loss: 0.3831 - val_acc: 0.8255 - val_precision: 0.3919 - val_recall: 0.7666\n",
      "Epoch 206/500\n",
      "6/6 [==============================] - 8s 1s/step - loss: 0.4670 - acc: 0.8388 - precision: 0.7965 - recall: 0.9268 - val_loss: 0.3819 - val_acc: 0.8248 - val_precision: 0.3893 - val_recall: 0.7535\n",
      "Epoch 207/500\n",
      "6/6 [==============================] - 7s 1s/step - loss: 0.4417 - acc: 0.8555 - precision: 0.8091 - recall: 0.9454 - val_loss: 0.3821 - val_acc: 0.8243 - val_precision: 0.3889 - val_recall: 0.7579\n",
      "Epoch 208/500\n",
      "6/6 [==============================] - 12s 2s/step - loss: 0.4325 - acc: 0.8457 - precision: 0.7983 - recall: 0.9416 - val_loss: 0.3818 - val_acc: 0.8240 - val_precision: 0.3881 - val_recall: 0.7546\n",
      "Epoch 209/500\n",
      "6/6 [==============================] - 10s 2s/step - loss: 0.4843 - acc: 0.8278 - precision: 0.7696 - recall: 0.9421 - val_loss: 0.3829 - val_acc: 0.8235 - val_precision: 0.3880 - val_recall: 0.7612\n",
      "Epoch 210/500\n",
      "6/6 [==============================] - 7s 1s/step - loss: 0.4505 - acc: 0.8444 - precision: 0.8082 - recall: 0.9100 - val_loss: 0.3811 - val_acc: 0.8251 - val_precision: 0.3895 - val_recall: 0.7514\n",
      "Epoch 211/500\n",
      "6/6 [==============================] - 9s 2s/step - loss: 0.4446 - acc: 0.8590 - precision: 0.8017 - recall: 0.9591 - val_loss: 0.3808 - val_acc: 0.8247 - val_precision: 0.3890 - val_recall: 0.7525\n",
      "Epoch 212/500\n",
      "6/6 [==============================] - 11s 2s/step - loss: 0.5230 - acc: 0.8140 - precision: 0.7917 - recall: 0.8990 - val_loss: 0.3810 - val_acc: 0.8251 - val_precision: 0.3899 - val_recall: 0.7546\n",
      "Epoch 213/500\n",
      "6/6 [==============================] - 8s 2s/step - loss: 0.4570 - acc: 0.8685 - precision: 0.8309 - recall: 0.9340 - val_loss: 0.3797 - val_acc: 0.8262 - val_precision: 0.3915 - val_recall: 0.7535\n",
      "Epoch 214/500\n",
      "6/6 [==============================] - 8s 1s/step - loss: 0.4060 - acc: 0.8892 - precision: 0.8610 - recall: 0.9386 - val_loss: 0.3769 - val_acc: 0.8274 - val_precision: 0.3924 - val_recall: 0.7437\n",
      "Epoch 215/500\n",
      "6/6 [==============================] - 7s 1s/step - loss: 0.4106 - acc: 0.9006 - precision: 0.8722 - recall: 0.9436 - val_loss: 0.3755 - val_acc: 0.8282 - val_precision: 0.3940 - val_recall: 0.7459\n",
      "Epoch 216/500\n",
      "6/6 [==============================] - 7s 1s/step - loss: 0.4479 - acc: 0.8387 - precision: 0.7863 - recall: 0.9306 - val_loss: 0.3725 - val_acc: 0.8314 - val_precision: 0.3992 - val_recall: 0.7426\n",
      "Epoch 217/500\n",
      "6/6 [==============================] - 8s 1s/step - loss: 0.3908 - acc: 0.9134 - precision: 0.8897 - recall: 0.9502 - val_loss: 0.3701 - val_acc: 0.8335 - val_precision: 0.4023 - val_recall: 0.7361\n",
      "Epoch 218/500\n",
      "6/6 [==============================] - 8s 1s/step - loss: 0.4338 - acc: 0.8584 - precision: 0.7987 - recall: 0.9641 - val_loss: 0.3696 - val_acc: 0.8345 - val_precision: 0.4054 - val_recall: 0.7503\n",
      "Epoch 219/500\n",
      "6/6 [==============================] - 7s 1s/step - loss: 0.4256 - acc: 0.8778 - precision: 0.8358 - recall: 0.9436 - val_loss: 0.3700 - val_acc: 0.8350 - val_precision: 0.4064 - val_recall: 0.7503\n",
      "Epoch 220/500\n",
      "6/6 [==============================] - 7s 1s/step - loss: 0.4637 - acc: 0.8296 - precision: 0.7959 - recall: 0.9024 - val_loss: 0.3700 - val_acc: 0.8345 - val_precision: 0.4049 - val_recall: 0.7448\n",
      "Epoch 221/500\n",
      "6/6 [==============================] - 10s 2s/step - loss: 0.4070 - acc: 0.8896 - precision: 0.8520 - recall: 0.9504 - val_loss: 0.3700 - val_acc: 0.8358 - val_precision: 0.4069 - val_recall: 0.7415\n",
      "Epoch 222/500\n",
      "6/6 [==============================] - 7s 1s/step - loss: 0.4136 - acc: 0.8996 - precision: 0.8681 - recall: 0.9504 - val_loss: 0.3714 - val_acc: 0.8337 - val_precision: 0.4032 - val_recall: 0.7426\n",
      "Epoch 223/500\n",
      "6/6 [==============================] - 7s 1s/step - loss: 0.4299 - acc: 0.8709 - precision: 0.8280 - recall: 0.9401 - val_loss: 0.3697 - val_acc: 0.8338 - val_precision: 0.4025 - val_recall: 0.7339\n",
      "Epoch 224/500\n",
      "6/6 [==============================] - 8s 2s/step - loss: 0.4324 - acc: 0.8655 - precision: 0.8361 - recall: 0.9207 - val_loss: 0.3726 - val_acc: 0.8311 - val_precision: 0.3999 - val_recall: 0.7535\n",
      "Epoch 225/500\n",
      "6/6 [==============================] - 7s 1s/step - loss: 0.4899 - acc: 0.8274 - precision: 0.8328 - recall: 0.8430 - val_loss: 0.3768 - val_acc: 0.8270 - val_precision: 0.3949 - val_recall: 0.7721\n",
      "Epoch 226/500\n",
      "6/6 [==============================] - 7s 1s/step - loss: 0.4477 - acc: 0.8811 - precision: 0.8586 - recall: 0.9221 - val_loss: 0.3771 - val_acc: 0.8262 - val_precision: 0.3937 - val_recall: 0.7732\n",
      "Epoch 227/500\n",
      "6/6 [==============================] - 7s 1s/step - loss: 0.4372 - acc: 0.8407 - precision: 0.7915 - recall: 0.9324 - val_loss: 0.3757 - val_acc: 0.8274 - val_precision: 0.3960 - val_recall: 0.7764\n",
      "Epoch 228/500\n",
      "6/6 [==============================] - 8s 1s/step - loss: 0.4303 - acc: 0.8688 - precision: 0.8155 - recall: 0.9604 - val_loss: 0.3758 - val_acc: 0.8278 - val_precision: 0.3976 - val_recall: 0.7852\n",
      "Epoch 229/500\n",
      "6/6 [==============================] - 8s 1s/step - loss: 0.4152 - acc: 0.8690 - precision: 0.8183 - recall: 0.9516 - val_loss: 0.3770 - val_acc: 0.8272 - val_precision: 0.3973 - val_recall: 0.7906\n",
      "Epoch 230/500\n",
      "6/6 [==============================] - 7s 903ms/step - loss: 0.4527 - acc: 0.8343 - precision: 0.8153 - recall: 0.8676 - val_loss: 0.3776 - val_acc: 0.8268 - val_precision: 0.3963 - val_recall: 0.7874\n",
      "Epoch 231/500\n",
      "6/6 [==============================] - 7s 854ms/step - loss: 0.4760 - acc: 0.8280 - precision: 0.8093 - recall: 0.8595 - val_loss: 0.3761 - val_acc: 0.8274 - val_precision: 0.3962 - val_recall: 0.7786\n",
      "Epoch 232/500\n",
      "6/6 [==============================] - 10s 2s/step - loss: 0.4187 - acc: 0.8791 - precision: 0.8381 - recall: 0.9474 - val_loss: 0.3708 - val_acc: 0.8295 - val_precision: 0.3959 - val_recall: 0.7426\n"
     ]
    },
    {
     "name": "stdout",
     "output_type": "stream",
     "text": [
      "Epoch 233/500\n",
      "6/6 [==============================] - 8s 1s/step - loss: 0.4555 - acc: 0.8710 - precision: 0.8444 - recall: 0.9192 - val_loss: 0.3667 - val_acc: 0.8315 - val_precision: 0.3952 - val_recall: 0.7056\n",
      "Epoch 234/500\n",
      "6/6 [==============================] - 11s 2s/step - loss: 0.4945 - acc: 0.8045 - precision: 0.7625 - recall: 0.9054 - val_loss: 0.3651 - val_acc: 0.8325 - val_precision: 0.3954 - val_recall: 0.6925\n",
      "Epoch 235/500\n",
      "6/6 [==============================] - 8s 1s/step - loss: 0.3964 - acc: 0.8920 - precision: 0.8509 - recall: 0.9574 - val_loss: 0.3639 - val_acc: 0.8346 - val_precision: 0.3989 - val_recall: 0.6881\n",
      "Epoch 236/500\n",
      "6/6 [==============================] - 7s 1s/step - loss: 0.4389 - acc: 0.8531 - precision: 0.7975 - recall: 0.9461 - val_loss: 0.3614 - val_acc: 0.8355 - val_precision: 0.3992 - val_recall: 0.6761\n",
      "Epoch 237/500\n",
      "6/6 [==============================] - 7s 825ms/step - loss: 0.4602 - acc: 0.8353 - precision: 0.7792 - recall: 0.9384 - val_loss: 0.3600 - val_acc: 0.8382 - val_precision: 0.4041 - val_recall: 0.6728\n",
      "Epoch 238/500\n",
      "6/6 [==============================] - 7s 1s/step - loss: 0.4444 - acc: 0.8448 - precision: 0.7945 - recall: 0.9427 - val_loss: 0.3597 - val_acc: 0.8385 - val_precision: 0.4058 - val_recall: 0.6838\n",
      "Epoch 239/500\n",
      "6/6 [==============================] - 7s 884ms/step - loss: 0.4507 - acc: 0.8404 - precision: 0.8212 - recall: 0.8712 - val_loss: 0.3596 - val_acc: 0.8393 - val_precision: 0.4073 - val_recall: 0.6827\n",
      "Epoch 240/500\n",
      "6/6 [==============================] - 11s 2s/step - loss: 0.4426 - acc: 0.8300 - precision: 0.7737 - recall: 0.9332 - val_loss: 0.3644 - val_acc: 0.8357 - val_precision: 0.4041 - val_recall: 0.7165\n",
      "Epoch 241/500\n",
      "6/6 [==============================] - 7s 1s/step - loss: 0.4638 - acc: 0.8362 - precision: 0.7897 - recall: 0.9306 - val_loss: 0.3635 - val_acc: 0.8349 - val_precision: 0.4030 - val_recall: 0.7208\n",
      "Epoch 242/500\n",
      "6/6 [==============================] - 10s 2s/step - loss: 0.4320 - acc: 0.8672 - precision: 0.8362 - recall: 0.9264 - val_loss: 0.3665 - val_acc: 0.8334 - val_precision: 0.4025 - val_recall: 0.7405\n",
      "Epoch 243/500\n",
      "6/6 [==============================] - 11s 2s/step - loss: 0.4412 - acc: 0.8363 - precision: 0.7899 - recall: 0.9278 - val_loss: 0.3681 - val_acc: 0.8322 - val_precision: 0.4012 - val_recall: 0.7481\n",
      "Epoch 244/500\n",
      "6/6 [==============================] - 7s 1s/step - loss: 0.4448 - acc: 0.8446 - precision: 0.7864 - recall: 0.9457 - val_loss: 0.3660 - val_acc: 0.8335 - val_precision: 0.4032 - val_recall: 0.7448\n",
      "Epoch 245/500\n",
      "6/6 [==============================] - 8s 1s/step - loss: 0.4052 - acc: 0.8699 - precision: 0.8137 - recall: 0.9628 - val_loss: 0.3639 - val_acc: 0.8338 - val_precision: 0.4027 - val_recall: 0.7361\n",
      "Epoch 246/500\n",
      "6/6 [==============================] - 7s 824ms/step - loss: 0.4663 - acc: 0.8305 - precision: 0.7697 - recall: 0.9458 - val_loss: 0.3612 - val_acc: 0.8362 - val_precision: 0.4053 - val_recall: 0.7186\n",
      "Epoch 247/500\n",
      "6/6 [==============================] - 9s 1s/step - loss: 0.3944 - acc: 0.8829 - precision: 0.8512 - recall: 0.9323 - val_loss: 0.3580 - val_acc: 0.8383 - val_precision: 0.4070 - val_recall: 0.6968\n",
      "Epoch 248/500\n",
      "6/6 [==============================] - 8s 1s/step - loss: 0.4581 - acc: 0.8385 - precision: 0.7866 - recall: 0.9385 - val_loss: 0.3564 - val_acc: 0.8391 - val_precision: 0.4069 - val_recall: 0.6816\n",
      "Epoch 249/500\n",
      "6/6 [==============================] - 7s 1s/step - loss: 0.3695 - acc: 0.8992 - precision: 0.8637 - recall: 0.9515 - val_loss: 0.3538 - val_acc: 0.8434 - val_precision: 0.4148 - val_recall: 0.6739\n",
      "Epoch 250/500\n",
      "6/6 [==============================] - 8s 1s/step - loss: 0.4436 - acc: 0.8496 - precision: 0.7983 - recall: 0.9464 - val_loss: 0.3523 - val_acc: 0.8450 - val_precision: 0.4175 - val_recall: 0.6674\n",
      "Epoch 251/500\n",
      "6/6 [==============================] - 7s 1s/step - loss: 0.4404 - acc: 0.8383 - precision: 0.8070 - recall: 0.8940 - val_loss: 0.3513 - val_acc: 0.8468 - val_precision: 0.4212 - val_recall: 0.6674\n",
      "Epoch 252/500\n",
      "6/6 [==============================] - 7s 1s/step - loss: 0.4397 - acc: 0.8672 - precision: 0.8300 - recall: 0.9269 - val_loss: 0.3487 - val_acc: 0.8501 - val_precision: 0.4277 - val_recall: 0.6576\n",
      "Epoch 253/500\n",
      "6/6 [==============================] - 11s 2s/step - loss: 0.4696 - acc: 0.8062 - precision: 0.7712 - recall: 0.8714 - val_loss: 0.3504 - val_acc: 0.8484 - val_precision: 0.4241 - val_recall: 0.6609\n",
      "Epoch 254/500\n",
      "6/6 [==============================] - 7s 1s/step - loss: 0.4233 - acc: 0.8798 - precision: 0.8491 - recall: 0.9359 - val_loss: 0.3494 - val_acc: 0.8510 - val_precision: 0.4297 - val_recall: 0.6565\n",
      "Epoch 255/500\n",
      "6/6 [==============================] - 7s 1s/step - loss: 0.4343 - acc: 0.8749 - precision: 0.8510 - recall: 0.9153 - val_loss: 0.3490 - val_acc: 0.8509 - val_precision: 0.4293 - val_recall: 0.6554\n",
      "Epoch 256/500\n",
      "6/6 [==============================] - 11s 2s/step - loss: 0.4172 - acc: 0.8499 - precision: 0.8129 - recall: 0.9151 - val_loss: 0.3498 - val_acc: 0.8498 - val_precision: 0.4267 - val_recall: 0.6543\n",
      "Epoch 257/500\n",
      "6/6 [==============================] - 8s 2s/step - loss: 0.4568 - acc: 0.8644 - precision: 0.8557 - recall: 0.8966 - val_loss: 0.3507 - val_acc: 0.8478 - val_precision: 0.4227 - val_recall: 0.6587\n",
      "Epoch 258/500\n",
      "6/6 [==============================] - 7s 813ms/step - loss: 0.4479 - acc: 0.8400 - precision: 0.7841 - recall: 0.9403 - val_loss: 0.3523 - val_acc: 0.8448 - val_precision: 0.4175 - val_recall: 0.6728\n",
      "Epoch 259/500\n",
      "6/6 [==============================] - 7s 1s/step - loss: 0.4369 - acc: 0.8415 - precision: 0.7921 - recall: 0.9249 - val_loss: 0.3503 - val_acc: 0.8477 - val_precision: 0.4226 - val_recall: 0.6609\n",
      "Epoch 260/500\n",
      "6/6 [==============================] - 7s 1s/step - loss: 0.4203 - acc: 0.8657 - precision: 0.8507 - recall: 0.8949 - val_loss: 0.3520 - val_acc: 0.8444 - val_precision: 0.4163 - val_recall: 0.6696\n",
      "Epoch 261/500\n",
      "6/6 [==============================] - 8s 1s/step - loss: 0.4728 - acc: 0.8223 - precision: 0.7839 - recall: 0.8970 - val_loss: 0.3526 - val_acc: 0.8453 - val_precision: 0.4177 - val_recall: 0.6641\n",
      "Epoch 262/500\n",
      "6/6 [==============================] - 10s 2s/step - loss: 0.3747 - acc: 0.8972 - precision: 0.8638 - recall: 0.9480 - val_loss: 0.3515 - val_acc: 0.8468 - val_precision: 0.4202 - val_recall: 0.6576\n",
      "Epoch 263/500\n",
      "6/6 [==============================] - 7s 1s/step - loss: 0.4030 - acc: 0.8652 - precision: 0.8356 - recall: 0.9130 - val_loss: 0.3517 - val_acc: 0.8466 - val_precision: 0.4209 - val_recall: 0.6674\n",
      "Epoch 264/500\n",
      "6/6 [==============================] - 12s 2s/step - loss: 0.4384 - acc: 0.8335 - precision: 0.7935 - recall: 0.9093 - val_loss: 0.3512 - val_acc: 0.8462 - val_precision: 0.4199 - val_recall: 0.6663\n",
      "Epoch 265/500\n",
      "6/6 [==============================] - 10s 2s/step - loss: 0.3975 - acc: 0.8864 - precision: 0.8458 - recall: 0.9512 - val_loss: 0.3540 - val_acc: 0.8418 - val_precision: 0.4125 - val_recall: 0.6838\n",
      "Epoch 266/500\n",
      "6/6 [==============================] - 9s 2s/step - loss: 0.4018 - acc: 0.8817 - precision: 0.8466 - recall: 0.9394 - val_loss: 0.3544 - val_acc: 0.8414 - val_precision: 0.4126 - val_recall: 0.6925\n",
      "Epoch 267/500\n",
      "6/6 [==============================] - 7s 1s/step - loss: 0.3976 - acc: 0.8777 - precision: 0.8395 - recall: 0.9458 - val_loss: 0.3564 - val_acc: 0.8393 - val_precision: 0.4101 - val_recall: 0.7088\n",
      "Epoch 268/500\n",
      "6/6 [==============================] - 10s 2s/step - loss: 0.4002 - acc: 0.8882 - precision: 0.8422 - recall: 0.9625 - val_loss: 0.3574 - val_acc: 0.8387 - val_precision: 0.4106 - val_recall: 0.7241\n",
      "Epoch 269/500\n",
      "6/6 [==============================] - 7s 1s/step - loss: 0.4551 - acc: 0.8346 - precision: 0.8107 - recall: 0.8818 - val_loss: 0.3607 - val_acc: 0.8345 - val_precision: 0.4036 - val_recall: 0.7328\n",
      "Epoch 270/500\n",
      "6/6 [==============================] - 8s 897ms/step - loss: 0.4524 - acc: 0.8395 - precision: 0.7779 - recall: 0.9528 - val_loss: 0.3593 - val_acc: 0.8343 - val_precision: 0.4023 - val_recall: 0.7230\n",
      "Epoch 271/500\n"
     ]
    },
    {
     "name": "stdout",
     "output_type": "stream",
     "text": [
      "6/6 [==============================] - 8s 2s/step - loss: 0.3980 - acc: 0.8865 - precision: 0.8533 - recall: 0.9426 - val_loss: 0.3604 - val_acc: 0.8347 - val_precision: 0.4042 - val_recall: 0.7339\n",
      "Epoch 272/500\n",
      "6/6 [==============================] - 8s 1s/step - loss: 0.3955 - acc: 0.8757 - precision: 0.8300 - recall: 0.9455 - val_loss: 0.3621 - val_acc: 0.8327 - val_precision: 0.4020 - val_recall: 0.7470\n",
      "Epoch 273/500\n",
      "6/6 [==============================] - 8s 1s/step - loss: 0.4115 - acc: 0.8663 - precision: 0.8294 - recall: 0.9311 - val_loss: 0.3608 - val_acc: 0.8343 - val_precision: 0.4044 - val_recall: 0.7426\n",
      "Epoch 274/500\n",
      "6/6 [==============================] - 7s 1s/step - loss: 0.4305 - acc: 0.8508 - precision: 0.8046 - recall: 0.9302 - val_loss: 0.3567 - val_acc: 0.8394 - val_precision: 0.4131 - val_recall: 0.7361\n",
      "Epoch 275/500\n",
      "6/6 [==============================] - 7s 791ms/step - loss: 0.4238 - acc: 0.8572 - precision: 0.8060 - recall: 0.9416 - val_loss: 0.3560 - val_acc: 0.8401 - val_precision: 0.4151 - val_recall: 0.7437\n",
      "Epoch 276/500\n",
      "6/6 [==============================] - 7s 794ms/step - loss: 0.4548 - acc: 0.8335 - precision: 0.7916 - recall: 0.9054 - val_loss: 0.3575 - val_acc: 0.8378 - val_precision: 0.4113 - val_recall: 0.7481\n",
      "Epoch 277/500\n",
      "6/6 [==============================] - 8s 1s/step - loss: 0.3573 - acc: 0.9058 - precision: 0.8693 - recall: 0.9599 - val_loss: 0.3579 - val_acc: 0.8394 - val_precision: 0.4136 - val_recall: 0.7415\n",
      "Epoch 278/500\n",
      "6/6 [==============================] - 8s 2s/step - loss: 0.3752 - acc: 0.9012 - precision: 0.8706 - recall: 0.9527 - val_loss: 0.3566 - val_acc: 0.8382 - val_precision: 0.4098 - val_recall: 0.7263\n",
      "Epoch 279/500\n",
      "6/6 [==============================] - 7s 803ms/step - loss: 0.4372 - acc: 0.8488 - precision: 0.7921 - recall: 0.9500 - val_loss: 0.3586 - val_acc: 0.8359 - val_precision: 0.4067 - val_recall: 0.7372\n",
      "Epoch 280/500\n",
      "6/6 [==============================] - 7s 1s/step - loss: 0.3932 - acc: 0.8824 - precision: 0.8365 - recall: 0.9532 - val_loss: 0.3576 - val_acc: 0.8378 - val_precision: 0.4102 - val_recall: 0.7372\n",
      "Epoch 281/500\n",
      "6/6 [==============================] - 7s 1s/step - loss: 0.3905 - acc: 0.8700 - precision: 0.8332 - recall: 0.9276 - val_loss: 0.3566 - val_acc: 0.8406 - val_precision: 0.4162 - val_recall: 0.7448\n",
      "Epoch 282/500\n",
      "6/6 [==============================] - 10s 2s/step - loss: 0.4585 - acc: 0.8441 - precision: 0.7945 - recall: 0.9440 - val_loss: 0.3559 - val_acc: 0.8408 - val_precision: 0.4161 - val_recall: 0.7405\n"
     ]
    }
   ],
   "source": [
    "epochs = 500\n",
    "loader_tr, loader_va, loader_te = load_tr_data(epochs)\n",
    "# class_weight = {0: 0.11, 1: 0.89}\n",
    "history = model.fit(\n",
    "    loader_tr.load(),\n",
    "    steps_per_epoch=loader_tr.steps_per_epoch,\n",
    "    validation_data=loader_va.load(),\n",
    "    validation_steps=loader_va.steps_per_epoch,\n",
    "    epochs=epochs,\n",
    "    class_weight=weights,\n",
    "    callbacks=callback_GCN\n",
    ")"
   ]
  },
  {
   "cell_type": "code",
   "execution_count": 13,
   "metadata": {},
   "outputs": [],
   "source": [
    "import os\n",
    "import tensorflow as tf\n",
    "# import tensorflow_datasets as tfds\n",
    "from tensorboard.plugins import projector"
   ]
  },
  {
   "cell_type": "code",
   "execution_count": 14,
   "metadata": {},
   "outputs": [
    {
     "data": {
      "text/html": [
       "\n",
       "      <iframe id=\"tensorboard-frame-e3f4868d04b1ab60\" width=\"100%\" height=\"800\" frameborder=\"0\">\n",
       "      </iframe>\n",
       "      <script>\n",
       "        (function() {\n",
       "          const frame = document.getElementById(\"tensorboard-frame-e3f4868d04b1ab60\");\n",
       "          const url = new URL(\"/\", window.location);\n",
       "          const port = 6015;\n",
       "          if (port) {\n",
       "            url.port = port;\n",
       "          }\n",
       "          frame.src = url;\n",
       "        })();\n",
       "      </script>\n",
       "    "
      ],
      "text/plain": [
       "<IPython.core.display.HTML object>"
      ]
     },
     "metadata": {},
     "output_type": "display_data"
    }
   ],
   "source": [
    "%tensorboard --logdir {tfcallback_dir}"
   ]
  },
  {
   "cell_type": "code",
   "execution_count": 15,
   "metadata": {
    "colab": {
     "base_uri": "https://localhost:8080/"
    },
    "executionInfo": {
     "elapsed": 1900,
     "status": "ok",
     "timestamp": 1620858507685,
     "user": {
      "displayName": "Vedika Saravanan",
      "photoUrl": "https://lh3.googleusercontent.com/a-/AOh14GiFu_fiUGTb9Acqc-9pwSrSh0SeoS2jImjreYTqPg=s64",
      "userId": "03855894681171022360"
     },
     "user_tz": 240
    },
    "id": "jd9OlFTAQrLP",
    "outputId": "315fda69-6b0e-41e2-f337-ae5e74e19749"
   },
   "outputs": [
    {
     "name": "stdout",
     "output_type": "stream",
     "text": [
      "1/1 [==============================] - 0s 225ms/step - loss: 0.3918 - acc: 0.8988 - precision: 0.5255 - recall: 0.1554\n",
      "Done. Test loss: [0.39180445671081543, 0.898785412311554, 0.525547444820404, 0.15542364120483398]\n"
     ]
    }
   ],
   "source": [
    "model_loss = model.evaluate(loader_te.load(), steps=loader_te.steps_per_epoch)\n",
    "print(\"Done. Test loss: {}\".format(model_loss))"
   ]
  },
  {
   "cell_type": "markdown",
   "metadata": {},
   "source": [
    "# Model prediction metrics"
   ]
  },
  {
   "cell_type": "code",
   "execution_count": 16,
   "metadata": {
    "colab": {
     "base_uri": "https://localhost:8080/"
    },
    "executionInfo": {
     "elapsed": 2325,
     "status": "ok",
     "timestamp": 1620858511826,
     "user": {
      "displayName": "Vedika Saravanan",
      "photoUrl": "https://lh3.googleusercontent.com/a-/AOh14GiFu_fiUGTb9Acqc-9pwSrSh0SeoS2jImjreYTqPg=s64",
      "userId": "03855894681171022360"
     },
     "user_tz": 240
    },
    "id": "t-MEYWzaQrLP",
    "outputId": "f01e5b9c-a571-4710-ed25-73e58adf63c1"
   },
   "outputs": [
    {
     "name": "stdout",
     "output_type": "stream",
     "text": [
      "GCN Classification Report: \n",
      "               precision    recall  f1-score   support\n",
      "\n",
      "         0.0       0.91      0.98      0.95     16178\n",
      "         1.0       0.53      0.16      0.24      1853\n",
      "\n",
      "    accuracy                           0.90     18031\n",
      "   macro avg       0.72      0.57      0.59     18031\n",
      "weighted avg       0.87      0.90      0.87     18031\n",
      "\n"
     ]
    }
   ],
   "source": [
    "loader_test = DisjointLoader(dataset_te, batch_size=len(dataset_te), node_level=True)\n",
    "inputs, y_test = loader_test.__next__()\n",
    "X_test, A_test, _ = inputs\n",
    "\n",
    "from sklearn.metrics import classification_report\n",
    "# print(len(dataset_te))\n",
    "# for test_data in dataset_te:\n",
    "#     X_te = test_data.x\n",
    "#     A_te = test_data.a\n",
    "#     y_te = test_data.y\n",
    "\n",
    "y_pred = model.predict([X_test, A_test, A_test], batch_size=X_test.shape[0])\n",
    "report = classification_report(y_test, (y_pred >= 0.5).astype(int))\n",
    "print('GCN Classification Report: \\n {}'.format(report))"
   ]
  },
  {
   "cell_type": "markdown",
   "metadata": {},
   "source": [
    "# Model layers output using TSNE"
   ]
  },
  {
   "cell_type": "code",
   "execution_count": 17,
   "metadata": {
    "executionInfo": {
     "elapsed": 921,
     "status": "ok",
     "timestamp": 1620858675839,
     "user": {
      "displayName": "Vedika Saravanan",
      "photoUrl": "https://lh3.googleusercontent.com/a-/AOh14GiFu_fiUGTb9Acqc-9pwSrSh0SeoS2jImjreYTqPg=s64",
      "userId": "03855894681171022360"
     },
     "user_tz": 240
    },
    "id": "6s6y6rmYhvUa"
   },
   "outputs": [],
   "source": [
    "from sklearn.manifold import TSNE\n",
    "test_data = dataset_te[1]\n",
    "X_te = test_data.x\n",
    "A_te = test_data.a\n",
    "y_te = test_data.y\n",
    "\n",
    "layer_outputs = [layer.output for layer in model.layers]\n",
    "activation_model = Model(inputs=model.input, outputs=layer_outputs)\n",
    "activations = activation_model.predict([X_te,A_te, A_te],batch_size=X_te.shape[0])\n"
   ]
  },
  {
   "cell_type": "code",
   "execution_count": 18,
   "metadata": {
    "executionInfo": {
     "elapsed": 214,
     "status": "ok",
     "timestamp": 1620858683248,
     "user": {
      "displayName": "Vedika Saravanan",
      "photoUrl": "https://lh3.googleusercontent.com/a-/AOh14GiFu_fiUGTb9Acqc-9pwSrSh0SeoS2jImjreYTqPg=s64",
      "userId": "03855894681171022360"
     },
     "user_tz": 240
    },
    "id": "v0kmabbIyLWv"
   },
   "outputs": [],
   "source": [
    "from collections import Counter\n",
    "from sklearn.manifold import TSNE\n",
    "import matplotlib.pyplot as plt\n",
    "\n",
    "num_classes = 2\n",
    "def plot_tSNE(labels_encoded,x_tsne):\n",
    "    color_map = labels_encoded\n",
    "    plt.figure(figsize=(10,10))\n",
    "    for cl in range(num_classes):\n",
    "        indices = np.where(color_map==cl)\n",
    "        indices = indices[0]\n",
    "        plt.scatter(x_tsne[indices,0], x_tsne[indices, 1], label=cl, alpha=0.5)\n",
    "    plt.legend()\n",
    "    plt.show()"
   ]
  },
  {
   "cell_type": "code",
   "execution_count": 19,
   "metadata": {
    "colab": {
     "base_uri": "https://localhost:8080/",
     "height": 1000
    },
    "executionInfo": {
     "elapsed": 83554,
     "status": "ok",
     "timestamp": 1620858771931,
     "user": {
      "displayName": "Vedika Saravanan",
      "photoUrl": "https://lh3.googleusercontent.com/a-/AOh14GiFu_fiUGTb9Acqc-9pwSrSh0SeoS2jImjreYTqPg=s64",
      "userId": "03855894681171022360"
     },
     "user_tz": 240
    },
    "id": "E-gWa-5urM38",
    "outputId": "ae208f5d-9c56-414e-84ca-dde2c1845179",
    "scrolled": false
   },
   "outputs": [
    {
     "name": "stdout",
     "output_type": "stream",
     "text": [
      "2 tagconv1\n"
     ]
    },
    {
     "data": {
      "image/png": "[encoded data removed]",
      "text/plain": [
       "<Figure size 720x720 with 1 Axes>"
      ]
     },
     "metadata": {
      "needs_background": "light"
     },
     "output_type": "display_data"
    },
    {
     "name": "stdout",
     "output_type": "stream",
     "text": [
      "3 graphconv1\n"
     ]
    },
    {
     "data": {
      "image/png": "[encoded data removed]",
      "text/plain": [
       "<Figure size 720x720 with 1 Axes>"
      ]
     },
     "metadata": {
      "needs_background": "light"
     },
     "output_type": "display_data"
    },
    {
     "name": "stdout",
     "output_type": "stream",
     "text": [
      "8 tagconv3\n"
     ]
    },
    {
     "data": {
      "image/png": "[encoded data removed]",
      "text/plain": [
       "<Figure size 720x720 with 1 Axes>"
      ]
     },
     "metadata": {
      "needs_background": "light"
     },
     "output_type": "display_data"
    },
    {
     "name": "stdout",
     "output_type": "stream",
     "text": [
      "9 graphconv3\n"
     ]
    },
    {
     "data": {
      "image/png": "[encoded data removed]",
      "text/plain": [
       "<Figure size 720x720 with 1 Axes>"
      ]
     },
     "metadata": {
      "needs_background": "light"
     },
     "output_type": "display_data"
    },
    {
     "name": "stdout",
     "output_type": "stream",
     "text": [
      "12 dense_2\n"
     ]
    },
    {
     "data": {
      "image/png": "[encoded data removed]",
      "text/plain": [
       "<Figure size 720x720 with 1 Axes>"
      ]
     },
     "metadata": {
      "needs_background": "light"
     },
     "output_type": "display_data"
    },
    {
     "name": "stdout",
     "output_type": "stream",
     "text": [
      "15 classification\n"
     ]
    },
    {
     "data": {
      "image/png": "[encoded data removed]",
      "text/plain": [
       "<Figure size 720x720 with 1 Axes>"
      ]
     },
     "metadata": {
      "needs_background": "light"
     },
     "output_type": "display_data"
    }
   ],
   "source": [
    "for i, layer in enumerate(model.layers):\n",
    "    if isinstance(layer, TAGConv) or isinstance(layer, GraphSageConv) or isinstance(layer, Dense):\n",
    "#     if isinstance(layer, Dense):\n",
    "        print(i, layer.name)\n",
    "        x_tsne17 = TSNE(n_components=2).fit_transform(activations[i]) \n",
    "        plot_tSNE(y_te,x_tsne17)"
   ]
  },
  {
   "cell_type": "code",
   "execution_count": 20,
   "metadata": {},
   "outputs": [],
   "source": [
    "from sklearn.metrics import confusion_matrix\n",
    "def plot_confusion_matrix(predicted_labels_list, y_test_list):\n",
    "    cnf_matrix = confusion_matrix(y_test_list, predicted_labels_list)\n",
    "    np.set_printoptions(precision=2)\n",
    "\n",
    "    # Plot non-normalized confusion matrix\n",
    "    plt.figure()\n",
    "    generate_confusion_matrix(cnf_matrix, classes=class_names, title='Confusion matrix, without normalization')\n",
    "    plt.show()\n",
    "    \n",
    "    "
   ]
  },
  {
   "cell_type": "code",
   "execution_count": 21,
   "metadata": {},
   "outputs": [],
   "source": [
    "def generate_confusion_matrix(cnf_matrix, classes, normalize=False, title='Confusion matrix'):\n",
    "    precision = cnf_matrix[1,1]/cnf_matrix[:,1].sum()\n",
    "    recall = cnf_matrix[1,1]/cnf_matrix[1,:].sum()\n",
    "    print('precision:', precision)\n",
    "    print('recall:', recall)\n",
    "    if normalize:\n",
    "#         cnf_matrix = confusion_matrix\n",
    "        print(\"Normalized confusion matrix\")\n",
    "    else:\n",
    "        print('Confusion matrix, without normalization')\n",
    "\n",
    "    plt.imshow(cnf_matrix, interpolation='nearest', cmap=plt.get_cmap('Blues'))\n",
    "    plt.title(title)\n",
    "    plt.colorbar()\n",
    "\n",
    "    tick_marks = np.arange(len(classes))\n",
    "    plt.xticks(tick_marks, classes, rotation=45)\n",
    "    plt.yticks(tick_marks, classes)\n",
    "\n",
    "    fmt = '.2f' if normalize else 'd'\n",
    "    thresh = cnf_matrix.max() / 2.\n",
    "\n",
    "    for i, j in itertools.product(range(cnf_matrix.shape[0]), range(cnf_matrix.shape[1])):\n",
    "        plt.text(j, i, format(cnf_matrix[i, j], fmt), horizontalalignment=\"center\",\n",
    "                 color=\"white\" if cnf_matrix[i, j] > thresh else \"black\")\n",
    "   \n",
    "    plt.tight_layout()\n",
    "    plt.ylabel('True label')\n",
    "    plt.xlabel('Predicted label')\n",
    "\n",
    "    return cnf_matrix"
   ]
  },
  {
   "cell_type": "code",
   "execution_count": 22,
   "metadata": {},
   "outputs": [
    {
     "name": "stdout",
     "output_type": "stream",
     "text": [
      "precision: 0.15542363734484618\n",
      "recall: 0.5255474452554745\n",
      "Confusion matrix, without normalization\n"
     ]
    },
    {
     "data": {
      "image/png": "[encoded data removed]",
      "text/plain": [
       "<Figure size 432x288 with 2 Axes>"
      ]
     },
     "metadata": {
      "needs_background": "light"
     },
     "output_type": "display_data"
    },
    {
     "name": "stdout",
     "output_type": "stream",
     "text": [
      "DNN Classification Report: \n",
      " None\n"
     ]
    }
   ],
   "source": [
    "from sklearn.metrics import classification_report\n",
    "import itertools\n",
    "\n",
    "\n",
    "# print(len(dataset_te))\n",
    "class_names = ['0', '1']\n",
    "# for test_data in dataset_te:\n",
    "#     X_te = test_data.x\n",
    "#     A_te = test_data.a\n",
    "#     y_te = test_data.y\n",
    "\n",
    "#     y_pred = model.predict([X_te, A_te, A_te], batch_size=X_te.shape[0])\n",
    "report = plot_confusion_matrix(y_test, (y_pred >= 0.5).astype(int))\n",
    "print('DNN Classification Report: \\n {}'.format(report))"
   ]
  },
  {
   "cell_type": "code",
   "execution_count": 23,
   "metadata": {},
   "outputs": [],
   "source": [
    "test_data=dataset_te[1]\n",
    "X_te = test_data.x\n",
    "A_te = test_data.a\n",
    "y_te = test_data.y\n",
    "y_pred1 = model.predict([X_te, A_te, A_te],batch_size=X_te.shape[0])\n"
   ]
  },
  {
   "cell_type": "code",
   "execution_count": 24,
   "metadata": {},
   "outputs": [
    {
     "data": {
      "image/png": "[encoded data removed]",
      "text/plain": [
       "<Figure size 432x288 with 2 Axes>"
      ]
     },
     "metadata": {
      "needs_background": "light"
     },
     "output_type": "display_data"
    }
   ],
   "source": [
    "import seaborn as sns\n",
    "from sklearn.metrics import roc_curve, precision_recall_curve\n",
    "from matplotlib import pyplot\n",
    "\n",
    "precision, recall, thre = precision_recall_curve(y_te, y_pred1)\n",
    "thres = thre.tolist() + [1]\n",
    "df_prec = pd.DataFrame({'precision': precision, 'recall': recall, 'threshold': thres})\n",
    "ax = sns.scatterplot(data=df_prec, x=\"recall\", y=\"precision\", hue=\"threshold\", palette='gist_rainbow')\n",
    "\n",
    "norm = plt.Normalize(min(thres), max(thres))\n",
    "sm = plt.cm.ScalarMappable(cmap=\"gist_rainbow\", norm=norm)\n",
    "sm.set_array([])\n",
    "\n",
    "# Remove the legend and add a colorbar\n",
    "ax.get_legend().remove()\n",
    "ax.figure.colorbar(sm)\n",
    "\n",
    "plt.show()"
   ]
  },
  {
   "cell_type": "code",
   "execution_count": 25,
   "metadata": {},
   "outputs": [
    {
     "data": {
      "text/plain": [
       "(1, 1)"
      ]
     },
     "execution_count": 25,
     "metadata": {},
     "output_type": "execute_result"
    }
   ],
   "source": [
    "y_train = []\n",
    "X_train =[]\n",
    "A_train = []\n",
    "for data_tr in dataset_tr:\n",
    "    y_train.append(data_tr.y)\n",
    "    X_train.append(data_tr.x)\n",
    "    A_train.append(dataset_tr.a)\n",
    "y_train = np.vstack((y_train)).reshape((-1,))\n",
    "X_train = np.vstack((X_train))\n",
    "A_train = np.vstack((A_train))\n",
    "X_train.shape\n",
    "y_train.shape\n",
    "A_train.shape\n",
    "\n",
    "\n",
    "y_test = []\n",
    "X_test =[]\n",
    "A_test = []\n",
    "for data_tr in [dataset_te[1]]:\n",
    "    y_test.append(data_tr.y)\n",
    "    X_test.append(data_tr.x)\n",
    "    A_test.append(dataset_tr.a)\n",
    "y_test = np.vstack((y_test)).reshape((-1,))\n",
    "X_test = np.vstack((X_test))\n",
    "A_test = np.vstack((A_test))\n",
    "X_test.shape\n",
    "y_test.shape\n",
    "A_test.shape"
   ]
  },
  {
   "cell_type": "code",
   "execution_count": 26,
   "metadata": {},
   "outputs": [],
   "source": [
    "loader_test = DisjointLoader(dataset_te, batch_size=len(dataset_te), node_level=True)\n",
    "inputs, y_test = loader_test.__next__()\n",
    "X_test, A_test, _ = inputs"
   ]
  },
  {
   "cell_type": "code",
   "execution_count": 27,
   "metadata": {},
   "outputs": [],
   "source": [
    "y_pred = model.predict([X_test, A_test, A_test], batch_size=X_test.shape[0])"
   ]
  },
  {
   "cell_type": "code",
   "execution_count": 28,
   "metadata": {},
   "outputs": [],
   "source": [
    "from sklearn.metrics import roc_curve, auc\n",
    "fpr_keras, tpr_keras, thresholds_keras = roc_curve(y_test, y_pred)\n",
    "auc_keras = auc(fpr_keras, tpr_keras)"
   ]
  },
  {
   "cell_type": "code",
   "execution_count": 29,
   "metadata": {},
   "outputs": [],
   "source": [
    "from sklearn.ensemble import RandomForestClassifier\n",
    "# Supervised transformation based on random forests\n",
    "rf = RandomForestClassifier(max_depth=3, n_estimators=10)\n",
    "rf.fit(X_train, y_train)\n",
    "\n",
    "y_pred_rf = rf.predict_proba(X_test)[:, 1]\n",
    "fpr_rf, tpr_rf, thresholds_rf = roc_curve(y_test, y_pred_rf)\n",
    "auc_rf = auc(fpr_rf, tpr_rf)"
   ]
  },
  {
   "cell_type": "code",
   "execution_count": 30,
   "metadata": {},
   "outputs": [
    {
     "data": {
      "image/png": "[encoded data removed]",
      "text/plain": [
       "<Figure size 432x288 with 1 Axes>"
      ]
     },
     "metadata": {
      "needs_background": "light"
     },
     "output_type": "display_data"
    },
    {
     "data": {
      "image/png": "[encoded data removed]",
      "text/plain": [
       "<Figure size 432x288 with 1 Axes>"
      ]
     },
     "metadata": {
      "needs_background": "light"
     },
     "output_type": "display_data"
    }
   ],
   "source": [
    "plt.figure(1)\n",
    "plt.plot([0, 1], [0, 1], 'k--')\n",
    "plt.plot(fpr_keras, tpr_keras, label='Graph convolution Model (area = {:.3f})'.format(auc_keras))\n",
    "plt.plot(fpr_rf, tpr_rf, label='RF (area = {:.3f})'.format(auc_rf))\n",
    "plt.xlabel('False positive rate')\n",
    "plt.ylabel('True positive rate')\n",
    "plt.title('ROC curve')\n",
    "plt.legend(loc='best')\n",
    "plt.show()\n",
    "# Zoom in view of the upper left corner.\n",
    "plt.figure(2)\n",
    "plt.xlim(0, 0.2)\n",
    "plt.ylim(0.8, 1)\n",
    "plt.plot([0, 1], [0, 1], 'k--')\n",
    "plt.plot(fpr_keras, tpr_keras, label='Graph convolution Model (area = {:.3f})'.format(auc_keras))\n",
    "plt.plot(fpr_rf, tpr_rf, label='RF (area = {:.3f})'.format(auc_rf))\n",
    "plt.xlabel('False positive rate')\n",
    "plt.ylabel('True positive rate')\n",
    "plt.title('ROC curve (zoomed in at top left)')\n",
    "plt.legend(loc='best')\n",
    "plt.show()"
   ]
  },
  {
   "cell_type": "code",
   "execution_count": 31,
   "metadata": {},
   "outputs": [
    {
     "data": {
      "image/png": "[encoded data removed]",
      "text/plain": [
       "<Figure size 432x288 with 2 Axes>"
      ]
     },
     "metadata": {
      "needs_background": "light"
     },
     "output_type": "display_data"
    }
   ],
   "source": [
    "import seaborn as sns\n",
    "from sklearn.metrics import roc_curve, precision_recall_curve\n",
    "from matplotlib import pyplot\n",
    "\n",
    "precision, recall, thre = precision_recall_curve(y_test, y_pred)\n",
    "thres = thre.tolist() + [1]\n",
    "df_prec = pd.DataFrame({'precision': precision, 'recall': recall, 'threshold': thres})\n",
    "ax = sns.scatterplot(data=df_prec, x=\"recall\", y=\"precision\", hue=\"threshold\", palette='gist_rainbow')\n",
    "\n",
    "norm = plt.Normalize(min(thres), max(thres))\n",
    "sm = plt.cm.ScalarMappable(cmap=\"gist_rainbow\", norm=norm)\n",
    "sm.set_array([])\n",
    "\n",
    "# Remove the legend and add a colorbar\n",
    "ax.get_legend().remove()\n",
    "ax.figure.colorbar(sm)\n",
    "\n",
    "plt.show()"
   ]
  },
  {
   "cell_type": "code",
   "execution_count": null,
   "metadata": {},
   "outputs": [],
   "source": []
  }
 ],
 "metadata": {
  "colab": {
   "collapsed_sections": [],
   "name": "Copy of GCN- Multiple graphs input-Cheb.ipynb",
   "provenance": [
    {
     "file_id": "1G2d4MQPaOAVPqakGUP2mneT1B59FkKB0",
     "timestamp": 1620854770831
    }
   ]
  },
  "kernelspec": {
   "display_name": "Python 3",
   "language": "python",
   "name": "python3"
  },
  "language_info": {
   "codemirror_mode": {
    "name": "ipython",
    "version": 3
   },
   "file_extension": ".py",
   "mimetype": "text/x-python",
   "name": "python",
   "nbconvert_exporter": "python",
   "pygments_lexer": "ipython3",
   "version": "3.7.3"
  },
  "toc": {
   "base_numbering": 1,
   "nav_menu": {},
   "number_sections": true,
   "sideBar": true,
   "skip_h1_title": false,
   "title_cell": "Table of Contents",
   "title_sidebar": "Contents",
   "toc_cell": false,
   "toc_position": {},
   "toc_section_display": true,
   "toc_window_display": false
  }
 },
 "nbformat": 4,
 "nbformat_minor": 1
}
